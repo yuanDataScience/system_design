{
 "cells": [
  {
   "cell_type": "markdown",
   "id": "ce69819c",
   "metadata": {},
   "source": [
    "## Low Level System Design\n",
    "\n",
    "### Objectives\n",
    "* Get ready for system design (Low Level Design)\n",
    "  + Understand the problem statement correctly and underline the key points\n",
    "  + discuss the trade-offs with the interviewer and play to your strengths\n",
    "  + optimize code using better data structures according to the situation\n",
    "  + insights into problem extension, and making initial code design accordingly\n",
    "* Design your code more elegantly, using industry best practices\n",
    "  + design class diagram from problem statement\n",
    "  + key role in writing test cases, including edge cases, though need not be very edgy\n",
    "* Key results\n",
    "  + able to address the entire problem statement through the initial class diagram\n",
    "    + while during the process of implementing it by code, new elements will be added and update the initial class diagram to the final class diagram\n",
    "  + decision to expose only desired APIs\n",
    "    + only expose public class necessary \n",
    "    + decide and design the APIs of public class to meet the objectives\n",
    "    + APIs open as needed to reduce the security risks for the application\n",
    "    + insights into the data required for achieving the requirements\n",
    "    + necessary modifications to the APIs for code sustainability (discuss wit interveiwers for APIs given but not sufficient for completing the given requirements, or redundant APIs)\n",
    "  + Address the statement using minimalistic requirements\n",
    "    + encapsulation and generating only the required access mutators\n",
    "    \n",
    "  + sort out the priorities  \n",
    "    + identify the key requirements and addressing them in priority (core and bonus requirements)\n",
    "    + almost any program/code can be optimized further. Know when to stop\n",
    "    + time management. Check pressure points in case execution fails in due time\n",
    "      + the code should be clean, modular and extensible\n",
    "      + have a fall-back plan in case your code doesn't work   "
   ]
  },
  {
   "attachments": {},
   "cell_type": "markdown",
   "id": "d9dc7b73",
   "metadata": {},
   "source": [
    "### Basic ride sharing application\n",
    "* Overview\n",
    "  + the user/rider will create all the functions include\n",
    "    + create Ride(id, origin, dest, no of seats)\n",
    "    + update Ride(id, origin, dest, no of seats)\n",
    "    + withdraw ride(id)\n",
    "    + close ride(id) and return the amount charged\n",
    "  + we will create a Rider class with string property of name (or a subclass of person with name prop)\n",
    "    + the Rider class implements functions to create, update, withdraw and close rides\n",
    "    + maintain currentRide as a Ride instance\n",
    "  + we will create a Ride class with id, origin, dest, num of riders\n",
    "  + we will create a Driver class\n",
    "  \n",
    "\n",
    "* Thoughts\n",
    "  + how to maintain multiple rides in the system?\n",
    "  + how to maintain mutliple riders and drivers in the system?\n",
    "  + how to match the rides between drivers and riders? how the offers and requests from drivers and riders to be matched?"
   ]
  }
 ],
 "metadata": {
  "kernelspec": {
   "display_name": "Python 3 (ipykernel)",
   "language": "python",
   "name": "python3"
  },
  "language_info": {
   "codemirror_mode": {
    "name": "ipython",
    "version": 3
   },
   "file_extension": ".py",
   "mimetype": "text/x-python",
   "name": "python",
   "nbconvert_exporter": "python",
   "pygments_lexer": "ipython3",
   "version": "3.10.4"
  }
 },
 "nbformat": 4,
 "nbformat_minor": 5
}

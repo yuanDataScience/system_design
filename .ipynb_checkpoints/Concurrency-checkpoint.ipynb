{
 "cells": [
  {
   "cell_type": "markdown",
   "id": "41bfd54a",
   "metadata": {},
   "source": [
    "## Concurrency\n",
    "\n",
    "### using lock to restrict the access to class variable for counting the instances\n",
    "\n",
    "``` python\n",
    "from threading import Lock, Thread\n",
    "\n",
    "class MyClass:\n",
    "    _instance_count = 0 # This is a class variable\n",
    "    _lock = Lock() # This is a lock to synchronize access to the class variable\n",
    "\n",
    "    def __init__(self):\n",
    "        with MyClass._lock:\n",
    "            MyClass._instance_count += 1\n",
    "\n",
    "    @classmethod\n",
    "    def get_instance_count(cls):\n",
    "        with cls._lock:\n",
    "            return cls._instance_count\n",
    "\n",
    "def create_instance():\n",
    "    MyClass()\n",
    "\n",
    "# Example usage\n",
    "print(MyClass.get_instance_count()) # 0\n",
    "\n",
    "t1 = Thread(target=create_instance)\n",
    "t2 = Thread(target=create_instance)\n",
    "\n",
    "t1.start()\n",
    "t2.start()\n",
    "\n",
    "t1.join()\n",
    "t2.join()\n",
    "\n",
    "print(MyClass.get_instance_count()) # 2\n",
    "```"
   ]
  },
  {
   "cell_type": "code",
   "execution_count": null,
   "id": "dd819bf1",
   "metadata": {},
   "outputs": [],
   "source": []
  }
 ],
 "metadata": {
  "kernelspec": {
   "display_name": "Python 3 (ipykernel)",
   "language": "python",
   "name": "python3"
  },
  "language_info": {
   "codemirror_mode": {
    "name": "ipython",
    "version": 3
   },
   "file_extension": ".py",
   "mimetype": "text/x-python",
   "name": "python",
   "nbconvert_exporter": "python",
   "pygments_lexer": "ipython3",
   "version": "3.10.4"
  }
 },
 "nbformat": 4,
 "nbformat_minor": 5
}

{
 "cells": [
  {
   "cell_type": "markdown",
   "id": "c1c0a6df",
   "metadata": {},
   "source": [
    "## Proxy\n",
    "\n",
    "### Overview\n",
    "* There are two types of proxies: forward and reverse/backward\n",
    "* Usually, proxy refers to forward proxy\n",
    "\n",
    "### Forward proxy\n",
    "\n",
    "#### Overview of forward proxy\n",
    "* A server acting on behalf of the client on client side of an interaction between a client and server\n",
    "* Requests from client are sent to forward proxy, which direct requests to server\n",
    "* Responses from server are sent to forward proxy, which forward responses to clients\n",
    "* The server does not aware of server\n",
    "  + A forward proxy hides ip of clients, server will only see the proxy’s ip without knowledge of which client ip sends the requests in most cases\n",
    "\n",
    "#### Example of forward proxies\n",
    "* VPN\n",
    "  + VPN server forward clients’ requests to server for processing\n",
    "  + Server only sees VPN server’s ip\n",
    "\n",
    "#### When to use forward proxy\n",
    "* Since the server can not identify clients, we can use proxy to access content/data on a server that is blocked in the clients’ country. The server consider the requests are from forward proxy\n",
    "\n",
    "### Reverse proxy\n",
    "\n",
    "#### Overview\n",
    "* Reverse/Backward proxy acts on the behalf of the server. It is on the server side\n",
    "* One example is Ngnix\n",
    "  + Requests from client are sent to reverse proxy, which forward the requests to server\n",
    "  + Client is not aware of the proxy, and consider the requests are directly sent to server\n",
    "\n",
    "#### Example of reverse proxies\n",
    "* When you visit google.com, you actually send requests to a backward proxy of google server\n",
    "\n",
    "#### Why and when to use reverse/backward proxies\n",
    "* when you want to filter out requests you want to ignore, such as malicious requests\n",
    "* Logging\n",
    "* Metrics\n",
    "  + Measure and evaluate traffic data, and users, etc.\n",
    "* Cache\n",
    "  + Put HTML pages in reverse proxy/cache\n",
    "* Load balancing\n",
    "  + Distribute load between bunch of servers\n"
   ]
  },
  {
   "cell_type": "code",
   "execution_count": null,
   "id": "5a45e410",
   "metadata": {},
   "outputs": [],
   "source": []
  }
 ],
 "metadata": {
  "kernelspec": {
   "display_name": "Python 3 (ipykernel)",
   "language": "python",
   "name": "python3"
  },
  "language_info": {
   "codemirror_mode": {
    "name": "ipython",
    "version": 3
   },
   "file_extension": ".py",
   "mimetype": "text/x-python",
   "name": "python",
   "nbconvert_exporter": "python",
   "pygments_lexer": "ipython3",
   "version": "3.10.4"
  }
 },
 "nbformat": 4,
 "nbformat_minor": 5
}

{
 "cells": [
  {
   "cell_type": "markdown",
   "id": "a6ce8fed",
   "metadata": {},
   "source": [
    "## Motor\n",
    "\n",
    "Learn how to use the asynchronous motor module to connect and interact with your MongoDB instance"
   ]
  },
  {
   "cell_type": "code",
   "execution_count": 1,
   "id": "c3b0b260",
   "metadata": {},
   "outputs": [],
   "source": [
    "import asyncio\n",
    "import nest_asyncio\n",
    "nest_asyncio.apply()\n",
    "\n",
    "from motor.motor_asyncio import AsyncIOMotorClient"
   ]
  },
  {
   "cell_type": "markdown",
   "id": "9f7f1ca2",
   "metadata": {},
   "source": [
    "##### Connect to database"
   ]
  },
  {
   "cell_type": "code",
   "execution_count": 2,
   "id": "f321f891",
   "metadata": {},
   "outputs": [],
   "source": [
    "mongodb_uri = \"mongodb://localhost:27017/\"\n",
    "db_name = \"advanced_features\""
   ]
  },
  {
   "cell_type": "code",
   "execution_count": 3,
   "id": "bda84122",
   "metadata": {},
   "outputs": [],
   "source": [
    "client = AsyncIOMotorClient(mongodb_uri)\n",
    "db = client[db_name]"
   ]
  },
  {
   "cell_type": "markdown",
   "id": "4ec58cfc",
   "metadata": {},
   "source": [
    "##### motor syntax and return object"
   ]
  },
  {
   "cell_type": "code",
   "execution_count": 4,
   "id": "f19c8b03",
   "metadata": {},
   "outputs": [
    {
     "data": {
      "text/plain": [
       "<Future pending cb=[_chain_future.<locals>._call_check_cancel() at C:\\Users\\raymo\\anaconda3\\envs\\mongodb_py\\lib\\asyncio\\futures.py:360]>"
      ]
     },
     "execution_count": 4,
     "metadata": {},
     "output_type": "execute_result"
    }
   ],
   "source": [
    "db.motor_col.insert_one({'test': \"test\"})"
   ]
  },
  {
   "cell_type": "markdown",
   "id": "713dc900",
   "metadata": {},
   "source": [
    "##### Define async function"
   ]
  },
  {
   "cell_type": "code",
   "execution_count": 5,
   "id": "6012f394",
   "metadata": {},
   "outputs": [],
   "source": [
    "async def async_insert(document):\n",
    "    res = await db.motor_col.insert_one(document)\n",
    "    return res"
   ]
  },
  {
   "cell_type": "markdown",
   "id": "9c0cf707",
   "metadata": {},
   "source": [
    "##### Run async event loop"
   ]
  },
  {
   "cell_type": "code",
   "execution_count": 6,
   "id": "a097be2e",
   "metadata": {},
   "outputs": [],
   "source": [
    "loop = asyncio.get_event_loop()"
   ]
  },
  {
   "cell_type": "code",
   "execution_count": 7,
   "id": "bec7b049",
   "metadata": {},
   "outputs": [
    {
     "data": {
      "text/plain": [
       "<pymongo.results.InsertOneResult at 0x1c959699b80>"
      ]
     },
     "execution_count": 7,
     "metadata": {},
     "output_type": "execute_result"
    }
   ],
   "source": [
    "loop.run_until_complete(async_insert({'key': 'value'}))"
   ]
  },
  {
   "cell_type": "code",
   "execution_count": 8,
   "id": "c6ef1f69",
   "metadata": {},
   "outputs": [
    {
     "data": {
      "text/plain": [
       "ObjectId('62363fe2a0f0be189f442a00')"
      ]
     },
     "execution_count": 8,
     "metadata": {},
     "output_type": "execute_result"
    }
   ],
   "source": [
    "res = loop.run_until_complete(async_insert({'key': 'value'}))\n",
    "res.inserted_id"
   ]
  },
  {
   "cell_type": "code",
   "execution_count": 9,
   "id": "bdef45aa",
   "metadata": {},
   "outputs": [
    {
     "data": {
      "text/plain": [
       "<pymongo.results.InsertOneResult at 0x1c9594fcd40>"
      ]
     },
     "execution_count": 9,
     "metadata": {},
     "output_type": "execute_result"
    }
   ],
   "source": [
    "loop.run_until_complete(db.motor_col.insert_one({'new_key': 'new_value'}))"
   ]
  },
  {
   "cell_type": "markdown",
   "id": "470bbe2f",
   "metadata": {},
   "source": [
    "##### Define async find_one function"
   ]
  },
  {
   "cell_type": "code",
   "execution_count": 10,
   "id": "6d9d5560",
   "metadata": {},
   "outputs": [],
   "source": [
    "async def async_find_one(document):\n",
    "    return await db.motor_col.find_one(document)"
   ]
  },
  {
   "cell_type": "markdown",
   "id": "aad0e497",
   "metadata": {},
   "source": [
    "##### Run new function in async loop "
   ]
  },
  {
   "cell_type": "code",
   "execution_count": 11,
   "id": "311e00d4",
   "metadata": {},
   "outputs": [
    {
     "data": {
      "text/plain": [
       "{'_id': ObjectId('62363f6fa0f0be189f4429ff'), 'key': 'value'}"
      ]
     },
     "execution_count": 11,
     "metadata": {},
     "output_type": "execute_result"
    }
   ],
   "source": [
    "loop.run_until_complete(async_find_one({'key': \"value\"}))"
   ]
  },
  {
   "cell_type": "markdown",
   "id": "ab2b35af",
   "metadata": {},
   "source": [
    "##### Run find_one query without async function"
   ]
  },
  {
   "cell_type": "code",
   "execution_count": 12,
   "id": "eefec1f4",
   "metadata": {},
   "outputs": [
    {
     "data": {
      "text/plain": [
       "{'_id': ObjectId('62363f6fa0f0be189f4429ff'), 'key': 'value'}"
      ]
     },
     "execution_count": 12,
     "metadata": {},
     "output_type": "execute_result"
    }
   ],
   "source": [
    "loop.run_until_complete(db.motor_col.find_one({'key': \"value\"}))"
   ]
  }
 ],
 "metadata": {
  "kernelspec": {
   "display_name": "Python 3 (ipykernel)",
   "language": "python",
   "name": "python3"
  },
  "language_info": {
   "codemirror_mode": {
    "name": "ipython",
    "version": 3
   },
   "file_extension": ".py",
   "mimetype": "text/x-python",
   "name": "python",
   "nbconvert_exporter": "python",
   "pygments_lexer": "ipython3",
   "version": "3.8.11"
  }
 },
 "nbformat": 4,
 "nbformat_minor": 5
}

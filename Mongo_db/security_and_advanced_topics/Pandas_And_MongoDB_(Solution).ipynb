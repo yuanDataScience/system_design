{
 "cells": [
  {
   "cell_type": "markdown",
   "id": "fcfaa745",
   "metadata": {},
   "source": [
    "# Using The Pandas Module With MongoDB\n",
    "\n",
    "##### Ensure to include Pandas in your mongodb_py Conda environment\n",
    "\n",
    "```bash \n",
    "conda install pandas\n",
    "```"
   ]
  },
  {
   "cell_type": "code",
   "execution_count": 1,
   "id": "e46e952a",
   "metadata": {},
   "outputs": [],
   "source": [
    "import pandas as pd\n",
    "from pymongo import MongoClient "
   ]
  },
  {
   "cell_type": "markdown",
   "id": "e0ffd55e",
   "metadata": {},
   "source": [
    "### Common Pandas Data Types"
   ]
  },
  {
   "cell_type": "code",
   "execution_count": 2,
   "id": "8dc91564",
   "metadata": {},
   "outputs": [
    {
     "data": {
      "text/plain": [
       "0    1\n",
       "1    2\n",
       "2    3\n",
       "dtype: int64"
      ]
     },
     "execution_count": 2,
     "metadata": {},
     "output_type": "execute_result"
    }
   ],
   "source": [
    "s = pd.Series([1, 2, 3])\n",
    "s"
   ]
  },
  {
   "cell_type": "code",
   "execution_count": 3,
   "id": "8fce634f",
   "metadata": {},
   "outputs": [
    {
     "data": {
      "text/plain": [
       "0       1\n",
       "1    test\n",
       "2       3\n",
       "dtype: object"
      ]
     },
     "execution_count": 3,
     "metadata": {},
     "output_type": "execute_result"
    }
   ],
   "source": [
    "s2 = pd.Series([1, \"test\", 3])\n",
    "s2"
   ]
  },
  {
   "cell_type": "code",
   "execution_count": 4,
   "id": "8b3f3f94",
   "metadata": {},
   "outputs": [
    {
     "data": {
      "text/html": [
       "<div>\n",
       "<style scoped>\n",
       "    .dataframe tbody tr th:only-of-type {\n",
       "        vertical-align: middle;\n",
       "    }\n",
       "\n",
       "    .dataframe tbody tr th {\n",
       "        vertical-align: top;\n",
       "    }\n",
       "\n",
       "    .dataframe thead th {\n",
       "        text-align: right;\n",
       "    }\n",
       "</style>\n",
       "<table border=\"1\" class=\"dataframe\">\n",
       "  <thead>\n",
       "    <tr style=\"text-align: right;\">\n",
       "      <th></th>\n",
       "      <th>0</th>\n",
       "      <th>1</th>\n",
       "      <th>2</th>\n",
       "    </tr>\n",
       "  </thead>\n",
       "  <tbody>\n",
       "    <tr>\n",
       "      <th>0</th>\n",
       "      <td>1</td>\n",
       "      <td>2</td>\n",
       "      <td>3</td>\n",
       "    </tr>\n",
       "    <tr>\n",
       "      <th>1</th>\n",
       "      <td>4</td>\n",
       "      <td>5</td>\n",
       "      <td>6</td>\n",
       "    </tr>\n",
       "    <tr>\n",
       "      <th>2</th>\n",
       "      <td>7</td>\n",
       "      <td>8</td>\n",
       "      <td>9</td>\n",
       "    </tr>\n",
       "  </tbody>\n",
       "</table>\n",
       "</div>"
      ],
      "text/plain": [
       "   0  1  2\n",
       "0  1  2  3\n",
       "1  4  5  6\n",
       "2  7  8  9"
      ]
     },
     "execution_count": 4,
     "metadata": {},
     "output_type": "execute_result"
    }
   ],
   "source": [
    "df = pd.DataFrame([[1, 2, 3], [4, 5, 6], [7,8,9]])\n",
    "df"
   ]
  },
  {
   "cell_type": "markdown",
   "id": "392891ac",
   "metadata": {},
   "source": [
    "### Indexes"
   ]
  },
  {
   "cell_type": "code",
   "execution_count": 5,
   "id": "32403269",
   "metadata": {},
   "outputs": [
    {
     "data": {
      "text/html": [
       "<div>\n",
       "<style scoped>\n",
       "    .dataframe tbody tr th:only-of-type {\n",
       "        vertical-align: middle;\n",
       "    }\n",
       "\n",
       "    .dataframe tbody tr th {\n",
       "        vertical-align: top;\n",
       "    }\n",
       "\n",
       "    .dataframe thead th {\n",
       "        text-align: right;\n",
       "    }\n",
       "</style>\n",
       "<table border=\"1\" class=\"dataframe\">\n",
       "  <thead>\n",
       "    <tr style=\"text-align: right;\">\n",
       "      <th></th>\n",
       "      <th>Quiz 1</th>\n",
       "      <th>Quiz 2</th>\n",
       "      <th>Exam 1</th>\n",
       "    </tr>\n",
       "    <tr>\n",
       "      <th>Student</th>\n",
       "      <th></th>\n",
       "      <th></th>\n",
       "      <th></th>\n",
       "    </tr>\n",
       "  </thead>\n",
       "  <tbody>\n",
       "    <tr>\n",
       "      <th>Tim</th>\n",
       "      <td>98</td>\n",
       "      <td>84</td>\n",
       "      <td>96</td>\n",
       "    </tr>\n",
       "    <tr>\n",
       "      <th>Sally</th>\n",
       "      <td>75</td>\n",
       "      <td>89</td>\n",
       "      <td>92</td>\n",
       "    </tr>\n",
       "    <tr>\n",
       "      <th>Mia</th>\n",
       "      <td>86</td>\n",
       "      <td>91</td>\n",
       "      <td>83</td>\n",
       "    </tr>\n",
       "  </tbody>\n",
       "</table>\n",
       "</div>"
      ],
      "text/plain": [
       "         Quiz 1  Quiz 2  Exam 1\n",
       "Student                        \n",
       "Tim          98      84      96\n",
       "Sally        75      89      92\n",
       "Mia          86      91      83"
      ]
     },
     "execution_count": 5,
     "metadata": {},
     "output_type": "execute_result"
    }
   ],
   "source": [
    "df2 = pd.DataFrame([[98, 84, 96], [75, 89, 92], [86,91,83]], \n",
    "                   index=[\"Tim\", \"Sally\", \"Mia\"], \n",
    "                   columns=[\"Quiz 1\", \"Quiz 2\", \"Exam 1\"])\n",
    "df2.index.name = \"Student\"\n",
    "df2"
   ]
  },
  {
   "cell_type": "code",
   "execution_count": 6,
   "id": "fd4451e4",
   "metadata": {},
   "outputs": [
    {
     "data": {
      "text/plain": [
       "Index(['Tim', 'Sally', 'Mia'], dtype='object', name='Student')"
      ]
     },
     "execution_count": 6,
     "metadata": {},
     "output_type": "execute_result"
    }
   ],
   "source": [
    "df2.index"
   ]
  },
  {
   "cell_type": "code",
   "execution_count": 7,
   "id": "e004f145",
   "metadata": {},
   "outputs": [
    {
     "data": {
      "text/plain": [
       "Index(['Quiz 1', 'Quiz 2', 'Exam 1'], dtype='object')"
      ]
     },
     "execution_count": 7,
     "metadata": {},
     "output_type": "execute_result"
    }
   ],
   "source": [
    "df2.columns"
   ]
  },
  {
   "cell_type": "markdown",
   "id": "a49a8288",
   "metadata": {},
   "source": [
    "###  Accessing data"
   ]
  },
  {
   "cell_type": "code",
   "execution_count": 8,
   "id": "25eb7358",
   "metadata": {},
   "outputs": [
    {
     "data": {
      "text/plain": [
       "84"
      ]
     },
     "execution_count": 8,
     "metadata": {},
     "output_type": "execute_result"
    }
   ],
   "source": [
    "df2[\"Quiz 2\"][\"Tim\"]"
   ]
  },
  {
   "cell_type": "code",
   "execution_count": 9,
   "id": "02dbc07f",
   "metadata": {},
   "outputs": [
    {
     "data": {
      "text/plain": [
       "84"
      ]
     },
     "execution_count": 9,
     "metadata": {},
     "output_type": "execute_result"
    }
   ],
   "source": [
    "df2.loc[\"Tim\"][\"Quiz 2\"]"
   ]
  },
  {
   "cell_type": "code",
   "execution_count": 10,
   "id": "6163a3ae",
   "metadata": {},
   "outputs": [
    {
     "data": {
      "text/plain": [
       "84"
      ]
     },
     "execution_count": 10,
     "metadata": {},
     "output_type": "execute_result"
    }
   ],
   "source": [
    "df2.iloc[0,1]"
   ]
  },
  {
   "cell_type": "code",
   "execution_count": 11,
   "id": "014a4b86",
   "metadata": {},
   "outputs": [
    {
     "data": {
      "text/plain": [
       "Quiz 1    98\n",
       "Quiz 2    84\n",
       "Exam 1    96\n",
       "Name: Tim, dtype: int64"
      ]
     },
     "execution_count": 11,
     "metadata": {},
     "output_type": "execute_result"
    }
   ],
   "source": [
    "df2.loc[\"Tim\"]"
   ]
  },
  {
   "cell_type": "code",
   "execution_count": 12,
   "id": "757e418c",
   "metadata": {},
   "outputs": [
    {
     "data": {
      "text/plain": [
       "Student\n",
       "Tim      84\n",
       "Sally    89\n",
       "Mia      91\n",
       "Name: Quiz 2, dtype: int64"
      ]
     },
     "execution_count": 12,
     "metadata": {},
     "output_type": "execute_result"
    }
   ],
   "source": [
    "df2.loc[:][\"Quiz 2\"]"
   ]
  },
  {
   "cell_type": "markdown",
   "id": "6352baea",
   "metadata": {},
   "source": [
    "### Set up MongoDB Client"
   ]
  },
  {
   "cell_type": "code",
   "execution_count": 13,
   "id": "da2a6bd8",
   "metadata": {},
   "outputs": [],
   "source": [
    "mongodb_uri = \"mongodb://localhost:27017/\"\n",
    "db_name = \"performance_db\""
   ]
  },
  {
   "cell_type": "code",
   "execution_count": 14,
   "id": "43349eeb",
   "metadata": {},
   "outputs": [],
   "source": [
    "client = MongoClient(mongodb_uri)\n",
    "db = client[db_name]"
   ]
  },
  {
   "cell_type": "markdown",
   "id": "f2eede5e",
   "metadata": {},
   "source": [
    "### Converting Pandas DataFrame to dictionary for inserting"
   ]
  },
  {
   "cell_type": "code",
   "execution_count": 15,
   "id": "aaecdbfa",
   "metadata": {},
   "outputs": [
    {
     "data": {
      "text/plain": [
       "{'Quiz 1': {'Tim': 98, 'Sally': 75, 'Mia': 86},\n",
       " 'Quiz 2': {'Tim': 84, 'Sally': 89, 'Mia': 91},\n",
       " 'Exam 1': {'Tim': 96, 'Sally': 92, 'Mia': 83}}"
      ]
     },
     "execution_count": 15,
     "metadata": {},
     "output_type": "execute_result"
    }
   ],
   "source": [
    "df2.to_dict()"
   ]
  },
  {
   "cell_type": "code",
   "execution_count": 16,
   "id": "2fc80793",
   "metadata": {},
   "outputs": [
    {
     "data": {
      "text/plain": [
       "{'Quiz 1': [98, 75, 86], 'Quiz 2': [84, 89, 91], 'Exam 1': [96, 92, 83]}"
      ]
     },
     "execution_count": 16,
     "metadata": {},
     "output_type": "execute_result"
    }
   ],
   "source": [
    "df2.to_dict(\"list\")"
   ]
  },
  {
   "cell_type": "code",
   "execution_count": 17,
   "id": "a0628be4",
   "metadata": {},
   "outputs": [
    {
     "data": {
      "text/plain": [
       "[{'Quiz 1': 98, 'Quiz 2': 84, 'Exam 1': 96},\n",
       " {'Quiz 1': 75, 'Quiz 2': 89, 'Exam 1': 92},\n",
       " {'Quiz 1': 86, 'Quiz 2': 91, 'Exam 1': 83}]"
      ]
     },
     "execution_count": 17,
     "metadata": {},
     "output_type": "execute_result"
    }
   ],
   "source": [
    "df2.to_dict(\"records\")"
   ]
  },
  {
   "cell_type": "code",
   "execution_count": 18,
   "id": "309cf1ca",
   "metadata": {},
   "outputs": [
    {
     "data": {
      "text/html": [
       "<div>\n",
       "<style scoped>\n",
       "    .dataframe tbody tr th:only-of-type {\n",
       "        vertical-align: middle;\n",
       "    }\n",
       "\n",
       "    .dataframe tbody tr th {\n",
       "        vertical-align: top;\n",
       "    }\n",
       "\n",
       "    .dataframe thead th {\n",
       "        text-align: right;\n",
       "    }\n",
       "</style>\n",
       "<table border=\"1\" class=\"dataframe\">\n",
       "  <thead>\n",
       "    <tr style=\"text-align: right;\">\n",
       "      <th></th>\n",
       "      <th>Student</th>\n",
       "      <th>Quiz 1</th>\n",
       "      <th>Quiz 2</th>\n",
       "      <th>Exam 1</th>\n",
       "    </tr>\n",
       "  </thead>\n",
       "  <tbody>\n",
       "    <tr>\n",
       "      <th>0</th>\n",
       "      <td>Tim</td>\n",
       "      <td>98</td>\n",
       "      <td>84</td>\n",
       "      <td>96</td>\n",
       "    </tr>\n",
       "    <tr>\n",
       "      <th>1</th>\n",
       "      <td>Sally</td>\n",
       "      <td>75</td>\n",
       "      <td>89</td>\n",
       "      <td>92</td>\n",
       "    </tr>\n",
       "    <tr>\n",
       "      <th>2</th>\n",
       "      <td>Mia</td>\n",
       "      <td>86</td>\n",
       "      <td>91</td>\n",
       "      <td>83</td>\n",
       "    </tr>\n",
       "  </tbody>\n",
       "</table>\n",
       "</div>"
      ],
      "text/plain": [
       "  Student  Quiz 1  Quiz 2  Exam 1\n",
       "0     Tim      98      84      96\n",
       "1   Sally      75      89      92\n",
       "2     Mia      86      91      83"
      ]
     },
     "execution_count": 18,
     "metadata": {},
     "output_type": "execute_result"
    }
   ],
   "source": [
    "df2.reset_index(level=0)"
   ]
  },
  {
   "cell_type": "code",
   "execution_count": 19,
   "id": "cb63487d",
   "metadata": {},
   "outputs": [
    {
     "data": {
      "text/plain": [
       "[{'Student': 'Tim', 'Quiz 1': 98, 'Quiz 2': 84, 'Exam 1': 96},\n",
       " {'Student': 'Sally', 'Quiz 1': 75, 'Quiz 2': 89, 'Exam 1': 92},\n",
       " {'Student': 'Mia', 'Quiz 1': 86, 'Quiz 2': 91, 'Exam 1': 83}]"
      ]
     },
     "execution_count": 19,
     "metadata": {},
     "output_type": "execute_result"
    }
   ],
   "source": [
    "df2.reset_index(level=0).to_dict(\"records\")"
   ]
  },
  {
   "cell_type": "code",
   "execution_count": 20,
   "id": "eab9603b",
   "metadata": {},
   "outputs": [
    {
     "data": {
      "text/plain": [
       "<pymongo.results.InsertManyResult at 0x2825581e300>"
      ]
     },
     "execution_count": 20,
     "metadata": {},
     "output_type": "execute_result"
    }
   ],
   "source": [
    "db.school.insert_many(df2.reset_index(level=0).to_dict(\"records\"))"
   ]
  },
  {
   "cell_type": "markdown",
   "id": "ad857510",
   "metadata": {},
   "source": [
    "### Convert MongoDB Entries to Pandas DataFrame"
   ]
  },
  {
   "cell_type": "code",
   "execution_count": 21,
   "id": "74d1e455",
   "metadata": {},
   "outputs": [
    {
     "data": {
      "text/plain": [
       "[{'_id': '01020',\n",
       "  'city': 'CHICOPEE',\n",
       "  'loc': [-72.576142, 42.176443],\n",
       "  'pop': 31495,\n",
       "  'state': 'MA'},\n",
       " {'_id': '01012',\n",
       "  'city': 'CHESTERFIELD',\n",
       "  'loc': [-72.833309, 42.38167],\n",
       "  'pop': 177,\n",
       "  'state': 'MA'},\n",
       " {'_id': '01010',\n",
       "  'city': 'BRIMFIELD',\n",
       "  'loc': [-72.188455, 42.116543],\n",
       "  'pop': 3706,\n",
       "  'state': 'MA'},\n",
       " {'_id': '01034',\n",
       "  'city': 'TOLLAND',\n",
       "  'loc': [-72.908793, 42.070234],\n",
       "  'pop': 1652,\n",
       "  'state': 'MA'},\n",
       " {'_id': '01032',\n",
       "  'city': 'GOSHEN',\n",
       "  'loc': [-72.844092, 42.466234],\n",
       "  'pop': 122,\n",
       "  'state': 'MA'}]"
      ]
     },
     "execution_count": 21,
     "metadata": {},
     "output_type": "execute_result"
    }
   ],
   "source": [
    "list(db.zips.find().limit(5))"
   ]
  },
  {
   "cell_type": "code",
   "execution_count": 22,
   "id": "c15bcc7c",
   "metadata": {},
   "outputs": [
    {
     "data": {
      "text/html": [
       "<div>\n",
       "<style scoped>\n",
       "    .dataframe tbody tr th:only-of-type {\n",
       "        vertical-align: middle;\n",
       "    }\n",
       "\n",
       "    .dataframe tbody tr th {\n",
       "        vertical-align: top;\n",
       "    }\n",
       "\n",
       "    .dataframe thead th {\n",
       "        text-align: right;\n",
       "    }\n",
       "</style>\n",
       "<table border=\"1\" class=\"dataframe\">\n",
       "  <thead>\n",
       "    <tr style=\"text-align: right;\">\n",
       "      <th></th>\n",
       "      <th>_id</th>\n",
       "      <th>city</th>\n",
       "      <th>loc</th>\n",
       "      <th>pop</th>\n",
       "      <th>state</th>\n",
       "    </tr>\n",
       "  </thead>\n",
       "  <tbody>\n",
       "    <tr>\n",
       "      <th>0</th>\n",
       "      <td>01020</td>\n",
       "      <td>CHICOPEE</td>\n",
       "      <td>[-72.576142, 42.176443]</td>\n",
       "      <td>31495</td>\n",
       "      <td>MA</td>\n",
       "    </tr>\n",
       "    <tr>\n",
       "      <th>1</th>\n",
       "      <td>01012</td>\n",
       "      <td>CHESTERFIELD</td>\n",
       "      <td>[-72.833309, 42.38167]</td>\n",
       "      <td>177</td>\n",
       "      <td>MA</td>\n",
       "    </tr>\n",
       "    <tr>\n",
       "      <th>2</th>\n",
       "      <td>01010</td>\n",
       "      <td>BRIMFIELD</td>\n",
       "      <td>[-72.188455, 42.116543]</td>\n",
       "      <td>3706</td>\n",
       "      <td>MA</td>\n",
       "    </tr>\n",
       "    <tr>\n",
       "      <th>3</th>\n",
       "      <td>01034</td>\n",
       "      <td>TOLLAND</td>\n",
       "      <td>[-72.908793, 42.070234]</td>\n",
       "      <td>1652</td>\n",
       "      <td>MA</td>\n",
       "    </tr>\n",
       "    <tr>\n",
       "      <th>4</th>\n",
       "      <td>01032</td>\n",
       "      <td>GOSHEN</td>\n",
       "      <td>[-72.844092, 42.466234]</td>\n",
       "      <td>122</td>\n",
       "      <td>MA</td>\n",
       "    </tr>\n",
       "  </tbody>\n",
       "</table>\n",
       "</div>"
      ],
      "text/plain": [
       "     _id          city                      loc    pop state\n",
       "0  01020      CHICOPEE  [-72.576142, 42.176443]  31495    MA\n",
       "1  01012  CHESTERFIELD   [-72.833309, 42.38167]    177    MA\n",
       "2  01010     BRIMFIELD  [-72.188455, 42.116543]   3706    MA\n",
       "3  01034       TOLLAND  [-72.908793, 42.070234]   1652    MA\n",
       "4  01032        GOSHEN  [-72.844092, 42.466234]    122    MA"
      ]
     },
     "execution_count": 22,
     "metadata": {},
     "output_type": "execute_result"
    }
   ],
   "source": [
    "df3 = pd.DataFrame(list(db.zips.find().limit(5)))\n",
    "df3"
   ]
  },
  {
   "cell_type": "code",
   "execution_count": 23,
   "id": "6137c0fb",
   "metadata": {},
   "outputs": [
    {
     "data": {
      "text/html": [
       "<div>\n",
       "<style scoped>\n",
       "    .dataframe tbody tr th:only-of-type {\n",
       "        vertical-align: middle;\n",
       "    }\n",
       "\n",
       "    .dataframe tbody tr th {\n",
       "        vertical-align: top;\n",
       "    }\n",
       "\n",
       "    .dataframe thead th {\n",
       "        text-align: right;\n",
       "    }\n",
       "</style>\n",
       "<table border=\"1\" class=\"dataframe\">\n",
       "  <thead>\n",
       "    <tr style=\"text-align: right;\">\n",
       "      <th></th>\n",
       "      <th>city</th>\n",
       "      <th>loc</th>\n",
       "      <th>pop</th>\n",
       "      <th>state</th>\n",
       "    </tr>\n",
       "    <tr>\n",
       "      <th>_id</th>\n",
       "      <th></th>\n",
       "      <th></th>\n",
       "      <th></th>\n",
       "      <th></th>\n",
       "    </tr>\n",
       "  </thead>\n",
       "  <tbody>\n",
       "    <tr>\n",
       "      <th>01020</th>\n",
       "      <td>CHICOPEE</td>\n",
       "      <td>[-72.576142, 42.176443]</td>\n",
       "      <td>31495</td>\n",
       "      <td>MA</td>\n",
       "    </tr>\n",
       "    <tr>\n",
       "      <th>01012</th>\n",
       "      <td>CHESTERFIELD</td>\n",
       "      <td>[-72.833309, 42.38167]</td>\n",
       "      <td>177</td>\n",
       "      <td>MA</td>\n",
       "    </tr>\n",
       "    <tr>\n",
       "      <th>01010</th>\n",
       "      <td>BRIMFIELD</td>\n",
       "      <td>[-72.188455, 42.116543]</td>\n",
       "      <td>3706</td>\n",
       "      <td>MA</td>\n",
       "    </tr>\n",
       "    <tr>\n",
       "      <th>01034</th>\n",
       "      <td>TOLLAND</td>\n",
       "      <td>[-72.908793, 42.070234]</td>\n",
       "      <td>1652</td>\n",
       "      <td>MA</td>\n",
       "    </tr>\n",
       "    <tr>\n",
       "      <th>01032</th>\n",
       "      <td>GOSHEN</td>\n",
       "      <td>[-72.844092, 42.466234]</td>\n",
       "      <td>122</td>\n",
       "      <td>MA</td>\n",
       "    </tr>\n",
       "  </tbody>\n",
       "</table>\n",
       "</div>"
      ],
      "text/plain": [
       "               city                      loc    pop state\n",
       "_id                                                      \n",
       "01020      CHICOPEE  [-72.576142, 42.176443]  31495    MA\n",
       "01012  CHESTERFIELD   [-72.833309, 42.38167]    177    MA\n",
       "01010     BRIMFIELD  [-72.188455, 42.116543]   3706    MA\n",
       "01034       TOLLAND  [-72.908793, 42.070234]   1652    MA\n",
       "01032        GOSHEN  [-72.844092, 42.466234]    122    MA"
      ]
     },
     "execution_count": 23,
     "metadata": {},
     "output_type": "execute_result"
    }
   ],
   "source": [
    "df3.set_index(\"_id\")"
   ]
  },
  {
   "cell_type": "code",
   "execution_count": null,
   "id": "990071cf",
   "metadata": {},
   "outputs": [],
   "source": []
  }
 ],
 "metadata": {
  "kernelspec": {
   "display_name": "Python 3 (ipykernel)",
   "language": "python",
   "name": "python3"
  },
  "language_info": {
   "codemirror_mode": {
    "name": "ipython",
    "version": 3
   },
   "file_extension": ".py",
   "mimetype": "text/x-python",
   "name": "python",
   "nbconvert_exporter": "python",
   "pygments_lexer": "ipython3",
   "version": "3.8.11"
  }
 },
 "nbformat": 4,
 "nbformat_minor": 5
}

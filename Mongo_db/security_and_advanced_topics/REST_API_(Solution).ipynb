{
 "cells": [
  {
   "cell_type": "markdown",
   "id": "49bc16c4",
   "metadata": {},
   "source": [
    "# REST API\n",
    "\n",
    "Create your own REST API using fastapi and uvicorn so you can interact with MongoDB over HTTP requests"
   ]
  },
  {
   "cell_type": "markdown",
   "id": "09087816",
   "metadata": {},
   "source": [
    "##### Install Dependencies \n",
    "\n",
    "```bash\n",
    "pip install fastapi\n",
    "pip install \"uvicorn[standard]\"\n",
    "```\n",
    "\n",
    "<hr>\n",
    "\n",
    "##### Put the following in a file called main.py\n",
    "\n",
    "```python\n",
    "from bson import ObjectId\n",
    "from pymongo import MongoClient\n",
    "from fastapi import FastAPI\n",
    "\n",
    "### Setup MongoDB Client\n",
    "mongodb_uri = \"mongodb://localhost:27017/\"\n",
    "client = MongoClient(mongodb_uri)\n",
    "\n",
    "### Setup FastAPI App\n",
    "app = FastAPI()\n",
    "\n",
    "@app.get(\"/\")\n",
    "async def root():\n",
    "    return {\"message\": \"Hello World\"}\n",
    "```\n",
    "\n",
    "<hr>\n",
    "\n",
    "##### Run the uvicorn server in the directory of your main.py file\n",
    "\n",
    "```bash\n",
    "cd path/to/main_py_dir/\n",
    "uvicorn main:app --reload\n",
    "```"
   ]
  },
  {
   "cell_type": "markdown",
   "id": "730b39b1",
   "metadata": {},
   "source": [
    "## Intro to 'requests' Python Module"
   ]
  },
  {
   "cell_type": "code",
   "execution_count": 1,
   "id": "b46a83a9",
   "metadata": {},
   "outputs": [],
   "source": [
    "import requests"
   ]
  },
  {
   "cell_type": "code",
   "execution_count": 2,
   "id": "82a13205",
   "metadata": {},
   "outputs": [
    {
     "name": "stdout",
     "output_type": "stream",
     "text": [
      "<!DOCTYPE html>\n",
      "<html>\n",
      "<body>\n",
      "\n",
      "<h1>This is a Test Page</h1>\n",
      "\n",
      "</body>\n",
      "</html>\n"
     ]
    }
   ],
   "source": [
    "x = requests.get('https://w3schools.com/python/demopage.htm')\n",
    "print(x.text)"
   ]
  },
  {
   "cell_type": "code",
   "execution_count": 3,
   "id": "b261bf8a",
   "metadata": {},
   "outputs": [
    {
     "name": "stdout",
     "output_type": "stream",
     "text": [
      "200\n",
      "{\"message\":\"Hello World\"}\n"
     ]
    }
   ],
   "source": [
    "x = requests.get(\"http://localhost:8000/\")\n",
    "print(x.status_code)\n",
    "print(x.text)"
   ]
  },
  {
   "cell_type": "code",
   "execution_count": 4,
   "id": "01bb2989",
   "metadata": {},
   "outputs": [
    {
     "name": "stdout",
     "output_type": "stream",
     "text": [
      "<class 'str'>\n"
     ]
    }
   ],
   "source": [
    "print(type(x.text))"
   ]
  },
  {
   "cell_type": "code",
   "execution_count": 5,
   "id": "fcab8103",
   "metadata": {},
   "outputs": [
    {
     "name": "stdout",
     "output_type": "stream",
     "text": [
      "{'message': 'Hello World'}\n",
      "<class 'dict'>\n"
     ]
    }
   ],
   "source": [
    "print(x.json())\n",
    "print(type(x.json()))"
   ]
  },
  {
   "cell_type": "markdown",
   "id": "f2feb2ef",
   "metadata": {},
   "source": [
    "<hr>\n",
    "\n",
    "## GET (find)\n",
    "\n",
    "##### Add the following to main.py (and save the file)\n",
    "\n",
    "```python\n",
    "@app.get(\"/zips/{zip_id}\")\n",
    "async def get_zip_by_id(zip_id):\n",
    "    return client.performance_db.zips.find_one({\"_id\": zip_id})\n",
    "```\n",
    "<hr>"
   ]
  },
  {
   "cell_type": "code",
   "execution_count": 6,
   "id": "f5f47bce",
   "metadata": {},
   "outputs": [
    {
     "name": "stdout",
     "output_type": "stream",
     "text": [
      "200\n",
      "{\"_id\":\"96819\",\"city\":\"HONOLULU\",\"loc\":[-157.875947,21.34877],\"pop\":50584,\"state\":\"HI\"}\n"
     ]
    }
   ],
   "source": [
    "x = requests.get(\"http://127.0.0.1:8000/zips/96819\")\n",
    "print(x.status_code)\n",
    "print(x.text)"
   ]
  },
  {
   "cell_type": "markdown",
   "id": "95529782",
   "metadata": {},
   "source": [
    "<hr>\n",
    "\n",
    "##### Add the following to main.py (and save the file)\n",
    "\n",
    "```python\n",
    "@app.get(\"/zips/city/{city}\")\n",
    "async def get_zip_by_city(city):\n",
    "    return list(client.performance_db.zips.find({\"city\": city}))\n",
    "```\n",
    "<hr>"
   ]
  },
  {
   "cell_type": "code",
   "execution_count": 7,
   "id": "fded6a38",
   "metadata": {},
   "outputs": [
    {
     "name": "stdout",
     "output_type": "stream",
     "text": [
      "200\n",
      "[{\"_id\":\"96813\",\"city\":\"HONOLULU\",\"loc\":[-157.852072,21.317905],\"pop\":23082,\"state\":\"HI\"},{\"_id\":\"96818\",\"city\":\"HONOLULU\",\"loc\":[-157.926925,21.353173],\"pop\":62915,\"state\":\"HI\"},{\"_id\":\"96819\",\"city\":\"HONOLULU\",\"loc\":[-157.875947,21.34877],\"pop\":50584,\"state\":\"HI\"},{\"_id\":\"96821\",\"city\":\"HONOLULU\",\"loc\":[-157.755242,21.292811],\"pop\":18366,\"state\":\"HI\"},{\"_id\":\"96822\",\"city\":\"HONOLULU\",\"loc\":[-157.829819,21.311704],\"pop\":39632,\"state\":\"HI\"},{\"_id\":\"96826\",\"city\":\"HONOLULU\",\"loc\":[-157.828388,21.294139],\"pop\":33672,\"state\":\"HI\"},{\"_id\":\"96825\",\"city\":\"HONOLULU\",\"loc\":[-157.698523,21.298684],\"pop\":27432,\"state\":\"HI\"},{\"_id\":\"96815\",\"city\":\"HONOLULU\",\"loc\":[-157.826616,21.281084],\"pop\":28650,\"state\":\"HI\"},{\"_id\":\"96817\",\"city\":\"HONOLULU\",\"loc\":[-157.861469,21.329452],\"pop\":48920,\"state\":\"HI\"},{\"_id\":\"96814\",\"city\":\"HONOLULU\",\"loc\":[-157.843876,21.299846],\"pop\":14182,\"state\":\"HI\"},{\"_id\":\"96816\",\"city\":\"HONOLULU\",\"loc\":[-157.800626,21.288677],\"pop\":49208,\"state\":\"HI\"}]\n"
     ]
    }
   ],
   "source": [
    "x = requests.get(\"http://127.0.0.1:8000/zips/city/HONOLULU\")\n",
    "print(x.status_code)\n",
    "print(x.text)"
   ]
  },
  {
   "cell_type": "markdown",
   "id": "bc781ba6",
   "metadata": {},
   "source": [
    "<hr>\n",
    "\n",
    "## POST (insert)\n",
    "\n",
    "##### Add the following to main.py (and save the file)\n",
    "\n",
    "```python\n",
    "@app.post(\"/users\", status_code=201)\n",
    "async def add_user(user_data: dict):\n",
    "    insert_res = client.my_store.users.insert_one(user_data)\n",
    "    return {\"inserted_id\": str(insert_res.inserted_id)}\n",
    "```\n",
    "<hr>"
   ]
  },
  {
   "cell_type": "code",
   "execution_count": 8,
   "id": "84f50c1f",
   "metadata": {},
   "outputs": [
    {
     "name": "stdout",
     "output_type": "stream",
     "text": [
      "201\n",
      "{\"inserted_id\":\"6205b301ca593d8bfac3de18\"}\n"
     ]
    }
   ],
   "source": [
    "x = requests.post(\"http://localhost:8000/users/\", json={\"name\": \"REST User\", \"favorite_color\": \"red\"})\n",
    "print(x.status_code)\n",
    "print(x.text)"
   ]
  },
  {
   "cell_type": "code",
   "execution_count": 10,
   "id": "4fc74899",
   "metadata": {},
   "outputs": [
    {
     "name": "stdout",
     "output_type": "stream",
     "text": [
      "405\n",
      "{\"detail\":\"Method Not Allowed\"}\n"
     ]
    }
   ],
   "source": [
    "x = requests.get(\"http://localhost:8000/users/\")\n",
    "print(x.status_code)\n",
    "print(x.text)"
   ]
  },
  {
   "cell_type": "markdown",
   "id": "258c5837",
   "metadata": {},
   "source": [
    "<hr>\n",
    "\n",
    "##### Add the following to main.py (and save the file)\n",
    "\n",
    "```python\n",
    "@app.get(\"/users\")\n",
    "async def get_user(user_data: dict):\n",
    "    user_doc = client.my_store.users.find_one(user_data)\n",
    "    user_doc[\"_id\"] = str(user_doc[\"_id\"])\n",
    "    return user_doc \n",
    "```\n",
    "<hr>"
   ]
  },
  {
   "cell_type": "code",
   "execution_count": 11,
   "id": "ce33527a",
   "metadata": {},
   "outputs": [
    {
     "name": "stdout",
     "output_type": "stream",
     "text": [
      "200\n",
      "{\"_id\":\"6205b301ca593d8bfac3de18\",\"name\":\"REST User\",\"favorite_color\":\"red\"}\n"
     ]
    }
   ],
   "source": [
    "x = requests.get(\"http://localhost:8000/users/\", json={\"name\": \"REST User\"})\n",
    "print(x.status_code)\n",
    "print(x.text)"
   ]
  },
  {
   "cell_type": "code",
   "execution_count": 13,
   "id": "4a8b6410",
   "metadata": {},
   "outputs": [
    {
     "name": "stdout",
     "output_type": "stream",
     "text": [
      "6205b301ca593d8bfac3de18\n"
     ]
    }
   ],
   "source": [
    "user_id = x.json()[\"_id\"]\n",
    "print(user_id)"
   ]
  },
  {
   "cell_type": "markdown",
   "id": "bb06c1b2",
   "metadata": {},
   "source": [
    "<hr>\n",
    "\n",
    "## PUT (replace)\n",
    "\n",
    "##### Add the following to main.py (and save the file)\n",
    "\n",
    "```python\n",
    "@app.put(\"/users/{user_id}\")\n",
    "async def replace_user(user_id, user_data: dict):\n",
    "    replace_res = client.my_store.users.replace_one({\"_id\": ObjectId(str(user_id))}, user_data)\n",
    "    return replace_res.raw_result\n",
    "```\n",
    "<hr>"
   ]
  },
  {
   "cell_type": "code",
   "execution_count": 14,
   "id": "b3ba78f4",
   "metadata": {},
   "outputs": [
    {
     "name": "stdout",
     "output_type": "stream",
     "text": [
      "200\n",
      "{\"n\":1,\"nModified\":1,\"ok\":1.0,\"updatedExisting\":true}\n"
     ]
    }
   ],
   "source": [
    "x = requests.put(\"http://localhost:8000/users/\" + user_id, json={\"name\": \"Replaced REST User\", \"favorite_food\": \"eggs\"})\n",
    "print(x.status_code)\n",
    "print(x.text)"
   ]
  },
  {
   "cell_type": "markdown",
   "id": "12e65029",
   "metadata": {},
   "source": [
    "<hr>\n",
    "\n",
    "## PATCH (update)\n",
    "\n",
    "##### Add the following to main.py (and save the file)\n",
    "\n",
    "```python\n",
    "@app.patch(\"/users/{user_id}\")\n",
    "async def update_user(user_id, user_data: dict):\n",
    "    update_res = client.my_store.users.update_one({\"_id\": ObjectId(str(user_id))}, {\"$set\": user_data})\n",
    "    return update_res.raw_result\n",
    "```\n",
    "<hr>"
   ]
  },
  {
   "cell_type": "code",
   "execution_count": 15,
   "id": "6973bac1",
   "metadata": {},
   "outputs": [
    {
     "name": "stdout",
     "output_type": "stream",
     "text": [
      "200\n",
      "{\"n\":1,\"nModified\":1,\"ok\":1.0,\"updatedExisting\":true}\n"
     ]
    }
   ],
   "source": [
    "x = requests.patch(\"http://localhost:8000/users/\" + user_id, json={\"name\": \"Updated REST User\"})\n",
    "print(x.status_code)\n",
    "print(x.text)"
   ]
  },
  {
   "cell_type": "markdown",
   "id": "c11a19d9",
   "metadata": {},
   "source": [
    "<hr>\n",
    "\n",
    "## DELETE \n",
    "\n",
    "##### Add the following to main.py (and save the file)\n",
    "\n",
    "```python\n",
    "@app.delete(\"/users/{user_id}\")\n",
    "async def delete_user(user_id):\n",
    "    delete_res = client.my_store.users.delete_one({\"_id\": ObjectId(str(user_id))})\n",
    "    return delete_res.raw_result\n",
    "```\n",
    "<hr>"
   ]
  },
  {
   "cell_type": "code",
   "execution_count": 17,
   "id": "8089e269",
   "metadata": {},
   "outputs": [
    {
     "name": "stdout",
     "output_type": "stream",
     "text": [
      "200\n",
      "{\"n\":1,\"ok\":1.0}\n"
     ]
    }
   ],
   "source": [
    "x = requests.delete(\"http://localhost:8000/users/\" + user_id)\n",
    "print(x.status_code)\n",
    "print(x.text)"
   ]
  }
 ],
 "metadata": {
  "kernelspec": {
   "display_name": "Python 3 (ipykernel)",
   "language": "python",
   "name": "python3"
  },
  "language_info": {
   "codemirror_mode": {
    "name": "ipython",
    "version": 3
   },
   "file_extension": ".py",
   "mimetype": "text/x-python",
   "name": "python",
   "nbconvert_exporter": "python",
   "pygments_lexer": "ipython3",
   "version": "3.8.11"
  }
 },
 "nbformat": 4,
 "nbformat_minor": 5
}

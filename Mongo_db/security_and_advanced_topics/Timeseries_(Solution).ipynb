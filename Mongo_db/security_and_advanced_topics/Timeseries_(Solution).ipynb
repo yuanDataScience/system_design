{
 "cells": [
  {
   "cell_type": "markdown",
   "id": "347527e2",
   "metadata": {},
   "source": [
    "## Timeseries Data\n",
    "\n",
    "Go over using Time Series MongoDB collections by scraping stock market data over the internet"
   ]
  },
  {
   "cell_type": "markdown",
   "id": "aa1bd302",
   "metadata": {},
   "source": [
    "##### Install Dependencies In Terminal (if you do not already have it)\n",
    "```bash\n",
    "pip install --user yfinance\n",
    "pip install --user matplotlib\n",
    "```"
   ]
  },
  {
   "cell_type": "code",
   "execution_count": 1,
   "id": "9ebe4ca7",
   "metadata": {},
   "outputs": [],
   "source": [
    "from pymongo import MongoClient\n",
    "\n",
    "import pandas\n",
    "import yfinance as yf\n",
    "from datetime import datetime, timedelta\n",
    "from dateutil.relativedelta import relativedelta"
   ]
  },
  {
   "cell_type": "markdown",
   "id": "d0a37460",
   "metadata": {},
   "source": [
    "### Intro to yfinance"
   ]
  },
  {
   "cell_type": "code",
   "execution_count": 2,
   "id": "aa9f4459",
   "metadata": {},
   "outputs": [
    {
     "name": "stdout",
     "output_type": "stream",
     "text": [
      "[*********************100%***********************]  2 of 2 completed\n"
     ]
    }
   ],
   "source": [
    "tickers = [\"AMZN\", \"GOOGL\"]\n",
    "data = yf.download(tickers=tickers, period=\"1y\", interval=\"1d\")"
   ]
  },
  {
   "cell_type": "code",
   "execution_count": 3,
   "id": "2f9afb6b",
   "metadata": {},
   "outputs": [
    {
     "name": "stdout",
     "output_type": "stream",
     "text": [
      "<class 'pandas.core.frame.DataFrame'>\n"
     ]
    },
    {
     "data": {
      "text/html": [
       "<div>\n",
       "<style scoped>\n",
       "    .dataframe tbody tr th:only-of-type {\n",
       "        vertical-align: middle;\n",
       "    }\n",
       "\n",
       "    .dataframe tbody tr th {\n",
       "        vertical-align: top;\n",
       "    }\n",
       "\n",
       "    .dataframe thead tr th {\n",
       "        text-align: left;\n",
       "    }\n",
       "\n",
       "    .dataframe thead tr:last-of-type th {\n",
       "        text-align: right;\n",
       "    }\n",
       "</style>\n",
       "<table border=\"1\" class=\"dataframe\">\n",
       "  <thead>\n",
       "    <tr>\n",
       "      <th></th>\n",
       "      <th colspan=\"2\" halign=\"left\">Adj Close</th>\n",
       "      <th colspan=\"2\" halign=\"left\">Close</th>\n",
       "      <th colspan=\"2\" halign=\"left\">High</th>\n",
       "      <th colspan=\"2\" halign=\"left\">Low</th>\n",
       "      <th colspan=\"2\" halign=\"left\">Open</th>\n",
       "      <th colspan=\"2\" halign=\"left\">Volume</th>\n",
       "    </tr>\n",
       "    <tr>\n",
       "      <th></th>\n",
       "      <th>AMZN</th>\n",
       "      <th>GOOGL</th>\n",
       "      <th>AMZN</th>\n",
       "      <th>GOOGL</th>\n",
       "      <th>AMZN</th>\n",
       "      <th>GOOGL</th>\n",
       "      <th>AMZN</th>\n",
       "      <th>GOOGL</th>\n",
       "      <th>AMZN</th>\n",
       "      <th>GOOGL</th>\n",
       "      <th>AMZN</th>\n",
       "      <th>GOOGL</th>\n",
       "    </tr>\n",
       "    <tr>\n",
       "      <th>Date</th>\n",
       "      <th></th>\n",
       "      <th></th>\n",
       "      <th></th>\n",
       "      <th></th>\n",
       "      <th></th>\n",
       "      <th></th>\n",
       "      <th></th>\n",
       "      <th></th>\n",
       "      <th></th>\n",
       "      <th></th>\n",
       "      <th></th>\n",
       "      <th></th>\n",
       "    </tr>\n",
       "  </thead>\n",
       "  <tbody>\n",
       "    <tr>\n",
       "      <th>2021-01-22</th>\n",
       "      <td>3292.229980</td>\n",
       "      <td>1892.560059</td>\n",
       "      <td>3292.229980</td>\n",
       "      <td>1892.560059</td>\n",
       "      <td>3321.909912</td>\n",
       "      <td>1904.390015</td>\n",
       "      <td>3283.159912</td>\n",
       "      <td>1876.500000</td>\n",
       "      <td>3304.310059</td>\n",
       "      <td>1891.459961</td>\n",
       "      <td>2821900</td>\n",
       "      <td>1637200</td>\n",
       "    </tr>\n",
       "    <tr>\n",
       "      <th>2021-01-25</th>\n",
       "      <td>3294.000000</td>\n",
       "      <td>1894.280029</td>\n",
       "      <td>3294.000000</td>\n",
       "      <td>1894.280029</td>\n",
       "      <td>3363.889893</td>\n",
       "      <td>1921.819946</td>\n",
       "      <td>3243.149902</td>\n",
       "      <td>1859.160034</td>\n",
       "      <td>3328.500000</td>\n",
       "      <td>1912.739990</td>\n",
       "      <td>3749800</td>\n",
       "      <td>2529300</td>\n",
       "    </tr>\n",
       "    <tr>\n",
       "      <th>2021-01-26</th>\n",
       "      <td>3326.129883</td>\n",
       "      <td>1907.949951</td>\n",
       "      <td>3326.129883</td>\n",
       "      <td>1907.949951</td>\n",
       "      <td>3338.000000</td>\n",
       "      <td>1915.750000</td>\n",
       "      <td>3282.870117</td>\n",
       "      <td>1876.130005</td>\n",
       "      <td>3296.360107</td>\n",
       "      <td>1885.989990</td>\n",
       "      <td>2955200</td>\n",
       "      <td>1573100</td>\n",
       "    </tr>\n",
       "  </tbody>\n",
       "</table>\n",
       "</div>"
      ],
      "text/plain": [
       "              Adj Close                     Close                      High  \\\n",
       "                   AMZN        GOOGL         AMZN        GOOGL         AMZN   \n",
       "Date                                                                          \n",
       "2021-01-22  3292.229980  1892.560059  3292.229980  1892.560059  3321.909912   \n",
       "2021-01-25  3294.000000  1894.280029  3294.000000  1894.280029  3363.889893   \n",
       "2021-01-26  3326.129883  1907.949951  3326.129883  1907.949951  3338.000000   \n",
       "\n",
       "                                 Low                      Open               \\\n",
       "                  GOOGL         AMZN        GOOGL         AMZN        GOOGL   \n",
       "Date                                                                          \n",
       "2021-01-22  1904.390015  3283.159912  1876.500000  3304.310059  1891.459961   \n",
       "2021-01-25  1921.819946  3243.149902  1859.160034  3328.500000  1912.739990   \n",
       "2021-01-26  1915.750000  3282.870117  1876.130005  3296.360107  1885.989990   \n",
       "\n",
       "             Volume           \n",
       "               AMZN    GOOGL  \n",
       "Date                          \n",
       "2021-01-22  2821900  1637200  \n",
       "2021-01-25  3749800  2529300  \n",
       "2021-01-26  2955200  1573100  "
      ]
     },
     "execution_count": 3,
     "metadata": {},
     "output_type": "execute_result"
    }
   ],
   "source": [
    "print(type(data))\n",
    "data[0:3]"
   ]
  },
  {
   "cell_type": "code",
   "execution_count": 4,
   "id": "3a3e205f",
   "metadata": {},
   "outputs": [
    {
     "data": {
      "image/png": "[encoded data removed]",
      "text/plain": [
       "<Figure size 1080x360 with 1 Axes>"
      ]
     },
     "metadata": {
      "needs_background": "light"
     },
     "output_type": "display_data"
    }
   ],
   "source": [
    "ax = data.plot(y=[\"Close\"], figsize=(15, 5), title=str(tickers) + \" Stock Price Close Data\")\n",
    "ax.set_ylabel(\"Close Price ($)\")\n",
    "None"
   ]
  },
  {
   "cell_type": "markdown",
   "id": "0944bc89",
   "metadata": {},
   "source": [
    "### Converting yfinance dataframe to dict format for insertion"
   ]
  },
  {
   "cell_type": "markdown",
   "id": "062c673c",
   "metadata": {},
   "source": [
    "##### Swap the columns so the ticker names are the highest level column"
   ]
  },
  {
   "cell_type": "code",
   "execution_count": 5,
   "id": "ba48e391",
   "metadata": {},
   "outputs": [
    {
     "data": {
      "text/html": [
       "<div>\n",
       "<style scoped>\n",
       "    .dataframe tbody tr th:only-of-type {\n",
       "        vertical-align: middle;\n",
       "    }\n",
       "\n",
       "    .dataframe tbody tr th {\n",
       "        vertical-align: top;\n",
       "    }\n",
       "\n",
       "    .dataframe thead tr th {\n",
       "        text-align: left;\n",
       "    }\n",
       "\n",
       "    .dataframe thead tr:last-of-type th {\n",
       "        text-align: right;\n",
       "    }\n",
       "</style>\n",
       "<table border=\"1\" class=\"dataframe\">\n",
       "  <thead>\n",
       "    <tr>\n",
       "      <th></th>\n",
       "      <th>AMZN</th>\n",
       "      <th>GOOGL</th>\n",
       "      <th>AMZN</th>\n",
       "      <th>GOOGL</th>\n",
       "      <th>AMZN</th>\n",
       "      <th>GOOGL</th>\n",
       "      <th>AMZN</th>\n",
       "      <th>GOOGL</th>\n",
       "      <th>AMZN</th>\n",
       "      <th>GOOGL</th>\n",
       "      <th>AMZN</th>\n",
       "      <th>GOOGL</th>\n",
       "    </tr>\n",
       "    <tr>\n",
       "      <th></th>\n",
       "      <th>Adj Close</th>\n",
       "      <th>Adj Close</th>\n",
       "      <th>Close</th>\n",
       "      <th>Close</th>\n",
       "      <th>High</th>\n",
       "      <th>High</th>\n",
       "      <th>Low</th>\n",
       "      <th>Low</th>\n",
       "      <th>Open</th>\n",
       "      <th>Open</th>\n",
       "      <th>Volume</th>\n",
       "      <th>Volume</th>\n",
       "    </tr>\n",
       "    <tr>\n",
       "      <th>Date</th>\n",
       "      <th></th>\n",
       "      <th></th>\n",
       "      <th></th>\n",
       "      <th></th>\n",
       "      <th></th>\n",
       "      <th></th>\n",
       "      <th></th>\n",
       "      <th></th>\n",
       "      <th></th>\n",
       "      <th></th>\n",
       "      <th></th>\n",
       "      <th></th>\n",
       "    </tr>\n",
       "  </thead>\n",
       "  <tbody>\n",
       "    <tr>\n",
       "      <th>2021-01-22</th>\n",
       "      <td>3292.229980</td>\n",
       "      <td>1892.560059</td>\n",
       "      <td>3292.229980</td>\n",
       "      <td>1892.560059</td>\n",
       "      <td>3321.909912</td>\n",
       "      <td>1904.390015</td>\n",
       "      <td>3283.159912</td>\n",
       "      <td>1876.500000</td>\n",
       "      <td>3304.310059</td>\n",
       "      <td>1891.459961</td>\n",
       "      <td>2821900</td>\n",
       "      <td>1637200</td>\n",
       "    </tr>\n",
       "    <tr>\n",
       "      <th>2021-01-25</th>\n",
       "      <td>3294.000000</td>\n",
       "      <td>1894.280029</td>\n",
       "      <td>3294.000000</td>\n",
       "      <td>1894.280029</td>\n",
       "      <td>3363.889893</td>\n",
       "      <td>1921.819946</td>\n",
       "      <td>3243.149902</td>\n",
       "      <td>1859.160034</td>\n",
       "      <td>3328.500000</td>\n",
       "      <td>1912.739990</td>\n",
       "      <td>3749800</td>\n",
       "      <td>2529300</td>\n",
       "    </tr>\n",
       "    <tr>\n",
       "      <th>2021-01-26</th>\n",
       "      <td>3326.129883</td>\n",
       "      <td>1907.949951</td>\n",
       "      <td>3326.129883</td>\n",
       "      <td>1907.949951</td>\n",
       "      <td>3338.000000</td>\n",
       "      <td>1915.750000</td>\n",
       "      <td>3282.870117</td>\n",
       "      <td>1876.130005</td>\n",
       "      <td>3296.360107</td>\n",
       "      <td>1885.989990</td>\n",
       "      <td>2955200</td>\n",
       "      <td>1573100</td>\n",
       "    </tr>\n",
       "  </tbody>\n",
       "</table>\n",
       "</div>"
      ],
      "text/plain": [
       "                   AMZN        GOOGL         AMZN        GOOGL         AMZN  \\\n",
       "              Adj Close    Adj Close        Close        Close         High   \n",
       "Date                                                                          \n",
       "2021-01-22  3292.229980  1892.560059  3292.229980  1892.560059  3321.909912   \n",
       "2021-01-25  3294.000000  1894.280029  3294.000000  1894.280029  3363.889893   \n",
       "2021-01-26  3326.129883  1907.949951  3326.129883  1907.949951  3338.000000   \n",
       "\n",
       "                  GOOGL         AMZN        GOOGL         AMZN        GOOGL  \\\n",
       "                   High          Low          Low         Open         Open   \n",
       "Date                                                                          \n",
       "2021-01-22  1904.390015  3283.159912  1876.500000  3304.310059  1891.459961   \n",
       "2021-01-25  1921.819946  3243.149902  1859.160034  3328.500000  1912.739990   \n",
       "2021-01-26  1915.750000  3282.870117  1876.130005  3296.360107  1885.989990   \n",
       "\n",
       "               AMZN    GOOGL  \n",
       "             Volume   Volume  \n",
       "Date                          \n",
       "2021-01-22  2821900  1637200  \n",
       "2021-01-25  3749800  2529300  \n",
       "2021-01-26  2955200  1573100  "
      ]
     },
     "execution_count": 5,
     "metadata": {},
     "output_type": "execute_result"
    }
   ],
   "source": [
    "data.columns = data.columns.swaplevel(0,1)\n",
    "data[0:3]"
   ]
  },
  {
   "cell_type": "code",
   "execution_count": 6,
   "id": "ce655fe4",
   "metadata": {},
   "outputs": [
    {
     "data": {
      "text/html": [
       "<div>\n",
       "<style scoped>\n",
       "    .dataframe tbody tr th:only-of-type {\n",
       "        vertical-align: middle;\n",
       "    }\n",
       "\n",
       "    .dataframe tbody tr th {\n",
       "        vertical-align: top;\n",
       "    }\n",
       "\n",
       "    .dataframe thead th {\n",
       "        text-align: right;\n",
       "    }\n",
       "</style>\n",
       "<table border=\"1\" class=\"dataframe\">\n",
       "  <thead>\n",
       "    <tr style=\"text-align: right;\">\n",
       "      <th></th>\n",
       "      <th>Adj Close</th>\n",
       "      <th>Close</th>\n",
       "      <th>High</th>\n",
       "      <th>Low</th>\n",
       "      <th>Open</th>\n",
       "      <th>Volume</th>\n",
       "    </tr>\n",
       "    <tr>\n",
       "      <th>Date</th>\n",
       "      <th></th>\n",
       "      <th></th>\n",
       "      <th></th>\n",
       "      <th></th>\n",
       "      <th></th>\n",
       "      <th></th>\n",
       "    </tr>\n",
       "  </thead>\n",
       "  <tbody>\n",
       "    <tr>\n",
       "      <th>2021-01-22</th>\n",
       "      <td>3292.229980</td>\n",
       "      <td>3292.229980</td>\n",
       "      <td>3321.909912</td>\n",
       "      <td>3283.159912</td>\n",
       "      <td>3304.310059</td>\n",
       "      <td>2821900</td>\n",
       "    </tr>\n",
       "    <tr>\n",
       "      <th>2021-01-25</th>\n",
       "      <td>3294.000000</td>\n",
       "      <td>3294.000000</td>\n",
       "      <td>3363.889893</td>\n",
       "      <td>3243.149902</td>\n",
       "      <td>3328.500000</td>\n",
       "      <td>3749800</td>\n",
       "    </tr>\n",
       "    <tr>\n",
       "      <th>2021-01-26</th>\n",
       "      <td>3326.129883</td>\n",
       "      <td>3326.129883</td>\n",
       "      <td>3338.000000</td>\n",
       "      <td>3282.870117</td>\n",
       "      <td>3296.360107</td>\n",
       "      <td>2955200</td>\n",
       "    </tr>\n",
       "  </tbody>\n",
       "</table>\n",
       "</div>"
      ],
      "text/plain": [
       "              Adj Close        Close         High          Low         Open  \\\n",
       "Date                                                                          \n",
       "2021-01-22  3292.229980  3292.229980  3321.909912  3283.159912  3304.310059   \n",
       "2021-01-25  3294.000000  3294.000000  3363.889893  3243.149902  3328.500000   \n",
       "2021-01-26  3326.129883  3326.129883  3338.000000  3282.870117  3296.360107   \n",
       "\n",
       "             Volume  \n",
       "Date                 \n",
       "2021-01-22  2821900  \n",
       "2021-01-25  3749800  \n",
       "2021-01-26  2955200  "
      ]
     },
     "execution_count": 6,
     "metadata": {},
     "output_type": "execute_result"
    }
   ],
   "source": [
    "data[\"AMZN\"][0:3]"
   ]
  },
  {
   "cell_type": "markdown",
   "id": "b2519622",
   "metadata": {},
   "source": [
    "##### Create an attribute an each entry that has the name of the ticker"
   ]
  },
  {
   "cell_type": "code",
   "execution_count": 7,
   "id": "2ac1e294",
   "metadata": {},
   "outputs": [],
   "source": [
    "for ticker in tickers:\n",
    "    data.loc[: , (ticker, \"Ticker\")] = ticker"
   ]
  },
  {
   "cell_type": "code",
   "execution_count": 8,
   "id": "17cb1a50",
   "metadata": {},
   "outputs": [
    {
     "data": {
      "text/html": [
       "<div>\n",
       "<style scoped>\n",
       "    .dataframe tbody tr th:only-of-type {\n",
       "        vertical-align: middle;\n",
       "    }\n",
       "\n",
       "    .dataframe tbody tr th {\n",
       "        vertical-align: top;\n",
       "    }\n",
       "\n",
       "    .dataframe thead th {\n",
       "        text-align: right;\n",
       "    }\n",
       "</style>\n",
       "<table border=\"1\" class=\"dataframe\">\n",
       "  <thead>\n",
       "    <tr style=\"text-align: right;\">\n",
       "      <th></th>\n",
       "      <th>Adj Close</th>\n",
       "      <th>Close</th>\n",
       "      <th>High</th>\n",
       "      <th>Low</th>\n",
       "      <th>Open</th>\n",
       "      <th>Volume</th>\n",
       "      <th>Ticker</th>\n",
       "    </tr>\n",
       "    <tr>\n",
       "      <th>Date</th>\n",
       "      <th></th>\n",
       "      <th></th>\n",
       "      <th></th>\n",
       "      <th></th>\n",
       "      <th></th>\n",
       "      <th></th>\n",
       "      <th></th>\n",
       "    </tr>\n",
       "  </thead>\n",
       "  <tbody>\n",
       "    <tr>\n",
       "      <th>2021-01-22</th>\n",
       "      <td>1892.560059</td>\n",
       "      <td>1892.560059</td>\n",
       "      <td>1904.390015</td>\n",
       "      <td>1876.500000</td>\n",
       "      <td>1891.459961</td>\n",
       "      <td>1637200</td>\n",
       "      <td>GOOGL</td>\n",
       "    </tr>\n",
       "    <tr>\n",
       "      <th>2021-01-25</th>\n",
       "      <td>1894.280029</td>\n",
       "      <td>1894.280029</td>\n",
       "      <td>1921.819946</td>\n",
       "      <td>1859.160034</td>\n",
       "      <td>1912.739990</td>\n",
       "      <td>2529300</td>\n",
       "      <td>GOOGL</td>\n",
       "    </tr>\n",
       "    <tr>\n",
       "      <th>2021-01-26</th>\n",
       "      <td>1907.949951</td>\n",
       "      <td>1907.949951</td>\n",
       "      <td>1915.750000</td>\n",
       "      <td>1876.130005</td>\n",
       "      <td>1885.989990</td>\n",
       "      <td>1573100</td>\n",
       "      <td>GOOGL</td>\n",
       "    </tr>\n",
       "  </tbody>\n",
       "</table>\n",
       "</div>"
      ],
      "text/plain": [
       "              Adj Close        Close         High          Low         Open  \\\n",
       "Date                                                                          \n",
       "2021-01-22  1892.560059  1892.560059  1904.390015  1876.500000  1891.459961   \n",
       "2021-01-25  1894.280029  1894.280029  1921.819946  1859.160034  1912.739990   \n",
       "2021-01-26  1907.949951  1907.949951  1915.750000  1876.130005  1885.989990   \n",
       "\n",
       "             Volume Ticker  \n",
       "Date                        \n",
       "2021-01-22  1637200  GOOGL  \n",
       "2021-01-25  2529300  GOOGL  \n",
       "2021-01-26  1573100  GOOGL  "
      ]
     },
     "execution_count": 8,
     "metadata": {},
     "output_type": "execute_result"
    }
   ],
   "source": [
    "data[\"GOOGL\"][0:3]"
   ]
  },
  {
   "cell_type": "markdown",
   "id": "55594023",
   "metadata": {},
   "source": [
    "##### Set date index to a column "
   ]
  },
  {
   "cell_type": "code",
   "execution_count": 9,
   "id": "f47004c2",
   "metadata": {},
   "outputs": [
    {
     "data": {
      "text/html": [
       "<div>\n",
       "<style scoped>\n",
       "    .dataframe tbody tr th:only-of-type {\n",
       "        vertical-align: middle;\n",
       "    }\n",
       "\n",
       "    .dataframe tbody tr th {\n",
       "        vertical-align: top;\n",
       "    }\n",
       "\n",
       "    .dataframe thead th {\n",
       "        text-align: right;\n",
       "    }\n",
       "</style>\n",
       "<table border=\"1\" class=\"dataframe\">\n",
       "  <thead>\n",
       "    <tr style=\"text-align: right;\">\n",
       "      <th></th>\n",
       "      <th>Date</th>\n",
       "      <th>Adj Close</th>\n",
       "      <th>Close</th>\n",
       "      <th>High</th>\n",
       "      <th>Low</th>\n",
       "      <th>Open</th>\n",
       "      <th>Volume</th>\n",
       "      <th>Ticker</th>\n",
       "    </tr>\n",
       "  </thead>\n",
       "  <tbody>\n",
       "    <tr>\n",
       "      <th>0</th>\n",
       "      <td>2021-01-22</td>\n",
       "      <td>3292.229980</td>\n",
       "      <td>3292.229980</td>\n",
       "      <td>3321.909912</td>\n",
       "      <td>3283.159912</td>\n",
       "      <td>3304.310059</td>\n",
       "      <td>2821900</td>\n",
       "      <td>AMZN</td>\n",
       "    </tr>\n",
       "    <tr>\n",
       "      <th>1</th>\n",
       "      <td>2021-01-25</td>\n",
       "      <td>3294.000000</td>\n",
       "      <td>3294.000000</td>\n",
       "      <td>3363.889893</td>\n",
       "      <td>3243.149902</td>\n",
       "      <td>3328.500000</td>\n",
       "      <td>3749800</td>\n",
       "      <td>AMZN</td>\n",
       "    </tr>\n",
       "    <tr>\n",
       "      <th>2</th>\n",
       "      <td>2021-01-26</td>\n",
       "      <td>3326.129883</td>\n",
       "      <td>3326.129883</td>\n",
       "      <td>3338.000000</td>\n",
       "      <td>3282.870117</td>\n",
       "      <td>3296.360107</td>\n",
       "      <td>2955200</td>\n",
       "      <td>AMZN</td>\n",
       "    </tr>\n",
       "  </tbody>\n",
       "</table>\n",
       "</div>"
      ],
      "text/plain": [
       "        Date    Adj Close        Close         High          Low         Open  \\\n",
       "0 2021-01-22  3292.229980  3292.229980  3321.909912  3283.159912  3304.310059   \n",
       "1 2021-01-25  3294.000000  3294.000000  3363.889893  3243.149902  3328.500000   \n",
       "2 2021-01-26  3326.129883  3326.129883  3338.000000  3282.870117  3296.360107   \n",
       "\n",
       "    Volume Ticker  \n",
       "0  2821900   AMZN  \n",
       "1  3749800   AMZN  \n",
       "2  2955200   AMZN  "
      ]
     },
     "execution_count": 9,
     "metadata": {},
     "output_type": "execute_result"
    }
   ],
   "source": [
    "data[\"AMZN\"].reset_index(level=0)[0:3]"
   ]
  },
  {
   "cell_type": "markdown",
   "id": "485c95d8",
   "metadata": {},
   "source": [
    "##### Convert the dataframe to an array of dictionaries "
   ]
  },
  {
   "cell_type": "code",
   "execution_count": 10,
   "id": "84f2c9b0",
   "metadata": {},
   "outputs": [
    {
     "data": {
      "text/plain": [
       "[{'Date': Timestamp('2021-01-22 00:00:00'),\n",
       "  'Adj Close': 3292.22998046875,\n",
       "  'Close': 3292.22998046875,\n",
       "  'High': 3321.909912109375,\n",
       "  'Low': 3283.159912109375,\n",
       "  'Open': 3304.31005859375,\n",
       "  'Volume': 2821900,\n",
       "  'Ticker': 'AMZN'},\n",
       " {'Date': Timestamp('2021-01-25 00:00:00'),\n",
       "  'Adj Close': 3294.0,\n",
       "  'Close': 3294.0,\n",
       "  'High': 3363.889892578125,\n",
       "  'Low': 3243.14990234375,\n",
       "  'Open': 3328.5,\n",
       "  'Volume': 3749800,\n",
       "  'Ticker': 'AMZN'}]"
      ]
     },
     "execution_count": 10,
     "metadata": {},
     "output_type": "execute_result"
    }
   ],
   "source": [
    "data[\"AMZN\"].reset_index(level=0).to_dict('records')[0:2]"
   ]
  },
  {
   "cell_type": "markdown",
   "id": "f7e37292",
   "metadata": {},
   "source": [
    "### Connect To MongoDB instance"
   ]
  },
  {
   "cell_type": "code",
   "execution_count": 11,
   "id": "7aaae524",
   "metadata": {},
   "outputs": [],
   "source": [
    "mongodb_uri = \"mongodb://localhost:27017/\"\n",
    "db_name = \"advanced_features\""
   ]
  },
  {
   "cell_type": "code",
   "execution_count": 12,
   "id": "cbb879e9",
   "metadata": {},
   "outputs": [],
   "source": [
    "client = MongoClient(mongodb_uri)\n",
    "db = client[db_name]"
   ]
  },
  {
   "cell_type": "markdown",
   "id": "42842740",
   "metadata": {},
   "source": [
    "### Creating  A Time-Series Collection\n",
    "\n",
    "You could also use the compass app or mongoshell"
   ]
  },
  {
   "cell_type": "code",
   "execution_count": 13,
   "id": "fae693ac",
   "metadata": {},
   "outputs": [
    {
     "data": {
      "text/plain": [
       "Collection(Database(MongoClient(host=['localhost:27017'], document_class=dict, tz_aware=False, connect=True), 'advanced_features'), 'historical_stock_data')"
      ]
     },
     "execution_count": 13,
     "metadata": {},
     "output_type": "execute_result"
    }
   ],
   "source": [
    "db.create_collection(\"historical_stock_data\", timeseries= {\n",
    "        \"timeField\": \"Date\",\n",
    "        \"metaField\": \"Ticker\",\n",
    "        \"granularity\": \"hours\"\n",
    "        }, expireAfterSeconds= 60 * 60 * 24 * 365 ### 1 year \n",
    ")"
   ]
  },
  {
   "cell_type": "markdown",
   "id": "a3b680b8",
   "metadata": {},
   "source": [
    "### Inserting The Time-Series Stock Data"
   ]
  },
  {
   "cell_type": "markdown",
   "id": "c422f747",
   "metadata": {},
   "source": [
    "##### Download the data"
   ]
  },
  {
   "cell_type": "code",
   "execution_count": 14,
   "id": "673293f6",
   "metadata": {},
   "outputs": [
    {
     "name": "stdout",
     "output_type": "stream",
     "text": [
      "[*********************100%***********************]  5 of 5 completed\n"
     ]
    }
   ],
   "source": [
    "tickers = [\"AMZN\", \"FB\", \"GOOGL\", \"MSFT\", \"UDMY\"]\n",
    "data = yf.download(tickers=tickers, period=\"2y\", interval=\"1d\")"
   ]
  },
  {
   "cell_type": "markdown",
   "id": "f529e511",
   "metadata": {},
   "source": [
    "##### Process dataframe into list of dictionaries"
   ]
  },
  {
   "cell_type": "code",
   "execution_count": 15,
   "id": "44f0e47a",
   "metadata": {},
   "outputs": [],
   "source": [
    "stock_data_to_insert = []\n",
    "\n",
    "data.columns = data.columns.swaplevel(0,1)\n",
    "\n",
    "for ticker in tickers:\n",
    "    data.loc[: , (ticker, \"Ticker\")] = ticker\n",
    "    stock_data_to_insert.extend(data[ticker].reset_index(level=0).to_dict('records'))"
   ]
  },
  {
   "cell_type": "code",
   "execution_count": 16,
   "id": "0e7a2b4e",
   "metadata": {},
   "outputs": [
    {
     "data": {
      "text/plain": [
       "[{'Date': Timestamp('2020-01-22 00:00:00'),\n",
       "  'Adj Close': 1887.4599609375,\n",
       "  'Close': 1887.4599609375,\n",
       "  'High': 1902.5,\n",
       "  'Low': 1883.3399658203125,\n",
       "  'Open': 1896.0899658203125,\n",
       "  'Volume': 3216300,\n",
       "  'Ticker': 'AMZN'},\n",
       " {'Date': Timestamp('2020-01-23 00:00:00'),\n",
       "  'Adj Close': 1884.5799560546875,\n",
       "  'Close': 1884.5799560546875,\n",
       "  'High': 1889.97998046875,\n",
       "  'Low': 1872.760009765625,\n",
       "  'Open': 1885.1099853515625,\n",
       "  'Volume': 2484600,\n",
       "  'Ticker': 'AMZN'}]"
      ]
     },
     "execution_count": 16,
     "metadata": {},
     "output_type": "execute_result"
    }
   ],
   "source": [
    "stock_data_to_insert[0:2]"
   ]
  },
  {
   "cell_type": "markdown",
   "id": "89e28caa",
   "metadata": {},
   "source": [
    "##### Call insert_many() on time series collection"
   ]
  },
  {
   "cell_type": "code",
   "execution_count": 17,
   "id": "a1048c0f",
   "metadata": {},
   "outputs": [
    {
     "data": {
      "text/plain": [
       "<pymongo.results.InsertManyResult at 0x1c4c59c28c0>"
      ]
     },
     "execution_count": 17,
     "metadata": {},
     "output_type": "execute_result"
    }
   ],
   "source": [
    "db.historical_stock_data.insert_many(stock_data_to_insert)"
   ]
  },
  {
   "cell_type": "markdown",
   "id": "7d93a907",
   "metadata": {},
   "source": [
    "### Retrieving Time-Series Data"
   ]
  },
  {
   "cell_type": "code",
   "execution_count": 18,
   "id": "d35804d5",
   "metadata": {},
   "outputs": [
    {
     "data": {
      "text/plain": [
       "datetime.datetime(2021, 7, 23, 14, 36, 59, 909872)"
      ]
     },
     "execution_count": 18,
     "metadata": {},
     "output_type": "execute_result"
    }
   ],
   "source": [
    "gt_date = datetime.now() - relativedelta(months=6)\n",
    "gt_date"
   ]
  },
  {
   "cell_type": "code",
   "execution_count": 19,
   "id": "82a48727",
   "metadata": {},
   "outputs": [
    {
     "name": "stdout",
     "output_type": "stream",
     "text": [
      "[{'Date': datetime.datetime(2021, 7, 26, 0, 0), 'Ticker': 'FB', '_id': ObjectId('61edf4a8d729e28e8d60b435'), 'Adj Close': 372.4599914550781, 'Open': 369.5799865722656, 'Close': 372.4599914550781, 'High': 374.44000244140625, 'Low': 368.2200012207031, 'Volume': 14925200}, {'Date': datetime.datetime(2021, 7, 27, 0, 0), 'Ticker': 'FB', '_id': ObjectId('61edf4a8d729e28e8d60b436'), 'Adj Close': 367.80999755859375, 'Open': 371.9100036621094, 'Close': 367.80999755859375, 'High': 373.1499938964844, 'Low': 364.54998779296875, 'Volume': 15705400}]\n"
     ]
    }
   ],
   "source": [
    "ts_cursor = db.historical_stock_data.find({\"Ticker\": \"FB\", \"Date\": {\"$gte\": gt_date} })\n",
    "\n",
    "fb_price_data = []\n",
    "\n",
    "for entry in ts_cursor:\n",
    "    fb_price_data.append(entry)\n",
    "    \n",
    "print(fb_price_data[0:2])"
   ]
  },
  {
   "cell_type": "code",
   "execution_count": 20,
   "id": "21e7d133",
   "metadata": {},
   "outputs": [
    {
     "data": {
      "text/html": [
       "<div>\n",
       "<style scoped>\n",
       "    .dataframe tbody tr th:only-of-type {\n",
       "        vertical-align: middle;\n",
       "    }\n",
       "\n",
       "    .dataframe tbody tr th {\n",
       "        vertical-align: top;\n",
       "    }\n",
       "\n",
       "    .dataframe thead th {\n",
       "        text-align: right;\n",
       "    }\n",
       "</style>\n",
       "<table border=\"1\" class=\"dataframe\">\n",
       "  <thead>\n",
       "    <tr style=\"text-align: right;\">\n",
       "      <th></th>\n",
       "      <th>Ticker</th>\n",
       "      <th>Adj Close</th>\n",
       "      <th>Open</th>\n",
       "      <th>Close</th>\n",
       "      <th>High</th>\n",
       "      <th>Low</th>\n",
       "      <th>Volume</th>\n",
       "    </tr>\n",
       "    <tr>\n",
       "      <th>Date</th>\n",
       "      <th></th>\n",
       "      <th></th>\n",
       "      <th></th>\n",
       "      <th></th>\n",
       "      <th></th>\n",
       "      <th></th>\n",
       "      <th></th>\n",
       "    </tr>\n",
       "  </thead>\n",
       "  <tbody>\n",
       "    <tr>\n",
       "      <th>2021-07-26</th>\n",
       "      <td>FB</td>\n",
       "      <td>372.459991</td>\n",
       "      <td>369.579987</td>\n",
       "      <td>372.459991</td>\n",
       "      <td>374.440002</td>\n",
       "      <td>368.220001</td>\n",
       "      <td>14925200</td>\n",
       "    </tr>\n",
       "    <tr>\n",
       "      <th>2021-07-27</th>\n",
       "      <td>FB</td>\n",
       "      <td>367.809998</td>\n",
       "      <td>371.910004</td>\n",
       "      <td>367.809998</td>\n",
       "      <td>373.149994</td>\n",
       "      <td>364.549988</td>\n",
       "      <td>15705400</td>\n",
       "    </tr>\n",
       "    <tr>\n",
       "      <th>2021-07-28</th>\n",
       "      <td>FB</td>\n",
       "      <td>373.279999</td>\n",
       "      <td>374.559998</td>\n",
       "      <td>373.279999</td>\n",
       "      <td>377.549988</td>\n",
       "      <td>366.929993</td>\n",
       "      <td>29676900</td>\n",
       "    </tr>\n",
       "    <tr>\n",
       "      <th>2021-07-29</th>\n",
       "      <td>FB</td>\n",
       "      <td>358.320007</td>\n",
       "      <td>361.000000</td>\n",
       "      <td>358.320007</td>\n",
       "      <td>365.519989</td>\n",
       "      <td>356.739990</td>\n",
       "      <td>33413200</td>\n",
       "    </tr>\n",
       "    <tr>\n",
       "      <th>2021-07-30</th>\n",
       "      <td>FB</td>\n",
       "      <td>356.299988</td>\n",
       "      <td>354.000000</td>\n",
       "      <td>356.299988</td>\n",
       "      <td>360.730011</td>\n",
       "      <td>352.940002</td>\n",
       "      <td>15966700</td>\n",
       "    </tr>\n",
       "    <tr>\n",
       "      <th>...</th>\n",
       "      <td>...</td>\n",
       "      <td>...</td>\n",
       "      <td>...</td>\n",
       "      <td>...</td>\n",
       "      <td>...</td>\n",
       "      <td>...</td>\n",
       "      <td>...</td>\n",
       "    </tr>\n",
       "    <tr>\n",
       "      <th>2022-01-14</th>\n",
       "      <td>FB</td>\n",
       "      <td>331.899994</td>\n",
       "      <td>321.790009</td>\n",
       "      <td>331.899994</td>\n",
       "      <td>332.730011</td>\n",
       "      <td>321.209991</td>\n",
       "      <td>16853900</td>\n",
       "    </tr>\n",
       "    <tr>\n",
       "      <th>2022-01-18</th>\n",
       "      <td>FB</td>\n",
       "      <td>318.149994</td>\n",
       "      <td>323.290009</td>\n",
       "      <td>318.149994</td>\n",
       "      <td>324.209991</td>\n",
       "      <td>317.640015</td>\n",
       "      <td>22645600</td>\n",
       "    </tr>\n",
       "    <tr>\n",
       "      <th>2022-01-19</th>\n",
       "      <td>FB</td>\n",
       "      <td>319.589996</td>\n",
       "      <td>319.579987</td>\n",
       "      <td>319.589996</td>\n",
       "      <td>327.100006</td>\n",
       "      <td>319.329987</td>\n",
       "      <td>20814700</td>\n",
       "    </tr>\n",
       "    <tr>\n",
       "      <th>2022-01-20</th>\n",
       "      <td>FB</td>\n",
       "      <td>316.559998</td>\n",
       "      <td>323.899994</td>\n",
       "      <td>316.559998</td>\n",
       "      <td>327.820007</td>\n",
       "      <td>315.980011</td>\n",
       "      <td>16925000</td>\n",
       "    </tr>\n",
       "    <tr>\n",
       "      <th>2022-01-21</th>\n",
       "      <td>FB</td>\n",
       "      <td>303.170013</td>\n",
       "      <td>314.809998</td>\n",
       "      <td>303.170013</td>\n",
       "      <td>318.309998</td>\n",
       "      <td>303.040009</td>\n",
       "      <td>28661700</td>\n",
       "    </tr>\n",
       "  </tbody>\n",
       "</table>\n",
       "<p>126 rows × 7 columns</p>\n",
       "</div>"
      ],
      "text/plain": [
       "           Ticker   Adj Close        Open       Close        High         Low  \\\n",
       "Date                                                                            \n",
       "2021-07-26     FB  372.459991  369.579987  372.459991  374.440002  368.220001   \n",
       "2021-07-27     FB  367.809998  371.910004  367.809998  373.149994  364.549988   \n",
       "2021-07-28     FB  373.279999  374.559998  373.279999  377.549988  366.929993   \n",
       "2021-07-29     FB  358.320007  361.000000  358.320007  365.519989  356.739990   \n",
       "2021-07-30     FB  356.299988  354.000000  356.299988  360.730011  352.940002   \n",
       "...           ...         ...         ...         ...         ...         ...   \n",
       "2022-01-14     FB  331.899994  321.790009  331.899994  332.730011  321.209991   \n",
       "2022-01-18     FB  318.149994  323.290009  318.149994  324.209991  317.640015   \n",
       "2022-01-19     FB  319.589996  319.579987  319.589996  327.100006  319.329987   \n",
       "2022-01-20     FB  316.559998  323.899994  316.559998  327.820007  315.980011   \n",
       "2022-01-21     FB  303.170013  314.809998  303.170013  318.309998  303.040009   \n",
       "\n",
       "              Volume  \n",
       "Date                  \n",
       "2021-07-26  14925200  \n",
       "2021-07-27  15705400  \n",
       "2021-07-28  29676900  \n",
       "2021-07-29  33413200  \n",
       "2021-07-30  15966700  \n",
       "...              ...  \n",
       "2022-01-14  16853900  \n",
       "2022-01-18  22645600  \n",
       "2022-01-19  20814700  \n",
       "2022-01-20  16925000  \n",
       "2022-01-21  28661700  \n",
       "\n",
       "[126 rows x 7 columns]"
      ]
     },
     "execution_count": 20,
     "metadata": {},
     "output_type": "execute_result"
    }
   ],
   "source": [
    "read_in_data = pandas.DataFrame(fb_price_data)\n",
    "read_in_data = read_in_data.set_index(\"Date\")\n",
    "read_in_data = read_in_data.drop(\"_id\", axis=1)\n",
    "\n",
    "read_in_data"
   ]
  },
  {
   "cell_type": "code",
   "execution_count": null,
   "id": "fd92ec33",
   "metadata": {},
   "outputs": [],
   "source": []
  }
 ],
 "metadata": {
  "kernelspec": {
   "display_name": "Python 3 (ipykernel)",
   "language": "python",
   "name": "python3"
  },
  "language_info": {
   "codemirror_mode": {
    "name": "ipython",
    "version": 3
   },
   "file_extension": ".py",
   "mimetype": "text/x-python",
   "name": "python",
   "nbconvert_exporter": "python",
   "pygments_lexer": "ipython3",
   "version": "3.8.11"
  }
 },
 "nbformat": 4,
 "nbformat_minor": 5
}

{
 "cells": [
  {
   "cell_type": "markdown",
   "id": "d71b19e1",
   "metadata": {},
   "source": [
    "### Install Mongodb on windows\n",
    "* go to mongodb download page\n",
    "  + https://www.mongodb.com/try/download/community\n",
    "  + select windows and msi\n",
    "* install the .msi file\n",
    "* do a complete installation\n",
    "* uncheck 'install MongoD as a service' so that we don't have to run it every time we start the computer\n",
    "* select to install mongodb compass as a GUI interface to manage Mongodb\n",
    "* install and accept privacy settings for compass\n",
    "\n",
    "### Install anaconda on windows\n",
    "* install anoconda on windows \n",
    "* uncheck 'Add Anaconda3 to my PATH environment variable'\n",
    "* uncheck 'Anaconda Individual Edition Tutorial'\n",
    "* finish the installation\n",
    "* open anaconda prompt and type                     \n",
    "`conda create --name mongodb_py python=3.8 numpy pandas pymongo jupyter pip`\n",
    "`conda activate mongodb_py`\n",
    "`pip install motor`\n",
    "\n",
    "* show all the packages installed by `conda list`\n",
    "* go to Jupyter notebook by `jupyter notebook`\n",
    "\n",
    "### Start MongoDB server and start it\n",
    "* set up Mongodb folder for MongoDB to store files and data, then \n",
    "  + `./mongodbd --dbPath` where dbPath specify the folder\n",
    "  + or config the path in the bin\\config file\n",
    "  + or set up the folder as C:\\data\\db\n",
    "\n",
    "* go to C:\\Program Files\\MongoDB\\Server\\5.0 (or any version number installed)\\bin\n",
    "* hold shift key and right click the mongod to open a powershell \n",
    "* execute the mongod.exe \n",
    "* start mongodb compass and input mongodb://localhost:27017/\n",
    "\n",
    "### stop server\n",
    "* go to the shell window corresponding to Monogdb execution and type ctrl C"
   ]
  },
  {
   "cell_type": "code",
   "execution_count": 1,
   "id": "af282ee1",
   "metadata": {},
   "outputs": [],
   "source": [
    "import numpy\n",
    "import pymongo\n",
    "import motor"
   ]
  },
  {
   "cell_type": "code",
   "execution_count": null,
   "id": "4a4cedb0",
   "metadata": {},
   "outputs": [],
   "source": []
  }
 ],
 "metadata": {
  "kernelspec": {
   "display_name": "Python 3 (ipykernel)",
   "language": "python",
   "name": "python3"
  },
  "language_info": {
   "codemirror_mode": {
    "name": "ipython",
    "version": 3
   },
   "file_extension": ".py",
   "mimetype": "text/x-python",
   "name": "python",
   "nbconvert_exporter": "python",
   "pygments_lexer": "ipython3",
   "version": "3.8.15"
  }
 },
 "nbformat": 4,
 "nbformat_minor": 5
}

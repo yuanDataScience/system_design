{
 "cells": [
  {
   "cell_type": "code",
   "execution_count": null,
   "id": "5efa0fe8",
   "metadata": {},
   "outputs": [],
   "source": [
    "# import json file to mongodb database collection\n",
    "!mongoimport.exe --db performance_db --collection zips --uri \"mongodb://localhost:27017/\" --file C:\\Users\\HuangY07\\Downloads\\zips.json"
   ]
  },
  {
   "cell_type": "code",
   "execution_count": null,
   "id": "06b8d6d4",
   "metadata": {},
   "outputs": [],
   "source": [
    "# output collection to a json file\n",
    "!mongoexport.exe --db my_store --collection products --uri \"mongodb://localhost:27017/\" --type json --out C:\\Users\\HuangY07\\Downloads\\products.json"
   ]
  },
  {
   "cell_type": "markdown",
   "id": "37ce29cb",
   "metadata": {},
   "source": [
    "using mongodump to output db to .dump and recover\n",
    "1. export database to a dump folder\n",
    "```shell\n",
    "mongodump.exe --db my_store --collection products \n",
    "--uri \"mongodb://localhost:27017/\"  --out C:\\Users\\HuangY07\\Downloads\\products.dump\n",
    "```\n",
    "a folder called \"products.dump\" will be created with dump and meta data files\n",
    "\n",
    "2. restore database from the dump folder\n",
    "```shell\n",
    "mongorestore.exe --uri \"mongodb://localhost:27017/\" C:\\Users\\HuangY07\\Downloads\\products.dump\n",
    "```\n",
    "\n",
    "\n"
   ]
  }
 ],
 "metadata": {
  "kernelspec": {
   "display_name": "Python 3 (ipykernel)",
   "language": "python",
   "name": "python3"
  },
  "language_info": {
   "codemirror_mode": {
    "name": "ipython",
    "version": 3
   },
   "file_extension": ".py",
   "mimetype": "text/x-python",
   "name": "python",
   "nbconvert_exporter": "python",
   "pygments_lexer": "ipython3",
   "version": "3.8.15"
  }
 },
 "nbformat": 4,
 "nbformat_minor": 5
}

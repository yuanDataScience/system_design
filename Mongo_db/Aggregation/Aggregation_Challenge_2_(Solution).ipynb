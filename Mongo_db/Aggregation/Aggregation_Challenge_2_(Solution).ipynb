{
 "cells": [
  {
   "cell_type": "markdown",
   "id": "ccfcc3b3",
   "metadata": {},
   "source": [
    "# Aggregation Mini Challenge 2\n",
    "\n",
    "Apply what you have learned so far about the aggregation framework to try solve this mini challenge"
   ]
  },
  {
   "cell_type": "code",
   "execution_count": 1,
   "id": "a5bc05db",
   "metadata": {},
   "outputs": [],
   "source": [
    "# Import pymongo dependencies\n",
    "from pymongo import MongoClient"
   ]
  },
  {
   "cell_type": "code",
   "execution_count": 2,
   "id": "82db96de",
   "metadata": {},
   "outputs": [],
   "source": [
    "# Set up your MongoClient and database variable\n",
    "client = MongoClient(\"mongodb://localhost:27017/\")\n",
    "db = client[\"aggregation_test\"]"
   ]
  },
  {
   "cell_type": "code",
   "execution_count": 3,
   "id": "072bba0e",
   "metadata": {},
   "outputs": [],
   "source": [
    "# Function which prints out all the results of a cursor\n",
    "def print_cursor(cursor):\n",
    "    for document in cursor:\n",
    "        print(document, end=\"\\n\\n\")"
   ]
  },
  {
   "cell_type": "code",
   "execution_count": 4,
   "id": "5c4eaeb3",
   "metadata": {},
   "outputs": [],
   "source": [
    "### Challenge Part 1:\n",
    "###   Find the top sellers (by user name) based on the quantity of all prodcuts they have sold from the 'orders' collection.\n",
    "###   Sort the sellers from highest to lowest quantity sold, and output the results to a new collection called 'top_sellers'\n",
    "###\n",
    "### Example entry from new collection: \n",
    "### {\"_id\": ObjectId(...), \"seller_name\": \"Sarah\", \"num_items_sold\": 7}\n",
    "\n",
    "out_cursor = db.orders.aggregate([\n",
    "    {\"$unwind\": \"$items\"},\n",
    "    {\"$group\": {\"_id\": \"$items.product_id\", \"total_quantity\": {\"$sum\": \"$items.quantity\"}}},\n",
    "    {\"$lookup\": \n",
    "        {\"from\": \"products\",\n",
    "         \"localField\": \"_id\",\n",
    "         \"foreignField\": \"_id\",\n",
    "         \"as\": \"products\"\n",
    "    }},\n",
    "    {\"$group\": {\"_id\": {\"$first\": \"$products.seller_id\"}, \"num_items_sold\": {\"$sum\": \"$total_quantity\"}}},\n",
    "    {\"$lookup\": \n",
    "        {\"from\": \"users\",\n",
    "         \"localField\": \"_id\",\n",
    "         \"foreignField\": \"_id\",\n",
    "         \"as\": \"sellers\"\n",
    "    }},\n",
    "    {\"$project\": {\"seller_name\": {\"$first\": \"$sellers.name\"}, \"num_items_sold\": 1}},\n",
    "    {\"$sort\": {\"num_items_sold\": -1}},\n",
    "    {\"$out\": {\"db\": \"aggregation_test\",\"coll\": \"top_sellers\"}} \n",
    "])"
   ]
  },
  {
   "cell_type": "code",
   "execution_count": 5,
   "id": "5bc3fe75",
   "metadata": {},
   "outputs": [
    {
     "name": "stdout",
     "output_type": "stream",
     "text": [
      "{'_id': ObjectId('61b55563182b471298c07c2f'), 'num_items_sold': 7, 'seller_name': 'Sarah'}\n",
      "\n",
      "{'_id': ObjectId('61b55563182b471298c07c30'), 'num_items_sold': 5, 'seller_name': 'Bob'}\n",
      "\n",
      "{'_id': ObjectId('61b55563182b471298c07c33'), 'num_items_sold': 2, 'seller_name': 'Jessica'}\n",
      "\n",
      "{'_id': ObjectId('61b55563182b471298c07c32'), 'num_items_sold': 1, 'seller_name': 'Lisa'}\n",
      "\n"
     ]
    }
   ],
   "source": [
    "# Grab the results from your database\n",
    "# print_cursor(out_cursor)\n",
    "top_sellers_cursor = db.top_sellers.find({})\n",
    "print_cursor(top_sellers_cursor)"
   ]
  },
  {
   "cell_type": "code",
   "execution_count": 11,
   "id": "ff0a980a",
   "metadata": {},
   "outputs": [],
   "source": [
    "### Challenge Part 2:\n",
    "###   You want to reward your sellers with an extra day of a premium membership for each item they've sold. Add\n",
    "###   an attribute called 'premium_exp_date' to the entries in the 'users' collection which contains the date their \n",
    "###   premium membership will expire. Currently no users have a premium membership, so use today as the start date\n",
    "###   from their premium membership, but make sure your pipeline is able to add the extra days of premium to an\n",
    "###   existing date if one existed. \n",
    "###\n",
    "### Example entry from users collection: \n",
    "###   {'_id': ObjectId(...), 'name': 'Sarah', 'premium_exp_date': datetime.datetime(2021, 12, 24, 4, 2, 4, 146000)}\n",
    "\n",
    "merge_cursor = db.orders.aggregate([\n",
    "    {\"$unwind\": \"$items\"},\n",
    "    {\"$group\": {\"_id\": \"$items.product_id\", \"total_quantity\": {\"$sum\": \"$items.quantity\"}}},\n",
    "    {\"$lookup\": \n",
    "        {\"from\": \"products\",\n",
    "         \"localField\": \"_id\",\n",
    "         \"foreignField\": \"_id\",\n",
    "         \"as\": \"products\"\n",
    "    }},\n",
    "    {\"$group\": {\"_id\": {\"$first\": \"$products.seller_id\"}, \"num_items_sold\": {\"$sum\": \"$total_quantity\"}}},\n",
    "    {\"$lookup\": \n",
    "        {\"from\": \"users\",\n",
    "         \"localField\": \"_id\",\n",
    "         \"foreignField\": \"_id\",\n",
    "         \"as\": \"sellers\"\n",
    "    }},\n",
    "    {\"$project\": {\"_id\": 1, \"premium_exp_date\": {\n",
    "        \"$switch\": { \"branches\": [\n",
    "            {\"case\": {\"$eq\": [{\"$type\" : {\"$first\": \"$sellers.premium_exp_date\"}}, 'missing']}, \n",
    "             \"then\": {\"$dateAdd\": {\"startDate\": \"$$NOW\", \"unit\": \"day\", \"amount\": \"$num_items_sold\"}}},\n",
    "            {\"case\": {\"$lte\": [{\"$first\": \"$sellers.premium_exp_date\"}, \"$$NOW\"]}, \n",
    "             \"then\": {\"$dateAdd\": {\"startDate\": \"$$NOW\", \"unit\": \"day\", \"amount\": \"$num_items_sold\"}}},\n",
    "            {\"case\": {\"$gt\": [{\"$first\": \"$sellers.premium_exp_date\"}, \"$$NOW\"]}, \n",
    "             \"then\": {\"$dateAdd\": {\"startDate\": {\"$first\": \"$sellers.premium_exp_date\"}, \"unit\": \"day\", \"amount\": \"$num_items_sold\"}}}\n",
    "            ]\n",
    "        }\n",
    "    } }},\n",
    "    {\"$merge\": {\n",
    "        \"into\": {\"db\": \"aggregation_test\",\"coll\": \"users\"},\n",
    "        \"on\": \"_id\", # must specify a indexed attribute\n",
    "        \"whenMatched\": \"merge\",\n",
    "        \"whenNotMatched\":  \"fail\"\n",
    "   }} \n",
    "])\n"
   ]
  },
  {
   "cell_type": "code",
   "execution_count": 12,
   "id": "47d98d2d",
   "metadata": {},
   "outputs": [
    {
     "name": "stdout",
     "output_type": "stream",
     "text": [
      "{'_id': ObjectId('61b55563182b471298c07c2f'), 'name': 'Sarah', 'premium_exp_date': datetime.datetime(2021, 12, 24, 21, 27, 19, 783000)}\n",
      "\n",
      "{'_id': ObjectId('61b55563182b471298c07c30'), 'name': 'Bob', 'premium_exp_date': datetime.datetime(2021, 12, 22, 21, 27, 19, 783000)}\n",
      "\n",
      "{'_id': ObjectId('61b55563182b471298c07c31'), 'name': 'Jose'}\n",
      "\n",
      "{'_id': ObjectId('61b55563182b471298c07c32'), 'name': 'Lisa', 'premium_exp_date': datetime.datetime(2021, 12, 18, 21, 27, 19, 783000)}\n",
      "\n",
      "{'_id': ObjectId('61b55563182b471298c07c33'), 'name': 'Jessica', 'premium_exp_date': datetime.datetime(2021, 12, 19, 21, 27, 19, 783000)}\n",
      "\n",
      "{'_id': ObjectId('61b55563182b471298c07c34'), 'name': 'Tina'}\n",
      "\n"
     ]
    }
   ],
   "source": [
    "# Print out your results\n",
    "# print_cursor(merge_cursor)\n",
    "users_cursor = db.users.find({})\n",
    "print_cursor(users_cursor)"
   ]
  },
  {
   "cell_type": "code",
   "execution_count": 8,
   "id": "40fbed27",
   "metadata": {},
   "outputs": [
    {
     "data": {
      "text/plain": [
       "<pymongo.results.UpdateResult at 0x24c14aa5300>"
      ]
     },
     "execution_count": 8,
     "metadata": {},
     "output_type": "execute_result"
    }
   ],
   "source": [
    "db.users.update_many({}, {\"$unset\": {\"premium_exp_date\": True}})"
   ]
  }
 ],
 "metadata": {
  "kernelspec": {
   "display_name": "Python 3 (ipykernel)",
   "language": "python",
   "name": "python3"
  },
  "language_info": {
   "codemirror_mode": {
    "name": "ipython",
    "version": 3
   },
   "file_extension": ".py",
   "mimetype": "text/x-python",
   "name": "python",
   "nbconvert_exporter": "python",
   "pygments_lexer": "ipython3",
   "version": "3.8.11"
  }
 },
 "nbformat": 4,
 "nbformat_minor": 5
}

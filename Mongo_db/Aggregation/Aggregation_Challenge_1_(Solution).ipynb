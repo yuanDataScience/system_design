{
 "cells": [
  {
   "cell_type": "markdown",
   "id": "08fb35bc",
   "metadata": {},
   "source": [
    "# Aggregation Mini Challenge 1\n",
    "\n",
    "Apply what you have learned so far about the aggregation framework to try solve this challenge"
   ]
  },
  {
   "cell_type": "code",
   "execution_count": 1,
   "id": "9f9be2d5",
   "metadata": {},
   "outputs": [],
   "source": [
    "# Import pymongo dependencies\n",
    "from pymongo import MongoClient"
   ]
  },
  {
   "cell_type": "code",
   "execution_count": 2,
   "id": "090adc60",
   "metadata": {},
   "outputs": [],
   "source": [
    "# Set up your MongoClient and database variable\n",
    "client = MongoClient(\"mongodb://localhost:27017/\")\n",
    "db = client[\"aggregation_test\"]"
   ]
  },
  {
   "cell_type": "code",
   "execution_count": 3,
   "id": "cabf984e",
   "metadata": {},
   "outputs": [],
   "source": [
    "# Function which prints out all the results of a cursor\n",
    "def print_cursor(cursor):\n",
    "    for document in cursor:\n",
    "        print(document, end=\"\\n\\n\")"
   ]
  },
  {
   "cell_type": "code",
   "execution_count": 4,
   "id": "cb1cf882",
   "metadata": {},
   "outputs": [],
   "source": [
    "### Challenge Part 1:\n",
    "###   Return entries of each unique 'seller_id' associated with the  \n",
    "###   'prodcuts' collection that have a \"Beauty\" tag. These entries should \n",
    "###   have an attribute called 'beauty_product_seller_id' which is set \n",
    "###   equal to the related 'seller_id' of the product.\n",
    "###\n",
    "### Example entry from cursor: \n",
    "###  {'beauty_product_seller_id': ObjectId(...)}\n",
    "\n",
    "challenge_cursor_1 = db.products.aggregate([\n",
    "    {\"$match\": {\"tags\": \"Beauty\"}},\n",
    "    {\"$group\": {\"_id\": \"$seller_id\"}},\n",
    "    {\"$project\": {\"_id\": 0, \"beauty_product_seller_id\": \"$_id\"}}\n",
    "])"
   ]
  },
  {
   "cell_type": "code",
   "execution_count": 5,
   "id": "10b8af5e",
   "metadata": {},
   "outputs": [
    {
     "name": "stdout",
     "output_type": "stream",
     "text": [
      "{'beauty_product_seller_id': ObjectId('61b55563182b471298c07c2f')}\n",
      "\n",
      "{'beauty_product_seller_id': ObjectId('61b55563182b471298c07c32')}\n",
      "\n",
      "{'beauty_product_seller_id': ObjectId('61b55563182b471298c07c33')}\n",
      "\n"
     ]
    }
   ],
   "source": [
    "# Print out your results\n",
    "print_cursor(challenge_cursor_1)"
   ]
  },
  {
   "cell_type": "code",
   "execution_count": 6,
   "id": "c5adaea1",
   "metadata": {},
   "outputs": [],
   "source": [
    "### Challenge Part 2:\n",
    "###   Get an array of 'seller_id' attributes from products for each avaiable\n",
    "###   'tag' entry. Result entries should include a 'tag' attribute and a\n",
    "###   'seller_ids' attribute which is an array with all the 'seller_id'.\n",
    "###  \n",
    "### Example entry from cursor: \n",
    "### {'tag': 'Kitchen',\"seller_ids\": [ObjectId(...)]}\n",
    "\n",
    "challenge_cursor_2 = db.products.aggregate([\n",
    "    {\"$unwind\": \"$tags\"},\n",
    "    {\"$group\": {\"_id\": \"$tags\", 'seller_ids': {\n",
    "        \"$addToSet\": \"$seller_id\"\n",
    "    }}},\n",
    "    {\"$project\": {\"_id\": 0, \"tag\": \"$_id\", \"seller_ids\": \"$seller_ids\"}}\n",
    "])"
   ]
  },
  {
   "cell_type": "code",
   "execution_count": 7,
   "id": "ce1ff79f",
   "metadata": {},
   "outputs": [
    {
     "name": "stdout",
     "output_type": "stream",
     "text": [
      "{'tag': 'Home', 'seller_ids': [ObjectId('61b55563182b471298c07c2f')]}\n",
      "\n",
      "{'tag': 'School', 'seller_ids': [ObjectId('61b55563182b471298c07c30')]}\n",
      "\n",
      "{'tag': 'Kitchen', 'seller_ids': [ObjectId('61b55563182b471298c07c2f')]}\n",
      "\n",
      "{'tag': 'Beauty', 'seller_ids': [ObjectId('61b55563182b471298c07c33'), ObjectId('61b55563182b471298c07c2f'), ObjectId('61b55563182b471298c07c32')]}\n",
      "\n",
      "{'tag': 'Office', 'seller_ids': [ObjectId('61b55563182b471298c07c30')]}\n",
      "\n"
     ]
    }
   ],
   "source": [
    "# Print out your results\n",
    "print_cursor(challenge_cursor_2)"
   ]
  },
  {
   "cell_type": "code",
   "execution_count": 8,
   "id": "36f889cc",
   "metadata": {},
   "outputs": [],
   "source": [
    "### Challenge Part 3:\n",
    "###   Display the number of unique seller ids there are for each availble \n",
    "###   'tag' for 'prodcuts'. Result entries should include a 'tag' attribute \n",
    "###   and a 'num_sellers' attribute which is a integer. Sort by 'tag' name.\n",
    "###  \n",
    "### Example entry from cursor: \n",
    "### {'tag': 'Kitchen',\"num_sellers\": 1}\n",
    "\n",
    "challenge_cursor_3 = db.products.aggregate([\n",
    "    {\"$unwind\": \"$tags\"},\n",
    "    {\"$group\": {\"_id\": \"$tags\", 'seller_ids': {\n",
    "        \"$addToSet\": \"$seller_id\"\n",
    "    }}},\n",
    "    {\"$project\": {\"_id\": 0, \"tag\": \"$_id\", \"num_sellers\": {\"$size\": \"$seller_ids\"}}},\n",
    "    {\"$sort\": {\"tag\": 1}}\n",
    "])"
   ]
  },
  {
   "cell_type": "code",
   "execution_count": 9,
   "id": "fb225e4a",
   "metadata": {},
   "outputs": [
    {
     "name": "stdout",
     "output_type": "stream",
     "text": [
      "{'tag': 'Beauty', 'num_sellers': 3}\n",
      "\n",
      "{'tag': 'Home', 'num_sellers': 1}\n",
      "\n",
      "{'tag': 'Kitchen', 'num_sellers': 1}\n",
      "\n",
      "{'tag': 'Office', 'num_sellers': 1}\n",
      "\n",
      "{'tag': 'School', 'num_sellers': 1}\n",
      "\n"
     ]
    }
   ],
   "source": [
    "# Print out your results\n",
    "print_cursor(challenge_cursor_3)"
   ]
  }
 ],
 "metadata": {
  "kernelspec": {
   "display_name": "Python 3 (ipykernel)",
   "language": "python",
   "name": "python3"
  },
  "language_info": {
   "codemirror_mode": {
    "name": "ipython",
    "version": 3
   },
   "file_extension": ".py",
   "mimetype": "text/x-python",
   "name": "python",
   "nbconvert_exporter": "python",
   "pygments_lexer": "ipython3",
   "version": "3.8.11"
  }
 },
 "nbformat": 4,
 "nbformat_minor": 5
}

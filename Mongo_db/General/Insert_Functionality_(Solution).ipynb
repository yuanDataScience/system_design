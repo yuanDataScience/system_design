{
 "cells": [
  {
   "cell_type": "markdown",
   "id": "c072c786",
   "metadata": {},
   "source": [
    "# MongoDB Insert Functionality\n",
    "\n",
    "Go over how to use the various insert functions of the pymongo module. "
   ]
  },
  {
   "cell_type": "markdown",
   "id": "7e1e03d8",
   "metadata": {},
   "source": [
    "### Import pymongo, and MongoClient"
   ]
  },
  {
   "cell_type": "code",
   "execution_count": null,
   "id": "06ed17e9",
   "metadata": {},
   "outputs": [],
   "source": [
    "import pymongo\n",
    "from pymongo import MongoClient"
   ]
  },
  {
   "cell_type": "markdown",
   "id": "c71dc5dc",
   "metadata": {},
   "source": [
    "### Initalize A Client, Connect To DB, Speicfy Collection"
   ]
  },
  {
   "cell_type": "code",
   "execution_count": null,
   "id": "2c6054da",
   "metadata": {},
   "outputs": [],
   "source": [
    "client = MongoClient(\"mongodb://localhost:27017/\")\n",
    "db = client[\"my_store\"]\n",
    "products_col = db[\"products\"]"
   ]
  },
  {
   "cell_type": "markdown",
   "id": "d3ff25aa",
   "metadata": {},
   "source": [
    "### insert()\n",
    "*Deprecated, Do Not Use In Your Applications*"
   ]
  },
  {
   "cell_type": "code",
   "execution_count": null,
   "id": "95620006",
   "metadata": {},
   "outputs": [],
   "source": [
    "bag = {\"name\": \"Bag\", \"price\": 23.78}"
   ]
  },
  {
   "cell_type": "code",
   "execution_count": null,
   "id": "a423335b",
   "metadata": {},
   "outputs": [],
   "source": [
    "insert_res = products_col.insert(bag)\n",
    "insert_res"
   ]
  },
  {
   "cell_type": "code",
   "execution_count": null,
   "id": "73745dc3",
   "metadata": {},
   "outputs": [],
   "source": [
    "phone = {\"name\": \"iPhone 11\", \"price\": 800}\n",
    "notebook = {\"name\": \"Notebook\", \"price\": 4.99}"
   ]
  },
  {
   "cell_type": "code",
   "execution_count": null,
   "id": "56565a31",
   "metadata": {},
   "outputs": [],
   "source": [
    "insert_res_multiple = products_col.insert([phone, notebook])\n",
    "insert_res_multiple"
   ]
  },
  {
   "cell_type": "markdown",
   "id": "45033572",
   "metadata": {},
   "source": [
    "### insert_one()"
   ]
  },
  {
   "cell_type": "code",
   "execution_count": null,
   "id": "5836fa5d",
   "metadata": {},
   "outputs": [],
   "source": [
    "pens = {\"name\": \"Pens\", \"price\": 9.58}"
   ]
  },
  {
   "cell_type": "code",
   "execution_count": null,
   "id": "0a703c04",
   "metadata": {},
   "outputs": [],
   "source": [
    "insert_one_res = products_col.insert_one(pens)\n",
    "insert_one_res"
   ]
  },
  {
   "cell_type": "code",
   "execution_count": null,
   "id": "1a06b1eb",
   "metadata": {},
   "outputs": [],
   "source": [
    "print(insert_one_res.acknowledged)\n",
    "print(insert_one_res.inserted_id)"
   ]
  },
  {
   "cell_type": "markdown",
   "id": "e48a5815",
   "metadata": {},
   "source": [
    "### insert_many()"
   ]
  },
  {
   "cell_type": "code",
   "execution_count": null,
   "id": "3bac85d6",
   "metadata": {},
   "outputs": [],
   "source": [
    "water_bottle = {\"name\": \"Water Bottle\", \"price\": 14.85}\n",
    "jar = {\"name\": \"Jar\", \"price\": 4.99}"
   ]
  },
  {
   "cell_type": "code",
   "execution_count": null,
   "id": "a731cffe",
   "metadata": {},
   "outputs": [],
   "source": [
    "insert_many_res = products_col.insert_many([water_bottle, jar])\n",
    "insert_many_res"
   ]
  },
  {
   "cell_type": "code",
   "execution_count": null,
   "id": "10414449",
   "metadata": {},
   "outputs": [],
   "source": [
    "print(insert_many_res.acknowledged)\n",
    "print(insert_many_res.inserted_ids)"
   ]
  },
  {
   "cell_type": "markdown",
   "id": "b8527479",
   "metadata": {},
   "source": [
    "### Error Handling When Inserting"
   ]
  },
  {
   "cell_type": "code",
   "execution_count": null,
   "id": "66619abe",
   "metadata": {},
   "outputs": [],
   "source": [
    "# Produces a DuplicateKeyError\n",
    "products_col.insert_one(pens)"
   ]
  },
  {
   "cell_type": "code",
   "execution_count": null,
   "id": "4e02e226",
   "metadata": {},
   "outputs": [],
   "source": [
    "pens2 = {\"name\": \"Pens\", \"price\": 9.58}"
   ]
  },
  {
   "cell_type": "code",
   "execution_count": null,
   "id": "e732468a",
   "metadata": {},
   "outputs": [],
   "source": [
    "products_col.insert_one(pens2)"
   ]
  },
  {
   "cell_type": "code",
   "execution_count": null,
   "id": "2de4e6e9",
   "metadata": {},
   "outputs": [],
   "source": [
    "# Produces a DuplicateKeyError\n",
    "pens[\"price\"] = 10.00\n",
    "products_col.insert_one(pens)"
   ]
  },
  {
   "cell_type": "code",
   "execution_count": null,
   "id": "4e687ac7",
   "metadata": {},
   "outputs": [],
   "source": [
    "# Produces a BulkWriteError\n",
    "products_col.insert_many([water_bottle, jar])"
   ]
  },
  {
   "cell_type": "code",
   "execution_count": null,
   "id": "83e143ea",
   "metadata": {},
   "outputs": [],
   "source": [
    "try:\n",
    "    products_col.insert_one(pens)\n",
    "except pymongo.errors.DuplicateKeyError:\n",
    "    print(\"Duplicate Entry Detected\")"
   ]
  },
  {
   "cell_type": "code",
   "execution_count": null,
   "id": "8e2718f7",
   "metadata": {},
   "outputs": [],
   "source": [
    "try:\n",
    "    products_col.insert_many([water_bottle, jar])\n",
    "except pymongo.errors.BulkWriteError:\n",
    "    print(\"Bulk Write Error Detected\")"
   ]
  },
  {
   "cell_type": "markdown",
   "id": "47661fe7",
   "metadata": {},
   "source": [
    "### insert_many() - Partial Fail Interaction"
   ]
  },
  {
   "cell_type": "code",
   "execution_count": null,
   "id": "20bd3cbd",
   "metadata": {},
   "outputs": [],
   "source": [
    "mug = {\"name\": \"Mug\", \"price\": 12.99}"
   ]
  },
  {
   "cell_type": "code",
   "execution_count": null,
   "id": "0d9bb37d",
   "metadata": {},
   "outputs": [],
   "source": [
    "try:\n",
    "    products_col.insert_many([mug, jar])\n",
    "except pymongo.errors.BulkWriteError:\n",
    "    print(\"Bulk Write Error Detected\")"
   ]
  }
 ],
 "metadata": {
  "kernelspec": {
   "display_name": "Python 3 (ipykernel)",
   "language": "python",
   "name": "python3"
  },
  "language_info": {
   "codemirror_mode": {
    "name": "ipython",
    "version": 3
   },
   "file_extension": ".py",
   "mimetype": "text/x-python",
   "name": "python",
   "nbconvert_exporter": "python",
   "pygments_lexer": "ipython3",
   "version": "3.8.11"
  }
 },
 "nbformat": 4,
 "nbformat_minor": 5
}

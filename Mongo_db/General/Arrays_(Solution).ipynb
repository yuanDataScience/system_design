{
 "cells": [
  {
   "cell_type": "markdown",
   "id": "82b79211",
   "metadata": {},
   "source": [
    "# Working With Arrays In MongoDB\n",
    "\n",
    "Go over some features which allow you to interact with the Array data in your entries"
   ]
  },
  {
   "cell_type": "code",
   "execution_count": 1,
   "id": "51e8b0ee",
   "metadata": {},
   "outputs": [],
   "source": [
    "from pymongo import MongoClient"
   ]
  },
  {
   "cell_type": "markdown",
   "id": "59d6f5d1",
   "metadata": {},
   "source": [
    "### Initalize A Client, Connect To DB"
   ]
  },
  {
   "cell_type": "code",
   "execution_count": 2,
   "id": "b6fb6675",
   "metadata": {},
   "outputs": [],
   "source": [
    "client = MongoClient(\"mongodb://localhost:27017/\" )\n",
    "db = client[\"my_store\"]"
   ]
  },
  {
   "cell_type": "markdown",
   "id": "3b7ff9be",
   "metadata": {},
   "source": [
    "### Print Entries From Cursor"
   ]
  },
  {
   "cell_type": "code",
   "execution_count": 3,
   "id": "fb611b3b",
   "metadata": {},
   "outputs": [],
   "source": [
    "def print_cursor(cursor_var):\n",
    "    for document in cursor_var:\n",
    "        print(document)\n",
    "        print()"
   ]
  },
  {
   "cell_type": "markdown",
   "id": "d8a52c99",
   "metadata": {},
   "source": [
    "### Insert New Entries"
   ]
  },
  {
   "cell_type": "code",
   "execution_count": 4,
   "id": "998d2d20",
   "metadata": {},
   "outputs": [
    {
     "data": {
      "text/plain": [
       "<pymongo.results.InsertManyResult at 0x1ff527a4400>"
      ]
     },
     "execution_count": 4,
     "metadata": {},
     "output_type": "execute_result"
    }
   ],
   "source": [
    "db.items.insert_many([\n",
    "    {\"name\": \"Bag\", \"departments\": [\"School\"], \"versions\": [\n",
    "        {\"color\": \"Black\", \"size\": \"small\", \"qty\": 5, \"price\": 17.79},\n",
    "        {\"color\": \"Red\", \"size\": \"small\", \"qty\": 3, \"price\": 18.23},\n",
    "        {\"color\": \"Green\", \"size\": \"small\", \"qty\": 5, \"price\": 20.03},\n",
    "        {\"color\": \"Black\", \"size\": \"large\", \"qty\": 1, \"price\": 41.23},\n",
    "        {\"color\": \"Red\", \"size\": \"large\", \"qty\": 10, \"price\": 46.82},\n",
    "        {\"color\": \"Green\", \"size\": \"large\", \"qty\": 7, \"price\": 45.43},\n",
    "    ]},\n",
    "    {\"name\": \"Mug\", \"departments\": [\"Home\", \"Kitchen\"], \"versions\": [\n",
    "        {\"color\": \"White\", \"size\": \"11 oz\", \"qty\": 14, \"price\": 14.79},\n",
    "        {\"color\": \"Blue\", \"size\": \"11 oz\", \"qty\": 23, \"price\": 15.23},\n",
    "        {\"color\": \"Green\", \"size\": \"11 oz\", \"qty\": 15, \"price\": 15.07},\n",
    "        {\"color\": \"White\", \"size\": \"15 oz\", \"qty\": 11, \"price\": 24.43},\n",
    "        {\"color\": \"Blue\", \"size\": \"15 oz\", \"qty\": 7, \"price\": 25.42},\n",
    "        {\"color\": \"Green\", \"size\": \"15 oz\", \"qty\": 10, \"price\": 25.83},\n",
    "    ]},\n",
    "    {\"name\": \"Pens\", \"departments\": [\"School\", \"Office\"], \"versions\": [\n",
    "        {\"color\": \"Black\", \"type\": \"10 Pack\", \"qty\": 40, \"price\": 14.79},\n",
    "        {\"color\": \"Red\", \"type\": \"10 Pack\", \"qty\": 13, \"price\": 15.23},\n",
    "        {\"color\": \"Blue\", \"type\": \"10 Pack\", \"qty\": 12, \"price\": 15.07}\n",
    "    ]}\n",
    "])"
   ]
  },
  {
   "cell_type": "code",
   "execution_count": 6,
   "id": "43abc933",
   "metadata": {},
   "outputs": [
    {
     "data": {
      "text/plain": [
       "<pymongo.results.InsertManyResult at 0x1ff52636e20>"
      ]
     },
     "execution_count": 6,
     "metadata": {},
     "output_type": "execute_result"
    }
   ],
   "source": [
    "db.items.insert_many([\n",
    "    {\"name\": \"Bag1_no_departments\", \"versions\": [\n",
    "        {\"color\": \"Black\", \"size\": \"small\", \"qty\": 5, \"price\": 17.79},\n",
    "        {\"color\": \"Red\", \"size\": \"small\", \"qty\": 3, \"price\": 18.23},\n",
    "        {\"color\": \"Green\", \"size\": \"small\", \"qty\": 5, \"price\": 20.03},\n",
    "        {\"color\": \"Black\", \"size\": \"large\", \"qty\": 1, \"price\": 41.23},\n",
    "        {\"color\": \"Red\", \"size\": \"large\", \"qty\": 10, \"price\": 46.82},\n",
    "        {\"color\": \"Green\", \"size\": \"large\", \"qty\": 7, \"price\": 45.43},\n",
    "    ]},\n",
    "    \n",
    "])"
   ]
  },
  {
   "cell_type": "markdown",
   "id": "821f64a2",
   "metadata": {},
   "source": [
    "### Searching For Data In Arrays"
   ]
  },
  {
   "cell_type": "code",
   "execution_count": 7,
   "id": "9b3149e7",
   "metadata": {},
   "outputs": [
    {
     "name": "stdout",
     "output_type": "stream",
     "text": [
      "{'_id': ObjectId('638bc897bdebeae4b05d26f3'), 'name': 'Bag', 'departments': ['School'], 'versions': [{'color': 'Black', 'size': 'small', 'qty': 5, 'price': 17.79}, {'color': 'Red', 'size': 'small', 'qty': 3, 'price': 18.23}, {'color': 'Green', 'size': 'small', 'qty': 5, 'price': 20.03}, {'color': 'Black', 'size': 'large', 'qty': 1, 'price': 41.23}, {'color': 'Red', 'size': 'large', 'qty': 10, 'price': 46.82}, {'color': 'Green', 'size': 'large', 'qty': 7, 'price': 45.43}]}\n",
      "\n",
      "{'_id': ObjectId('638bc897bdebeae4b05d26f5'), 'name': 'Pens', 'departments': ['Office', 'School', 'Home', 'Work'], 'versions': [{'color': 'Black', 'type': '10 Pack', 'qty': 40, 'price': 14.79}, {'color': 'Red', 'type': '10 Pack', 'qty': 13, 'price': 15.23}, {'color': 'Blue', 'type': '10 Pack', 'qty': 12, 'price': 15.07}]}\n",
      "\n",
      "{'_id': ObjectId('64a1be9de8155386571d31ac'), 'name': 'Bag', 'departments': ['School'], 'versions': [{'color': 'Black', 'size': 'small', 'qty': 5, 'price': 17.79}, {'color': 'Red', 'size': 'small', 'qty': 3, 'price': 18.23}, {'color': 'Green', 'size': 'small', 'qty': 5, 'price': 20.03}, {'color': 'Black', 'size': 'large', 'qty': 1, 'price': 41.23}, {'color': 'Red', 'size': 'large', 'qty': 10, 'price': 46.82}, {'color': 'Green', 'size': 'large', 'qty': 7, 'price': 45.43}]}\n",
      "\n",
      "{'_id': ObjectId('64a1be9de8155386571d31ae'), 'name': 'Pens', 'departments': ['School', 'Office'], 'versions': [{'color': 'Black', 'type': '10 Pack', 'qty': 40, 'price': 14.79}, {'color': 'Red', 'type': '10 Pack', 'qty': 13, 'price': 15.23}, {'color': 'Blue', 'type': '10 Pack', 'qty': 12, 'price': 15.07}]}\n",
      "\n"
     ]
    }
   ],
   "source": [
    "find_cursor = db.items.find({\"departments\": \"School\"})\n",
    "print_cursor(find_cursor)"
   ]
  },
  {
   "cell_type": "code",
   "execution_count": 8,
   "id": "e654b313",
   "metadata": {},
   "outputs": [
    {
     "name": "stdout",
     "output_type": "stream",
     "text": [
      "{'_id': ObjectId('64a1be9de8155386571d31ad'), 'name': 'Mug', 'departments': ['Home', 'Kitchen'], 'versions': [{'color': 'White', 'size': '11 oz', 'qty': 14, 'price': 14.79}, {'color': 'Blue', 'size': '11 oz', 'qty': 23, 'price': 15.23}, {'color': 'Green', 'size': '11 oz', 'qty': 15, 'price': 15.07}, {'color': 'White', 'size': '15 oz', 'qty': 11, 'price': 24.43}, {'color': 'Blue', 'size': '15 oz', 'qty': 7, 'price': 25.42}, {'color': 'Green', 'size': '15 oz', 'qty': 10, 'price': 25.83}]}\n",
      "\n"
     ]
    }
   ],
   "source": [
    "find_cursor = db.items.find({\"departments\": \"Kitchen\"})\n",
    "print_cursor(find_cursor)"
   ]
  },
  {
   "cell_type": "code",
   "execution_count": 9,
   "id": "6b1228a8",
   "metadata": {},
   "outputs": [
    {
     "name": "stdout",
     "output_type": "stream",
     "text": [
      "{'_id': ObjectId('64a1be9de8155386571d31ad'), 'name': 'Mug', 'departments': ['Home', 'Kitchen'], 'versions': [{'color': 'White', 'size': '11 oz', 'qty': 14, 'price': 14.79}, {'color': 'Blue', 'size': '11 oz', 'qty': 23, 'price': 15.23}, {'color': 'Green', 'size': '11 oz', 'qty': 15, 'price': 15.07}, {'color': 'White', 'size': '15 oz', 'qty': 11, 'price': 24.43}, {'color': 'Blue', 'size': '15 oz', 'qty': 7, 'price': 25.42}, {'color': 'Green', 'size': '15 oz', 'qty': 10, 'price': 25.83}]}\n",
      "\n"
     ]
    }
   ],
   "source": [
    "find_cursor = db.items.find({\"departments\": [\"Home\", \"Kitchen\"]})\n",
    "print_cursor(find_cursor)"
   ]
  },
  {
   "cell_type": "code",
   "execution_count": 10,
   "id": "6daa762b",
   "metadata": {},
   "outputs": [],
   "source": [
    "find_cursor = db.items.find({\"departments\": [\"Kitchen\", \"Home\"]})\n",
    "print_cursor(find_cursor)"
   ]
  },
  {
   "cell_type": "code",
   "execution_count": 11,
   "id": "e4a1ae4d",
   "metadata": {},
   "outputs": [
    {
     "data": {
      "text/plain": [
       "pymongo.cursor.Cursor"
      ]
     },
     "execution_count": 11,
     "metadata": {},
     "output_type": "execute_result"
    }
   ],
   "source": [
    "type(find_cursor)"
   ]
  },
  {
   "cell_type": "markdown",
   "id": "a01505d8",
   "metadata": {},
   "source": [
    "### Looking At Array Length"
   ]
  },
  {
   "cell_type": "code",
   "execution_count": 9,
   "id": "a9aaea19",
   "metadata": {},
   "outputs": [
    {
     "name": "stdout",
     "output_type": "stream",
     "text": [
      "{'_id': ObjectId('61b460b8cc021d90c5fa7ce5'), 'name': 'Mug', 'departments': ['Home', 'Kitchen'], 'versions': [{'color': 'White', 'size': '11 oz', 'qty': 14, 'price': 14.79}, {'color': 'Blue', 'size': '11 oz', 'qty': 23, 'price': 15.23}, {'color': 'Green', 'size': '11 oz', 'qty': 15, 'price': 15.07}, {'color': 'White', 'size': '15 oz', 'qty': 11, 'price': 24.43}, {'color': 'Blue', 'size': '15 oz', 'qty': 7, 'price': 25.42}, {'color': 'Green', 'size': '15 oz', 'qty': 10, 'price': 25.83}]}\n",
      "\n",
      "{'_id': ObjectId('61b460b8cc021d90c5fa7ce6'), 'name': 'Pens', 'departments': ['School', 'Office'], 'versions': [{'color': 'Black', 'type': '10 Pack', 'qty': 40, 'price': 14.79}, {'color': 'Red', 'type': '10 Pack', 'qty': 13, 'price': 15.23}, {'color': 'Blue', 'type': '10 Pack', 'qty': 12, 'price': 15.07}]}\n",
      "\n"
     ]
    }
   ],
   "source": [
    "find_cursor = db.items.find({\"departments\": {\"$size\": 2}})\n",
    "print_cursor(find_cursor)"
   ]
  },
  {
   "cell_type": "code",
   "execution_count": 10,
   "id": "54c96cea",
   "metadata": {},
   "outputs": [
    {
     "name": "stdout",
     "output_type": "stream",
     "text": [
      "{'_id': ObjectId('61b460b8cc021d90c5fa7ce6'), 'name': 'Pens', 'departments': ['School', 'Office'], 'versions': [{'color': 'Black', 'type': '10 Pack', 'qty': 40, 'price': 14.79}, {'color': 'Red', 'type': '10 Pack', 'qty': 13, 'price': 15.23}, {'color': 'Blue', 'type': '10 Pack', 'qty': 12, 'price': 15.07}]}\n",
      "\n"
     ]
    }
   ],
   "source": [
    "find_cursor = db.items.find({\"versions\": {\"$size\": 3}})\n",
    "print_cursor(find_cursor)"
   ]
  },
  {
   "cell_type": "code",
   "execution_count": 11,
   "id": "286fcc70",
   "metadata": {},
   "outputs": [
    {
     "name": "stdout",
     "output_type": "stream",
     "text": [
      "{'_id': ObjectId('61b460b8cc021d90c5fa7ce4'), 'name': 'Bag', 'departments': ['School'], 'versions': [{'color': 'Black', 'size': 'small', 'qty': 5, 'price': 17.79}, {'color': 'Red', 'size': 'small', 'qty': 3, 'price': 18.23}, {'color': 'Green', 'size': 'small', 'qty': 5, 'price': 20.03}, {'color': 'Black', 'size': 'large', 'qty': 1, 'price': 41.23}, {'color': 'Red', 'size': 'large', 'qty': 10, 'price': 46.82}, {'color': 'Green', 'size': 'large', 'qty': 7, 'price': 45.43}]}\n",
      "\n",
      "{'_id': ObjectId('61b460b8cc021d90c5fa7ce5'), 'name': 'Mug', 'departments': ['Home', 'Kitchen'], 'versions': [{'color': 'White', 'size': '11 oz', 'qty': 14, 'price': 14.79}, {'color': 'Blue', 'size': '11 oz', 'qty': 23, 'price': 15.23}, {'color': 'Green', 'size': '11 oz', 'qty': 15, 'price': 15.07}, {'color': 'White', 'size': '15 oz', 'qty': 11, 'price': 24.43}, {'color': 'Blue', 'size': '15 oz', 'qty': 7, 'price': 25.42}, {'color': 'Green', 'size': '15 oz', 'qty': 10, 'price': 25.83}]}\n",
      "\n"
     ]
    }
   ],
   "source": [
    "find_cursor = db.items.find({\"$where\": \"this.versions.length > 4\"})\n",
    "print_cursor(find_cursor)"
   ]
  },
  {
   "cell_type": "markdown",
   "id": "e59dad98",
   "metadata": {},
   "source": [
    "### Working With Arrays Of Embedded Documents"
   ]
  },
  {
   "cell_type": "code",
   "execution_count": 12,
   "id": "38f061ad",
   "metadata": {},
   "outputs": [
    {
     "name": "stdout",
     "output_type": "stream",
     "text": [
      "{'_id': ObjectId('61b460b8cc021d90c5fa7ce4'), 'name': 'Bag', 'departments': ['School'], 'versions': [{'color': 'Black', 'size': 'small', 'qty': 5, 'price': 17.79}, {'color': 'Red', 'size': 'small', 'qty': 3, 'price': 18.23}, {'color': 'Green', 'size': 'small', 'qty': 5, 'price': 20.03}, {'color': 'Black', 'size': 'large', 'qty': 1, 'price': 41.23}, {'color': 'Red', 'size': 'large', 'qty': 10, 'price': 46.82}, {'color': 'Green', 'size': 'large', 'qty': 7, 'price': 45.43}]}\n",
      "\n",
      "{'_id': ObjectId('61b460b8cc021d90c5fa7ce6'), 'name': 'Pens', 'departments': ['School', 'Office'], 'versions': [{'color': 'Black', 'type': '10 Pack', 'qty': 40, 'price': 14.79}, {'color': 'Red', 'type': '10 Pack', 'qty': 13, 'price': 15.23}, {'color': 'Blue', 'type': '10 Pack', 'qty': 12, 'price': 15.07}]}\n",
      "\n"
     ]
    }
   ],
   "source": [
    "find_cursor = db.items.find({\"versions.color\": \"Red\"})\n",
    "print_cursor(find_cursor)"
   ]
  },
  {
   "cell_type": "code",
   "execution_count": 13,
   "id": "62eec0a1",
   "metadata": {},
   "outputs": [
    {
     "name": "stdout",
     "output_type": "stream",
     "text": [
      "{'_id': ObjectId('61b460b8cc021d90c5fa7ce4'), 'name': 'Bag', 'departments': ['School'], 'versions': [{'color': 'Black', 'size': 'small', 'qty': 5, 'price': 17.79}, {'color': 'Red', 'size': 'small', 'qty': 3, 'price': 18.23}, {'color': 'Green', 'size': 'small', 'qty': 5, 'price': 20.03}, {'color': 'Black', 'size': 'large', 'qty': 1, 'price': 41.23}, {'color': 'Red', 'size': 'large', 'qty': 10, 'price': 46.82}, {'color': 'Green', 'size': 'large', 'qty': 7, 'price': 45.43}]}\n",
      "\n",
      "{'_id': ObjectId('61b460b8cc021d90c5fa7ce5'), 'name': 'Mug', 'departments': ['Home', 'Kitchen'], 'versions': [{'color': 'White', 'size': '11 oz', 'qty': 14, 'price': 14.79}, {'color': 'Blue', 'size': '11 oz', 'qty': 23, 'price': 15.23}, {'color': 'Green', 'size': '11 oz', 'qty': 15, 'price': 15.07}, {'color': 'White', 'size': '15 oz', 'qty': 11, 'price': 24.43}, {'color': 'Blue', 'size': '15 oz', 'qty': 7, 'price': 25.42}, {'color': 'Green', 'size': '15 oz', 'qty': 10, 'price': 25.83}]}\n",
      "\n"
     ]
    }
   ],
   "source": [
    "find_cursor = db.items.find({\"versions.size\": {\"$exists\": True}})\n",
    "print_cursor(find_cursor)"
   ]
  },
  {
   "cell_type": "code",
   "execution_count": 14,
   "id": "0bb89a28",
   "metadata": {},
   "outputs": [
    {
     "name": "stdout",
     "output_type": "stream",
     "text": [
      "{'_id': ObjectId('61b460b8cc021d90c5fa7ce6'), 'name': 'Pens', 'departments': ['School', 'Office'], 'versions': [{'color': 'Black', 'type': '10 Pack', 'qty': 40, 'price': 14.79}, {'color': 'Red', 'type': '10 Pack', 'qty': 13, 'price': 15.23}, {'color': 'Blue', 'type': '10 Pack', 'qty': 12, 'price': 15.07}]}\n",
      "\n"
     ]
    }
   ],
   "source": [
    "find_cursor = db.items.find({\"versions.qty\": {\"$gt\": 35}})\n",
    "print_cursor(find_cursor)"
   ]
  },
  {
   "cell_type": "markdown",
   "id": "8b32f857",
   "metadata": {},
   "source": [
    "### Updating Arrays"
   ]
  },
  {
   "cell_type": "code",
   "execution_count": 15,
   "id": "e6987cc5",
   "metadata": {},
   "outputs": [
    {
     "data": {
      "text/plain": [
       "{'n': 1, 'nModified': 1, 'ok': 1.0, 'updatedExisting': True}"
      ]
     },
     "execution_count": 15,
     "metadata": {},
     "output_type": "execute_result"
    }
   ],
   "source": [
    "update_many_res = db.items.update_many({\"name\": \"Pens\"}, {\"$set\": {\"departments\": [\"Office\", \"School\"]}})\n",
    "update_many_res.raw_result"
   ]
  },
  {
   "cell_type": "code",
   "execution_count": 16,
   "id": "e7d5dd72",
   "metadata": {},
   "outputs": [
    {
     "data": {
      "text/plain": [
       "['Office', 'School']"
      ]
     },
     "execution_count": 16,
     "metadata": {},
     "output_type": "execute_result"
    }
   ],
   "source": [
    "db.items.find_one({\"name\": \"Pens\"})[\"departments\"]"
   ]
  },
  {
   "cell_type": "code",
   "execution_count": 17,
   "id": "f9cfbeda",
   "metadata": {},
   "outputs": [
    {
     "data": {
      "text/plain": [
       "{'n': 1, 'nModified': 1, 'ok': 1.0, 'updatedExisting': True}"
      ]
     },
     "execution_count": 17,
     "metadata": {},
     "output_type": "execute_result"
    }
   ],
   "source": [
    "update_many_res = db.items.update_many({\"name\": \"Mug\"}, {\"$pop\": {\"departments\": 1}})\n",
    "update_many_res.raw_result"
   ]
  },
  {
   "cell_type": "code",
   "execution_count": 18,
   "id": "cd46c9de",
   "metadata": {},
   "outputs": [
    {
     "data": {
      "text/plain": [
       "['Home']"
      ]
     },
     "execution_count": 18,
     "metadata": {},
     "output_type": "execute_result"
    }
   ],
   "source": [
    "db.items.find_one({\"name\": \"Mug\"})[\"departments\"]"
   ]
  },
  {
   "cell_type": "code",
   "execution_count": 19,
   "id": "827db4db",
   "metadata": {},
   "outputs": [
    {
     "data": {
      "text/plain": [
       "{'n': 1, 'nModified': 1, 'ok': 1.0, 'updatedExisting': True}"
      ]
     },
     "execution_count": 19,
     "metadata": {},
     "output_type": "execute_result"
    }
   ],
   "source": [
    "update_many_res = db.items.update_many({\"name\": \"Mug\"}, {\"$pull\": {\"departments\": \"Home\"}})\n",
    "update_many_res.raw_result"
   ]
  },
  {
   "cell_type": "code",
   "execution_count": 20,
   "id": "13378362",
   "metadata": {},
   "outputs": [
    {
     "data": {
      "text/plain": [
       "[]"
      ]
     },
     "execution_count": 20,
     "metadata": {},
     "output_type": "execute_result"
    }
   ],
   "source": [
    "db.items.find_one({\"name\": \"Mug\"})[\"departments\"]"
   ]
  },
  {
   "cell_type": "code",
   "execution_count": 21,
   "id": "70c482f3",
   "metadata": {},
   "outputs": [
    {
     "data": {
      "text/plain": [
       "{'n': 1, 'nModified': 1, 'ok': 1.0, 'updatedExisting': True}"
      ]
     },
     "execution_count": 21,
     "metadata": {},
     "output_type": "execute_result"
    }
   ],
   "source": [
    "update_many_res = db.items.update_many({\"name\": \"Mug\"}, {\"$push\": {\"departments\": \"Home\"}})\n",
    "update_many_res.raw_result"
   ]
  },
  {
   "cell_type": "code",
   "execution_count": 22,
   "id": "6677df1f",
   "metadata": {},
   "outputs": [
    {
     "data": {
      "text/plain": [
       "['Home']"
      ]
     },
     "execution_count": 22,
     "metadata": {},
     "output_type": "execute_result"
    }
   ],
   "source": [
    "db.items.find_one({\"name\": \"Mug\"})[\"departments\"]"
   ]
  },
  {
   "cell_type": "markdown",
   "id": "2904712b",
   "metadata": {},
   "source": [
    "### Sets VS Arrays"
   ]
  },
  {
   "cell_type": "code",
   "execution_count": 23,
   "id": "cf1b2d1a",
   "metadata": {},
   "outputs": [
    {
     "name": "stdout",
     "output_type": "stream",
     "text": [
      "<class 'set'>\n",
      "{'Office', 'Home'}\n"
     ]
    }
   ],
   "source": [
    "my_set = {\"Home\", \"Office\"}\n",
    "print(type(my_set))\n",
    "print(my_set)"
   ]
  },
  {
   "cell_type": "code",
   "execution_count": 24,
   "id": "98718518",
   "metadata": {},
   "outputs": [
    {
     "data": {
      "text/plain": [
       "{'Home', 'Office', 'School'}"
      ]
     },
     "execution_count": 24,
     "metadata": {},
     "output_type": "execute_result"
    }
   ],
   "source": [
    "my_set.add(\"School\")\n",
    "my_set"
   ]
  },
  {
   "cell_type": "code",
   "execution_count": 25,
   "id": "a8b85b21",
   "metadata": {},
   "outputs": [
    {
     "data": {
      "text/plain": [
       "{'Home', 'Office', 'School'}"
      ]
     },
     "execution_count": 25,
     "metadata": {},
     "output_type": "execute_result"
    }
   ],
   "source": [
    "my_set.add(\"Office\")\n",
    "my_set"
   ]
  },
  {
   "cell_type": "code",
   "execution_count": 26,
   "id": "0577cd8f",
   "metadata": {},
   "outputs": [
    {
     "data": {
      "text/plain": [
       "{'Home', 'Office', 'School', 'Technology'}"
      ]
     },
     "execution_count": 26,
     "metadata": {},
     "output_type": "execute_result"
    }
   ],
   "source": [
    "my_set.update([\"Office\", \"Technology\"])\n",
    "my_set"
   ]
  },
  {
   "cell_type": "code",
   "execution_count": 29,
   "id": "87afa4e2",
   "metadata": {},
   "outputs": [
    {
     "data": {
      "text/plain": [
       "{'n': 1, 'nModified': 0, 'ok': 1.0, 'updatedExisting': True}"
      ]
     },
     "execution_count": 29,
     "metadata": {},
     "output_type": "execute_result"
    }
   ],
   "source": [
    "update_many_res = db.items.update_many({\"name\": \"Pens\"}, {\"$addToSet\": {\"departments\": \"Home\"} })\n",
    "update_many_res.raw_result"
   ]
  },
  {
   "cell_type": "code",
   "execution_count": 28,
   "id": "f5bdc49e",
   "metadata": {},
   "outputs": [
    {
     "data": {
      "text/plain": [
       "{'n': 1, 'nModified': 1, 'ok': 1.0, 'updatedExisting': True}"
      ]
     },
     "execution_count": 28,
     "metadata": {},
     "output_type": "execute_result"
    }
   ],
   "source": [
    "update_many_res = db.items.update_many({\"name\": \"Pens\"}, {\"$addToSet\": {\"departments\": {\"$each\": [\"Work\", \"Home\"]}} })\n",
    "update_many_res.raw_result"
   ]
  },
  {
   "cell_type": "code",
   "execution_count": null,
   "id": "8b5fc38a",
   "metadata": {},
   "outputs": [],
   "source": []
  }
 ],
 "metadata": {
  "kernelspec": {
   "display_name": "Python 3 (ipykernel)",
   "language": "python",
   "name": "python3"
  },
  "language_info": {
   "codemirror_mode": {
    "name": "ipython",
    "version": 3
   },
   "file_extension": ".py",
   "mimetype": "text/x-python",
   "name": "python",
   "nbconvert_exporter": "python",
   "pygments_lexer": "ipython3",
   "version": "3.8.15"
  }
 },
 "nbformat": 4,
 "nbformat_minor": 5
}

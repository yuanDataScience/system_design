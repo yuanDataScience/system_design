{
 "cells": [
  {
   "cell_type": "markdown",
   "id": "4a034863",
   "metadata": {},
   "source": [
    "# MongoDB Delete Functionality\n",
    "\n",
    "Go over ways to delete entries in MongoDB in pymongo"
   ]
  },
  {
   "cell_type": "code",
   "execution_count": 1,
   "id": "9d24bf02",
   "metadata": {},
   "outputs": [],
   "source": [
    "from pymongo import MongoClient"
   ]
  },
  {
   "cell_type": "markdown",
   "id": "7892680b",
   "metadata": {},
   "source": [
    "### Initalize A Client, Connect To DB, Speicfy Collection"
   ]
  },
  {
   "cell_type": "code",
   "execution_count": 2,
   "id": "34c62560",
   "metadata": {},
   "outputs": [],
   "source": [
    "client = MongoClient(\"mongodb://localhost:27017/\")\n",
    "db = client[\"my_store\"]\n",
    "users_col = db[\"users\"]"
   ]
  },
  {
   "cell_type": "markdown",
   "id": "a3051bbd",
   "metadata": {},
   "source": [
    "### remove()\n",
    "*Depreciated, do not use in your applications*"
   ]
  },
  {
   "cell_type": "code",
   "execution_count": 3,
   "id": "c0f71604",
   "metadata": {},
   "outputs": [
    {
     "name": "stderr",
     "output_type": "stream",
     "text": [
      "C:\\Users\\raymo\\AppData\\Local\\Temp/ipykernel_13976/2680353644.py:1: DeprecationWarning: remove is deprecated. Use delete_one or delete_many instead.\n",
      "  remove_res = users_col.remove({\"name\": \"Claire\"}, multi=True)\n"
     ]
    },
    {
     "data": {
      "text/plain": [
       "{'n': 0, 'ok': 1.0}"
      ]
     },
     "execution_count": 3,
     "metadata": {},
     "output_type": "execute_result"
    }
   ],
   "source": [
    "remove_res = users_col.remove({\"name\": \"Claire\"}, multi=True)\n",
    "remove_res"
   ]
  },
  {
   "cell_type": "markdown",
   "id": "2a327757",
   "metadata": {},
   "source": [
    "### delete_one()"
   ]
  },
  {
   "cell_type": "code",
   "execution_count": 4,
   "id": "bd01811a",
   "metadata": {},
   "outputs": [
    {
     "data": {
      "text/plain": [
       "<pymongo.results.DeleteResult at 0x1db6195bb00>"
      ]
     },
     "execution_count": 4,
     "metadata": {},
     "output_type": "execute_result"
    }
   ],
   "source": [
    "delete_one_res = users_col.delete_one({\"name\": \"Steve\"})\n",
    "delete_one_res"
   ]
  },
  {
   "cell_type": "code",
   "execution_count": 5,
   "id": "4e18335e",
   "metadata": {},
   "outputs": [
    {
     "name": "stdout",
     "output_type": "stream",
     "text": [
      "True\n",
      "1\n",
      "{'n': 1, 'ok': 1.0}\n"
     ]
    }
   ],
   "source": [
    "print(delete_one_res.acknowledged)\n",
    "print(delete_one_res.deleted_count)\n",
    "print(delete_one_res.raw_result)"
   ]
  },
  {
   "cell_type": "markdown",
   "id": "4b2eda96",
   "metadata": {},
   "source": [
    "### delete_many()"
   ]
  },
  {
   "cell_type": "code",
   "execution_count": 6,
   "id": "32f98790",
   "metadata": {},
   "outputs": [
    {
     "data": {
      "text/plain": [
       "<pymongo.results.DeleteResult at 0x1db6195dcc0>"
      ]
     },
     "execution_count": 6,
     "metadata": {},
     "output_type": "execute_result"
    }
   ],
   "source": [
    "delete_many_res = users_col.delete_many({\"name\": \"Steve\"})\n",
    "delete_many_res"
   ]
  },
  {
   "cell_type": "code",
   "execution_count": 7,
   "id": "0380314a",
   "metadata": {},
   "outputs": [
    {
     "name": "stdout",
     "output_type": "stream",
     "text": [
      "True\n",
      "2\n",
      "{'n': 2, 'ok': 1.0}\n"
     ]
    }
   ],
   "source": [
    "print(delete_many_res.acknowledged)\n",
    "print(delete_many_res.deleted_count)\n",
    "print(delete_many_res.raw_result)"
   ]
  },
  {
   "cell_type": "code",
   "execution_count": null,
   "id": "bdef7a18",
   "metadata": {},
   "outputs": [],
   "source": []
  }
 ],
 "metadata": {
  "kernelspec": {
   "display_name": "Python 3 (ipykernel)",
   "language": "python",
   "name": "python3"
  },
  "language_info": {
   "codemirror_mode": {
    "name": "ipython",
    "version": 3
   },
   "file_extension": ".py",
   "mimetype": "text/x-python",
   "name": "python",
   "nbconvert_exporter": "python",
   "pygments_lexer": "ipython3",
   "version": "3.8.11"
  }
 },
 "nbformat": 4,
 "nbformat_minor": 5
}

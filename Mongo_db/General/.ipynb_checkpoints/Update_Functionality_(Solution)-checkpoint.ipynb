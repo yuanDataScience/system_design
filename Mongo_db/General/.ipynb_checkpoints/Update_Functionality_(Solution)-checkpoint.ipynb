{
 "cells": [
  {
   "cell_type": "markdown",
   "id": "31010f21",
   "metadata": {},
   "source": [
    "# MongoDB Update Functionality\n",
    "\n",
    "Go over ways to update entries in MongoDB in pymongo"
   ]
  },
  {
   "cell_type": "code",
   "execution_count": 1,
   "id": "07599bc2",
   "metadata": {},
   "outputs": [],
   "source": [
    "import pymongo\n",
    "from pymongo import MongoClient"
   ]
  },
  {
   "cell_type": "markdown",
   "id": "ac3f352e",
   "metadata": {},
   "source": [
    "### Initalize A Client, Connect To DB, Speicfy Collection"
   ]
  },
  {
   "cell_type": "code",
   "execution_count": 2,
   "id": "707dc3c1",
   "metadata": {},
   "outputs": [],
   "source": [
    "client = MongoClient(\"mongodb://localhost:27017/\")\n",
    "db = client[\"my_store\"]\n",
    "products_col = db[\"products\"]"
   ]
  },
  {
   "cell_type": "markdown",
   "id": "8733e8d2",
   "metadata": {},
   "source": [
    "### update_one()"
   ]
  },
  {
   "cell_type": "code",
   "execution_count": 3,
   "id": "0bfd3851",
   "metadata": {},
   "outputs": [
    {
     "data": {
      "text/plain": [
       "<pymongo.results.UpdateResult at 0x17c2ee01ac0>"
      ]
     },
     "execution_count": 3,
     "metadata": {},
     "output_type": "execute_result"
    }
   ],
   "source": [
    "products_col.update_one({\"name\": \"Bag\"}, {\"$set\": {\"price\": 24.38}})"
   ]
  },
  {
   "cell_type": "code",
   "execution_count": 4,
   "id": "dae2a3f6",
   "metadata": {},
   "outputs": [],
   "source": [
    "update_one_res = products_col.update_one({\"name\": \"Bag\"}, {\"$set\": {\"price\": 25.78}})"
   ]
  },
  {
   "cell_type": "code",
   "execution_count": 5,
   "id": "4ad320c1",
   "metadata": {},
   "outputs": [
    {
     "name": "stdout",
     "output_type": "stream",
     "text": [
      "True\n",
      "0\n",
      "0\n",
      "{'n': 0, 'nModified': 0, 'ok': 1.0, 'updatedExisting': False}\n",
      "None\n"
     ]
    }
   ],
   "source": [
    "print(update_one_res.acknowledged)\n",
    "print(update_one_res.matched_count)\n",
    "print(update_one_res.modified_count)\n",
    "print(update_one_res.raw_result)\n",
    "print(update_one_res.upserted_id)"
   ]
  },
  {
   "cell_type": "markdown",
   "id": "d7a997b1",
   "metadata": {},
   "source": [
    "### replace_one()"
   ]
  },
  {
   "cell_type": "code",
   "execution_count": 6,
   "id": "d959fa43",
   "metadata": {},
   "outputs": [
    {
     "data": {
      "text/plain": [
       "<pymongo.results.UpdateResult at 0x17c2d4160a0>"
      ]
     },
     "execution_count": 6,
     "metadata": {},
     "output_type": "execute_result"
    }
   ],
   "source": [
    "replace_one_res = products_col.replace_one({\"name\": \"Bag\"}, {\"product_name\": \"Bag\", \"price\": 25.76, \"seller\": \"Raymond\"})\n",
    "replace_one_res"
   ]
  },
  {
   "cell_type": "code",
   "execution_count": 7,
   "id": "f1ed7024",
   "metadata": {},
   "outputs": [
    {
     "name": "stdout",
     "output_type": "stream",
     "text": [
      "True\n",
      "0\n",
      "0\n",
      "{'n': 0, 'nModified': 0, 'ok': 1.0, 'updatedExisting': False}\n",
      "None\n"
     ]
    }
   ],
   "source": [
    "print(replace_one_res.acknowledged)\n",
    "print(replace_one_res.matched_count)\n",
    "print(replace_one_res.modified_count)\n",
    "print(replace_one_res.raw_result)\n",
    "print(replace_one_res.upserted_id)"
   ]
  },
  {
   "cell_type": "markdown",
   "id": "7c7df700",
   "metadata": {},
   "source": [
    "### update_many()"
   ]
  },
  {
   "cell_type": "code",
   "execution_count": 8,
   "id": "0dc9ecc6",
   "metadata": {},
   "outputs": [
    {
     "data": {
      "text/plain": [
       "<pymongo.results.UpdateResult at 0x17c2d406fa0>"
      ]
     },
     "execution_count": 8,
     "metadata": {},
     "output_type": "execute_result"
    }
   ],
   "source": [
    "update_many_res = products_col.update_many({\"name\": \"Pens\"}, {\"$set\": {\"price\": 11.58}})\n",
    "update_many_res"
   ]
  },
  {
   "cell_type": "code",
   "execution_count": 9,
   "id": "47d8a199",
   "metadata": {},
   "outputs": [
    {
     "name": "stdout",
     "output_type": "stream",
     "text": [
      "True\n",
      "2\n",
      "2\n",
      "{'n': 2, 'nModified': 2, 'ok': 1.0, 'updatedExisting': True}\n",
      "None\n"
     ]
    }
   ],
   "source": [
    "print(update_many_res.acknowledged)\n",
    "print(update_many_res.matched_count)\n",
    "print(update_many_res.modified_count)\n",
    "print(update_many_res.raw_result)\n",
    "print(update_many_res.upserted_id)"
   ]
  },
  {
   "cell_type": "markdown",
   "id": "cf165ba7",
   "metadata": {},
   "source": [
    "### upserting"
   ]
  },
  {
   "cell_type": "code",
   "execution_count": 10,
   "id": "b0a6a3fb",
   "metadata": {},
   "outputs": [
    {
     "data": {
      "text/plain": [
       "<pymongo.results.UpdateResult at 0x17c2d443310>"
      ]
     },
     "execution_count": 10,
     "metadata": {},
     "output_type": "execute_result"
    }
   ],
   "source": [
    "update_upsert_res = products_col.update_many({\"name\": \"Hat\"}, {\"$set\": {\"name\":\"Hat\", \"price\": 17.23}}, upsert=True)\n",
    "update_upsert_res"
   ]
  },
  {
   "cell_type": "code",
   "execution_count": 11,
   "id": "28846f1e",
   "metadata": {},
   "outputs": [
    {
     "name": "stdout",
     "output_type": "stream",
     "text": [
      "True\n",
      "1\n",
      "1\n",
      "{'n': 1, 'nModified': 1, 'ok': 1.0, 'updatedExisting': True}\n",
      "None\n"
     ]
    }
   ],
   "source": [
    "print(update_upsert_res.acknowledged)\n",
    "print(update_upsert_res.matched_count)\n",
    "print(update_upsert_res.modified_count)\n",
    "print(update_upsert_res.raw_result)\n",
    "print(update_upsert_res.upserted_id)"
   ]
  },
  {
   "cell_type": "markdown",
   "id": "b8e6c6e3",
   "metadata": {},
   "source": [
    "### Update Operators"
   ]
  },
  {
   "cell_type": "code",
   "execution_count": 12,
   "id": "c89e89ce",
   "metadata": {},
   "outputs": [
    {
     "name": "stdout",
     "output_type": "stream",
     "text": [
      "{'_id': ObjectId('6388076dbd286215efa234af'), 'name': 'Pens', 'price': 11.58, 'date': datetime.datetime(2023, 7, 3, 0, 37, 13, 222000)}\n",
      "{'_id': ObjectId('6388092abd286215efa234b0'), 'name': 'Water Bottle', 'price': 16.061760000000003, 'date': datetime.datetime(2023, 7, 3, 0, 37, 13, 223000)}\n",
      "{'_id': ObjectId('6388092abd286215efa234b1'), 'name': 'Jar', 'price': 5.397184, 'date': datetime.datetime(2023, 7, 3, 0, 37, 13, 223000)}\n",
      "{'_id': ObjectId('63880a17bd286215efa234b2'), 'name': 'Pens', 'price': 11.58, 'seller': 'Raymond', 'date': datetime.datetime(2023, 7, 3, 0, 37, 13, 223000)}\n",
      "{'_id': ObjectId('63880cb1bd286215efa234b3'), 'name': 'Mug', 'price': 14.049984000000002, 'date': datetime.datetime(2023, 7, 3, 0, 37, 13, 223000)}\n",
      "{'_id': ObjectId('638ab0b6b64a67e2de9d01fb'), 'product_name': 'Bag', 'price': 27.862016000000004, 'seller': 'Raymond', 'date': datetime.datetime(2023, 7, 3, 0, 37, 13, 223000)}\n",
      "{'_id': ObjectId('638ab4d5fcce23a63c41d2cc'), 'name': 'Hat', 'price': 17.23, 'date': datetime.datetime(2023, 7, 3, 0, 37, 13, 223000)}\n"
     ]
    }
   ],
   "source": [
    "# update the specified column by the current date\n",
    "products_col.update_many({}, {\"$currentDate\": {\"date\": True}})\n",
    "for doc in products_col.find({}):\n",
    "    print(doc)"
   ]
  },
  {
   "cell_type": "code",
   "execution_count": 13,
   "id": "1da4fbe9",
   "metadata": {},
   "outputs": [
    {
     "name": "stdout",
     "output_type": "stream",
     "text": [
      "{'_id': ObjectId('6388076dbd286215efa234af'), 'name': 'Pens', 'price': 11.58, 'date_added': datetime.datetime(2023, 7, 3, 0, 37, 13, 222000), 'date': datetime.datetime(2023, 7, 3, 0, 38, 8, 823000)}\n",
      "{'_id': ObjectId('6388092abd286215efa234b0'), 'name': 'Water Bottle', 'price': 16.061760000000003, 'date_added': datetime.datetime(2023, 7, 3, 0, 37, 13, 223000), 'date': datetime.datetime(2023, 7, 3, 0, 38, 8, 823000)}\n",
      "{'_id': ObjectId('6388092abd286215efa234b1'), 'name': 'Jar', 'price': 5.397184, 'date_added': datetime.datetime(2023, 7, 3, 0, 37, 13, 223000), 'date': datetime.datetime(2023, 7, 3, 0, 38, 8, 823000)}\n",
      "{'_id': ObjectId('63880a17bd286215efa234b2'), 'name': 'Pens', 'price': 11.58, 'seller': 'Raymond', 'date_added': datetime.datetime(2023, 7, 3, 0, 37, 13, 223000), 'date': datetime.datetime(2023, 7, 3, 0, 38, 8, 823000)}\n",
      "{'_id': ObjectId('63880cb1bd286215efa234b3'), 'name': 'Mug', 'price': 14.049984000000002, 'date_added': datetime.datetime(2023, 7, 3, 0, 37, 13, 223000), 'date': datetime.datetime(2023, 7, 3, 0, 38, 8, 823000)}\n",
      "{'_id': ObjectId('638ab0b6b64a67e2de9d01fb'), 'product_name': 'Bag', 'price': 27.862016000000004, 'seller': 'Raymond', 'date_added': datetime.datetime(2023, 7, 3, 0, 37, 13, 223000), 'date': datetime.datetime(2023, 7, 3, 0, 38, 8, 823000)}\n",
      "{'_id': ObjectId('638ab4d5fcce23a63c41d2cc'), 'name': 'Hat', 'price': 17.23, 'date_added': datetime.datetime(2023, 7, 3, 0, 37, 13, 223000), 'date': datetime.datetime(2023, 7, 3, 0, 38, 8, 823000)}\n"
     ]
    }
   ],
   "source": [
    "products_col.update_many({}, {\"$rename\": {\"date\": \"date_added\"}})\n",
    "products_col.update_many({}, {\"$currentDate\": {\"date\": True}})\n",
    "for doc in products_col.find({}):\n",
    "    print(doc)"
   ]
  },
  {
   "cell_type": "code",
   "execution_count": 15,
   "id": "e11b057a",
   "metadata": {},
   "outputs": [
    {
     "name": "stdout",
     "output_type": "stream",
     "text": [
      "{'_id': ObjectId('6388076dbd286215efa234af'), 'name': 'Pens', 'price': 12.524928000000001, 'date_added': datetime.datetime(2023, 7, 3, 0, 37, 13, 222000), 'date': datetime.datetime(2023, 7, 3, 0, 38, 8, 823000)}\n",
      "{'_id': ObjectId('6388092abd286215efa234b0'), 'name': 'Water Bottle', 'price': 17.372399616000003, 'date_added': datetime.datetime(2023, 7, 3, 0, 37, 13, 223000), 'date': datetime.datetime(2023, 7, 3, 0, 38, 8, 823000)}\n",
      "{'_id': ObjectId('6388092abd286215efa234b1'), 'name': 'Jar', 'price': 5.8375942144, 'date_added': datetime.datetime(2023, 7, 3, 0, 37, 13, 223000), 'date': datetime.datetime(2023, 7, 3, 0, 38, 8, 823000)}\n",
      "{'_id': ObjectId('63880a17bd286215efa234b2'), 'name': 'Pens', 'price': 12.524928000000001, 'seller': 'Raymond', 'date_added': datetime.datetime(2023, 7, 3, 0, 37, 13, 223000), 'date': datetime.datetime(2023, 7, 3, 0, 38, 8, 823000)}\n",
      "{'_id': ObjectId('63880cb1bd286215efa234b3'), 'name': 'Mug', 'price': 15.196462694400003, 'date_added': datetime.datetime(2023, 7, 3, 0, 37, 13, 223000), 'date': datetime.datetime(2023, 7, 3, 0, 38, 8, 823000)}\n",
      "{'_id': ObjectId('638ab0b6b64a67e2de9d01fb'), 'product_name': 'Bag', 'price': 30.135556505600004, 'seller': 'Raymond', 'date_added': datetime.datetime(2023, 7, 3, 0, 37, 13, 223000), 'date': datetime.datetime(2023, 7, 3, 0, 38, 8, 823000)}\n",
      "{'_id': ObjectId('638ab4d5fcce23a63c41d2cc'), 'name': 'Hat', 'price': 18.635968000000002, 'date_added': datetime.datetime(2023, 7, 3, 0, 37, 13, 223000), 'date': datetime.datetime(2023, 7, 3, 0, 38, 8, 823000)}\n"
     ]
    }
   ],
   "source": [
    "# multiply price column by 1.04\n",
    "products_col.update_many({}, {\"$mul\": {\"price\": 1.04}})\n",
    "for doc in products_col.find({}):\n",
    "    print(doc)"
   ]
  },
  {
   "cell_type": "code",
   "execution_count": 17,
   "id": "749bb365",
   "metadata": {},
   "outputs": [
    {
     "name": "stdout",
     "output_type": "stream",
     "text": [
      "{'_id': ObjectId('6388076dbd286215efa234af'), 'name': 'Pens', 'price': 12.524928000000001, 'date': datetime.datetime(2023, 7, 3, 0, 38, 8, 823000)}\n",
      "{'_id': ObjectId('6388092abd286215efa234b0'), 'name': 'Water Bottle', 'price': 17.372399616000003, 'date': datetime.datetime(2023, 7, 3, 0, 38, 8, 823000)}\n",
      "{'_id': ObjectId('6388092abd286215efa234b1'), 'name': 'Jar', 'price': 5.8375942144, 'date': datetime.datetime(2023, 7, 3, 0, 38, 8, 823000)}\n",
      "{'_id': ObjectId('63880a17bd286215efa234b2'), 'name': 'Pens', 'price': 12.524928000000001, 'seller': 'Raymond', 'date': datetime.datetime(2023, 7, 3, 0, 38, 8, 823000)}\n",
      "{'_id': ObjectId('63880cb1bd286215efa234b3'), 'name': 'Mug', 'price': 15.196462694400003, 'date': datetime.datetime(2023, 7, 3, 0, 38, 8, 823000)}\n",
      "{'_id': ObjectId('638ab0b6b64a67e2de9d01fb'), 'product_name': 'Bag', 'price': 30.135556505600004, 'seller': 'Raymond', 'date': datetime.datetime(2023, 7, 3, 0, 38, 8, 823000)}\n",
      "{'_id': ObjectId('638ab4d5fcce23a63c41d2cc'), 'name': 'Hat', 'price': 18.635968000000002, 'date': datetime.datetime(2023, 7, 3, 0, 38, 8, 823000)}\n"
     ]
    }
   ],
   "source": [
    "# delete the specified column\n",
    "products_col.update_many({}, {\"$unset\": {\"date_added\": True}})\n",
    "for doc in products_col.find({}):\n",
    "    print(doc)"
   ]
  },
  {
   "cell_type": "code",
   "execution_count": 18,
   "id": "376906e7",
   "metadata": {},
   "outputs": [
    {
     "name": "stdout",
     "output_type": "stream",
     "text": [
      "{'_id': ObjectId('6388076dbd286215efa234af'), 'name': 'Pens', 'date': datetime.datetime(2023, 7, 3, 0, 38, 8, 823000)}\n",
      "{'_id': ObjectId('6388092abd286215efa234b0'), 'name': 'Water Bottle', 'date': datetime.datetime(2023, 7, 3, 0, 38, 8, 823000)}\n",
      "{'_id': ObjectId('6388092abd286215efa234b1'), 'name': 'Jar', 'date': datetime.datetime(2023, 7, 3, 0, 38, 8, 823000)}\n",
      "{'_id': ObjectId('63880a17bd286215efa234b2'), 'name': 'Pens', 'seller': 'Raymond', 'date': datetime.datetime(2023, 7, 3, 0, 38, 8, 823000)}\n",
      "{'_id': ObjectId('63880cb1bd286215efa234b3'), 'name': 'Mug', 'date': datetime.datetime(2023, 7, 3, 0, 38, 8, 823000)}\n",
      "{'_id': ObjectId('638ab0b6b64a67e2de9d01fb'), 'product_name': 'Bag', 'seller': 'Raymond', 'date': datetime.datetime(2023, 7, 3, 0, 38, 8, 823000)}\n",
      "{'_id': ObjectId('638ab4d5fcce23a63c41d2cc'), 'name': 'Hat', 'date': datetime.datetime(2023, 7, 3, 0, 38, 8, 823000)}\n"
     ]
    }
   ],
   "source": [
    "products_col.update_many({}, {\"$unset\": {\"price\": True}})\n",
    "for doc in products_col.find({}):\n",
    "    print(doc)"
   ]
  },
  {
   "cell_type": "code",
   "execution_count": null,
   "id": "bdb9d510",
   "metadata": {},
   "outputs": [],
   "source": []
  }
 ],
 "metadata": {
  "kernelspec": {
   "display_name": "Python 3 (ipykernel)",
   "language": "python",
   "name": "python3"
  },
  "language_info": {
   "codemirror_mode": {
    "name": "ipython",
    "version": 3
   },
   "file_extension": ".py",
   "mimetype": "text/x-python",
   "name": "python",
   "nbconvert_exporter": "python",
   "pygments_lexer": "ipython3",
   "version": "3.8.15"
  }
 },
 "nbformat": 4,
 "nbformat_minor": 5
}

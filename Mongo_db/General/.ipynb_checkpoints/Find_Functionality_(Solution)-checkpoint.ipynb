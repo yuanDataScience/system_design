{
 "cells": [
  {
   "cell_type": "markdown",
   "id": "f5d724cd",
   "metadata": {},
   "source": [
    "# MongoDB Insert Functionality\n",
    "\n",
    "Go over how to use the various insert functions of the pymongo module. "
   ]
  },
  {
   "cell_type": "markdown",
   "id": "8de3bb68",
   "metadata": {},
   "source": [
    "### Import MongoClient instance from pymongo module"
   ]
  },
  {
   "cell_type": "code",
   "execution_count": 1,
   "id": "2b6f6b78",
   "metadata": {},
   "outputs": [],
   "source": [
    "import pymongo\n",
    "from pymongo import MongoClient"
   ]
  },
  {
   "cell_type": "markdown",
   "id": "a158eee2",
   "metadata": {},
   "source": [
    "### Initalize A Client, Connect To DB, Speicfy Collection"
   ]
  },
  {
   "cell_type": "code",
   "execution_count": 2,
   "id": "e7098379",
   "metadata": {},
   "outputs": [],
   "source": [
    "client = MongoClient(\"mongodb://localhost:27017/\")\n",
    "db = client[\"my_store\"]\n",
    "products_col = db[\"products\"]"
   ]
  },
  {
   "cell_type": "markdown",
   "id": "f6910a3d",
   "metadata": {},
   "source": [
    "### find_one()"
   ]
  },
  {
   "cell_type": "code",
   "execution_count": 3,
   "id": "4f426053",
   "metadata": {},
   "outputs": [
    {
     "data": {
      "text/plain": [
       "{'_id': ObjectId('6388076dbd286215efa234af'),\n",
       " 'name': 'Pens',\n",
       " 'price': 12.460032}"
      ]
     },
     "execution_count": 3,
     "metadata": {},
     "output_type": "execute_result"
    }
   ],
   "source": [
    "products_col.find_one({\"name\": \"Pens\"})"
   ]
  },
  {
   "cell_type": "code",
   "execution_count": 4,
   "id": "9abea8ac",
   "metadata": {},
   "outputs": [],
   "source": [
    "find_one_res = products_col.find_one({\"name\": \"Pens\"})"
   ]
  },
  {
   "cell_type": "code",
   "execution_count": 5,
   "id": "f41caf2f",
   "metadata": {},
   "outputs": [
    {
     "data": {
      "text/plain": [
       "ObjectId('6388076dbd286215efa234af')"
      ]
     },
     "execution_count": 5,
     "metadata": {},
     "output_type": "execute_result"
    }
   ],
   "source": [
    "find_one_res[\"_id\"]"
   ]
  },
  {
   "cell_type": "markdown",
   "id": "d99a8f14",
   "metadata": {},
   "source": [
    "### find() and Cursors"
   ]
  },
  {
   "cell_type": "code",
   "execution_count": 6,
   "id": "cbf397d7",
   "metadata": {},
   "outputs": [
    {
     "data": {
      "text/plain": [
       "<pymongo.cursor.Cursor at 0x1bc46c22f40>"
      ]
     },
     "execution_count": 6,
     "metadata": {},
     "output_type": "execute_result"
    }
   ],
   "source": [
    "products_col.find({\"name\": \"Pens\"})"
   ]
  },
  {
   "cell_type": "code",
   "execution_count": 7,
   "id": "6d663f70",
   "metadata": {},
   "outputs": [],
   "source": [
    "pen_cursor = products_col.find({\"name\": \"Pens\"})"
   ]
  },
  {
   "cell_type": "code",
   "execution_count": 8,
   "id": "4d39294d",
   "metadata": {},
   "outputs": [
    {
     "name": "stdout",
     "output_type": "stream",
     "text": [
      "{'_id': ObjectId('6388076dbd286215efa234af'), 'name': 'Pens', 'price': 12.460032}\n",
      "{'_id': ObjectId('63880a17bd286215efa234b2'), 'name': 'Pens', 'price': 12.460032, 'seller': 'Raymond'}\n"
     ]
    }
   ],
   "source": [
    "for document in pen_cursor:\n",
    "    print(document)"
   ]
  },
  {
   "cell_type": "code",
   "execution_count": 9,
   "id": "e0032da6",
   "metadata": {},
   "outputs": [
    {
     "data": {
      "text/plain": [
       "False"
      ]
     },
     "execution_count": 9,
     "metadata": {},
     "output_type": "execute_result"
    }
   ],
   "source": [
    "pen_cursor.alive"
   ]
  },
  {
   "cell_type": "code",
   "execution_count": 10,
   "id": "74b70280",
   "metadata": {},
   "outputs": [],
   "source": [
    "pen_cursor = products_col.find({\"name\": \"Pens\"})"
   ]
  },
  {
   "cell_type": "code",
   "execution_count": 11,
   "id": "9c1a95ae",
   "metadata": {},
   "outputs": [
    {
     "data": {
      "text/plain": [
       "True"
      ]
     },
     "execution_count": 11,
     "metadata": {},
     "output_type": "execute_result"
    }
   ],
   "source": [
    "pen_cursor.alive"
   ]
  },
  {
   "cell_type": "code",
   "execution_count": 12,
   "id": "7668945d",
   "metadata": {},
   "outputs": [
    {
     "data": {
      "text/plain": [
       "{'_id': ObjectId('6388076dbd286215efa234af'),\n",
       " 'name': 'Pens',\n",
       " 'price': 12.460032}"
      ]
     },
     "execution_count": 12,
     "metadata": {},
     "output_type": "execute_result"
    }
   ],
   "source": [
    "pen_cursor.next()"
   ]
  },
  {
   "cell_type": "markdown",
   "id": "26f14fb9",
   "metadata": {},
   "source": [
    "### sort()"
   ]
  },
  {
   "cell_type": "code",
   "execution_count": 13,
   "id": "5becfcc3",
   "metadata": {},
   "outputs": [
    {
     "name": "stdout",
     "output_type": "stream",
     "text": [
      "{'_id': ObjectId('6388092abd286215efa234b1'), 'name': 'Jar', 'price': 5.397184}\n",
      "{'_id': ObjectId('6388076dbd286215efa234af'), 'name': 'Pens', 'price': 12.460032}\n",
      "{'_id': ObjectId('63880a17bd286215efa234b2'), 'name': 'Pens', 'price': 12.460032, 'seller': 'Raymond'}\n",
      "{'_id': ObjectId('638ab4d5fcce23a63c41d2cc'), 'name': 'Hat', 'price': 12.460032}\n",
      "{'_id': ObjectId('63880cb1bd286215efa234b3'), 'name': 'Mug', 'price': 14.049984000000002}\n",
      "{'_id': ObjectId('6388092abd286215efa234b0'), 'name': 'Water Bottle', 'price': 16.061760000000003}\n",
      "{'_id': ObjectId('638ab0b6b64a67e2de9d01fb'), 'product_name': 'Bag', 'price': 27.862016000000004, 'seller': 'Raymond'}\n"
     ]
    }
   ],
   "source": [
    "for document in products_col.find({}).sort(\"price\", pymongo.ASCENDING):\n",
    "    print(document)"
   ]
  },
  {
   "cell_type": "code",
   "execution_count": 14,
   "id": "f4d0c27a",
   "metadata": {},
   "outputs": [
    {
     "name": "stdout",
     "output_type": "stream",
     "text": [
      "{'_id': ObjectId('638ab0b6b64a67e2de9d01fb'), 'product_name': 'Bag', 'price': 27.862016000000004, 'seller': 'Raymond'}\n",
      "{'_id': ObjectId('6388092abd286215efa234b0'), 'name': 'Water Bottle', 'price': 16.061760000000003}\n",
      "{'_id': ObjectId('63880cb1bd286215efa234b3'), 'name': 'Mug', 'price': 14.049984000000002}\n",
      "{'_id': ObjectId('6388076dbd286215efa234af'), 'name': 'Pens', 'price': 12.460032}\n",
      "{'_id': ObjectId('63880a17bd286215efa234b2'), 'name': 'Pens', 'price': 12.460032, 'seller': 'Raymond'}\n",
      "{'_id': ObjectId('638ab4d5fcce23a63c41d2cc'), 'name': 'Hat', 'price': 12.460032}\n",
      "{'_id': ObjectId('6388092abd286215efa234b1'), 'name': 'Jar', 'price': 5.397184}\n"
     ]
    }
   ],
   "source": [
    "for document in products_col.find({}).sort(\"price\", pymongo.DESCENDING):\n",
    "    print(document)"
   ]
  },
  {
   "cell_type": "code",
   "execution_count": 15,
   "id": "eb84d2c8",
   "metadata": {},
   "outputs": [
    {
     "data": {
      "text/plain": [
       "1"
      ]
     },
     "execution_count": 15,
     "metadata": {},
     "output_type": "execute_result"
    }
   ],
   "source": [
    "pymongo.ASCENDING"
   ]
  },
  {
   "cell_type": "code",
   "execution_count": 16,
   "id": "019fd4f6",
   "metadata": {},
   "outputs": [
    {
     "data": {
      "text/plain": [
       "-1"
      ]
     },
     "execution_count": 16,
     "metadata": {},
     "output_type": "execute_result"
    }
   ],
   "source": [
    "pymongo.DESCENDING"
   ]
  },
  {
   "cell_type": "code",
   "execution_count": 17,
   "id": "92740439",
   "metadata": {},
   "outputs": [
    {
     "name": "stdout",
     "output_type": "stream",
     "text": [
      "{'_id': ObjectId('6388092abd286215efa234b1'), 'name': 'Jar', 'price': 5.397184}\n",
      "{'_id': ObjectId('6388076dbd286215efa234af'), 'name': 'Pens', 'price': 12.460032}\n",
      "{'_id': ObjectId('63880a17bd286215efa234b2'), 'name': 'Pens', 'price': 12.460032, 'seller': 'Raymond'}\n",
      "{'_id': ObjectId('638ab4d5fcce23a63c41d2cc'), 'name': 'Hat', 'price': 12.460032}\n",
      "{'_id': ObjectId('63880cb1bd286215efa234b3'), 'name': 'Mug', 'price': 14.049984000000002}\n",
      "{'_id': ObjectId('6388092abd286215efa234b0'), 'name': 'Water Bottle', 'price': 16.061760000000003}\n",
      "{'_id': ObjectId('638ab0b6b64a67e2de9d01fb'), 'product_name': 'Bag', 'price': 27.862016000000004, 'seller': 'Raymond'}\n"
     ]
    }
   ],
   "source": [
    "for document in products_col.find({}).sort(\"price\", 1):\n",
    "    print(document)"
   ]
  },
  {
   "cell_type": "code",
   "execution_count": 18,
   "id": "7e4ea077",
   "metadata": {},
   "outputs": [
    {
     "name": "stdout",
     "output_type": "stream",
     "text": [
      "{'_id': ObjectId('6388092abd286215efa234b1'), 'name': 'Jar', 'price': 5.397184}\n",
      "{'_id': ObjectId('638ab4d5fcce23a63c41d2cc'), 'name': 'Hat', 'price': 12.460032}\n",
      "{'_id': ObjectId('6388076dbd286215efa234af'), 'name': 'Pens', 'price': 12.460032}\n",
      "{'_id': ObjectId('63880a17bd286215efa234b2'), 'name': 'Pens', 'price': 12.460032, 'seller': 'Raymond'}\n",
      "{'_id': ObjectId('63880cb1bd286215efa234b3'), 'name': 'Mug', 'price': 14.049984000000002}\n",
      "{'_id': ObjectId('6388092abd286215efa234b0'), 'name': 'Water Bottle', 'price': 16.061760000000003}\n",
      "{'_id': ObjectId('638ab0b6b64a67e2de9d01fb'), 'product_name': 'Bag', 'price': 27.862016000000004, 'seller': 'Raymond'}\n"
     ]
    }
   ],
   "source": [
    "for document in products_col.find({}).sort(\n",
    "    [(\"price\", pymongo.ASCENDING), \n",
    "     (\"name\", pymongo.ASCENDING)]):\n",
    "    print(document)"
   ]
  },
  {
   "cell_type": "markdown",
   "id": "b7530a41",
   "metadata": {},
   "source": [
    "### skip() and limit()"
   ]
  },
  {
   "cell_type": "code",
   "execution_count": 19,
   "id": "8a18d257",
   "metadata": {},
   "outputs": [
    {
     "name": "stdout",
     "output_type": "stream",
     "text": [
      "{'_id': ObjectId('6388076dbd286215efa234af'), 'name': 'Pens', 'price': 12.460032}\n",
      "{'_id': ObjectId('6388092abd286215efa234b0'), 'name': 'Water Bottle', 'price': 16.061760000000003}\n",
      "{'_id': ObjectId('6388092abd286215efa234b1'), 'name': 'Jar', 'price': 5.397184}\n",
      "{'_id': ObjectId('63880a17bd286215efa234b2'), 'name': 'Pens', 'price': 12.460032, 'seller': 'Raymond'}\n",
      "{'_id': ObjectId('63880cb1bd286215efa234b3'), 'name': 'Mug', 'price': 14.049984000000002}\n"
     ]
    }
   ],
   "source": [
    "for document in products_col.find({}).limit(5):\n",
    "    print(document)"
   ]
  },
  {
   "cell_type": "code",
   "execution_count": 20,
   "id": "9a50bdd8",
   "metadata": {},
   "outputs": [
    {
     "name": "stdout",
     "output_type": "stream",
     "text": [
      "{'_id': ObjectId('63880cb1bd286215efa234b3'), 'name': 'Mug', 'price': 14.049984000000002}\n",
      "{'_id': ObjectId('638ab0b6b64a67e2de9d01fb'), 'product_name': 'Bag', 'price': 27.862016000000004, 'seller': 'Raymond'}\n",
      "{'_id': ObjectId('638ab4d5fcce23a63c41d2cc'), 'name': 'Hat', 'price': 12.460032}\n"
     ]
    }
   ],
   "source": [
    "for document in products_col.find({}).skip(4):\n",
    "    print(document)"
   ]
  },
  {
   "cell_type": "code",
   "execution_count": 21,
   "id": "ee917743",
   "metadata": {},
   "outputs": [
    {
     "name": "stdout",
     "output_type": "stream",
     "text": [
      "\n",
      "-- Page 1 --\n",
      "{'_id': ObjectId('6388076dbd286215efa234af'), 'name': 'Pens', 'price': 12.460032}\n",
      "{'_id': ObjectId('6388092abd286215efa234b0'), 'name': 'Water Bottle', 'price': 16.061760000000003}\n",
      "{'_id': ObjectId('6388092abd286215efa234b1'), 'name': 'Jar', 'price': 5.397184}\n",
      "{'_id': ObjectId('63880a17bd286215efa234b2'), 'name': 'Pens', 'price': 12.460032, 'seller': 'Raymond'}\n",
      "{'_id': ObjectId('63880cb1bd286215efa234b3'), 'name': 'Mug', 'price': 14.049984000000002}\n",
      "\n",
      "-- Page 2 --\n",
      "{'_id': ObjectId('638ab0b6b64a67e2de9d01fb'), 'product_name': 'Bag', 'price': 27.862016000000004, 'seller': 'Raymond'}\n",
      "{'_id': ObjectId('638ab4d5fcce23a63c41d2cc'), 'name': 'Hat', 'price': 12.460032}\n"
     ]
    }
   ],
   "source": [
    "page_item_limit = 5\n",
    "\n",
    "products_cursor = products_col.find({})\n",
    "\n",
    "for page_num in [1, 2]:\n",
    "    print(\"\\n-- Page {} --\".format(page_num))\n",
    "    for document in products_col.find({}).skip((page_num-1)*page_item_limit).limit(page_item_limit):\n",
    "        print(document)"
   ]
  },
  {
   "cell_type": "markdown",
   "id": "f1a1358b",
   "metadata": {},
   "source": [
    "### cursor.count() vs collection.count_documents()\n",
    "* cursor.count() is no longer available. Use collection.count_documents()"
   ]
  },
  {
   "cell_type": "code",
   "execution_count": 22,
   "id": "d94ecbc2",
   "metadata": {},
   "outputs": [],
   "source": [
    "find_query_filter = {\"name\": \"Pens\"}\n",
    "find_cursor = products_col.find(find_query_filter)"
   ]
  },
  {
   "cell_type": "code",
   "execution_count": 27,
   "id": "2d93e393",
   "metadata": {},
   "outputs": [
    {
     "ename": "AttributeError",
     "evalue": "'Cursor' object has no attribute 'count'",
     "output_type": "error",
     "traceback": [
      "\u001b[1;31m---------------------------------------------------------------------------\u001b[0m",
      "\u001b[1;31mAttributeError\u001b[0m                            Traceback (most recent call last)",
      "Cell \u001b[1;32mIn [27], line 1\u001b[0m\n\u001b[1;32m----> 1\u001b[0m \u001b[43mfind_cursor\u001b[49m\u001b[38;5;241;43m.\u001b[39;49m\u001b[43mcount\u001b[49m()\n",
      "\u001b[1;31mAttributeError\u001b[0m: 'Cursor' object has no attribute 'count'"
     ]
    }
   ],
   "source": [
    "find_cursor.count()"
   ]
  },
  {
   "cell_type": "code",
   "execution_count": 32,
   "id": "987029f8",
   "metadata": {},
   "outputs": [
    {
     "data": {
      "text/plain": [
       "2"
      ]
     },
     "execution_count": 32,
     "metadata": {},
     "output_type": "execute_result"
    }
   ],
   "source": [
    "products_col.count_documents(find_query_filter)"
   ]
  },
  {
   "cell_type": "code",
   "execution_count": 39,
   "id": "439b5590",
   "metadata": {},
   "outputs": [],
   "source": [
    "find_cursor_skip = products_col.find(find_query_filter).skip(1)"
   ]
  },
  {
   "cell_type": "markdown",
   "id": "e1caf863",
   "metadata": {},
   "source": [
    "### distinct()"
   ]
  },
  {
   "cell_type": "code",
   "execution_count": 40,
   "id": "f996db10",
   "metadata": {},
   "outputs": [],
   "source": [
    "products_cursor = products_col.find({})"
   ]
  },
  {
   "cell_type": "code",
   "execution_count": 41,
   "id": "cb031245",
   "metadata": {},
   "outputs": [
    {
     "data": {
      "text/plain": [
       "['Hat', 'Jar', 'Mug', 'Pens', 'Water Bottle']"
      ]
     },
     "execution_count": 41,
     "metadata": {},
     "output_type": "execute_result"
    }
   ],
   "source": [
    "products_cursor.distinct(\"name\")"
   ]
  },
  {
   "cell_type": "code",
   "execution_count": 42,
   "id": "6b969998",
   "metadata": {},
   "outputs": [
    {
     "name": "stdout",
     "output_type": "stream",
     "text": [
      "5 unique product names found vs 7 total entries\n"
     ]
    }
   ],
   "source": [
    "distinct_count = len(products_cursor.distinct(\"name\"))\n",
    "all_count = products_col.count_documents({})\n",
    "\n",
    "print(\"{} unique product names found vs {} total entries\".format(distinct_count, all_count))"
   ]
  },
  {
   "cell_type": "markdown",
   "id": "1ec0efb8",
   "metadata": {},
   "source": [
    "### Using projection\n",
    "* {`column_name: 1`} means only show the column\n",
    "* {`column_name: 0`} means do not show the column, only show other columns\n",
    "* no projection means show every column"
   ]
  },
  {
   "cell_type": "code",
   "execution_count": 56,
   "id": "11dda99c",
   "metadata": {},
   "outputs": [],
   "source": [
    "find_projection_cursor = products_col.find({\"name\": \"Pens\"}, {\"price\": 1})"
   ]
  },
  {
   "cell_type": "code",
   "execution_count": 57,
   "id": "d812d2b0",
   "metadata": {},
   "outputs": [
    {
     "name": "stdout",
     "output_type": "stream",
     "text": [
      "{'_id': ObjectId('6388076dbd286215efa234af'), 'price': 12.460032}\n",
      "{'_id': ObjectId('63880a17bd286215efa234b2'), 'price': 12.460032}\n"
     ]
    }
   ],
   "source": [
    "for document in find_projection_cursor:\n",
    "    print(document)"
   ]
  },
  {
   "cell_type": "code",
   "execution_count": 51,
   "id": "c779b658",
   "metadata": {},
   "outputs": [
    {
     "data": {
      "text/plain": [
       "{'_id': ObjectId('6388076dbd286215efa234af'), 'price': 12.460032}"
      ]
     },
     "execution_count": 51,
     "metadata": {},
     "output_type": "execute_result"
    }
   ],
   "source": [
    "products_col.find_one({\"name\": \"Pens\"}, {\"price\": 1})"
   ]
  },
  {
   "cell_type": "code",
   "execution_count": 59,
   "id": "0d090ec4",
   "metadata": {},
   "outputs": [
    {
     "name": "stdout",
     "output_type": "stream",
     "text": [
      "{'_id': ObjectId('6388076dbd286215efa234af'), 'name': 'Pens', 'price': 12.460032}\n",
      "{'_id': ObjectId('63880a17bd286215efa234b2'), 'name': 'Pens', 'price': 12.460032, 'seller': 'Raymond'}\n"
     ]
    }
   ],
   "source": [
    "find_projection_cursor = products_col.find({\"name\": \"Pens\"})\n",
    "for document in find_projection_cursor:\n",
    "    print(document)"
   ]
  },
  {
   "cell_type": "code",
   "execution_count": null,
   "id": "8fdde2d6",
   "metadata": {},
   "outputs": [],
   "source": []
  }
 ],
 "metadata": {
  "kernelspec": {
   "display_name": "Python 3 (ipykernel)",
   "language": "python",
   "name": "python3"
  },
  "language_info": {
   "codemirror_mode": {
    "name": "ipython",
    "version": 3
   },
   "file_extension": ".py",
   "mimetype": "text/x-python",
   "name": "python",
   "nbconvert_exporter": "python",
   "pygments_lexer": "ipython3",
   "version": "3.8.15"
  }
 },
 "nbformat": 4,
 "nbformat_minor": 5
}

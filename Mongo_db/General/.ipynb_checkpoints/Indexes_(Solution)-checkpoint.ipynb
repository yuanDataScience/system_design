{
 "cells": [
  {
   "cell_type": "markdown",
   "id": "c8c78f2d",
   "metadata": {},
   "source": [
    "# Creating Indexes\n",
    "\n",
    "Learn how to implment indexes in our database to allow our queries to run faster for specific queries"
   ]
  },
  {
   "cell_type": "code",
   "execution_count": 1,
   "id": "e854a4ff",
   "metadata": {},
   "outputs": [],
   "source": [
    "from pymongo import MongoClient"
   ]
  },
  {
   "cell_type": "code",
   "execution_count": 2,
   "id": "2b9e8d80",
   "metadata": {},
   "outputs": [],
   "source": [
    "client = MongoClient(\"mongodb://localhost:27017/\")\n",
    "db = client[\"performance_db\"]\n",
    "zips_col = db[\"zips\"]"
   ]
  },
  {
   "cell_type": "markdown",
   "id": "06f22ded",
   "metadata": {},
   "source": [
    "### Looking at Query Stats"
   ]
  },
  {
   "cell_type": "code",
   "execution_count": 3,
   "id": "bcc7c43e",
   "metadata": {},
   "outputs": [
    {
     "data": {
      "text/plain": [
       "{'_id': '96819',\n",
       " 'city': 'HONOLULU',\n",
       " 'loc': [-157.875947, 21.34877],\n",
       " 'pop': 50584,\n",
       " 'state': 'HI'}"
      ]
     },
     "execution_count": 3,
     "metadata": {},
     "output_type": "execute_result"
    }
   ],
   "source": [
    "zips_col.find_one({\"_id\": \"96819\"})"
   ]
  },
  {
   "cell_type": "code",
   "execution_count": 4,
   "id": "72e70524",
   "metadata": {},
   "outputs": [
    {
     "data": {
      "text/plain": [
       "<pymongo.cursor.Cursor at 0x187b2583fd0>"
      ]
     },
     "execution_count": 4,
     "metadata": {},
     "output_type": "execute_result"
    }
   ],
   "source": [
    "zips_col.find({\"_id\": \"96819\"})"
   ]
  },
  {
   "cell_type": "code",
   "execution_count": 5,
   "id": "7de6d998",
   "metadata": {},
   "outputs": [
    {
     "data": {
      "text/plain": [
       "{'executionSuccess': True,\n",
       " 'nReturned': 1,\n",
       " 'executionTimeMillis': 0,\n",
       " 'totalKeysExamined': 1,\n",
       " 'totalDocsExamined': 1,\n",
       " 'executionStages': {'stage': 'IDHACK',\n",
       "  'nReturned': 1,\n",
       "  'executionTimeMillisEstimate': 0,\n",
       "  'works': 2,\n",
       "  'advanced': 1,\n",
       "  'needTime': 0,\n",
       "  'needYield': 0,\n",
       "  'saveState': 0,\n",
       "  'restoreState': 0,\n",
       "  'isEOF': 1,\n",
       "  'keysExamined': 1,\n",
       "  'docsExamined': 1},\n",
       " 'allPlansExecution': []}"
      ]
     },
     "execution_count": 5,
     "metadata": {},
     "output_type": "execute_result"
    }
   ],
   "source": [
    "zips_col.find({\"_id\": \"96818\"}).explain()[\"executionStats\"]"
   ]
  },
  {
   "cell_type": "code",
   "execution_count": 6,
   "id": "44a8692b",
   "metadata": {},
   "outputs": [
    {
     "data": {
      "text/plain": [
       "{'executionSuccess': True,\n",
       " 'nReturned': 1,\n",
       " 'executionTimeMillis': 17,\n",
       " 'totalKeysExamined': 0,\n",
       " 'totalDocsExamined': 29353,\n",
       " 'executionStages': {'stage': 'COLLSCAN',\n",
       "  'filter': {'loc': {'$eq': [-157.875947, 21.34877]}},\n",
       "  'nReturned': 1,\n",
       "  'executionTimeMillisEstimate': 0,\n",
       "  'works': 29355,\n",
       "  'advanced': 1,\n",
       "  'needTime': 29353,\n",
       "  'needYield': 0,\n",
       "  'saveState': 29,\n",
       "  'restoreState': 29,\n",
       "  'isEOF': 1,\n",
       "  'direction': 'forward',\n",
       "  'docsExamined': 29353},\n",
       " 'allPlansExecution': []}"
      ]
     },
     "execution_count": 6,
     "metadata": {},
     "output_type": "execute_result"
    }
   ],
   "source": [
    "zips_col.find({'loc': [-157.875947, 21.34877]}).explain()[\"executionStats\"]"
   ]
  },
  {
   "cell_type": "code",
   "execution_count": 7,
   "id": "9c7cf544",
   "metadata": {},
   "outputs": [
    {
     "data": {
      "text/plain": [
       "{'executionSuccess': True,\n",
       " 'nReturned': 11,\n",
       " 'executionTimeMillis': 11,\n",
       " 'totalKeysExamined': 0,\n",
       " 'totalDocsExamined': 29353,\n",
       " 'executionStages': {'stage': 'COLLSCAN',\n",
       "  'filter': {'city': {'$eq': 'HONOLULU'}},\n",
       "  'nReturned': 11,\n",
       "  'executionTimeMillisEstimate': 2,\n",
       "  'works': 29355,\n",
       "  'advanced': 11,\n",
       "  'needTime': 29343,\n",
       "  'needYield': 0,\n",
       "  'saveState': 29,\n",
       "  'restoreState': 29,\n",
       "  'isEOF': 1,\n",
       "  'direction': 'forward',\n",
       "  'docsExamined': 29353},\n",
       " 'allPlansExecution': []}"
      ]
     },
     "execution_count": 7,
     "metadata": {},
     "output_type": "execute_result"
    }
   ],
   "source": [
    "zips_col.find({'city': \"HONOLULU\"}).explain()[\"executionStats\"]"
   ]
  },
  {
   "cell_type": "markdown",
   "id": "0fe11bc8",
   "metadata": {},
   "source": [
    "### Implementing Indexes"
   ]
  },
  {
   "cell_type": "code",
   "execution_count": 8,
   "id": "9247e8be",
   "metadata": {},
   "outputs": [
    {
     "data": {
      "text/plain": [
       "{'_id_': {'v': 2, 'key': [('_id', 1)]}}"
      ]
     },
     "execution_count": 8,
     "metadata": {},
     "output_type": "execute_result"
    }
   ],
   "source": [
    "zips_col.index_information()"
   ]
  },
  {
   "cell_type": "code",
   "execution_count": 9,
   "id": "78bd9f3f",
   "metadata": {},
   "outputs": [
    {
     "data": {
      "text/plain": [
       "'city_1'"
      ]
     },
     "execution_count": 9,
     "metadata": {},
     "output_type": "execute_result"
    }
   ],
   "source": [
    "zips_col.create_index([(\"city\", 1)])"
   ]
  },
  {
   "cell_type": "code",
   "execution_count": 10,
   "id": "21a50827",
   "metadata": {},
   "outputs": [
    {
     "data": {
      "text/plain": [
       "{'_id_': {'v': 2, 'key': [('_id', 1)]},\n",
       " 'city_1': {'v': 2, 'key': [('city', 1)]}}"
      ]
     },
     "execution_count": 10,
     "metadata": {},
     "output_type": "execute_result"
    }
   ],
   "source": [
    "zips_col.index_information()"
   ]
  },
  {
   "cell_type": "code",
   "execution_count": 11,
   "id": "e3e25ced",
   "metadata": {},
   "outputs": [
    {
     "data": {
      "text/plain": [
       "{'executionSuccess': True,\n",
       " 'nReturned': 11,\n",
       " 'executionTimeMillis': 0,\n",
       " 'totalKeysExamined': 11,\n",
       " 'totalDocsExamined': 11,\n",
       " 'executionStages': {'stage': 'FETCH',\n",
       "  'nReturned': 11,\n",
       "  'executionTimeMillisEstimate': 0,\n",
       "  'works': 12,\n",
       "  'advanced': 11,\n",
       "  'needTime': 0,\n",
       "  'needYield': 0,\n",
       "  'saveState': 0,\n",
       "  'restoreState': 0,\n",
       "  'isEOF': 1,\n",
       "  'docsExamined': 11,\n",
       "  'alreadyHasObj': 0,\n",
       "  'inputStage': {'stage': 'IXSCAN',\n",
       "   'nReturned': 11,\n",
       "   'executionTimeMillisEstimate': 0,\n",
       "   'works': 12,\n",
       "   'advanced': 11,\n",
       "   'needTime': 0,\n",
       "   'needYield': 0,\n",
       "   'saveState': 0,\n",
       "   'restoreState': 0,\n",
       "   'isEOF': 1,\n",
       "   'keyPattern': {'city': 1},\n",
       "   'indexName': 'city_1',\n",
       "   'isMultiKey': False,\n",
       "   'multiKeyPaths': {'city': []},\n",
       "   'isUnique': False,\n",
       "   'isSparse': False,\n",
       "   'isPartial': False,\n",
       "   'indexVersion': 2,\n",
       "   'direction': 'forward',\n",
       "   'indexBounds': {'city': ['[\"HONOLULU\", \"HONOLULU\"]']},\n",
       "   'keysExamined': 11,\n",
       "   'seeks': 1,\n",
       "   'dupsTested': 0,\n",
       "   'dupsDropped': 0}},\n",
       " 'allPlansExecution': []}"
      ]
     },
     "execution_count": 11,
     "metadata": {},
     "output_type": "execute_result"
    }
   ],
   "source": [
    "zips_col.find({'city': \"HONOLULU\"}).explain()[\"executionStats\"]"
   ]
  },
  {
   "cell_type": "code",
   "execution_count": 12,
   "id": "9808e898",
   "metadata": {},
   "outputs": [
    {
     "data": {
      "text/plain": [
       "{'executionSuccess': True,\n",
       " 'nReturned': 1,\n",
       " 'executionTimeMillis': 17,\n",
       " 'totalKeysExamined': 0,\n",
       " 'totalDocsExamined': 29353,\n",
       " 'executionStages': {'stage': 'COLLSCAN',\n",
       "  'filter': {'loc': {'$eq': [-157.875947, 21.34877]}},\n",
       "  'nReturned': 1,\n",
       "  'executionTimeMillisEstimate': 2,\n",
       "  'works': 29355,\n",
       "  'advanced': 1,\n",
       "  'needTime': 29353,\n",
       "  'needYield': 0,\n",
       "  'saveState': 29,\n",
       "  'restoreState': 29,\n",
       "  'isEOF': 1,\n",
       "  'direction': 'forward',\n",
       "  'docsExamined': 29353},\n",
       " 'allPlansExecution': []}"
      ]
     },
     "execution_count": 12,
     "metadata": {},
     "output_type": "execute_result"
    }
   ],
   "source": [
    "zips_col.find({'loc': [-157.875947, 21.34877]}).explain()[\"executionStats\"]"
   ]
  },
  {
   "cell_type": "markdown",
   "id": "b3dd972d",
   "metadata": {},
   "source": [
    "### Compound Indexes"
   ]
  },
  {
   "cell_type": "code",
   "execution_count": 13,
   "id": "ada402d6",
   "metadata": {},
   "outputs": [
    {
     "data": {
      "text/plain": [
       "{'executionSuccess': True,\n",
       " 'nReturned': 23,\n",
       " 'executionTimeMillis': 0,\n",
       " 'totalKeysExamined': 41,\n",
       " 'totalDocsExamined': 41,\n",
       " 'executionStages': {'stage': 'FETCH',\n",
       "  'filter': {'state': {'$eq': 'DC'}},\n",
       "  'nReturned': 23,\n",
       "  'executionTimeMillisEstimate': 0,\n",
       "  'works': 42,\n",
       "  'advanced': 23,\n",
       "  'needTime': 18,\n",
       "  'needYield': 0,\n",
       "  'saveState': 0,\n",
       "  'restoreState': 0,\n",
       "  'isEOF': 1,\n",
       "  'docsExamined': 41,\n",
       "  'alreadyHasObj': 0,\n",
       "  'inputStage': {'stage': 'IXSCAN',\n",
       "   'nReturned': 41,\n",
       "   'executionTimeMillisEstimate': 0,\n",
       "   'works': 42,\n",
       "   'advanced': 41,\n",
       "   'needTime': 0,\n",
       "   'needYield': 0,\n",
       "   'saveState': 0,\n",
       "   'restoreState': 0,\n",
       "   'isEOF': 1,\n",
       "   'keyPattern': {'city': 1},\n",
       "   'indexName': 'city_1',\n",
       "   'isMultiKey': False,\n",
       "   'multiKeyPaths': {'city': []},\n",
       "   'isUnique': False,\n",
       "   'isSparse': False,\n",
       "   'isPartial': False,\n",
       "   'indexVersion': 2,\n",
       "   'direction': 'forward',\n",
       "   'indexBounds': {'city': ['[\"WASHINGTON\", \"WASHINGTON\"]']},\n",
       "   'keysExamined': 41,\n",
       "   'seeks': 1,\n",
       "   'dupsTested': 0,\n",
       "   'dupsDropped': 0}},\n",
       " 'allPlansExecution': []}"
      ]
     },
     "execution_count": 13,
     "metadata": {},
     "output_type": "execute_result"
    }
   ],
   "source": [
    "zips_col.find({\"city\": \"WASHINGTON\", \"state\": \"DC\"}).explain()[\"executionStats\"]"
   ]
  },
  {
   "cell_type": "code",
   "execution_count": 14,
   "id": "f27990cd",
   "metadata": {},
   "outputs": [
    {
     "data": {
      "text/plain": [
       "'city_1_state_1'"
      ]
     },
     "execution_count": 14,
     "metadata": {},
     "output_type": "execute_result"
    }
   ],
   "source": [
    "zips_col.create_index([(\"city\", 1), (\"state\", 1)])"
   ]
  },
  {
   "cell_type": "code",
   "execution_count": 15,
   "id": "85cce3ba",
   "metadata": {},
   "outputs": [
    {
     "data": {
      "text/plain": [
       "{'_id_': {'v': 2, 'key': [('_id', 1)]},\n",
       " 'city_1': {'v': 2, 'key': [('city', 1)]},\n",
       " 'city_1_state_1': {'v': 2, 'key': [('city', 1), ('state', 1)]}}"
      ]
     },
     "execution_count": 15,
     "metadata": {},
     "output_type": "execute_result"
    }
   ],
   "source": [
    "zips_col.index_information()"
   ]
  },
  {
   "cell_type": "code",
   "execution_count": 16,
   "id": "7d691dc1",
   "metadata": {
    "scrolled": true
   },
   "outputs": [
    {
     "data": {
      "text/plain": [
       "{'executionSuccess': True,\n",
       " 'nReturned': 23,\n",
       " 'executionTimeMillis': 1,\n",
       " 'totalKeysExamined': 23,\n",
       " 'totalDocsExamined': 23,\n",
       " 'executionStages': {'stage': 'FETCH',\n",
       "  'nReturned': 23,\n",
       "  'executionTimeMillisEstimate': 0,\n",
       "  'works': 25,\n",
       "  'advanced': 23,\n",
       "  'needTime': 0,\n",
       "  'needYield': 0,\n",
       "  'saveState': 0,\n",
       "  'restoreState': 0,\n",
       "  'isEOF': 1,\n",
       "  'docsExamined': 23,\n",
       "  'alreadyHasObj': 0,\n",
       "  'inputStage': {'stage': 'IXSCAN',\n",
       "   'nReturned': 23,\n",
       "   'executionTimeMillisEstimate': 0,\n",
       "   'works': 24,\n",
       "   'advanced': 23,\n",
       "   'needTime': 0,\n",
       "   'needYield': 0,\n",
       "   'saveState': 0,\n",
       "   'restoreState': 0,\n",
       "   'isEOF': 1,\n",
       "   'keyPattern': {'city': 1, 'state': 1},\n",
       "   'indexName': 'city_1_state_1',\n",
       "   'isMultiKey': False,\n",
       "   'multiKeyPaths': {'city': [], 'state': []},\n",
       "   'isUnique': False,\n",
       "   'isSparse': False,\n",
       "   'isPartial': False,\n",
       "   'indexVersion': 2,\n",
       "   'direction': 'forward',\n",
       "   'indexBounds': {'city': ['[\"WASHINGTON\", \"WASHINGTON\"]'],\n",
       "    'state': ['[\"DC\", \"DC\"]']},\n",
       "   'keysExamined': 23,\n",
       "   'seeks': 1,\n",
       "   'dupsTested': 0,\n",
       "   'dupsDropped': 0}},\n",
       " 'allPlansExecution': [{'nReturned': 23,\n",
       "   'executionTimeMillisEstimate': 0,\n",
       "   'totalKeysExamined': 23,\n",
       "   'totalDocsExamined': 23,\n",
       "   'executionStages': {'stage': 'FETCH',\n",
       "    'nReturned': 23,\n",
       "    'executionTimeMillisEstimate': 0,\n",
       "    'works': 24,\n",
       "    'advanced': 23,\n",
       "    'needTime': 0,\n",
       "    'needYield': 0,\n",
       "    'saveState': 0,\n",
       "    'restoreState': 0,\n",
       "    'isEOF': 1,\n",
       "    'docsExamined': 23,\n",
       "    'alreadyHasObj': 0,\n",
       "    'inputStage': {'stage': 'IXSCAN',\n",
       "     'nReturned': 23,\n",
       "     'executionTimeMillisEstimate': 0,\n",
       "     'works': 24,\n",
       "     'advanced': 23,\n",
       "     'needTime': 0,\n",
       "     'needYield': 0,\n",
       "     'saveState': 0,\n",
       "     'restoreState': 0,\n",
       "     'isEOF': 1,\n",
       "     'keyPattern': {'city': 1, 'state': 1},\n",
       "     'indexName': 'city_1_state_1',\n",
       "     'isMultiKey': False,\n",
       "     'multiKeyPaths': {'city': [], 'state': []},\n",
       "     'isUnique': False,\n",
       "     'isSparse': False,\n",
       "     'isPartial': False,\n",
       "     'indexVersion': 2,\n",
       "     'direction': 'forward',\n",
       "     'indexBounds': {'city': ['[\"WASHINGTON\", \"WASHINGTON\"]'],\n",
       "      'state': ['[\"DC\", \"DC\"]']},\n",
       "     'keysExamined': 23,\n",
       "     'seeks': 1,\n",
       "     'dupsTested': 0,\n",
       "     'dupsDropped': 0}}},\n",
       "  {'nReturned': 19,\n",
       "   'executionTimeMillisEstimate': 0,\n",
       "   'totalKeysExamined': 24,\n",
       "   'totalDocsExamined': 24,\n",
       "   'executionStages': {'stage': 'FETCH',\n",
       "    'filter': {'state': {'$eq': 'DC'}},\n",
       "    'nReturned': 19,\n",
       "    'executionTimeMillisEstimate': 0,\n",
       "    'works': 24,\n",
       "    'advanced': 19,\n",
       "    'needTime': 5,\n",
       "    'needYield': 0,\n",
       "    'saveState': 0,\n",
       "    'restoreState': 0,\n",
       "    'isEOF': 0,\n",
       "    'docsExamined': 24,\n",
       "    'alreadyHasObj': 0,\n",
       "    'inputStage': {'stage': 'IXSCAN',\n",
       "     'nReturned': 24,\n",
       "     'executionTimeMillisEstimate': 0,\n",
       "     'works': 24,\n",
       "     'advanced': 24,\n",
       "     'needTime': 0,\n",
       "     'needYield': 0,\n",
       "     'saveState': 0,\n",
       "     'restoreState': 0,\n",
       "     'isEOF': 0,\n",
       "     'keyPattern': {'city': 1},\n",
       "     'indexName': 'city_1',\n",
       "     'isMultiKey': False,\n",
       "     'multiKeyPaths': {'city': []},\n",
       "     'isUnique': False,\n",
       "     'isSparse': False,\n",
       "     'isPartial': False,\n",
       "     'indexVersion': 2,\n",
       "     'direction': 'forward',\n",
       "     'indexBounds': {'city': ['[\"WASHINGTON\", \"WASHINGTON\"]']},\n",
       "     'keysExamined': 24,\n",
       "     'seeks': 1,\n",
       "     'dupsTested': 0,\n",
       "     'dupsDropped': 0}}}]}"
      ]
     },
     "execution_count": 16,
     "metadata": {},
     "output_type": "execute_result"
    }
   ],
   "source": [
    "zips_col.find({\"city\": \"WASHINGTON\", \"state\": \"DC\"}).explain()[\"executionStats\"]"
   ]
  },
  {
   "cell_type": "markdown",
   "id": "e455306d",
   "metadata": {},
   "source": [
    "### Hiding Indexes\n",
    "\n",
    "Stop indexes from being used, without deleting them"
   ]
  },
  {
   "cell_type": "markdown",
   "id": "76df8ae9",
   "metadata": {},
   "source": [
    "##### Mongo Shell Command:\n",
    "\n",
    "```javascript\n",
    "db.zips.hideIndex(\"city_1\")\n",
    "db.zips.hideIndex(\"city_1_state_1\")\n",
    "```"
   ]
  },
  {
   "cell_type": "code",
   "execution_count": 17,
   "id": "e1540a50",
   "metadata": {},
   "outputs": [
    {
     "data": {
      "text/plain": [
       "{'_id_': {'v': 2, 'key': [('_id', 1)]},\n",
       " 'city_1': {'v': 2, 'key': [('city', 1)], 'hidden': True},\n",
       " 'city_1_state_1': {'v': 2,\n",
       "  'key': [('city', 1), ('state', 1)],\n",
       "  'hidden': True}}"
      ]
     },
     "execution_count": 17,
     "metadata": {},
     "output_type": "execute_result"
    }
   ],
   "source": [
    "zips_col.index_information()"
   ]
  },
  {
   "cell_type": "code",
   "execution_count": 18,
   "id": "02a2cb9d",
   "metadata": {},
   "outputs": [
    {
     "data": {
      "text/plain": [
       "{'executionSuccess': True,\n",
       " 'nReturned': 11,\n",
       " 'executionTimeMillis': 11,\n",
       " 'totalKeysExamined': 0,\n",
       " 'totalDocsExamined': 29353,\n",
       " 'executionStages': {'stage': 'COLLSCAN',\n",
       "  'filter': {'city': {'$eq': 'HONOLULU'}},\n",
       "  'nReturned': 11,\n",
       "  'executionTimeMillisEstimate': 0,\n",
       "  'works': 29355,\n",
       "  'advanced': 11,\n",
       "  'needTime': 29343,\n",
       "  'needYield': 0,\n",
       "  'saveState': 29,\n",
       "  'restoreState': 29,\n",
       "  'isEOF': 1,\n",
       "  'direction': 'forward',\n",
       "  'docsExamined': 29353},\n",
       " 'allPlansExecution': []}"
      ]
     },
     "execution_count": 18,
     "metadata": {},
     "output_type": "execute_result"
    }
   ],
   "source": [
    "zips_col.find({'city': \"HONOLULU\"}).explain()[\"executionStats\"]"
   ]
  },
  {
   "cell_type": "markdown",
   "id": "c8a43846",
   "metadata": {},
   "source": [
    "##### Mongo Shell Command (unhide):\n",
    "\n",
    "```javascript\n",
    "db.zips.unhideIndex(\"city_1\")\n",
    "db.zips.unhideIndex(\"city_1_state_1\")\n",
    "```"
   ]
  },
  {
   "cell_type": "code",
   "execution_count": 19,
   "id": "5950a7d8",
   "metadata": {},
   "outputs": [
    {
     "data": {
      "text/plain": [
       "{'_id_': {'v': 2, 'key': [('_id', 1)]},\n",
       " 'city_1': {'v': 2, 'key': [('city', 1)]},\n",
       " 'city_1_state_1': {'v': 2, 'key': [('city', 1), ('state', 1)]}}"
      ]
     },
     "execution_count": 19,
     "metadata": {},
     "output_type": "execute_result"
    }
   ],
   "source": [
    "zips_col.index_information()"
   ]
  },
  {
   "cell_type": "code",
   "execution_count": 20,
   "id": "05e1cae4",
   "metadata": {
    "scrolled": true
   },
   "outputs": [
    {
     "data": {
      "text/plain": [
       "{'executionSuccess': True,\n",
       " 'nReturned': 11,\n",
       " 'executionTimeMillis': 0,\n",
       " 'totalKeysExamined': 11,\n",
       " 'totalDocsExamined': 11,\n",
       " 'executionStages': {'stage': 'FETCH',\n",
       "  'nReturned': 11,\n",
       "  'executionTimeMillisEstimate': 0,\n",
       "  'works': 13,\n",
       "  'advanced': 11,\n",
       "  'needTime': 0,\n",
       "  'needYield': 0,\n",
       "  'saveState': 0,\n",
       "  'restoreState': 0,\n",
       "  'isEOF': 1,\n",
       "  'docsExamined': 11,\n",
       "  'alreadyHasObj': 0,\n",
       "  'inputStage': {'stage': 'IXSCAN',\n",
       "   'nReturned': 11,\n",
       "   'executionTimeMillisEstimate': 0,\n",
       "   'works': 12,\n",
       "   'advanced': 11,\n",
       "   'needTime': 0,\n",
       "   'needYield': 0,\n",
       "   'saveState': 0,\n",
       "   'restoreState': 0,\n",
       "   'isEOF': 1,\n",
       "   'keyPattern': {'city': 1},\n",
       "   'indexName': 'city_1',\n",
       "   'isMultiKey': False,\n",
       "   'multiKeyPaths': {'city': []},\n",
       "   'isUnique': False,\n",
       "   'isSparse': False,\n",
       "   'isPartial': False,\n",
       "   'indexVersion': 2,\n",
       "   'direction': 'forward',\n",
       "   'indexBounds': {'city': ['[\"HONOLULU\", \"HONOLULU\"]']},\n",
       "   'keysExamined': 11,\n",
       "   'seeks': 1,\n",
       "   'dupsTested': 0,\n",
       "   'dupsDropped': 0}},\n",
       " 'allPlansExecution': [{'nReturned': 11,\n",
       "   'executionTimeMillisEstimate': 0,\n",
       "   'totalKeysExamined': 11,\n",
       "   'totalDocsExamined': 11,\n",
       "   'executionStages': {'stage': 'FETCH',\n",
       "    'nReturned': 11,\n",
       "    'executionTimeMillisEstimate': 0,\n",
       "    'works': 12,\n",
       "    'advanced': 11,\n",
       "    'needTime': 0,\n",
       "    'needYield': 0,\n",
       "    'saveState': 0,\n",
       "    'restoreState': 0,\n",
       "    'isEOF': 1,\n",
       "    'docsExamined': 11,\n",
       "    'alreadyHasObj': 0,\n",
       "    'inputStage': {'stage': 'IXSCAN',\n",
       "     'nReturned': 11,\n",
       "     'executionTimeMillisEstimate': 0,\n",
       "     'works': 12,\n",
       "     'advanced': 11,\n",
       "     'needTime': 0,\n",
       "     'needYield': 0,\n",
       "     'saveState': 0,\n",
       "     'restoreState': 0,\n",
       "     'isEOF': 1,\n",
       "     'keyPattern': {'city': 1},\n",
       "     'indexName': 'city_1',\n",
       "     'isMultiKey': False,\n",
       "     'multiKeyPaths': {'city': []},\n",
       "     'isUnique': False,\n",
       "     'isSparse': False,\n",
       "     'isPartial': False,\n",
       "     'indexVersion': 2,\n",
       "     'direction': 'forward',\n",
       "     'indexBounds': {'city': ['[\"HONOLULU\", \"HONOLULU\"]']},\n",
       "     'keysExamined': 11,\n",
       "     'seeks': 1,\n",
       "     'dupsTested': 0,\n",
       "     'dupsDropped': 0}}},\n",
       "  {'nReturned': 11,\n",
       "   'executionTimeMillisEstimate': 0,\n",
       "   'totalKeysExamined': 11,\n",
       "   'totalDocsExamined': 11,\n",
       "   'executionStages': {'stage': 'FETCH',\n",
       "    'nReturned': 11,\n",
       "    'executionTimeMillisEstimate': 0,\n",
       "    'works': 12,\n",
       "    'advanced': 11,\n",
       "    'needTime': 0,\n",
       "    'needYield': 0,\n",
       "    'saveState': 0,\n",
       "    'restoreState': 0,\n",
       "    'isEOF': 1,\n",
       "    'docsExamined': 11,\n",
       "    'alreadyHasObj': 0,\n",
       "    'inputStage': {'stage': 'IXSCAN',\n",
       "     'nReturned': 11,\n",
       "     'executionTimeMillisEstimate': 0,\n",
       "     'works': 12,\n",
       "     'advanced': 11,\n",
       "     'needTime': 0,\n",
       "     'needYield': 0,\n",
       "     'saveState': 0,\n",
       "     'restoreState': 0,\n",
       "     'isEOF': 1,\n",
       "     'keyPattern': {'city': 1, 'state': 1},\n",
       "     'indexName': 'city_1_state_1',\n",
       "     'isMultiKey': False,\n",
       "     'multiKeyPaths': {'city': [], 'state': []},\n",
       "     'isUnique': False,\n",
       "     'isSparse': False,\n",
       "     'isPartial': False,\n",
       "     'indexVersion': 2,\n",
       "     'direction': 'forward',\n",
       "     'indexBounds': {'city': ['[\"HONOLULU\", \"HONOLULU\"]'],\n",
       "      'state': ['[MinKey, MaxKey]']},\n",
       "     'keysExamined': 11,\n",
       "     'seeks': 1,\n",
       "     'dupsTested': 0,\n",
       "     'dupsDropped': 0}}}]}"
      ]
     },
     "execution_count": 20,
     "metadata": {},
     "output_type": "execute_result"
    }
   ],
   "source": [
    "zips_col.find({'city': \"HONOLULU\"}).explain()[\"executionStats\"]"
   ]
  },
  {
   "cell_type": "markdown",
   "id": "2ac9300d",
   "metadata": {},
   "source": [
    "### Deleting Indexes"
   ]
  },
  {
   "cell_type": "code",
   "execution_count": 21,
   "id": "db18dcf1",
   "metadata": {},
   "outputs": [],
   "source": [
    "zips_col.drop_index(\"city_1\")"
   ]
  },
  {
   "cell_type": "code",
   "execution_count": 22,
   "id": "8fbe39b8",
   "metadata": {},
   "outputs": [],
   "source": [
    "zips_col.drop_index(\"city_1_state_1\")"
   ]
  },
  {
   "cell_type": "code",
   "execution_count": 23,
   "id": "7b4c2c4d",
   "metadata": {},
   "outputs": [
    {
     "data": {
      "text/plain": [
       "{'_id_': {'v': 2, 'key': [('_id', 1)]}}"
      ]
     },
     "execution_count": 23,
     "metadata": {},
     "output_type": "execute_result"
    }
   ],
   "source": [
    "zips_col.index_information()"
   ]
  },
  {
   "cell_type": "markdown",
   "id": "5b2320bf",
   "metadata": {},
   "source": [
    "### Mongo Shell Commands Format\n",
    "\n",
    "```javascript\n",
    "db.coll_name.getIndexes()\n",
    "db.coll_name.find({}).explain()\n",
    "db.coll_name.createIndex( { field_name: 1 } )\n",
    "db.coll_name.hideIndex(\"field_name\")\n",
    "db.coll_name.unhideIndex(\"field_name\")\n",
    "db.coll_name.dropIndex(\"field_name\")\n",
    "```"
   ]
  }
 ],
 "metadata": {
  "kernelspec": {
   "display_name": "Python 3 (ipykernel)",
   "language": "python",
   "name": "python3"
  },
  "language_info": {
   "codemirror_mode": {
    "name": "ipython",
    "version": 3
   },
   "file_extension": ".py",
   "mimetype": "text/x-python",
   "name": "python",
   "nbconvert_exporter": "python",
   "pygments_lexer": "ipython3",
   "version": "3.8.15"
  }
 },
 "nbformat": 4,
 "nbformat_minor": 5
}

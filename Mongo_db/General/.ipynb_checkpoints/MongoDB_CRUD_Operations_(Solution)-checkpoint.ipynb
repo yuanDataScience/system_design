{
 "cells": [
  {
   "cell_type": "markdown",
   "id": "b690c973",
   "metadata": {},
   "source": [
    "# MongoDB CRUD Operations\n",
    "\n",
    "Go over how to use the CRUD operation of our MongoDB instance within our Python code using the pymongo module. "
   ]
  },
  {
   "cell_type": "markdown",
   "id": "63d82484",
   "metadata": {},
   "source": [
    "### Import MongoClient instance from pymongo module"
   ]
  },
  {
   "cell_type": "code",
   "execution_count": 1,
   "id": "9f859079",
   "metadata": {},
   "outputs": [],
   "source": [
    "from pymongo import MongoClient"
   ]
  },
  {
   "cell_type": "markdown",
   "id": "4091368b",
   "metadata": {},
   "source": [
    "### Initalize A Client To Connect To MongoDB"
   ]
  },
  {
   "cell_type": "code",
   "execution_count": 2,
   "id": "23925406",
   "metadata": {},
   "outputs": [],
   "source": [
    "### Either format is acceptable:\n",
    "# client = MongoClient(\"localhost\", 27017)\n",
    "client = MongoClient(\"mongodb://localhost:27017/\")"
   ]
  },
  {
   "cell_type": "code",
   "execution_count": 3,
   "id": "2ad98224",
   "metadata": {},
   "outputs": [
    {
     "data": {
      "text/plain": [
       "MongoClient(host=['localhost:27017'], document_class=dict, tz_aware=False, connect=True)"
      ]
     },
     "execution_count": 3,
     "metadata": {},
     "output_type": "execute_result"
    }
   ],
   "source": [
    "client"
   ]
  },
  {
   "cell_type": "markdown",
   "id": "012432e6",
   "metadata": {},
   "source": [
    "### Connect to specific Database"
   ]
  },
  {
   "cell_type": "code",
   "execution_count": 4,
   "id": "cd4dd97d",
   "metadata": {},
   "outputs": [
    {
     "data": {
      "text/plain": [
       "['admin',\n",
       " 'advanced_features',\n",
       " 'aggregation_test',\n",
       " 'config',\n",
       " 'local',\n",
       " 'my_store',\n",
       " 'performance_db',\n",
       " 'test',\n",
       " 'video_game']"
      ]
     },
     "execution_count": 4,
     "metadata": {},
     "output_type": "execute_result"
    }
   ],
   "source": [
    "client.list_database_names()"
   ]
  },
  {
   "cell_type": "code",
   "execution_count": 5,
   "id": "5e4867a1",
   "metadata": {},
   "outputs": [],
   "source": [
    "#db = client.my_store\n",
    "db = client[\"my_store\"]"
   ]
  },
  {
   "cell_type": "code",
   "execution_count": 6,
   "id": "250299f3",
   "metadata": {},
   "outputs": [
    {
     "data": {
      "text/plain": [
       "Database(MongoClient(host=['localhost:27017'], document_class=dict, tz_aware=False, connect=True), 'my_store')"
      ]
     },
     "execution_count": 6,
     "metadata": {},
     "output_type": "execute_result"
    }
   ],
   "source": [
    "db"
   ]
  },
  {
   "cell_type": "markdown",
   "id": "e6149743",
   "metadata": {},
   "source": [
    "### Access a specific collection within the database"
   ]
  },
  {
   "cell_type": "code",
   "execution_count": 7,
   "id": "d155fed0",
   "metadata": {},
   "outputs": [
    {
     "name": "stdout",
     "output_type": "stream",
     "text": [
      "['products', 'users', 'items']\n"
     ]
    }
   ],
   "source": [
    "print(db.list_collection_names())"
   ]
  },
  {
   "cell_type": "code",
   "execution_count": 8,
   "id": "e235d5c9",
   "metadata": {},
   "outputs": [],
   "source": [
    "#users_col = db.users\n",
    "users_col = db[\"users\"]"
   ]
  },
  {
   "cell_type": "code",
   "execution_count": 9,
   "id": "16350c6e",
   "metadata": {},
   "outputs": [
    {
     "data": {
      "text/plain": [
       "Collection(Database(MongoClient(host=['localhost:27017'], document_class=dict, tz_aware=False, connect=True), 'my_store'), 'users')"
      ]
     },
     "execution_count": 9,
     "metadata": {},
     "output_type": "execute_result"
    }
   ],
   "source": [
    "users_col"
   ]
  },
  {
   "cell_type": "markdown",
   "id": "8b1658e2",
   "metadata": {},
   "source": [
    "### C - Create\n",
    "Go over how to create new entries in your Mongo Database"
   ]
  },
  {
   "cell_type": "code",
   "execution_count": 10,
   "id": "80369658",
   "metadata": {},
   "outputs": [
    {
     "data": {
      "text/plain": [
       "<pymongo.results.InsertOneResult at 0x1de93cbc400>"
      ]
     },
     "execution_count": 10,
     "metadata": {},
     "output_type": "execute_result"
    }
   ],
   "source": [
    "users_col.insert_one({\"name\": \"Sam Smith\", \"age\": 29})"
   ]
  },
  {
   "cell_type": "code",
   "execution_count": 11,
   "id": "b191a491",
   "metadata": {},
   "outputs": [],
   "source": [
    "new_user = {\n",
    "    \"name\": \"Keanu Reeves\",\n",
    "    \"age\": 57\n",
    "}"
   ]
  },
  {
   "cell_type": "code",
   "execution_count": null,
   "id": "ba95eb51",
   "metadata": {},
   "outputs": [],
   "source": [
    "users_col.insert_one(new_user)"
   ]
  },
  {
   "cell_type": "markdown",
   "id": "7a6adcda",
   "metadata": {},
   "source": [
    "### R - Read\n",
    "Go over how to read in entries that are in your Mongo Database"
   ]
  },
  {
   "cell_type": "code",
   "execution_count": null,
   "id": "cc81de6b",
   "metadata": {},
   "outputs": [],
   "source": [
    "users_col.find_one({\"name\": \"Keanu Reeves\", \"age\": 57})"
   ]
  },
  {
   "cell_type": "code",
   "execution_count": null,
   "id": "775c5f1f",
   "metadata": {},
   "outputs": [],
   "source": [
    "users_col.find_one(new_user)"
   ]
  },
  {
   "cell_type": "markdown",
   "id": "f09802a7",
   "metadata": {},
   "source": [
    "### U - Update\n",
    "Go over how to update existing entries that are in your Mongo Database"
   ]
  },
  {
   "cell_type": "code",
   "execution_count": null,
   "id": "c7689535",
   "metadata": {},
   "outputs": [],
   "source": [
    "users_col.update_one({\"name\": \"Sam Smith\"}, {\"$set\": {\"name\": \"Will Smith\", \"age\": 53}})"
   ]
  },
  {
   "cell_type": "markdown",
   "id": "91afa8f8",
   "metadata": {},
   "source": [
    "### D - Delete\n",
    "Go over how to delete entries that are in your Mongo Database"
   ]
  },
  {
   "cell_type": "code",
   "execution_count": null,
   "id": "b182eb7d",
   "metadata": {},
   "outputs": [],
   "source": [
    "users_col.delete_one({\"name\": \"Will Smith\"})"
   ]
  },
  {
   "cell_type": "code",
   "execution_count": null,
   "id": "b5c1c200",
   "metadata": {},
   "outputs": [],
   "source": [
    "users_col.delete_many({})"
   ]
  },
  {
   "cell_type": "code",
   "execution_count": null,
   "id": "d9cf5fdb",
   "metadata": {},
   "outputs": [],
   "source": []
  }
 ],
 "metadata": {
  "kernelspec": {
   "display_name": "Python 3 (ipykernel)",
   "language": "python",
   "name": "python3"
  },
  "language_info": {
   "codemirror_mode": {
    "name": "ipython",
    "version": 3
   },
   "file_extension": ".py",
   "mimetype": "text/x-python",
   "name": "python",
   "nbconvert_exporter": "python",
   "pygments_lexer": "ipython3",
   "version": "3.8.15"
  }
 },
 "nbformat": 4,
 "nbformat_minor": 5
}

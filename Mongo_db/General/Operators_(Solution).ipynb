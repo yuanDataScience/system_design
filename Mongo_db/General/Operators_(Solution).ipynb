{
 "cells": [
  {
   "cell_type": "markdown",
   "id": "3dc5cae0",
   "metadata": {},
   "source": [
    "# MongoDB Operators\n",
    "\n",
    "Go over the usage of common operators within pymongo queries"
   ]
  },
  {
   "cell_type": "code",
   "execution_count": 1,
   "id": "0c683e75",
   "metadata": {},
   "outputs": [],
   "source": [
    "import pymongo\n",
    "from pymongo import MongoClient"
   ]
  },
  {
   "cell_type": "markdown",
   "id": "5fd1cbd3",
   "metadata": {},
   "source": [
    "### Initalize A Client, Connect To DB, Speicfy Collection"
   ]
  },
  {
   "cell_type": "code",
   "execution_count": 2,
   "id": "2671ea67",
   "metadata": {},
   "outputs": [],
   "source": [
    "client = MongoClient(\"mongodb://localhost:27017/\")\n",
    "db = client[\"my_store\"]\n",
    "products_col = db[\"products\"]"
   ]
  },
  {
   "cell_type": "markdown",
   "id": "0e1c6bd0",
   "metadata": {},
   "source": [
    "### Helper Function to print all entries in a cursor"
   ]
  },
  {
   "cell_type": "code",
   "execution_count": 3,
   "id": "2112912d",
   "metadata": {},
   "outputs": [],
   "source": [
    "def print_cursor(cursor):\n",
    "    for document in cursor:\n",
    "        print(document)"
   ]
  },
  {
   "cell_type": "markdown",
   "id": "722f39ae",
   "metadata": {},
   "source": [
    "### Comparison Operators"
   ]
  },
  {
   "cell_type": "markdown",
   "id": "6cf43416",
   "metadata": {},
   "source": [
    "###### $lt - Less Than"
   ]
  },
  {
   "cell_type": "code",
   "execution_count": 4,
   "id": "4e6b4f49",
   "metadata": {},
   "outputs": [
    {
     "name": "stdout",
     "output_type": "stream",
     "text": [
      "{'_id': ObjectId('61551dc9fbfbc4ad4b253194'), 'name': 'Notebook', 'price': 4.99}\n",
      "{'_id': ObjectId('61551dc9fbfbc4ad4b253195'), 'name': 'Pens', 'price': 9.58}\n",
      "{'_id': ObjectId('61551dc9fbfbc4ad4b253197'), 'name': 'Jar', 'price': 4.99}\n",
      "{'_id': ObjectId('61551dcffbfbc4ad4b253198'), 'name': 'Pens', 'price': 9.58}\n"
     ]
    }
   ],
   "source": [
    "lt_cursor = products_col.find({\"price\":{ \"$lt\": 10.00}})\n",
    "print_cursor(lt_cursor)"
   ]
  },
  {
   "cell_type": "markdown",
   "id": "de88b1cc",
   "metadata": {},
   "source": [
    "###### $gte - Greater Than or Equal To (combined with another operator)"
   ]
  },
  {
   "cell_type": "code",
   "execution_count": 5,
   "id": "a19644da",
   "metadata": {},
   "outputs": [
    {
     "name": "stdout",
     "output_type": "stream",
     "text": [
      "{'_id': ObjectId('61551dc9fbfbc4ad4b253194'), 'name': 'Notebook', 'price': 4.99}\n",
      "{'_id': ObjectId('61551dc9fbfbc4ad4b253197'), 'name': 'Jar', 'price': 4.99}\n"
     ]
    }
   ],
   "source": [
    "lt_gte_cursor = products_col.find({\"price\":{ \"$lt\": 8.00, \"$gte\": 4.99}})\n",
    "print_cursor(lt_gte_cursor)"
   ]
  },
  {
   "cell_type": "markdown",
   "id": "9171a17c",
   "metadata": {},
   "source": [
    "###### $ne - Not Equal To (combined with another operator)"
   ]
  },
  {
   "cell_type": "code",
   "execution_count": 6,
   "id": "088877c5",
   "metadata": {},
   "outputs": [
    {
     "name": "stdout",
     "output_type": "stream",
     "text": [
      "{'_id': ObjectId('61551dc9fbfbc4ad4b253194'), 'name': 'Notebook', 'price': 4.99}\n",
      "{'_id': ObjectId('61551dc9fbfbc4ad4b253196'), 'name': 'Water Bottle', 'price': 14.85}\n",
      "{'_id': ObjectId('61551dc9fbfbc4ad4b253197'), 'name': 'Jar', 'price': 4.99}\n",
      "{'_id': ObjectId('61551dd4fbfbc4ad4b253199'), 'name': 'Mug', 'price': 12.99}\n"
     ]
    }
   ],
   "source": [
    "lt_ne_cursor = products_col.find({\"price\":{ \"$lt\": 15.00}, \"name\": {\"$ne\": \"Pens\"}})\n",
    "print_cursor(lt_ne_cursor)"
   ]
  },
  {
   "cell_type": "markdown",
   "id": "d1d17085",
   "metadata": {},
   "source": [
    "### Logical Operators"
   ]
  },
  {
   "cell_type": "markdown",
   "id": "519965f4",
   "metadata": {},
   "source": [
    "##### $and"
   ]
  },
  {
   "cell_type": "code",
   "execution_count": 7,
   "id": "e6ada04a",
   "metadata": {},
   "outputs": [
    {
     "name": "stdout",
     "output_type": "stream",
     "text": [
      "{'_id': ObjectId('61551dc9fbfbc4ad4b253194'), 'name': 'Notebook', 'price': 4.99}\n",
      "{'_id': ObjectId('61551dc9fbfbc4ad4b253196'), 'name': 'Water Bottle', 'price': 14.85}\n",
      "{'_id': ObjectId('61551dc9fbfbc4ad4b253197'), 'name': 'Jar', 'price': 4.99}\n",
      "{'_id': ObjectId('61551dd4fbfbc4ad4b253199'), 'name': 'Mug', 'price': 12.99}\n"
     ]
    }
   ],
   "source": [
    "and_cursor = products_col.find(\n",
    "    {\"$and\": [\n",
    "        {\"price\": {\"$lt\": 15.00}}, \n",
    "        {\"name\": {\"$ne\": \"Pens\"}}\n",
    "    ]})\n",
    "print_cursor(and_cursor)"
   ]
  },
  {
   "cell_type": "markdown",
   "id": "4f4dcd05",
   "metadata": {},
   "source": [
    "###### $or"
   ]
  },
  {
   "cell_type": "code",
   "execution_count": 8,
   "id": "5c6cc299",
   "metadata": {},
   "outputs": [
    {
     "name": "stdout",
     "output_type": "stream",
     "text": [
      "{'_id': ObjectId('61551dc9fbfbc4ad4b253192'), 'name': 'Bag', 'price': 23.78}\n",
      "{'_id': ObjectId('61551dc9fbfbc4ad4b253193'), 'name': 'iPhone 11', 'price': 800}\n",
      "{'_id': ObjectId('61551dc9fbfbc4ad4b253194'), 'name': 'Notebook', 'price': 4.99}\n",
      "{'_id': ObjectId('61551dc9fbfbc4ad4b253197'), 'name': 'Jar', 'price': 4.99}\n"
     ]
    }
   ],
   "source": [
    "or_cursor = products_col.find(\n",
    "    {\"$or\": [\n",
    "        {\"price\": {\"$gt\": 15.00}}, \n",
    "        {\"price\": {\"$lt\": 5.00}}\n",
    "    ]})\n",
    "print_cursor(or_cursor)"
   ]
  },
  {
   "cell_type": "markdown",
   "id": "6ff7f1b7",
   "metadata": {},
   "source": [
    "###### $nor"
   ]
  },
  {
   "cell_type": "code",
   "execution_count": 9,
   "id": "e98ddcac",
   "metadata": {},
   "outputs": [
    {
     "name": "stdout",
     "output_type": "stream",
     "text": [
      "{'_id': ObjectId('61551dc9fbfbc4ad4b253195'), 'name': 'Pens', 'price': 9.58}\n",
      "{'_id': ObjectId('61551dc9fbfbc4ad4b253196'), 'name': 'Water Bottle', 'price': 14.85}\n",
      "{'_id': ObjectId('61551dcffbfbc4ad4b253198'), 'name': 'Pens', 'price': 9.58}\n",
      "{'_id': ObjectId('61551dd4fbfbc4ad4b253199'), 'name': 'Mug', 'price': 12.99}\n"
     ]
    }
   ],
   "source": [
    "nor_cursor = products_col.find(\n",
    "    {\"$nor\": [\n",
    "        {\"price\": {\"$gt\": 15.00}}, \n",
    "        {\"price\": {\"$lt\": 5.00}}\n",
    "    ]})\n",
    "print_cursor(nor_cursor)"
   ]
  },
  {
   "cell_type": "markdown",
   "id": "889ab4dc",
   "metadata": {},
   "source": [
    "###### $type"
   ]
  },
  {
   "cell_type": "code",
   "execution_count": 10,
   "id": "b180fc9c",
   "metadata": {},
   "outputs": [
    {
     "name": "stdout",
     "output_type": "stream",
     "text": [
      "{'_id': ObjectId('61551dc9fbfbc4ad4b253193'), 'name': 'iPhone 11', 'price': 800}\n"
     ]
    }
   ],
   "source": [
    "type_cursor = products_col.find({\"price\": {\"$type\": \"int\"}})\n",
    "print_cursor(type_cursor)"
   ]
  },
  {
   "cell_type": "markdown",
   "id": "63be37d8",
   "metadata": {},
   "source": [
    "### Other Useful Operators"
   ]
  },
  {
   "cell_type": "markdown",
   "id": "365bcbf5",
   "metadata": {},
   "source": [
    "###### $exists - Check if a attribute name exists in entries"
   ]
  },
  {
   "cell_type": "code",
   "execution_count": 11,
   "id": "d88290c3",
   "metadata": {},
   "outputs": [
    {
     "name": "stdout",
     "output_type": "stream",
     "text": [
      "{'_id': ObjectId('61551dcffbfbc4ad4b253198'), 'name': 'Pens', 'price': 9.58, 'seller': 'Raymond'}\n"
     ]
    }
   ],
   "source": [
    "# Note: I manually updated one of my entries to have a \"seller\" attribute\n",
    "exists_cursor = products_col.find({\"seller\": {\"$exists\": True}})\n",
    "print_cursor(exists_cursor)"
   ]
  },
  {
   "cell_type": "markdown",
   "id": "66c134aa",
   "metadata": {},
   "source": [
    "#####  $regex - Search for substring within query entries"
   ]
  },
  {
   "cell_type": "code",
   "execution_count": 12,
   "id": "d84cae79",
   "metadata": {},
   "outputs": [
    {
     "name": "stdout",
     "output_type": "stream",
     "text": [
      "{'_id': ObjectId('61551dc9fbfbc4ad4b253196'), 'name': 'Water Bottle', 'price': 14.85}\n"
     ]
    }
   ],
   "source": [
    "regex_cursor = products_col.find({\"name\": {\"$regex\": \"Water\"}})\n",
    "print_cursor(regex_cursor)"
   ]
  },
  {
   "cell_type": "code",
   "execution_count": 13,
   "id": "a69852a8",
   "metadata": {},
   "outputs": [
    {
     "name": "stdout",
     "output_type": "stream",
     "text": [
      "{'_id': ObjectId('61551dc9fbfbc4ad4b253196'), 'name': 'Water Bottle', 'price': 14.85}\n"
     ]
    }
   ],
   "source": [
    "# Add the \"i\" value to the $option operator to make the text searched for case insensitive\n",
    "regex_cursor_options = products_col.find({\"name\": {\"$regex\": \"water\", \"$options\": \"i\" }})\n",
    "print_cursor(regex_cursor_options)"
   ]
  },
  {
   "cell_type": "code",
   "execution_count": null,
   "id": "dcc153f3",
   "metadata": {},
   "outputs": [],
   "source": []
  }
 ],
 "metadata": {
  "kernelspec": {
   "display_name": "Python 3 (ipykernel)",
   "language": "python",
   "name": "python3"
  },
  "language_info": {
   "codemirror_mode": {
    "name": "ipython",
    "version": 3
   },
   "file_extension": ".py",
   "mimetype": "text/x-python",
   "name": "python",
   "nbconvert_exporter": "python",
   "pygments_lexer": "ipython3",
   "version": "3.8.11"
  }
 },
 "nbformat": 4,
 "nbformat_minor": 5
}

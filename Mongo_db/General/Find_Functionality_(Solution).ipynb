{
 "cells": [
  {
   "cell_type": "markdown",
   "id": "f5d724cd",
   "metadata": {},
   "source": [
    "# MongoDB Insert Functionality\n",
    "\n",
    "Go over how to use the various insert functions of the pymongo module. "
   ]
  },
  {
   "cell_type": "markdown",
   "id": "8de3bb68",
   "metadata": {},
   "source": [
    "### Import MongoClient instance from pymongo module"
   ]
  },
  {
   "cell_type": "code",
   "execution_count": null,
   "id": "2b6f6b78",
   "metadata": {},
   "outputs": [],
   "source": [
    "import pymongo\n",
    "from pymongo import MongoClient"
   ]
  },
  {
   "cell_type": "markdown",
   "id": "a158eee2",
   "metadata": {},
   "source": [
    "### Initalize A Client, Connect To DB, Speicfy Collection"
   ]
  },
  {
   "cell_type": "code",
   "execution_count": null,
   "id": "e7098379",
   "metadata": {},
   "outputs": [],
   "source": [
    "client = MongoClient(\"mongodb://localhost:27017/\")\n",
    "db = client[\"my_store\"]\n",
    "products_col = db[\"products\"]"
   ]
  },
  {
   "cell_type": "markdown",
   "id": "f6910a3d",
   "metadata": {},
   "source": [
    "### find_one()"
   ]
  },
  {
   "cell_type": "code",
   "execution_count": null,
   "id": "4f426053",
   "metadata": {},
   "outputs": [],
   "source": [
    "products_col.find_one({\"name\": \"Pens\"})"
   ]
  },
  {
   "cell_type": "code",
   "execution_count": null,
   "id": "9abea8ac",
   "metadata": {},
   "outputs": [],
   "source": [
    "find_one_res = products_col.find_one({\"name\": \"Pens\"})"
   ]
  },
  {
   "cell_type": "code",
   "execution_count": null,
   "id": "f41caf2f",
   "metadata": {},
   "outputs": [],
   "source": [
    "find_one_res[\"_id\"]"
   ]
  },
  {
   "cell_type": "markdown",
   "id": "d99a8f14",
   "metadata": {},
   "source": [
    "### find() and Cursors"
   ]
  },
  {
   "cell_type": "code",
   "execution_count": null,
   "id": "cbf397d7",
   "metadata": {},
   "outputs": [],
   "source": [
    "products_col.find({\"name\": \"Pens\"})"
   ]
  },
  {
   "cell_type": "code",
   "execution_count": null,
   "id": "6d663f70",
   "metadata": {},
   "outputs": [],
   "source": [
    "pen_cursor = products_col.find({\"name\": \"Pens\"})"
   ]
  },
  {
   "cell_type": "code",
   "execution_count": null,
   "id": "4d39294d",
   "metadata": {},
   "outputs": [],
   "source": [
    "for document in pen_cursor:\n",
    "    print(document)"
   ]
  },
  {
   "cell_type": "code",
   "execution_count": null,
   "id": "e0032da6",
   "metadata": {},
   "outputs": [],
   "source": [
    "pen_cursor.alive"
   ]
  },
  {
   "cell_type": "code",
   "execution_count": null,
   "id": "74b70280",
   "metadata": {},
   "outputs": [],
   "source": [
    "pen_cursor = products_col.find({\"name\": \"Pens\"})"
   ]
  },
  {
   "cell_type": "code",
   "execution_count": null,
   "id": "9c1a95ae",
   "metadata": {},
   "outputs": [],
   "source": [
    "pen_cursor.alive"
   ]
  },
  {
   "cell_type": "code",
   "execution_count": null,
   "id": "7668945d",
   "metadata": {},
   "outputs": [],
   "source": [
    "pen_cursor.next()"
   ]
  },
  {
   "cell_type": "markdown",
   "id": "26f14fb9",
   "metadata": {},
   "source": [
    "### sort()"
   ]
  },
  {
   "cell_type": "code",
   "execution_count": null,
   "id": "5becfcc3",
   "metadata": {},
   "outputs": [],
   "source": [
    "for document in products_col.find({}).sort(\"price\", pymongo.ASCENDING):\n",
    "    print(document)"
   ]
  },
  {
   "cell_type": "code",
   "execution_count": null,
   "id": "f4d0c27a",
   "metadata": {},
   "outputs": [],
   "source": [
    "for document in products_col.find({}).sort(\"price\", pymongo.DESCENDING):\n",
    "    print(document)"
   ]
  },
  {
   "cell_type": "code",
   "execution_count": null,
   "id": "eb84d2c8",
   "metadata": {},
   "outputs": [],
   "source": [
    "pymongo.ASCENDING"
   ]
  },
  {
   "cell_type": "code",
   "execution_count": null,
   "id": "019fd4f6",
   "metadata": {},
   "outputs": [],
   "source": [
    "pymongo.DESCENDING"
   ]
  },
  {
   "cell_type": "code",
   "execution_count": null,
   "id": "92740439",
   "metadata": {},
   "outputs": [],
   "source": [
    "for document in products_col.find({}).sort(\"price\", 1):\n",
    "    print(document)"
   ]
  },
  {
   "cell_type": "code",
   "execution_count": null,
   "id": "7e4ea077",
   "metadata": {},
   "outputs": [],
   "source": [
    "for document in products_col.find({}).sort(\n",
    "    [(\"price\", pymongo.ASCENDING), \n",
    "     (\"name\", pymongo.ASCENDING)]):\n",
    "    print(document)"
   ]
  },
  {
   "cell_type": "markdown",
   "id": "b7530a41",
   "metadata": {},
   "source": [
    "### skip() and limit()"
   ]
  },
  {
   "cell_type": "code",
   "execution_count": null,
   "id": "8a18d257",
   "metadata": {},
   "outputs": [],
   "source": [
    "for document in products_col.find({}).limit(5):\n",
    "    print(document)"
   ]
  },
  {
   "cell_type": "code",
   "execution_count": null,
   "id": "9a50bdd8",
   "metadata": {},
   "outputs": [],
   "source": [
    "for document in products_col.find({}).skip(4):\n",
    "    print(document)"
   ]
  },
  {
   "cell_type": "code",
   "execution_count": null,
   "id": "ee917743",
   "metadata": {},
   "outputs": [],
   "source": [
    "page_item_limit = 5\n",
    "\n",
    "products_cursor = products_col.find({})\n",
    "\n",
    "for page_num in [1, 2]:\n",
    "    print(\"\\n-- Page {} --\".format(page_num))\n",
    "    for document in products_col.find({}).skip((page_num-1)*page_item_limit).limit(page_item_limit):\n",
    "        print(document)"
   ]
  },
  {
   "cell_type": "markdown",
   "id": "f1a1358b",
   "metadata": {},
   "source": [
    "### cursor.count() vs collection.count_documents()"
   ]
  },
  {
   "cell_type": "code",
   "execution_count": null,
   "id": "d94ecbc2",
   "metadata": {},
   "outputs": [],
   "source": [
    "find_query_filter = {\"name\": \"Pens\"}\n",
    "find_cursor = products_col.find(find_query_filter)"
   ]
  },
  {
   "cell_type": "code",
   "execution_count": null,
   "id": "2d93e393",
   "metadata": {},
   "outputs": [],
   "source": [
    "find_cursor.count()"
   ]
  },
  {
   "cell_type": "code",
   "execution_count": null,
   "id": "987029f8",
   "metadata": {},
   "outputs": [],
   "source": [
    "products_col.count_documents(find_query_filter)"
   ]
  },
  {
   "cell_type": "code",
   "execution_count": null,
   "id": "439b5590",
   "metadata": {},
   "outputs": [],
   "source": [
    "find_cursor_skip = products_col.find(find_query_filter).skip(1)"
   ]
  },
  {
   "cell_type": "code",
   "execution_count": null,
   "id": "9a27c488",
   "metadata": {},
   "outputs": [],
   "source": [
    "find_cursor_skip.count()"
   ]
  },
  {
   "cell_type": "code",
   "execution_count": null,
   "id": "b6d768c6",
   "metadata": {},
   "outputs": [],
   "source": [
    "find_cursor_skip.count(with_limit_and_skip=True)"
   ]
  },
  {
   "cell_type": "markdown",
   "id": "e1caf863",
   "metadata": {},
   "source": [
    "### distinct()"
   ]
  },
  {
   "cell_type": "code",
   "execution_count": null,
   "id": "f996db10",
   "metadata": {},
   "outputs": [],
   "source": [
    "products_cursor = products_col.find({})"
   ]
  },
  {
   "cell_type": "code",
   "execution_count": null,
   "id": "cb031245",
   "metadata": {},
   "outputs": [],
   "source": [
    "products_cursor.distinct(\"name\")"
   ]
  },
  {
   "cell_type": "code",
   "execution_count": null,
   "id": "6b969998",
   "metadata": {},
   "outputs": [],
   "source": [
    "distinct_count = len(products_cursor.distinct(\"name\"))\n",
    "all_count = products_col.count_documents({})\n",
    "\n",
    "print(\"{} unique product names found vs {} total entries\".format(distinct_count, all_count))"
   ]
  },
  {
   "cell_type": "markdown",
   "id": "1ec0efb8",
   "metadata": {},
   "source": [
    "### Using projection"
   ]
  },
  {
   "cell_type": "code",
   "execution_count": null,
   "id": "11dda99c",
   "metadata": {},
   "outputs": [],
   "source": [
    "find_projection_cursor = products_col.find({\"name\": \"Pens\"}, {\"price\": 1})"
   ]
  },
  {
   "cell_type": "code",
   "execution_count": null,
   "id": "d812d2b0",
   "metadata": {},
   "outputs": [],
   "source": [
    "for document in find_projection_cursor:\n",
    "    print(document)"
   ]
  },
  {
   "cell_type": "code",
   "execution_count": null,
   "id": "c779b658",
   "metadata": {},
   "outputs": [],
   "source": [
    "products_col.find_one({\"name\": \"Pens\"}, {\"price\": 1})"
   ]
  }
 ],
 "metadata": {
  "kernelspec": {
   "display_name": "Python 3 (ipykernel)",
   "language": "python",
   "name": "python3"
  },
  "language_info": {
   "codemirror_mode": {
    "name": "ipython",
    "version": 3
   },
   "file_extension": ".py",
   "mimetype": "text/x-python",
   "name": "python",
   "nbconvert_exporter": "python",
   "pygments_lexer": "ipython3",
   "version": "3.8.11"
  }
 },
 "nbformat": 4,
 "nbformat_minor": 5
}

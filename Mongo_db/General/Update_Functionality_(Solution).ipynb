{
 "cells": [
  {
   "cell_type": "markdown",
   "id": "31010f21",
   "metadata": {},
   "source": [
    "# MongoDB Update Functionality\n",
    "\n",
    "Go over ways to update entries in MongoDB in pymongo"
   ]
  },
  {
   "cell_type": "code",
   "execution_count": 1,
   "id": "07599bc2",
   "metadata": {},
   "outputs": [],
   "source": [
    "import pymongo\n",
    "from pymongo import MongoClient"
   ]
  },
  {
   "cell_type": "markdown",
   "id": "ac3f352e",
   "metadata": {},
   "source": [
    "### Initalize A Client, Connect To DB, Speicfy Collection"
   ]
  },
  {
   "cell_type": "code",
   "execution_count": 2,
   "id": "707dc3c1",
   "metadata": {},
   "outputs": [],
   "source": [
    "client = MongoClient(\"mongodb://localhost:27017/\")\n",
    "db = client[\"my_store\"]\n",
    "products_col = db[\"products\"]"
   ]
  },
  {
   "cell_type": "markdown",
   "id": "6319cdac",
   "metadata": {},
   "source": [
    "### update()\n",
    "*Depreceated, do not use in your applications*"
   ]
  },
  {
   "cell_type": "code",
   "execution_count": 3,
   "id": "8b54bcae",
   "metadata": {},
   "outputs": [
    {
     "name": "stderr",
     "output_type": "stream",
     "text": [
      "C:\\Users\\raymo\\AppData\\Local\\Temp/ipykernel_3628/1903447241.py:1: DeprecationWarning: update is deprecated. Use replace_one, update_one or update_many instead.\n",
      "  products_col.update({\"name\": \"Pens\"}, {\"$set\": {\"price\": 9.57}})\n"
     ]
    },
    {
     "data": {
      "text/plain": [
       "{'n': 1, 'nModified': 1, 'ok': 1.0, 'updatedExisting': True}"
      ]
     },
     "execution_count": 3,
     "metadata": {},
     "output_type": "execute_result"
    }
   ],
   "source": [
    "products_col.update({\"name\": \"Pens\"}, {\"$set\": {\"price\": 9.57}})"
   ]
  },
  {
   "cell_type": "markdown",
   "id": "8733e8d2",
   "metadata": {},
   "source": [
    "### update_one()"
   ]
  },
  {
   "cell_type": "code",
   "execution_count": 4,
   "id": "0bfd3851",
   "metadata": {},
   "outputs": [
    {
     "data": {
      "text/plain": [
       "<pymongo.results.UpdateResult at 0x2173c455880>"
      ]
     },
     "execution_count": 4,
     "metadata": {},
     "output_type": "execute_result"
    }
   ],
   "source": [
    "products_col.update_one({\"name\": \"Bag\"}, {\"$set\": {\"price\": 24.38}})"
   ]
  },
  {
   "cell_type": "code",
   "execution_count": 5,
   "id": "dae2a3f6",
   "metadata": {},
   "outputs": [],
   "source": [
    "update_one_res = products_col.update_one({\"name\": \"Bag\"}, {\"$set\": {\"price\": 25.78}})"
   ]
  },
  {
   "cell_type": "code",
   "execution_count": 6,
   "id": "4ad320c1",
   "metadata": {},
   "outputs": [
    {
     "name": "stdout",
     "output_type": "stream",
     "text": [
      "True\n",
      "1\n",
      "0\n",
      "{'n': 1, 'nModified': 0, 'ok': 1.0, 'updatedExisting': True}\n",
      "None\n"
     ]
    }
   ],
   "source": [
    "print(update_one_res.acknowledged)\n",
    "print(update_one_res.matched_count)\n",
    "print(update_one_res.modified_count)\n",
    "print(update_one_res.raw_result)\n",
    "print(update_one_res.upserted_id)"
   ]
  },
  {
   "cell_type": "markdown",
   "id": "d7a997b1",
   "metadata": {},
   "source": [
    "### replace_one()"
   ]
  },
  {
   "cell_type": "code",
   "execution_count": 7,
   "id": "d959fa43",
   "metadata": {},
   "outputs": [
    {
     "data": {
      "text/plain": [
       "<pymongo.results.UpdateResult at 0x2173c455400>"
      ]
     },
     "execution_count": 7,
     "metadata": {},
     "output_type": "execute_result"
    }
   ],
   "source": [
    "replace_one_res = products_col.replace_one({\"name\": \"Bag\"}, {\"product_name\": \"Bag\", \"price\": 25.76, \"seller\": \"Raymond\"})\n",
    "replace_one_res"
   ]
  },
  {
   "cell_type": "code",
   "execution_count": 8,
   "id": "f1ed7024",
   "metadata": {},
   "outputs": [
    {
     "name": "stdout",
     "output_type": "stream",
     "text": [
      "True\n",
      "1\n",
      "1\n",
      "{'n': 1, 'nModified': 1, 'ok': 1.0, 'updatedExisting': True}\n",
      "None\n"
     ]
    }
   ],
   "source": [
    "print(replace_one_res.acknowledged)\n",
    "print(replace_one_res.matched_count)\n",
    "print(replace_one_res.modified_count)\n",
    "print(replace_one_res.raw_result)\n",
    "print(replace_one_res.upserted_id)"
   ]
  },
  {
   "cell_type": "markdown",
   "id": "7c7df700",
   "metadata": {},
   "source": [
    "### update_many()"
   ]
  },
  {
   "cell_type": "code",
   "execution_count": 9,
   "id": "0dc9ecc6",
   "metadata": {},
   "outputs": [
    {
     "data": {
      "text/plain": [
       "<pymongo.results.UpdateResult at 0x2173c304c80>"
      ]
     },
     "execution_count": 9,
     "metadata": {},
     "output_type": "execute_result"
    }
   ],
   "source": [
    "update_many_res = products_col.update_many({\"name\": \"Pens\"}, {\"$set\": {\"price\": 11.58}})\n",
    "update_many_res"
   ]
  },
  {
   "cell_type": "code",
   "execution_count": 10,
   "id": "47d8a199",
   "metadata": {},
   "outputs": [
    {
     "name": "stdout",
     "output_type": "stream",
     "text": [
      "True\n",
      "2\n",
      "2\n",
      "{'n': 2, 'nModified': 2, 'ok': 1.0, 'updatedExisting': True}\n",
      "None\n"
     ]
    }
   ],
   "source": [
    "print(update_many_res.acknowledged)\n",
    "print(update_many_res.matched_count)\n",
    "print(update_many_res.modified_count)\n",
    "print(update_many_res.raw_result)\n",
    "print(update_many_res.upserted_id)"
   ]
  },
  {
   "cell_type": "markdown",
   "id": "cf165ba7",
   "metadata": {},
   "source": [
    "### upserting"
   ]
  },
  {
   "cell_type": "code",
   "execution_count": 21,
   "id": "b0a6a3fb",
   "metadata": {},
   "outputs": [
    {
     "data": {
      "text/plain": [
       "<pymongo.results.UpdateResult at 0x2173c061040>"
      ]
     },
     "execution_count": 21,
     "metadata": {},
     "output_type": "execute_result"
    }
   ],
   "source": [
    "update_upsert_res = products_col.update_many({\"name\": \"Hat\"}, {\"$set\": {\"name\":\"Hat\", \"price\": 17.23}}, upsert=True)\n",
    "update_upsert_res"
   ]
  },
  {
   "cell_type": "code",
   "execution_count": 22,
   "id": "28846f1e",
   "metadata": {},
   "outputs": [
    {
     "name": "stdout",
     "output_type": "stream",
     "text": [
      "True\n",
      "0\n",
      "0\n",
      "{'n': 1, 'upserted': ObjectId('615953eb873e84b0f0469018'), 'nModified': 0, 'ok': 1.0, 'updatedExisting': False}\n",
      "615953eb873e84b0f0469018\n"
     ]
    }
   ],
   "source": [
    "print(update_upsert_res.acknowledged)\n",
    "print(update_upsert_res.matched_count)\n",
    "print(update_upsert_res.modified_count)\n",
    "print(update_upsert_res.raw_result)\n",
    "print(update_upsert_res.upserted_id)"
   ]
  },
  {
   "cell_type": "markdown",
   "id": "b8e6c6e3",
   "metadata": {},
   "source": [
    "### Update Operators"
   ]
  },
  {
   "cell_type": "code",
   "execution_count": 24,
   "id": "c89e89ce",
   "metadata": {},
   "outputs": [
    {
     "data": {
      "text/plain": [
       "<pymongo.results.UpdateResult at 0x2173c487e00>"
      ]
     },
     "execution_count": 24,
     "metadata": {},
     "output_type": "execute_result"
    }
   ],
   "source": [
    "products_col.update_many({}, {\"$currentDate\": {\"date\": True}})"
   ]
  },
  {
   "cell_type": "code",
   "execution_count": 25,
   "id": "1da4fbe9",
   "metadata": {},
   "outputs": [
    {
     "data": {
      "text/plain": [
       "<pymongo.results.UpdateResult at 0x2173c480b40>"
      ]
     },
     "execution_count": 25,
     "metadata": {},
     "output_type": "execute_result"
    }
   ],
   "source": [
    "products_col.update_many({}, {\"$rename\": {\"date\": \"date_added\"}})"
   ]
  },
  {
   "cell_type": "code",
   "execution_count": null,
   "id": "e11b057a",
   "metadata": {},
   "outputs": [],
   "source": [
    "products_col.update_many({}, {\"$mul\": {\"price\": 1.04}})"
   ]
  },
  {
   "cell_type": "code",
   "execution_count": 23,
   "id": "749bb365",
   "metadata": {},
   "outputs": [
    {
     "data": {
      "text/plain": [
       "<pymongo.results.UpdateResult at 0x2173c482880>"
      ]
     },
     "execution_count": 23,
     "metadata": {},
     "output_type": "execute_result"
    }
   ],
   "source": [
    "products_col.update_many({}, {\"$unset\": {\"date_added\": True}})"
   ]
  }
 ],
 "metadata": {
  "kernelspec": {
   "display_name": "Python 3 (ipykernel)",
   "language": "python",
   "name": "python3"
  },
  "language_info": {
   "codemirror_mode": {
    "name": "ipython",
    "version": 3
   },
   "file_extension": ".py",
   "mimetype": "text/x-python",
   "name": "python",
   "nbconvert_exporter": "python",
   "pygments_lexer": "ipython3",
   "version": "3.8.11"
  }
 },
 "nbformat": 4,
 "nbformat_minor": 5
}

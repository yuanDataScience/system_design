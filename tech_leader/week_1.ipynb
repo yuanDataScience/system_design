{
 "cells": [
  {
   "cell_type": "markdown",
   "id": "47b1a3fe",
   "metadata": {},
   "source": [
    "### Links to reading materials\n",
    "\n",
    "* [How to construct a vision statement](https://www.inc.com/michael-schneider/google-helps-its-managers-create-a-team-vision-with-this-simple-5-step-formula.html)\n",
    "\n",
    "* [writing an vision statement](https://www.wearedevelopers.com/magazine/writing-an-inspiring-team-vision-statement-6-practical-tips)\n",
    "\n",
    "* [five characteristics of a courageous leader](https://online.hbs.edu/blog/post/courageous-leadership)\n",
    "\n",
    "* [what does courage looke like in a leader](https://www.kornferry.com/insights/featured-topics/leadership/the-world-needs-your-courageous-leadership)\n",
    "\n",
    "*[resilence in leadership](https://www.forbes.com/sites/brentgleeson/2021/04/13/resilience-in-leadership-how-to-lead-and-win-despite-change-and-obstacles/?sh=6272be5033c5)\n",
    "\n",
    "* [increasing resilience as a leader](https://www.ccl.org/articles/leading-effectively-articles/4-tips-will-increase-resiliency-leader/)\n"
   ]
  },
  {
   "cell_type": "code",
   "execution_count": null,
   "id": "31314112",
   "metadata": {},
   "outputs": [],
   "source": []
  }
 ],
 "metadata": {
  "kernelspec": {
   "display_name": "Python 3 (ipykernel)",
   "language": "python",
   "name": "python3"
  },
  "language_info": {
   "codemirror_mode": {
    "name": "ipython",
    "version": 3
   },
   "file_extension": ".py",
   "mimetype": "text/x-python",
   "name": "python",
   "nbconvert_exporter": "python",
   "pygments_lexer": "ipython3",
   "version": "3.10.4"
  }
 },
 "nbformat": 4,
 "nbformat_minor": 5
}

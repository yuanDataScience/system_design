{
 "cells": [
  {
   "cell_type": "markdown",
   "id": "2baa5392",
   "metadata": {},
   "source": [
    "### Set up Redis\n",
    "* create an instance on Redis Cloud redis.com \n",
    "  + log in to redis.com, create a free subscription and a database, called `free-db`\n",
    "* rbook.cloud set up\n",
    "    + go to rbook.cloud\n",
    "    + create a new notebook\n",
    "    + click 'connect' tab to connect to the redis instance\n",
    "    + get host, port and password information from redis.com\n",
    "      + go to your free-db, in Configuration tab, \n",
    "        + copy 'Public endpoint',  copy everything before port. This is the host\n",
    "        + copy port to port\n",
    "        + copy default password\n",
    "        + no user name is required\n",
    "      + click 'test' to test the connection \n",
    "* local rbook set up\n",
    "  + install NodeJS\n",
    "  + at terminal, run `npx rbook`, and nevigate to http://localhost:3050\n",
    "  + any notebook you create will be saved into the same folder that you ran npx rbook in"
   ]
  },
  {
   "cell_type": "code",
   "execution_count": null,
   "id": "2ad43e7b",
   "metadata": {},
   "outputs": [],
   "source": []
  }
 ],
 "metadata": {
  "kernelspec": {
   "display_name": "Python 3 (ipykernel)",
   "language": "python",
   "name": "python3"
  },
  "language_info": {
   "codemirror_mode": {
    "name": "ipython",
    "version": 3
   },
   "file_extension": ".py",
   "mimetype": "text/x-python",
   "name": "python",
   "nbconvert_exporter": "python",
   "pygments_lexer": "ipython3",
   "version": "3.10.4"
  }
 },
 "nbformat": 4,
 "nbformat_minor": 5
}

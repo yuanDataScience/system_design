{
 "cells": [
  {
   "cell_type": "markdown",
   "id": "21488bc7",
   "metadata": {},
   "source": [
    "## Database\n",
    "\n",
    "### Selecting databases\n",
    "\n",
    "#### Four factors to consider when selecting databases\n",
    "* structure of data\n",
    "* query pattern\n",
    "* amount or scale that you need to handle\n",
    "\n",
    "#### Caching solution\n",
    "* cosider to use a cache system (Redis) when you\n",
    "  + call database very frequently\n",
    "  + make a remote call to independent services with high latency\n",
    "  \n",
    "#### File storage solution\n",
    "* consider to use Blob (binary large object) storage (s3) when you\n",
    "  + need a data store for images, videos rahter than store data in database for queries\n",
    "  + blob solutions are usually combined with a Content Delivery Network (CDN)\n",
    "  + A CDN is a network of servers around the world that delivers content in different geographical locations with reduced latency\n",
    "  \n",
    "#### Elasticsearch with text search capability\n",
    "* Consider to use Elesticsearch if you need to build a search functionality supporting fuzzy search\n",
    "  + for example, search by movie, genre, actor, actress, director, etc\n",
    "* Elasticsearch is not a database, which provide a guarantee that once stored, our data will not be lost unless we delete it\n",
    "  + Elasticsearch offers no guarantee that our data will not be lost\n",
    "  + we should never use search engines like Elasticsearch as our primary data source\n",
    "* We can load the data to them from our primary database to reduce search latency and provide fuzzy and relevance-based text search\n",
    "\n",
    "#### Time series database\n",
    "* updated sequentially in an append-only format instead of random update\n",
    "* have more bulk rads for a certain time ranges as opposed to random reads\n",
    "* used for metric tacking systems such as grafana or cloud watch to watch how metric changes vs time\n",
    "* calcualte how many people watched a video in the last 1 week, 10 days, 1 month, 1 year, and so on\n",
    "* Examples of time series database is OpenTSDB and InfluxDB \n",
    "\n",
    "#### Data warehouse \n",
    "* a large database to dump all of the data available to perform analytics\n",
    "* the systems are not used for regular transactions but offline reporting\n",
    "* redshift, or s3/athena/EMR/spark\n",
    "\n",
    "#### When to use SQL or NoSQL\n",
    "* Data are structured and require transaction operations, use RDBMS such as mysql\n",
    "* Data conain differnt data types and column names with complex query patterns, use document DB such as Mongo DB\n",
    "* Data contain fixed column names with few query patterns, but volume increases very fast, use columnar DB, such as cassandra and dynamo\n",
    "* you can combine RDBMS with other nosql DB\n",
    "  + you need to process transaction in Aamzon, but also need to store a large amount of transaction history data. \n",
    "    + use mysql to store data that have not complete transactions. After transactions are completed, move those data to cassandra\n",
    "  + use Mongo DB to store all the transacton/purchase history data, and query the data for a specific aggregation such as different product id and customer id in transactions of surgar in the last three months, and use those id to query mysql and cassandra to get more specific data  "
   ]
  },
  {
   "cell_type": "code",
   "execution_count": null,
   "id": "e1f72cd1",
   "metadata": {},
   "outputs": [],
   "source": []
  }
 ],
 "metadata": {
  "kernelspec": {
   "display_name": "Python 3 (ipykernel)",
   "language": "python",
   "name": "python3"
  },
  "language_info": {
   "codemirror_mode": {
    "name": "ipython",
    "version": 3
   },
   "file_extension": ".py",
   "mimetype": "text/x-python",
   "name": "python",
   "nbconvert_exporter": "python",
   "pygments_lexer": "ipython3",
   "version": "3.10.4"
  }
 },
 "nbformat": 4,
 "nbformat_minor": 5
}

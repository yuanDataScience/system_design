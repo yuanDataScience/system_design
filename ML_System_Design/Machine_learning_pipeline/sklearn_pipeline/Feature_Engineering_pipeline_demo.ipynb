{
 "cells": [
  {
   "cell_type": "code",
   "execution_count": 1,
   "id": "ffdc405a",
   "metadata": {},
   "outputs": [
    {
     "name": "stdout",
     "output_type": "stream",
     "text": [
      "Defaulting to user installation because normal site-packages is not writeable\n",
      "Collecting feature-engine\n",
      "  Downloading feature_engine-1.6.1-py2.py3-none-any.whl (326 kB)\n",
      "     -------------------------------------- 326.6/326.6 kB 3.4 MB/s eta 0:00:00\n",
      "Collecting category-encoders\n",
      "  Downloading category_encoders-2.6.1-py2.py3-none-any.whl (81 kB)\n",
      "     ---------------------------------------- 81.9/81.9 kB 4.8 MB/s eta 0:00:00\n",
      "Requirement already satisfied: numpy>=1.18.2 in c:\\users\\huangy07\\appdata\\roaming\\python\\python310\\site-packages (from feature-engine) (1.24.1)\n",
      "Requirement already satisfied: pandas>=1.0.3 in c:\\users\\huangy07\\appdata\\roaming\\python\\python310\\site-packages (from feature-engine) (1.4.2)\n",
      "Requirement already satisfied: scikit-learn>=1.0.0 in c:\\users\\huangy07\\appdata\\roaming\\python\\python310\\site-packages (from feature-engine) (1.1.1)\n",
      "Requirement already satisfied: scipy>=1.4.1 in c:\\users\\huangy07\\appdata\\roaming\\python\\python310\\site-packages (from feature-engine) (1.8.1)\n",
      "Collecting statsmodels>=0.11.1 (from feature-engine)\n",
      "  Downloading statsmodels-0.14.0-cp310-cp310-win_amd64.whl (9.2 MB)\n",
      "     ---------------------------------------- 9.2/9.2 MB 8.7 MB/s eta 0:00:00\n",
      "Collecting patsy>=0.5.1 (from category-encoders)\n",
      "  Using cached patsy-0.5.3-py2.py3-none-any.whl (233 kB)\n",
      "Requirement already satisfied: python-dateutil>=2.8.1 in c:\\users\\huangy07\\appdata\\roaming\\python\\python310\\site-packages (from pandas>=1.0.3->feature-engine) (2.8.2)\n",
      "Requirement already satisfied: pytz>=2020.1 in c:\\users\\huangy07\\appdata\\roaming\\python\\python310\\site-packages (from pandas>=1.0.3->feature-engine) (2022.1)\n",
      "Requirement already satisfied: six in c:\\users\\huangy07\\appdata\\roaming\\python\\python310\\site-packages (from patsy>=0.5.1->category-encoders) (1.16.0)\n",
      "Requirement already satisfied: joblib>=1.0.0 in c:\\users\\huangy07\\appdata\\roaming\\python\\python310\\site-packages (from scikit-learn>=1.0.0->feature-engine) (1.1.0)\n",
      "Requirement already satisfied: threadpoolctl>=2.0.0 in c:\\users\\huangy07\\appdata\\roaming\\python\\python310\\site-packages (from scikit-learn>=1.0.0->feature-engine) (3.1.0)\n",
      "Requirement already satisfied: packaging>=21.3 in c:\\users\\huangy07\\appdata\\roaming\\python\\python310\\site-packages (from statsmodels>=0.11.1->feature-engine) (23.1)\n",
      "Installing collected packages: patsy, statsmodels, feature-engine, category-encoders\n",
      "Successfully installed category-encoders-2.6.1 feature-engine-1.6.1 patsy-0.5.3 statsmodels-0.14.0\n"
     ]
    }
   ],
   "source": [
    "!pip install feature-engine category-encoders"
   ]
  },
  {
   "cell_type": "code",
   "execution_count": 3,
   "id": "24820884",
   "metadata": {},
   "outputs": [],
   "source": [
    "import scipy"
   ]
  },
  {
   "cell_type": "code",
   "execution_count": null,
   "id": "d5f95273",
   "metadata": {},
   "outputs": [],
   "source": []
  }
 ],
 "metadata": {
  "kernelspec": {
   "display_name": "Python 3 (ipykernel)",
   "language": "python",
   "name": "python3"
  },
  "language_info": {
   "codemirror_mode": {
    "name": "ipython",
    "version": 3
   },
   "file_extension": ".py",
   "mimetype": "text/x-python",
   "name": "python",
   "nbconvert_exporter": "python",
   "pygments_lexer": "ipython3",
   "version": "3.10.4"
  }
 },
 "nbformat": 4,
 "nbformat_minor": 5
}

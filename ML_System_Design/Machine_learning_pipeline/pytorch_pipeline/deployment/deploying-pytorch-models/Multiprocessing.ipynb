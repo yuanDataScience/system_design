{
 "cells": [
  {
   "cell_type": "markdown",
   "metadata": {},
   "source": [
    "https://github.com/pytorch/examples/blob/0.3/mnist_hogwild/main.py\n",
    "https://pytorch.org/docs/stable/notes/multiprocessing.html"
   ]
  },
  {
   "cell_type": "markdown",
   "metadata": {},
   "source": [
    "### Load Libraries"
   ]
  },
  {
   "cell_type": "code",
   "execution_count": 1,
   "metadata": {},
   "outputs": [],
   "source": [
    "import os\n",
    "import pandas as pd\n",
    "import numpy as np\n",
    "from sklearn.model_selection import train_test_split\n",
    "from sklearn.metrics import accuracy_score, precision_score, recall_score\n",
    "\n",
    "\n",
    "import torch\n",
    "import torch.nn as nn\n",
    "import torch.optim as optim\n",
    "import torch.nn.functional as F"
   ]
  },
  {
   "cell_type": "markdown",
   "metadata": {},
   "source": [
    "### Load Data"
   ]
  },
  {
   "cell_type": "code",
   "execution_count": 2,
   "metadata": {},
   "outputs": [],
   "source": [
    "wine_data = pd.read_csv('data/wine_data.csv')"
   ]
  },
  {
   "cell_type": "code",
   "execution_count": 3,
   "metadata": {},
   "outputs": [],
   "source": [
    "wine_features = wine_data.drop('Class', axis = 1)\n",
    "wine_target = wine_data[['Class']]"
   ]
  },
  {
   "cell_type": "code",
   "execution_count": 4,
   "metadata": {},
   "outputs": [],
   "source": [
    "X_train, x_test, Y_train, y_test = train_test_split(wine_features,\n",
    "                                                    wine_target,\n",
    "                                                    test_size=0.4,\n",
    "                                                    random_state=0)"
   ]
  },
  {
   "cell_type": "code",
   "execution_count": 5,
   "metadata": {},
   "outputs": [],
   "source": [
    "Xtrain_ = torch.from_numpy(X_train.values).float()\n",
    "Xtest_ = torch.from_numpy(x_test.values).float()\n",
    "Ytrain_ = torch.from_numpy(Y_train.values).view(1,-1)[0]\n",
    "Ytest_ = torch.from_numpy(y_test.values).view(1,-1)[0]"
   ]
  },
  {
   "cell_type": "markdown",
   "metadata": {},
   "source": [
    "### Define Model"
   ]
  },
  {
   "cell_type": "code",
   "execution_count": 8,
   "metadata": {},
   "outputs": [],
   "source": [
    "input_size = 13\n",
    "output_size = 3\n",
    "hidden_size = 100"
   ]
  },
  {
   "cell_type": "code",
   "execution_count": 9,
   "metadata": {},
   "outputs": [],
   "source": [
    "class Net(nn.Module):\n",
    "    \n",
    "    def __init__(self):\n",
    "        super(Net, self).__init__()\n",
    "        self.fc1 = nn.Linear(input_size, hidden_size)\n",
    "        self.fc2 = nn.Linear(hidden_size, hidden_size)\n",
    "        self.fc3 = nn.Linear(hidden_size, output_size)\n",
    "\n",
    "    def forward(self, X):\n",
    "        X = torch.sigmoid((self.fc1(X)))\n",
    "        X = torch.sigmoid(self.fc2(X))\n",
    "        X = self.fc3(X)\n",
    "\n",
    "        return F.log_softmax(X, dim=-1)"
   ]
  },
  {
   "cell_type": "markdown",
   "metadata": {},
   "source": [
    "### Define train method"
   ]
  },
  {
   "cell_type": "code",
   "execution_count": 6,
   "metadata": {},
   "outputs": [],
   "source": [
    "def train(model, Xtrain_, Ytrain_,  optimizer):\n",
    "    \n",
    "    for epoch in range(1, 1001):\n",
    "        \n",
    "        model.train()\n",
    "        pid = os.getpid()\n",
    "\n",
    "        optimizer.zero_grad()\n",
    "        Ypred = model(Xtrain_)\n",
    "\n",
    "        loss = nn.NLLLoss()(Ypred , Ytrain_)\n",
    "        loss.backward()\n",
    "\n",
    "        optimizer.step()\n",
    "\n",
    "        if epoch % 100 == 0:\n",
    "                print('{}\\tTrain Epoch: {} \\tLoss: {:.6f}'.format(\n",
    "                    pid, epoch, loss.item()))\n",
    "                "
   ]
  },
  {
   "cell_type": "markdown",
   "metadata": {},
   "source": [
    "## Training the model\n",
    "* torch.multiprocessing is a drop in replacement for Python’s multiprocessing module. \n",
    "* All tensors sent through a multiprocessing.Queue, will have their data moved into shared memory and will only send a handle to another process.\n",
    "* We first train the model across `num_processes` processes\n",
    "* subprocesses are created by calling set_start_method\n",
    "* model.share_memory() shares the model across the processes\n",
    "* rank refers to process hierarchy\n"
   ]
  },
  {
   "cell_type": "code",
   "execution_count": 10,
   "metadata": {},
   "outputs": [
    {
     "data": {
      "text/plain": [
       "{'file_system'}"
      ]
     },
     "execution_count": 10,
     "metadata": {},
     "output_type": "execute_result"
    }
   ],
   "source": [
    "import torch.multiprocessing as mp\n",
    "\n",
    "mp.get_all_sharing_strategies()"
   ]
  },
  {
   "cell_type": "code",
   "execution_count": 11,
   "metadata": {},
   "outputs": [
    {
     "data": {
      "text/plain": [
       "'file_system'"
      ]
     },
     "execution_count": 11,
     "metadata": {},
     "output_type": "execute_result"
    }
   ],
   "source": [
    "mp.get_sharing_strategy()"
   ]
  },
  {
   "cell_type": "code",
   "execution_count": 12,
   "metadata": {},
   "outputs": [
    {
     "name": "stdout",
     "output_type": "stream",
     "text": [
      "90450\tTrain Epoch: 100 \tLoss: 0.640276\n",
      "90452\tTrain Epoch: 100 \tLoss: 0.632746\n",
      "90451\tTrain Epoch: 100 \tLoss: 0.611317\n",
      "90453\tTrain Epoch: 100 \tLoss: 0.599894\n",
      "90450\tTrain Epoch: 200 \tLoss: 0.516419\n",
      "90452\tTrain Epoch: 200 \tLoss: 0.510591\n",
      "90451\tTrain Epoch: 200 \tLoss: 0.484444\n",
      "90453\tTrain Epoch: 200 \tLoss: 0.434364\n",
      "90452\tTrain Epoch: 300 \tLoss: 0.535437\n",
      "90450\tTrain Epoch: 300 \tLoss: 0.514480\n",
      "90451\tTrain Epoch: 300 \tLoss: 0.431045\n",
      "90453\tTrain Epoch: 300 \tLoss: 0.322277\n",
      "90451\tTrain Epoch: 400 \tLoss: 0.226990\n",
      "90450\tTrain Epoch: 400 \tLoss: 0.139121\n",
      "90452\tTrain Epoch: 400 \tLoss: 0.145423\n",
      "90453\tTrain Epoch: 400 \tLoss: 0.193741\n",
      "90452\tTrain Epoch: 500 \tLoss: 0.135082\n",
      "90450\tTrain Epoch: 500 \tLoss: 0.113474\n",
      "90451\tTrain Epoch: 500 \tLoss: 0.127406\n",
      "90453\tTrain Epoch: 500 \tLoss: 0.121229\n",
      "90451\tTrain Epoch: 600 \tLoss: 0.107233\n",
      "90452\tTrain Epoch: 600 \tLoss: 0.127822\n",
      "90450\tTrain Epoch: 600 \tLoss: 0.129779\n",
      "90453\tTrain Epoch: 600 \tLoss: 0.082163\n",
      "90450\tTrain Epoch: 700 \tLoss: 0.149483\n",
      "90452\tTrain Epoch: 700 \tLoss: 0.073473\n",
      "90451\tTrain Epoch: 700 \tLoss: 0.094050\n",
      "90453\tTrain Epoch: 700 \tLoss: 0.114135\n",
      "90450\tTrain Epoch: 800 \tLoss: 0.111647\n",
      "90452\tTrain Epoch: 800 \tLoss: 0.076489\n",
      "90451\tTrain Epoch: 800 \tLoss: 0.065435\n",
      "90453\tTrain Epoch: 800 \tLoss: 0.087065\n",
      "90450\tTrain Epoch: 900 \tLoss: 0.120030\n",
      "90451\tTrain Epoch: 900 \tLoss: 0.080063\n",
      "90452\tTrain Epoch: 900 \tLoss: 0.227091\n",
      "90453\tTrain Epoch: 900 \tLoss: 0.126687\n",
      "90450\tTrain Epoch: 1000 \tLoss: 0.055353\n",
      "90451\tTrain Epoch: 1000 \tLoss: 0.045057\n",
      "90452\tTrain Epoch: 1000 \tLoss: 0.052061\n",
      "90453\tTrain Epoch: 1000 \tLoss: 0.045091\n",
      "prediction accuracy 0.9305555555555556\n",
      "micro precision 0.9305555555555556\n",
      "micro recall 0.9305555555555556\n"
     ]
    }
   ],
   "source": [
    "if __name__ == '__main__':\n",
    "    \n",
    "    mp.set_start_method('fork')\n",
    " \n",
    "    Xtrain_.share_memory_()\n",
    "    Ytrain_.share_memory_() \n",
    "    Xtest_.share_memory_()\n",
    "    Ytest_.share_memory_()\n",
    "\n",
    "    model = Net()\n",
    "    model.share_memory() # gradients are allocated lazily, so they are not shared here\n",
    "    \n",
    "    optimizer = optim.Adam(model.parameters(), lr = 0.001)\n",
    "\n",
    "    processes = []\n",
    "    for rank in range(4):\n",
    "        \n",
    "        p = mp.Process(target=train, args=(model, Xtrain_, Ytrain_, optimizer ))\n",
    "        p.start()\n",
    "        processes.append(p)\n",
    "        \n",
    "    for p in processes:\n",
    "        p.join()\n",
    "        \n",
    "    if(processes[0].is_alive()==False):\n",
    "        \n",
    "        model.eval()\n",
    "        test_loss = 0\n",
    "        correct = 0\n",
    "\n",
    "        predict_out = model(Xtest_)\n",
    "        _, predict_y = torch.max(predict_out, 1)\n",
    "        \n",
    "        print(\"\\n\")\n",
    "        print ('prediction accuracy', accuracy_score(Ytest_.data, predict_y.data))\n",
    "        print ('micro precision', precision_score(Ytest_.data, predict_y.data, average='micro'))\n",
    "        print ('micro recall', recall_score(Ytest_.data, predict_y.data, average='micro'))"
   ]
  },
  {
   "cell_type": "code",
   "execution_count": null,
   "metadata": {},
   "outputs": [],
   "source": []
  }
 ],
 "metadata": {
  "kernelspec": {
   "display_name": "Python 3",
   "language": "python",
   "name": "python3"
  },
  "language_info": {
   "codemirror_mode": {
    "name": "ipython",
    "version": 3
   },
   "file_extension": ".py",
   "mimetype": "text/x-python",
   "name": "python",
   "nbconvert_exporter": "python",
   "pygments_lexer": "ipython3",
   "version": "3.6.8"
  }
 },
 "nbformat": 4,
 "nbformat_minor": 2
}

{
 "cells": [
  {
   "cell_type": "markdown",
   "metadata": {},
   "source": [
    "# Deploy a PyTorch model to a Clipper cluster for use by other applications\n"
   ]
  },
  {
   "cell_type": "markdown",
   "metadata": {},
   "source": [
    "## Load libraries"
   ]
  },
  {
   "cell_type": "code",
   "execution_count": 14,
   "metadata": {},
   "outputs": [],
   "source": [
    "import numpy as np\n",
    "import pandas as pd\n",
    "\n",
    "import torch\n",
    "import torch.nn as nn\n",
    "import torch.optim as optim\n",
    "from torch.nn import functional as F"
   ]
  },
  {
   "cell_type": "code",
   "execution_count": 29,
   "metadata": {},
   "outputs": [],
   "source": [
    "wine_data = pd.read_csv('data/wine_data.csv')"
   ]
  },
  {
   "cell_type": "markdown",
   "metadata": {},
   "source": [
    "#### Collecting Features"
   ]
  },
  {
   "cell_type": "code",
   "execution_count": 30,
   "metadata": {
    "scrolled": true
   },
   "outputs": [],
   "source": [
    "wine_features = wine_data.drop('Class', axis = 1)\n",
    "wine_target = wine_data[['Class']]"
   ]
  },
  {
   "cell_type": "code",
   "execution_count": 31,
   "metadata": {},
   "outputs": [],
   "source": [
    "from sklearn.model_selection import train_test_split\n",
    "\n",
    "X_train, x_test, Y_train, y_test = train_test_split(wine_features,\n",
    "                                                    wine_target,\n",
    "                                                    test_size=0.4,\n",
    "                                                    random_state=0)"
   ]
  },
  {
   "cell_type": "code",
   "execution_count": 32,
   "metadata": {},
   "outputs": [],
   "source": [
    "Xtrain_ = torch.from_numpy(X_train.values).float()\n",
    "Xtest_ = torch.from_numpy(x_test.values).float()\n",
    "Ytrain_ = torch.from_numpy(Y_train.values).view(1,-1)[0]\n",
    "Ytest_ = torch.from_numpy(y_test.values).view(1,-1)[0]"
   ]
  },
  {
   "cell_type": "markdown",
   "metadata": {},
   "source": [
    "## Creating a classifier\n"
   ]
  },
  {
   "cell_type": "code",
   "execution_count": 33,
   "metadata": {},
   "outputs": [],
   "source": [
    "input_size = 13\n",
    "output_size = 3\n",
    "hidden_size = 100"
   ]
  },
  {
   "cell_type": "code",
   "execution_count": 34,
   "metadata": {},
   "outputs": [],
   "source": [
    "class Net(nn.Module):\n",
    "    \n",
    "    def __init__(self):\n",
    "        super(Net, self).__init__()\n",
    "        self.fc1 = nn.Linear(input_size, hidden_size)\n",
    "        self.fc2 = nn.Linear(hidden_size, hidden_size)\n",
    "        self.fc3 = nn.Linear(hidden_size, output_size)\n",
    "\n",
    "    def forward(self, X):\n",
    "        X = torch.sigmoid((self.fc1(X)))\n",
    "        X = torch.sigmoid(self.fc2(X))\n",
    "        X = self.fc3(X)\n",
    "\n",
    "        return F.log_softmax(X, dim=-1)"
   ]
  },
  {
   "cell_type": "code",
   "execution_count": 35,
   "metadata": {},
   "outputs": [],
   "source": [
    "model = Net()"
   ]
  },
  {
   "cell_type": "code",
   "execution_count": 36,
   "metadata": {},
   "outputs": [],
   "source": [
    "optimizer = optim.Adam(model.parameters(), lr = 0.01)\n",
    "loss_fn = nn.NLLLoss()"
   ]
  },
  {
   "cell_type": "markdown",
   "metadata": {},
   "source": [
    "#### Training the model"
   ]
  },
  {
   "cell_type": "code",
   "execution_count": 37,
   "metadata": {},
   "outputs": [
    {
     "name": "stdout",
     "output_type": "stream",
     "text": [
      "Epoch 0 loss 1.1848348379135132\n",
      "Epoch 100 loss 0.2554129362106323\n",
      "Epoch 200 loss 0.043856181204319\n",
      "Epoch 300 loss 0.2409471869468689\n",
      "Epoch 400 loss 0.031679265201091766\n",
      "Epoch 500 loss 0.025489557534456253\n",
      "Epoch 600 loss 0.021492188796401024\n",
      "Epoch 700 loss 0.018933657556772232\n",
      "Epoch 800 loss 0.01718682236969471\n",
      "Epoch 900 loss 0.015777599066495895\n"
     ]
    }
   ],
   "source": [
    "epochs = 1000\n",
    "\n",
    "for epoch in range(epochs):\n",
    "\n",
    "    optimizer.zero_grad()\n",
    "    Ypred = model(Xtrain_)\n",
    "\n",
    "    loss = loss_fn(Ypred , Ytrain_)\n",
    "    loss.backward()\n",
    "\n",
    "    optimizer.step()\n",
    "        \n",
    "    if epoch % 100 == 0:\n",
    "        print ('Epoch', epoch, 'loss', loss.item())"
   ]
  },
  {
   "cell_type": "markdown",
   "metadata": {},
   "source": [
    "## Install Clipper Admin"
   ]
  },
  {
   "cell_type": "code",
   "execution_count": 193,
   "metadata": {},
   "outputs": [
    {
     "name": "stdout",
     "output_type": "stream",
     "text": [
      "Requirement already satisfied: clipper_admin in /anaconda3/lib/python3.6/site-packages (0.3.0)\n",
      "Requirement already satisfied: numpy in /anaconda3/lib/python3.6/site-packages (from clipper_admin) (1.16.1)\n",
      "Requirement already satisfied: cloudpickle>=0.5 in /anaconda3/lib/python3.6/site-packages (from clipper_admin) (0.5.2)\n",
      "Requirement already satisfied: docker in /anaconda3/lib/python3.6/site-packages (from clipper_admin) (3.7.2)\n",
      "Requirement already satisfied: requests in /anaconda3/lib/python3.6/site-packages (from clipper_admin) (2.18.4)\n",
      "Requirement already satisfied: prometheus-client in /anaconda3/lib/python3.6/site-packages (from clipper_admin) (0.6.0)\n",
      "Requirement already satisfied: jsonschema in /anaconda3/lib/python3.6/site-packages (from clipper_admin) (2.6.0)\n",
      "Requirement already satisfied: psutil in /anaconda3/lib/python3.6/site-packages (from clipper_admin) (5.4.3)\n",
      "Requirement already satisfied: kubernetes>=6.0.0 in /anaconda3/lib/python3.6/site-packages (from clipper_admin) (9.0.0)\n",
      "Requirement already satisfied: pyyaml in /anaconda3/lib/python3.6/site-packages (from clipper_admin) (3.12)\n",
      "Requirement already satisfied: redis in /anaconda3/lib/python3.6/site-packages (from clipper_admin) (3.2.1)\n",
      "Requirement already satisfied: six>=1.4.0 in /anaconda3/lib/python3.6/site-packages (from docker->clipper_admin) (1.11.0)\n",
      "Requirement already satisfied: docker-pycreds>=0.4.0 in /anaconda3/lib/python3.6/site-packages (from docker->clipper_admin) (0.4.0)\n",
      "Requirement already satisfied: websocket-client>=0.32.0 in /anaconda3/lib/python3.6/site-packages (from docker->clipper_admin) (0.56.0)\n",
      "Requirement already satisfied: chardet<3.1.0,>=3.0.2 in /anaconda3/lib/python3.6/site-packages (from requests->clipper_admin) (3.0.4)\n",
      "Requirement already satisfied: idna<2.7,>=2.5 in /anaconda3/lib/python3.6/site-packages (from requests->clipper_admin) (2.6)\n",
      "Requirement already satisfied: urllib3<1.23,>=1.21.1 in /anaconda3/lib/python3.6/site-packages (from requests->clipper_admin) (1.22)\n",
      "Requirement already satisfied: certifi>=2017.4.17 in /anaconda3/lib/python3.6/site-packages (from requests->clipper_admin) (2018.11.29)\n",
      "Requirement already satisfied: google-auth>=1.0.1 in /anaconda3/lib/python3.6/site-packages (from kubernetes>=6.0.0->clipper_admin) (1.6.2)\n",
      "Requirement already satisfied: setuptools>=21.0.0 in /anaconda3/lib/python3.6/site-packages (from kubernetes>=6.0.0->clipper_admin) (39.0.1)\n",
      "Requirement already satisfied: python-dateutil>=2.5.3 in /anaconda3/lib/python3.6/site-packages (from kubernetes>=6.0.0->clipper_admin) (2.6.1)\n",
      "Requirement already satisfied: requests-oauthlib in /anaconda3/lib/python3.6/site-packages (from kubernetes>=6.0.0->clipper_admin) (1.2.0)\n",
      "Requirement already satisfied: rsa>=3.1.4 in /Users/judyraj/.local/lib/python3.6/site-packages (from google-auth>=1.0.1->kubernetes>=6.0.0->clipper_admin) (3.4.2)\n",
      "Requirement already satisfied: cachetools>=2.0.0 in /anaconda3/lib/python3.6/site-packages (from google-auth>=1.0.1->kubernetes>=6.0.0->clipper_admin) (3.0.0)\n",
      "Requirement already satisfied: pyasn1-modules>=0.2.1 in /anaconda3/lib/python3.6/site-packages (from google-auth>=1.0.1->kubernetes>=6.0.0->clipper_admin) (0.2.3)\n",
      "Requirement already satisfied: oauthlib>=3.0.0 in /anaconda3/lib/python3.6/site-packages (from requests-oauthlib->kubernetes>=6.0.0->clipper_admin) (3.0.1)\n",
      "Requirement already satisfied: pyasn1>=0.1.3 in /Users/judyraj/.local/lib/python3.6/site-packages (from rsa>=3.1.4->google-auth>=1.0.1->kubernetes>=6.0.0->clipper_admin) (0.4.2)\n",
      "\u001b[33mYou are using pip version 18.1, however version 19.1.1 is available.\n",
      "You should consider upgrading via the 'pip install --upgrade pip' command.\u001b[0m\n"
     ]
    }
   ],
   "source": [
    "!pip install clipper_admin"
   ]
  },
  {
   "cell_type": "code",
   "execution_count": 194,
   "metadata": {},
   "outputs": [],
   "source": [
    "# Clipper pytorch container has version 0.4.0. Only supports models trained and saved in pytorch versions <0.4.0 (Latest pytorch version is 1.0.1) \n",
    "# Need to install pytorch 0.4.0, re-run first demo and get a model in 0.4.0 before continuing."
   ]
  },
  {
   "cell_type": "markdown",
   "metadata": {},
   "source": [
    " ## Create a Clipper Connection \n",
    "* create a ClipperConnection object  with the type of ContainerManager you want to use. In this case, you will be using the DockerContainerManager."
   ]
  },
  {
   "cell_type": "code",
   "execution_count": 195,
   "metadata": {},
   "outputs": [
    {
     "name": "stdout",
     "output_type": "stream",
     "text": [
      "Docker version 18.06.0-ce, build 0ffa825\r\n"
     ]
    }
   ],
   "source": [
    "!docker -v"
   ]
  },
  {
   "cell_type": "code",
   "execution_count": 20,
   "metadata": {},
   "outputs": [],
   "source": [
    "from clipper_admin import ClipperConnection, DockerContainerManager\n",
    "clipper_conn = ClipperConnection(DockerContainerManager())"
   ]
  },
  {
   "cell_type": "markdown",
   "metadata": {},
   "source": [
    "## Start a Clipper cluster.\n",
    "\n",
    "* The following command will start 3 Docker containers:\n",
    "\n",
    "* The Query Frontend: The Query Frontend container listens for incoming prediction requests and schedules and routes them to the deployed models.\n",
    "* The Management Frontend: The Management Frontend container manages and updates the cluster’s internal configuration state, such as tracking which models are deployed and which application endpoints have been registered.\n",
    "* A Redis instance: Redis is used to persistently store Clipper’s internal configuration state. By default, Redis is started on port 6380 instead of the standard Redis default port 6379 to avoid collisions with any Redis instances that are already running."
   ]
  },
  {
   "cell_type": "code",
   "execution_count": 21,
   "metadata": {},
   "outputs": [
    {
     "name": "stderr",
     "output_type": "stream",
     "text": [
      "19-06-06:12:41:29 INFO     [docker_container_manager.py:119] Starting managed Redis instance in Docker\n",
      "19-06-06:12:41:33 INFO     [clipper_admin.py:126] Clipper is running\n"
     ]
    }
   ],
   "source": [
    "clipper_conn.start_clipper()\n",
    "clipper_addr = clipper_conn.get_query_addr()"
   ]
  },
  {
   "cell_type": "code",
   "execution_count": 22,
   "metadata": {},
   "outputs": [
    {
     "name": "stdout",
     "output_type": "stream",
     "text": [
      "CONTAINER ID        IMAGE                               COMMAND                  CREATED             STATUS                  PORTS                                            NAMES\r\n",
      "a11897a412a1        prom/prometheus:v2.1.0              \"/bin/prometheus --c…\"   2 seconds ago       Up Less than a second   0.0.0.0:9090->9090/tcp                           metric_frontend-42496\r\n",
      "7e132a7e3a9b        clipper/frontend-exporter:0.3.0     \"python /usr/src/app…\"   2 seconds ago       Up 1 second                                                              query_frontend_exporter-88145\r\n",
      "fe66686ca08e        clipper/query_frontend:0.3.0        \"/clipper/release/sr…\"   3 seconds ago       Up 2 seconds            0.0.0.0:1337->1337/tcp, 0.0.0.0:7000->7000/tcp   query_frontend-88145\r\n",
      "2d24f3265976        clipper/management_frontend:0.3.0   \"/clipper/release/sr…\"   4 seconds ago       Up 2 seconds            0.0.0.0:1338->1338/tcp                           mgmt_frontend-52500\r\n",
      "fc650c5f7968        redis:alpine                        \"docker-entrypoint.s…\"   5 seconds ago       Up 3 seconds            0.0.0.0:6379->6379/tcp                           redis-74384\r\n"
     ]
    }
   ],
   "source": [
    "!docker ps --filter label=ai.clipper.container.label"
   ]
  },
  {
   "cell_type": "markdown",
   "metadata": {},
   "source": [
    "## Create an Application\n",
    "*  slo_micros : The query latency objective for the application in microseconds. This is the processing latency between Clipper receiving a request and sending a response. \n",
    "*  default_output : The default output for the application. The default output will be returned whenever an application is unable to receive a response from a model within the specified query latency SLO"
   ]
  },
  {
   "cell_type": "code",
   "execution_count": 23,
   "metadata": {},
   "outputs": [],
   "source": [
    "app_name = \"wine-classsifier-model\"\n",
    "default_output = \"default\""
   ]
  },
  {
   "cell_type": "code",
   "execution_count": 24,
   "metadata": {},
   "outputs": [
    {
     "name": "stderr",
     "output_type": "stream",
     "text": [
      "19-06-06:12:41:34 INFO     [clipper_admin.py:201] Application wine-classsifier-model was successfully registered\n"
     ]
    }
   ],
   "source": [
    "clipper_conn.register_application(\n",
    "    name = app_name,\n",
    "    input_type = \"floats\",\n",
    "    default_output = default_output,\n",
    "    slo_micros=10000000)"
   ]
  },
  {
   "cell_type": "code",
   "execution_count": 25,
   "metadata": {},
   "outputs": [
    {
     "data": {
      "text/plain": [
       "['wine-classsifier-model']"
      ]
     },
     "execution_count": 25,
     "metadata": {},
     "output_type": "execute_result"
    }
   ],
   "source": [
    "clipper_conn.get_all_apps()\n"
   ]
  },
  {
   "cell_type": "code",
   "execution_count": 38,
   "metadata": {},
   "outputs": [
    {
     "data": {
      "text/plain": [
       "Net(\n",
       "  (fc1): Linear(in_features=13, out_features=100, bias=True)\n",
       "  (fc2): Linear(in_features=100, out_features=100, bias=True)\n",
       "  (fc3): Linear(in_features=100, out_features=3, bias=True)\n",
       ")"
      ]
     },
     "execution_count": 38,
     "metadata": {},
     "output_type": "execute_result"
    }
   ],
   "source": [
    "model.eval()"
   ]
  },
  {
   "cell_type": "markdown",
   "metadata": {},
   "source": [
    "## Define a method for prediction\n",
    "* This is required as an argument for the pytorch model deployer in clipper"
   ]
  },
  {
   "cell_type": "code",
   "execution_count": 39,
   "metadata": {},
   "outputs": [],
   "source": [
    "def predict_torch_model(model, data):\n",
    "\n",
    "\n",
    "    sample_tensor = torch.from_numpy(data).float()\n",
    "\n",
    "\n",
    "    out = model(sample_tensor)\n",
    "\n",
    "    _, predicted = torch.max(out.data, -1)\n",
    "\n",
    "        \n",
    "    return [\"The wine belongs to class - \" + str(predicted.item())]"
   ]
  },
  {
   "cell_type": "markdown",
   "metadata": {},
   "source": [
    "## Deploy model to Clipper\n",
    "* Clipper has a pytorch specific deployer\n",
    "* Clipper must download this Docker image from the internet, so this may take a minute\n",
    "* Link the generated pytorch-model to the application we created before.\n",
    "* Batch_size is 1 as we are only sending in one line of input data for prediction with one request"
   ]
  },
  {
   "cell_type": "code",
   "execution_count": 40,
   "metadata": {},
   "outputs": [
    {
     "name": "stderr",
     "output_type": "stream",
     "text": [
      "19-06-06:12:42:10 INFO     [deployer_utils.py:44] Saving function to /tmp/clipper/tmpcc1ayzos\n",
      "19-06-06:12:42:10 INFO     [deployer_utils.py:54] Serialized and supplied predict function\n",
      "19-06-06:12:42:10 INFO     [pytorch.py:204] Torch model saved\n",
      "19-06-06:12:42:10 INFO     [pytorch.py:217] Using Python 3.6 base image\n",
      "19-06-06:12:42:10 INFO     [clipper_admin.py:452] Building model Docker image with model data from /tmp/clipper/tmpcc1ayzos\n",
      "19-06-06:12:42:11 INFO     [clipper_admin.py:456] {'stream': 'Step 1/2 : FROM clipper/pytorch36-container:0.3.0'}\n",
      "19-06-06:12:42:11 INFO     [clipper_admin.py:456] {'stream': '\\n'}\n",
      "19-06-06:12:42:11 INFO     [clipper_admin.py:456] {'stream': ' ---> 37545e712105\\n'}\n",
      "19-06-06:12:42:11 INFO     [clipper_admin.py:456] {'stream': 'Step 2/2 : COPY /tmp/clipper/tmpcc1ayzos /model/'}\n",
      "19-06-06:12:42:11 INFO     [clipper_admin.py:456] {'stream': '\\n'}\n",
      "19-06-06:12:42:11 INFO     [clipper_admin.py:456] {'stream': ' ---> dbc242cb44e0\\n'}\n",
      "19-06-06:12:42:11 INFO     [clipper_admin.py:456] {'aux': {'ID': 'sha256:dbc242cb44e02bf2cf8ac38cb92b240f3f19f7e59e1447fc5766ec3623f76987'}}\n",
      "19-06-06:12:42:11 INFO     [clipper_admin.py:456] {'stream': 'Successfully built dbc242cb44e0\\n'}\n",
      "19-06-06:12:42:11 INFO     [clipper_admin.py:456] {'stream': 'Successfully tagged pytorch-model:1\\n'}\n",
      "19-06-06:12:42:11 INFO     [clipper_admin.py:458] Pushing model Docker image to pytorch-model:1\n",
      "19-06-06:12:42:14 INFO     [docker_container_manager.py:257] Found 0 replicas for pytorch-model:1. Adding 1\n",
      "19-06-06:12:42:21 INFO     [clipper_admin.py:635] Successfully registered model pytorch-model:1\n",
      "19-06-06:12:42:21 INFO     [clipper_admin.py:553] Done deploying model pytorch-model:1.\n"
     ]
    }
   ],
   "source": [
    "from clipper_admin.deployers import pytorch as pytorch_deployer\n",
    "\n",
    "pytorch_deployer.deploy_pytorch_model(\n",
    "    clipper_conn,\n",
    "    name = \"pytorch-model\",\n",
    "    version = 1, \n",
    "    input_type = \"floats\", \n",
    "    func = predict_torch_model, # predict function wrapper\n",
    "    pytorch_model = model, # pass model to function\n",
    "    batch_size = 1 \n",
    ")"
   ]
  },
  {
   "cell_type": "code",
   "execution_count": 41,
   "metadata": {},
   "outputs": [
    {
     "name": "stderr",
     "output_type": "stream",
     "text": [
      "19-06-06:12:42:21 INFO     [clipper_admin.py:263] Model pytorch-model is now linked to application wine-classsifier-model\n"
     ]
    }
   ],
   "source": [
    "clipper_conn.link_model_to_app(app_name=\"wine-classsifier-model\", model_name=\"pytorch-model\")"
   ]
  },
  {
   "cell_type": "markdown",
   "metadata": {},
   "source": [
    "## Query the application\n",
    "* Query frontend is running at 1337 as we saw from the ps command before"
   ]
  },
  {
   "cell_type": "code",
   "execution_count": 44,
   "metadata": {},
   "outputs": [
    {
     "name": "stdout",
     "output_type": "stream",
     "text": [
      "{'query_id': 2, 'output': 'The wine belongs to class - 2', 'default': False}\n"
     ]
    }
   ],
   "source": [
    "import requests\n",
    "import json\n",
    "\n",
    "\n",
    "clipper_addr = 'localhost:1337'\n",
    "\n",
    "data = [12.82,3.37,2.3,19.5,88,1.48,0.66,0.4,0.97,10.26,0.72,1.75,685]\n",
    "\n",
    "\n",
    "req_json = json.dumps({ \"input\": [np.float64(x) for x in data]})\n",
    "\n",
    "response = requests.post(\n",
    "           \"http://%s/%s/predict\" % (clipper_addr, 'wine-classsifier-model'),\n",
    "           headers={\"Content-type\": \"application/json\"},\n",
    "           data=req_json)\n",
    "  \n",
    "print(response.json())"
   ]
  },
  {
   "cell_type": "markdown",
   "metadata": {},
   "source": [
    "## Stop Clipper"
   ]
  },
  {
   "cell_type": "code",
   "execution_count": 45,
   "metadata": {},
   "outputs": [
    {
     "name": "stderr",
     "output_type": "stream",
     "text": [
      "19-06-06:12:43:39 INFO     [clipper_admin.py:1258] Stopped all Clipper cluster and all model containers\n"
     ]
    }
   ],
   "source": [
    "clipper_conn.stop_all()"
   ]
  },
  {
   "cell_type": "code",
   "execution_count": null,
   "metadata": {},
   "outputs": [],
   "source": []
  }
 ],
 "metadata": {
  "kernelspec": {
   "display_name": "Python 3",
   "language": "python",
   "name": "python3"
  },
  "language_info": {
   "codemirror_mode": {
    "name": "ipython",
    "version": 3
   },
   "file_extension": ".py",
   "mimetype": "text/x-python",
   "name": "python",
   "nbconvert_exporter": "python",
   "pygments_lexer": "ipython3",
   "version": "3.6.4"
  }
 },
 "nbformat": 4,
 "nbformat_minor": 2
}

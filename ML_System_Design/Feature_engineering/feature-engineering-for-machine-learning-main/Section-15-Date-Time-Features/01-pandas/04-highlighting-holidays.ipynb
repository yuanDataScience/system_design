{
 "cells": [
  {
   "cell_type": "markdown",
   "id": "4e0042ce",
   "metadata": {},
   "source": [
    "# Flagging holidays\n",
    "\n",
    "In this notebook, we will discuss 3 methods to flag holidays in our data:\n",
    "\n",
    "- Manually\n",
    "- Using the `holidays` package\n",
    "- Using pandas\n",
    "\n",
    "We will use the **online_retail dataset**, which you can obtain following the instructions in the notebook: `02-create-online-retail-II-datasets` in the **01-Create-Datasets** folder."
   ]
  },
  {
   "cell_type": "code",
   "execution_count": 1,
   "id": "edb15f46",
   "metadata": {},
   "outputs": [],
   "source": [
    "import numpy as np\n",
    "import pandas as pd\n",
    "import matplotlib.pyplot as plt"
   ]
  },
  {
   "cell_type": "markdown",
   "id": "7e9ceba3",
   "metadata": {},
   "source": [
    "## Load data and prepare data"
   ]
  },
  {
   "cell_type": "code",
   "execution_count": 2,
   "id": "51cfe4fa",
   "metadata": {},
   "outputs": [
    {
     "data": {
      "text/html": [
       "<div>\n",
       "<style scoped>\n",
       "    .dataframe tbody tr th:only-of-type {\n",
       "        vertical-align: middle;\n",
       "    }\n",
       "\n",
       "    .dataframe tbody tr th {\n",
       "        vertical-align: top;\n",
       "    }\n",
       "\n",
       "    .dataframe thead th {\n",
       "        text-align: right;\n",
       "    }\n",
       "</style>\n",
       "<table border=\"1\" class=\"dataframe\">\n",
       "  <thead>\n",
       "    <tr style=\"text-align: right;\">\n",
       "      <th></th>\n",
       "      <th>quantity</th>\n",
       "      <th>revenue</th>\n",
       "    </tr>\n",
       "    <tr>\n",
       "      <th>invoice_date</th>\n",
       "      <th></th>\n",
       "      <th></th>\n",
       "    </tr>\n",
       "  </thead>\n",
       "  <tbody>\n",
       "    <tr>\n",
       "      <th>2009-12-01</th>\n",
       "      <td>21050</td>\n",
       "      <td>37366.32</td>\n",
       "    </tr>\n",
       "    <tr>\n",
       "      <th>2009-12-02</th>\n",
       "      <td>25248</td>\n",
       "      <td>45644.67</td>\n",
       "    </tr>\n",
       "    <tr>\n",
       "      <th>2009-12-03</th>\n",
       "      <td>47485</td>\n",
       "      <td>66327.53</td>\n",
       "    </tr>\n",
       "    <tr>\n",
       "      <th>2009-12-04</th>\n",
       "      <td>18607</td>\n",
       "      <td>31448.44</td>\n",
       "    </tr>\n",
       "    <tr>\n",
       "      <th>2009-12-05</th>\n",
       "      <td>4722</td>\n",
       "      <td>9042.36</td>\n",
       "    </tr>\n",
       "  </tbody>\n",
       "</table>\n",
       "</div>"
      ],
      "text/plain": [
       "              quantity   revenue\n",
       "invoice_date                    \n",
       "2009-12-01       21050  37366.32\n",
       "2009-12-02       25248  45644.67\n",
       "2009-12-03       47485  66327.53\n",
       "2009-12-04       18607  31448.44\n",
       "2009-12-05        4722   9042.36"
      ]
     },
     "execution_count": 2,
     "metadata": {},
     "output_type": "execute_result"
    }
   ],
   "source": [
    "# File path:\n",
    "file = \"../../online_retail_II.xlsx\"\n",
    "\n",
    "# The data is provided as two sheets in a single Excel file.\n",
    "# Each sheet contains a different time period.\n",
    "# Load both and join them into a single dataframe\n",
    "# as shown below:\n",
    "\n",
    "df_1 = pd.read_excel(file, sheet_name=\"Year 2009-2010\")\n",
    "df_2 = pd.read_excel(file, sheet_name=\"Year 2010-2011\")\n",
    "\n",
    "df = pd.concat([df_1, df_2])\n",
    "\n",
    "# Rename columns\n",
    "df.columns = [\n",
    "    \"invoice\",\n",
    "    \"stock_code\",\n",
    "    \"description\",\n",
    "    \"quantity\",\n",
    "    \"invoice_date\",\n",
    "    \"price\",\n",
    "    \"customer_id\",\n",
    "    \"country\",\n",
    "]\n",
    "\n",
    "# just UK\n",
    "df = df[df[\"country\"] == \"United Kingdom\"]\n",
    "\n",
    "# add revenue variable\n",
    "df[\"revenue\"] = df[\"quantity\"] * df[\"price\"]\n",
    "\n",
    "# remove cancelled orders and missing customer ids\n",
    "df[\"is_cancelled\"] = df[\"invoice\"].apply(lambda x: str(x)[0] == \"C\")\n",
    "mask = (~df[\"customer_id\"].isnull()) & (~df[\"is_cancelled\"])\n",
    "\n",
    "# resample for total daily revenue\n",
    "df = (\n",
    "    df.loc[mask, [\"invoice_date\", \"quantity\", \"revenue\"]]\n",
    "    .resample(\"D\", on=\"invoice_date\")\n",
    "    .sum()\n",
    ")\n",
    "\n",
    "df.head()"
   ]
  },
  {
   "cell_type": "markdown",
   "id": "76168c4c",
   "metadata": {},
   "source": [
    "## Flag specific dates - manually\n",
    "\n",
    "First, we create a list with the specific holidays we want to highlight, for example Black Fridays. And then we add an indicator to flag those dates in our dataset.\n",
    "\n",
    "- Pros: Easy\n",
    "- Con: We need to enter manually each date, for each year ==> impractical"
   ]
  },
  {
   "cell_type": "code",
   "execution_count": 3,
   "id": "be9249ce",
   "metadata": {},
   "outputs": [],
   "source": [
    "import datetime"
   ]
  },
  {
   "cell_type": "code",
   "execution_count": 4,
   "id": "b8530b68",
   "metadata": {},
   "outputs": [
    {
     "data": {
      "text/plain": [
       "[datetime.date(2010, 11, 26), datetime.date(2011, 11, 25)]"
      ]
     },
     "execution_count": 4,
     "metadata": {},
     "output_type": "execute_result"
    }
   ],
   "source": [
    "# Black Friday dates in 2010 and 2011\n",
    "\n",
    "black_friday = [datetime.date(2010, 11, 26), datetime.date(2011, 11, 25)]\n",
    "\n",
    "black_friday"
   ]
  },
  {
   "cell_type": "code",
   "execution_count": 5,
   "id": "f38f5218",
   "metadata": {},
   "outputs": [
    {
     "data": {
      "text/html": [
       "<div>\n",
       "<style scoped>\n",
       "    .dataframe tbody tr th:only-of-type {\n",
       "        vertical-align: middle;\n",
       "    }\n",
       "\n",
       "    .dataframe tbody tr th {\n",
       "        vertical-align: top;\n",
       "    }\n",
       "\n",
       "    .dataframe thead th {\n",
       "        text-align: right;\n",
       "    }\n",
       "</style>\n",
       "<table border=\"1\" class=\"dataframe\">\n",
       "  <thead>\n",
       "    <tr style=\"text-align: right;\">\n",
       "      <th></th>\n",
       "      <th>quantity</th>\n",
       "      <th>revenue</th>\n",
       "      <th>holidays</th>\n",
       "    </tr>\n",
       "    <tr>\n",
       "      <th>invoice_date</th>\n",
       "      <th></th>\n",
       "      <th></th>\n",
       "      <th></th>\n",
       "    </tr>\n",
       "  </thead>\n",
       "  <tbody>\n",
       "    <tr>\n",
       "      <th>2010-11-26</th>\n",
       "      <td>11107</td>\n",
       "      <td>20950.99</td>\n",
       "      <td>1</td>\n",
       "    </tr>\n",
       "    <tr>\n",
       "      <th>2011-11-25</th>\n",
       "      <td>25197</td>\n",
       "      <td>22978.56</td>\n",
       "      <td>1</td>\n",
       "    </tr>\n",
       "  </tbody>\n",
       "</table>\n",
       "</div>"
      ],
      "text/plain": [
       "              quantity   revenue  holidays\n",
       "invoice_date                              \n",
       "2010-11-26       11107  20950.99         1\n",
       "2011-11-25       25197  22978.56         1"
      ]
     },
     "execution_count": 5,
     "metadata": {},
     "output_type": "execute_result"
    }
   ],
   "source": [
    "# flag Black Fridays\n",
    "\n",
    "df[\"holidays\"] = np.where(df.index.isin(black_friday),1,0)\n",
    "\n",
    "df[df[\"holidays\"]==1]"
   ]
  },
  {
   "cell_type": "code",
   "execution_count": 6,
   "id": "3a397361",
   "metadata": {},
   "outputs": [
    {
     "data": {
      "text/plain": [
       "Int64Index([4, 4], dtype='int64', name='invoice_date')"
      ]
     },
     "execution_count": 6,
     "metadata": {},
     "output_type": "execute_result"
    }
   ],
   "source": [
    "# let's double check that it was Friday\n",
    "\n",
    "df[df[\"holidays\"]==1].index.weekday"
   ]
  },
  {
   "cell_type": "markdown",
   "id": "e07a4f82",
   "metadata": {},
   "source": [
    "## With the holidays library\n",
    "\n",
    "- https://pypi.org/project/holidays/\n",
    "- https://python-holidays.readthedocs.io/en/latest/\n",
    "\n",
    "**Pros**: contains the holidays from several countries."
   ]
  },
  {
   "cell_type": "code",
   "execution_count": 7,
   "id": "2ef127a4",
   "metadata": {},
   "outputs": [],
   "source": [
    "import holidays"
   ]
  },
  {
   "cell_type": "code",
   "execution_count": 8,
   "id": "7b9c52c0",
   "metadata": {},
   "outputs": [
    {
     "data": {
      "text/plain": [
       "holidays.country_holidays('GB', subdiv='UK')"
      ]
     },
     "execution_count": 8,
     "metadata": {},
     "output_type": "execute_result"
    }
   ],
   "source": [
    "uk_holidays = holidays.UK()\n",
    "\n",
    "uk_holidays"
   ]
  },
  {
   "cell_type": "code",
   "execution_count": 9,
   "id": "93c59989",
   "metadata": {},
   "outputs": [
    {
     "name": "stdout",
     "output_type": "stream",
     "text": [
      "2010-01-01 New Year's Day\n",
      "2010-01-02 New Year Holiday [Scotland]\n",
      "2010-01-04 New Year Holiday [Scotland] (Observed)\n",
      "2010-03-17 St. Patrick's Day [Northern Ireland]\n",
      "2010-04-02 Good Friday\n",
      "2010-04-05 Easter Monday [England/Wales/Northern Ireland]\n",
      "2010-05-03 May Day\n",
      "2010-05-31 Spring Bank Holiday\n",
      "2010-07-12 Battle of the Boyne [Northern Ireland]\n",
      "2010-08-02 Summer Bank Holiday [Scotland]\n",
      "2010-08-30 Late Summer Bank Holiday [England/Wales/Northern Ireland]\n",
      "2010-11-30 St. Andrew's Day [Scotland]\n",
      "2010-12-25 Christmas Day\n",
      "2010-12-26 Boxing Day\n",
      "2010-12-27 Christmas Day (Observed)\n",
      "2010-12-28 Boxing Day (Observed)\n",
      "2011-01-01 New Year's Day\n",
      "2011-01-02 New Year Holiday [Scotland]\n",
      "2011-01-03 New Year's Day (Observed)\n",
      "2011-01-04 New Year Holiday [Scotland] (Observed)\n",
      "2011-03-17 St. Patrick's Day [Northern Ireland]\n",
      "2011-04-22 Good Friday\n",
      "2011-04-25 Easter Monday [England/Wales/Northern Ireland]\n",
      "2011-04-29 Wedding of William and Catherine\n",
      "2011-05-02 May Day\n",
      "2011-05-30 Spring Bank Holiday\n",
      "2011-07-12 Battle of the Boyne [Northern Ireland]\n",
      "2011-08-01 Summer Bank Holiday [Scotland]\n",
      "2011-08-29 Late Summer Bank Holiday [England/Wales/Northern Ireland]\n",
      "2011-11-30 St. Andrew's Day [Scotland]\n",
      "2011-12-25 Christmas Day\n",
      "2011-12-26 Boxing Day\n",
      "2011-12-27 Christmas Day (Observed)\n"
     ]
    }
   ],
   "source": [
    "# let's check the holidays available for the UK\n",
    "\n",
    "for date, name in sorted(holidays.UK(subdiv='UK', years=[2010,2011]).items()):\n",
    "    print(date, name)"
   ]
  },
  {
   "cell_type": "code",
   "execution_count": 10,
   "id": "1c577992",
   "metadata": {},
   "outputs": [
    {
     "data": {
      "text/plain": [
       "[datetime.date(2010, 1, 1),\n",
       " datetime.date(2010, 1, 2),\n",
       " datetime.date(2010, 1, 4),\n",
       " datetime.date(2010, 3, 17),\n",
       " datetime.date(2010, 7, 12),\n",
       " datetime.date(2010, 8, 2),\n",
       " datetime.date(2010, 11, 30),\n",
       " datetime.date(2010, 12, 25),\n",
       " datetime.date(2010, 12, 27),\n",
       " datetime.date(2010, 4, 2),\n",
       " datetime.date(2010, 4, 5),\n",
       " datetime.date(2010, 5, 3),\n",
       " datetime.date(2010, 5, 31),\n",
       " datetime.date(2010, 8, 30),\n",
       " datetime.date(2010, 12, 26),\n",
       " datetime.date(2010, 12, 28),\n",
       " datetime.date(2011, 1, 1),\n",
       " datetime.date(2011, 1, 3),\n",
       " datetime.date(2011, 1, 2),\n",
       " datetime.date(2011, 1, 4),\n",
       " datetime.date(2011, 3, 17),\n",
       " datetime.date(2011, 7, 12),\n",
       " datetime.date(2011, 8, 1),\n",
       " datetime.date(2011, 11, 30),\n",
       " datetime.date(2011, 12, 25),\n",
       " datetime.date(2011, 12, 27),\n",
       " datetime.date(2011, 4, 22),\n",
       " datetime.date(2011, 4, 25),\n",
       " datetime.date(2011, 5, 2),\n",
       " datetime.date(2011, 5, 30),\n",
       " datetime.date(2011, 8, 29),\n",
       " datetime.date(2011, 12, 26),\n",
       " datetime.date(2011, 4, 29)]"
      ]
     },
     "execution_count": 10,
     "metadata": {},
     "output_type": "execute_result"
    }
   ],
   "source": [
    "# let's capture the dates in a list:\n",
    "\n",
    "uk_holidays = [items[0] for items in holidays.UK(subdiv='UK', years=[2010,2011]).items()]\n",
    "\n",
    "uk_holidays"
   ]
  },
  {
   "cell_type": "code",
   "execution_count": 11,
   "id": "88e0e189",
   "metadata": {},
   "outputs": [
    {
     "data": {
      "text/html": [
       "<div>\n",
       "<style scoped>\n",
       "    .dataframe tbody tr th:only-of-type {\n",
       "        vertical-align: middle;\n",
       "    }\n",
       "\n",
       "    .dataframe tbody tr th {\n",
       "        vertical-align: top;\n",
       "    }\n",
       "\n",
       "    .dataframe thead th {\n",
       "        text-align: right;\n",
       "    }\n",
       "</style>\n",
       "<table border=\"1\" class=\"dataframe\">\n",
       "  <thead>\n",
       "    <tr style=\"text-align: right;\">\n",
       "      <th></th>\n",
       "      <th>quantity</th>\n",
       "      <th>revenue</th>\n",
       "      <th>holidays</th>\n",
       "    </tr>\n",
       "    <tr>\n",
       "      <th>invoice_date</th>\n",
       "      <th></th>\n",
       "      <th></th>\n",
       "      <th></th>\n",
       "    </tr>\n",
       "  </thead>\n",
       "  <tbody>\n",
       "    <tr>\n",
       "      <th>2010-01-01</th>\n",
       "      <td>0</td>\n",
       "      <td>0.00</td>\n",
       "      <td>1</td>\n",
       "    </tr>\n",
       "    <tr>\n",
       "      <th>2010-01-02</th>\n",
       "      <td>0</td>\n",
       "      <td>0.00</td>\n",
       "      <td>1</td>\n",
       "    </tr>\n",
       "    <tr>\n",
       "      <th>2010-01-04</th>\n",
       "      <td>10601</td>\n",
       "      <td>13450.54</td>\n",
       "      <td>1</td>\n",
       "    </tr>\n",
       "    <tr>\n",
       "      <th>2010-03-17</th>\n",
       "      <td>13010</td>\n",
       "      <td>19504.10</td>\n",
       "      <td>1</td>\n",
       "    </tr>\n",
       "    <tr>\n",
       "      <th>2010-04-02</th>\n",
       "      <td>0</td>\n",
       "      <td>0.00</td>\n",
       "      <td>1</td>\n",
       "    </tr>\n",
       "    <tr>\n",
       "      <th>2010-04-05</th>\n",
       "      <td>0</td>\n",
       "      <td>0.00</td>\n",
       "      <td>1</td>\n",
       "    </tr>\n",
       "    <tr>\n",
       "      <th>2010-05-03</th>\n",
       "      <td>0</td>\n",
       "      <td>0.00</td>\n",
       "      <td>1</td>\n",
       "    </tr>\n",
       "    <tr>\n",
       "      <th>2010-05-31</th>\n",
       "      <td>0</td>\n",
       "      <td>0.00</td>\n",
       "      <td>1</td>\n",
       "    </tr>\n",
       "    <tr>\n",
       "      <th>2010-07-12</th>\n",
       "      <td>8234</td>\n",
       "      <td>14555.73</td>\n",
       "      <td>1</td>\n",
       "    </tr>\n",
       "    <tr>\n",
       "      <th>2010-08-02</th>\n",
       "      <td>11753</td>\n",
       "      <td>25839.08</td>\n",
       "      <td>1</td>\n",
       "    </tr>\n",
       "    <tr>\n",
       "      <th>2010-08-30</th>\n",
       "      <td>0</td>\n",
       "      <td>0.00</td>\n",
       "      <td>1</td>\n",
       "    </tr>\n",
       "    <tr>\n",
       "      <th>2010-11-30</th>\n",
       "      <td>19481</td>\n",
       "      <td>40759.92</td>\n",
       "      <td>1</td>\n",
       "    </tr>\n",
       "    <tr>\n",
       "      <th>2010-12-25</th>\n",
       "      <td>0</td>\n",
       "      <td>0.00</td>\n",
       "      <td>1</td>\n",
       "    </tr>\n",
       "    <tr>\n",
       "      <th>2010-12-26</th>\n",
       "      <td>0</td>\n",
       "      <td>0.00</td>\n",
       "      <td>1</td>\n",
       "    </tr>\n",
       "    <tr>\n",
       "      <th>2010-12-27</th>\n",
       "      <td>0</td>\n",
       "      <td>0.00</td>\n",
       "      <td>1</td>\n",
       "    </tr>\n",
       "    <tr>\n",
       "      <th>2010-12-28</th>\n",
       "      <td>0</td>\n",
       "      <td>0.00</td>\n",
       "      <td>1</td>\n",
       "    </tr>\n",
       "    <tr>\n",
       "      <th>2011-01-01</th>\n",
       "      <td>0</td>\n",
       "      <td>0.00</td>\n",
       "      <td>1</td>\n",
       "    </tr>\n",
       "    <tr>\n",
       "      <th>2011-01-02</th>\n",
       "      <td>0</td>\n",
       "      <td>0.00</td>\n",
       "      <td>1</td>\n",
       "    </tr>\n",
       "    <tr>\n",
       "      <th>2011-01-03</th>\n",
       "      <td>0</td>\n",
       "      <td>0.00</td>\n",
       "      <td>1</td>\n",
       "    </tr>\n",
       "    <tr>\n",
       "      <th>2011-01-04</th>\n",
       "      <td>6666</td>\n",
       "      <td>11577.90</td>\n",
       "      <td>1</td>\n",
       "    </tr>\n",
       "    <tr>\n",
       "      <th>2011-03-17</th>\n",
       "      <td>16490</td>\n",
       "      <td>25166.96</td>\n",
       "      <td>1</td>\n",
       "    </tr>\n",
       "    <tr>\n",
       "      <th>2011-04-22</th>\n",
       "      <td>0</td>\n",
       "      <td>0.00</td>\n",
       "      <td>1</td>\n",
       "    </tr>\n",
       "    <tr>\n",
       "      <th>2011-04-25</th>\n",
       "      <td>0</td>\n",
       "      <td>0.00</td>\n",
       "      <td>1</td>\n",
       "    </tr>\n",
       "    <tr>\n",
       "      <th>2011-04-29</th>\n",
       "      <td>0</td>\n",
       "      <td>0.00</td>\n",
       "      <td>1</td>\n",
       "    </tr>\n",
       "    <tr>\n",
       "      <th>2011-05-02</th>\n",
       "      <td>0</td>\n",
       "      <td>0.00</td>\n",
       "      <td>1</td>\n",
       "    </tr>\n",
       "    <tr>\n",
       "      <th>2011-05-30</th>\n",
       "      <td>0</td>\n",
       "      <td>0.00</td>\n",
       "      <td>1</td>\n",
       "    </tr>\n",
       "    <tr>\n",
       "      <th>2011-07-12</th>\n",
       "      <td>10256</td>\n",
       "      <td>15680.52</td>\n",
       "      <td>1</td>\n",
       "    </tr>\n",
       "    <tr>\n",
       "      <th>2011-08-01</th>\n",
       "      <td>10486</td>\n",
       "      <td>17959.66</td>\n",
       "      <td>1</td>\n",
       "    </tr>\n",
       "    <tr>\n",
       "      <th>2011-08-29</th>\n",
       "      <td>0</td>\n",
       "      <td>0.00</td>\n",
       "      <td>1</td>\n",
       "    </tr>\n",
       "    <tr>\n",
       "      <th>2011-11-30</th>\n",
       "      <td>18911</td>\n",
       "      <td>31900.70</td>\n",
       "      <td>1</td>\n",
       "    </tr>\n",
       "  </tbody>\n",
       "</table>\n",
       "</div>"
      ],
      "text/plain": [
       "              quantity   revenue  holidays\n",
       "invoice_date                              \n",
       "2010-01-01           0      0.00         1\n",
       "2010-01-02           0      0.00         1\n",
       "2010-01-04       10601  13450.54         1\n",
       "2010-03-17       13010  19504.10         1\n",
       "2010-04-02           0      0.00         1\n",
       "2010-04-05           0      0.00         1\n",
       "2010-05-03           0      0.00         1\n",
       "2010-05-31           0      0.00         1\n",
       "2010-07-12        8234  14555.73         1\n",
       "2010-08-02       11753  25839.08         1\n",
       "2010-08-30           0      0.00         1\n",
       "2010-11-30       19481  40759.92         1\n",
       "2010-12-25           0      0.00         1\n",
       "2010-12-26           0      0.00         1\n",
       "2010-12-27           0      0.00         1\n",
       "2010-12-28           0      0.00         1\n",
       "2011-01-01           0      0.00         1\n",
       "2011-01-02           0      0.00         1\n",
       "2011-01-03           0      0.00         1\n",
       "2011-01-04        6666  11577.90         1\n",
       "2011-03-17       16490  25166.96         1\n",
       "2011-04-22           0      0.00         1\n",
       "2011-04-25           0      0.00         1\n",
       "2011-04-29           0      0.00         1\n",
       "2011-05-02           0      0.00         1\n",
       "2011-05-30           0      0.00         1\n",
       "2011-07-12       10256  15680.52         1\n",
       "2011-08-01       10486  17959.66         1\n",
       "2011-08-29           0      0.00         1\n",
       "2011-11-30       18911  31900.70         1"
      ]
     },
     "execution_count": 11,
     "metadata": {},
     "output_type": "execute_result"
    }
   ],
   "source": [
    "# flag holidays\n",
    "\n",
    "df[\"holidays\"] = np.where(df.index.isin(uk_holidays),1,0)\n",
    "\n",
    "df[df[\"holidays\"]==1]"
   ]
  },
  {
   "cell_type": "markdown",
   "id": "f6c9b6a7",
   "metadata": {},
   "source": [
    "Check for other countries in the documentation: https://python-holidays.readthedocs.io/en/latest/index.html#available-countries"
   ]
  },
  {
   "cell_type": "markdown",
   "id": "1a8bed59",
   "metadata": {},
   "source": [
    "## With pandas\n",
    "\n",
    "Pandas supports the US Federal Holidays by default. For any other country, we need to create a special calendar. \n",
    "\n",
    "Let's create a calendar for the UK.\n",
    "\n",
    "### Rules\n",
    "\n",
    "Most holidays occur on a certain date, but are observed on a different day if they fall on a weekend. With this information, we can create rules to automatically assign the holidays to the correct date for every year.\n",
    "\n",
    "**Pandas supports the following default rules:**\n",
    "\n",
    "- nearest_workday ==> move Saturday to Friday and Sunday to Monday\n",
    "- sunday_to_monday ==> move Sunday to following Monday\n",
    "- next_monday_or_tuesday ==> move Saturday to Monday and Sunday/Monday to Tuesday\n",
    "- previous_friday ==> move Saturday and Sunday to previous Friday\n",
    "- next_monday ==> move Saturday and Sunday to following Monday\n",
    "\n",
    "It also allows us to speficy a day in a month, for example, first Monday or 3rd Friday through the MO, TU, WE, TH, FR, SA, SU functions."
   ]
  },
  {
   "cell_type": "code",
   "execution_count": 12,
   "id": "1232b17c",
   "metadata": {},
   "outputs": [],
   "source": [
    "from pandas.tseries.holiday import (\n",
    "    Holiday,\n",
    "    AbstractHolidayCalendar, # provides all the necessary methods to return a list of holidays\n",
    "    nearest_workday, # rule\n",
    "    GoodFriday,\n",
    "    EasterMonday,\n",
    "    MO, # rule\n",
    "    FR, # rule\n",
    ")"
   ]
  },
  {
   "cell_type": "code",
   "execution_count": 13,
   "id": "b0b07d37",
   "metadata": {},
   "outputs": [],
   "source": [
    "# let's create our calendar\n",
    "\n",
    "class UKHolidays(AbstractHolidayCalendar):\n",
    "    rules = [\n",
    "        GoodFriday,\n",
    "        \n",
    "        EasterMonday,\n",
    "        \n",
    "        Holiday(\"New Year's Day\", month=1, day=1),\n",
    "        \n",
    "        Holiday(\"May Day\", month=5, day=1, offset=pd.DateOffset(\n",
    "            weekday=MO(1))),  # first monday\n",
    "        \n",
    "        Holiday(\"Spring Bank Holiday\", month=5, day=31,\n",
    "                offset=pd.DateOffset(weekday=MO(-1))),  # last monday\n",
    "        \n",
    "        Holiday(\"Black Fridays\", month=11, day=25,\n",
    "                offset=pd.DateOffset(weekday=FR(-1))), # third friday\n",
    "        \n",
    "        Holiday(\"Company's birthday\", month=8,\n",
    "                day=29, observance=nearest_workday),\n",
    "        \n",
    "    ]"
   ]
  },
  {
   "cell_type": "markdown",
   "id": "e9c65a5f",
   "metadata": {},
   "source": [
    "For more information about how MO, TU, WE, TH, FR, SA and SU work, check the library [relativedelta](https://dateutil.readthedocs.io/en/stable/relativedelta.html#dateutil.relativedelta.relativedelta).\n",
    "\n",
    "**weekday:**\n",
    "\n",
    "One of the weekday instances (MO, TU, etc) available in the\n",
    "relativedelta module. These instances may receive a parameter N,\n",
    "specifying the Nth weekday, which could be positive or negative\n",
    "(like MO(+1) or MO(-2)). Not specifying it is the same as specifying\n",
    "+1. You can also use an integer, where 0=MO. This argument is always\n",
    "relative e.g. if the calculated date is already Monday, using MO(1)\n",
    "or MO(-1) won't change the day. To effectively make it absolute, use\n",
    "it in combination with the day argument (e.g. day=1, MO(1) for first\n",
    "Monday of the month)."
   ]
  },
  {
   "cell_type": "code",
   "execution_count": 14,
   "id": "1f1fbd9f",
   "metadata": {},
   "outputs": [],
   "source": [
    "# set up the calendar\n",
    "\n",
    "cal = UKHolidays()"
   ]
  },
  {
   "cell_type": "code",
   "execution_count": 15,
   "id": "a93659d1",
   "metadata": {},
   "outputs": [
    {
     "data": {
      "text/plain": [
       "[Holiday: Good Friday (month=1, day=1, offset=[<Easter>, <-2 * Days>]),\n",
       " Holiday: Easter Monday (month=1, day=1, offset=[<Easter>, <Day>]),\n",
       " Holiday: New Year's Day (month=1, day=1, ),\n",
       " Holiday: May Day (month=5, day=1, offset=<DateOffset: weekday=MO(+1)>),\n",
       " Holiday: Spring Bank Holiday (month=5, day=31, offset=<DateOffset: weekday=MO(-1)>),\n",
       " Holiday: Black Fridays (month=11, day=25, offset=<DateOffset: weekday=FR(-1)>),\n",
       " Holiday: Company's birthday (month=8, day=29, observance=<function nearest_workday at 0x0000025104503E20>)]"
      ]
     },
     "execution_count": 15,
     "metadata": {},
     "output_type": "execute_result"
    }
   ],
   "source": [
    "cal.rules"
   ]
  },
  {
   "cell_type": "code",
   "execution_count": 16,
   "id": "091d8cea",
   "metadata": {},
   "outputs": [
    {
     "data": {
      "text/plain": [
       "DatetimeIndex(['2010-11-19', '2011-01-01', '2011-04-22', '2011-04-25',\n",
       "               '2011-05-02', '2011-05-30', '2011-08-29', '2011-11-25',\n",
       "               '2012-01-01'],\n",
       "              dtype='datetime64[ns]', freq=None)"
      ]
     },
     "execution_count": 16,
     "metadata": {},
     "output_type": "execute_result"
    }
   ],
   "source": [
    "# find the holiday dates in a certain period of time\n",
    "\n",
    "uk_holidays = cal.holidays(datetime.datetime(2010, 11, 1), datetime.datetime(2012, 3, 31))\n",
    "\n",
    "uk_holidays"
   ]
  },
  {
   "cell_type": "code",
   "execution_count": 17,
   "id": "1e80d878",
   "metadata": {},
   "outputs": [
    {
     "data": {
      "text/html": [
       "<div>\n",
       "<style scoped>\n",
       "    .dataframe tbody tr th:only-of-type {\n",
       "        vertical-align: middle;\n",
       "    }\n",
       "\n",
       "    .dataframe tbody tr th {\n",
       "        vertical-align: top;\n",
       "    }\n",
       "\n",
       "    .dataframe thead th {\n",
       "        text-align: right;\n",
       "    }\n",
       "</style>\n",
       "<table border=\"1\" class=\"dataframe\">\n",
       "  <thead>\n",
       "    <tr style=\"text-align: right;\">\n",
       "      <th></th>\n",
       "      <th>quantity</th>\n",
       "      <th>revenue</th>\n",
       "      <th>holidays</th>\n",
       "    </tr>\n",
       "    <tr>\n",
       "      <th>invoice_date</th>\n",
       "      <th></th>\n",
       "      <th></th>\n",
       "      <th></th>\n",
       "    </tr>\n",
       "  </thead>\n",
       "  <tbody>\n",
       "    <tr>\n",
       "      <th>2010-11-19</th>\n",
       "      <td>18837</td>\n",
       "      <td>30229.20</td>\n",
       "      <td>1</td>\n",
       "    </tr>\n",
       "    <tr>\n",
       "      <th>2011-01-01</th>\n",
       "      <td>0</td>\n",
       "      <td>0.00</td>\n",
       "      <td>1</td>\n",
       "    </tr>\n",
       "    <tr>\n",
       "      <th>2011-04-22</th>\n",
       "      <td>0</td>\n",
       "      <td>0.00</td>\n",
       "      <td>1</td>\n",
       "    </tr>\n",
       "    <tr>\n",
       "      <th>2011-04-25</th>\n",
       "      <td>0</td>\n",
       "      <td>0.00</td>\n",
       "      <td>1</td>\n",
       "    </tr>\n",
       "    <tr>\n",
       "      <th>2011-05-02</th>\n",
       "      <td>0</td>\n",
       "      <td>0.00</td>\n",
       "      <td>1</td>\n",
       "    </tr>\n",
       "    <tr>\n",
       "      <th>2011-05-30</th>\n",
       "      <td>0</td>\n",
       "      <td>0.00</td>\n",
       "      <td>1</td>\n",
       "    </tr>\n",
       "    <tr>\n",
       "      <th>2011-08-29</th>\n",
       "      <td>0</td>\n",
       "      <td>0.00</td>\n",
       "      <td>1</td>\n",
       "    </tr>\n",
       "    <tr>\n",
       "      <th>2011-11-25</th>\n",
       "      <td>25197</td>\n",
       "      <td>22978.56</td>\n",
       "      <td>1</td>\n",
       "    </tr>\n",
       "  </tbody>\n",
       "</table>\n",
       "</div>"
      ],
      "text/plain": [
       "              quantity   revenue  holidays\n",
       "invoice_date                              \n",
       "2010-11-19       18837  30229.20         1\n",
       "2011-01-01           0      0.00         1\n",
       "2011-04-22           0      0.00         1\n",
       "2011-04-25           0      0.00         1\n",
       "2011-05-02           0      0.00         1\n",
       "2011-05-30           0      0.00         1\n",
       "2011-08-29           0      0.00         1\n",
       "2011-11-25       25197  22978.56         1"
      ]
     },
     "execution_count": 17,
     "metadata": {},
     "output_type": "execute_result"
    }
   ],
   "source": [
    "# flag holidays\n",
    "\n",
    "df[\"holidays\"] = np.where(df.index.isin(uk_holidays),1,0)\n",
    "\n",
    "df[df[\"holidays\"]==1]"
   ]
  },
  {
   "cell_type": "markdown",
   "id": "4f41cd92",
   "metadata": {},
   "source": [
    "I have to say, I am not amazed by the documentation on this topic. These are the available links:\n",
    "\n",
    "- source code: https://github.com/pandas-dev/pandas/blob/main/pandas/tseries/holiday.py\n",
    "- docs: https://pandas.pydata.org/pandas-docs/stable/user_guide/timeseries.html?highlight=holiday#holidays-holiday-calendars"
   ]
  },
  {
   "cell_type": "markdown",
   "id": "376ea488",
   "metadata": {},
   "source": [
    "## Default US calendar"
   ]
  },
  {
   "cell_type": "code",
   "execution_count": 18,
   "id": "bd53ad56",
   "metadata": {},
   "outputs": [],
   "source": [
    "from pandas.tseries.holiday import USFederalHolidayCalendar"
   ]
  },
  {
   "cell_type": "code",
   "execution_count": 19,
   "id": "b9a87690",
   "metadata": {},
   "outputs": [
    {
     "data": {
      "text/plain": [
       "[Holiday: New Year's Day (month=1, day=1, observance=<function nearest_workday at 0x0000025104503E20>),\n",
       " Holiday: Birthday of Martin Luther King, Jr. (month=1, day=1, offset=<DateOffset: weekday=MO(+3)>),\n",
       " Holiday: Washington’s Birthday (month=2, day=1, offset=<DateOffset: weekday=MO(+3)>),\n",
       " Holiday: Memorial Day (month=5, day=31, offset=<DateOffset: weekday=MO(-1)>),\n",
       " Holiday: Juneteenth National Independence Day (month=6, day=19, observance=<function nearest_workday at 0x0000025104503E20>),\n",
       " Holiday: Independence Day (month=7, day=4, observance=<function nearest_workday at 0x0000025104503E20>),\n",
       " Holiday: Labor Day (month=9, day=1, offset=<DateOffset: weekday=MO(+1)>),\n",
       " Holiday: Columbus Day (month=10, day=1, offset=<DateOffset: weekday=MO(+2)>),\n",
       " Holiday: Veterans Day (month=11, day=11, observance=<function nearest_workday at 0x0000025104503E20>),\n",
       " Holiday: Thanksgiving Day (month=11, day=1, offset=<DateOffset: weekday=TH(+4)>),\n",
       " Holiday: Christmas Day (month=12, day=25, observance=<function nearest_workday at 0x0000025104503E20>)]"
      ]
     },
     "execution_count": 19,
     "metadata": {},
     "output_type": "execute_result"
    }
   ],
   "source": [
    "cal = USFederalHolidayCalendar()\n",
    "\n",
    "cal.rules"
   ]
  },
  {
   "cell_type": "code",
   "execution_count": null,
   "id": "c2a424a6",
   "metadata": {},
   "outputs": [],
   "source": []
  }
 ],
 "metadata": {
  "kernelspec": {
   "display_name": "fsml",
   "language": "python",
   "name": "fsml"
  },
  "language_info": {
   "codemirror_mode": {
    "name": "ipython",
    "version": 3
   },
   "file_extension": ".py",
   "mimetype": "text/x-python",
   "name": "python",
   "nbconvert_exporter": "python",
   "pygments_lexer": "ipython3",
   "version": "3.10.5"
  },
  "toc": {
   "base_numbering": 1,
   "nav_menu": {},
   "number_sections": true,
   "sideBar": true,
   "skip_h1_title": false,
   "title_cell": "Table of Contents",
   "title_sidebar": "Contents",
   "toc_cell": false,
   "toc_position": {
    "height": "calc(100% - 180px)",
    "left": "10px",
    "top": "150px",
    "width": "165px"
   },
   "toc_section_display": true,
   "toc_window_display": true
  }
 },
 "nbformat": 4,
 "nbformat_minor": 5
}

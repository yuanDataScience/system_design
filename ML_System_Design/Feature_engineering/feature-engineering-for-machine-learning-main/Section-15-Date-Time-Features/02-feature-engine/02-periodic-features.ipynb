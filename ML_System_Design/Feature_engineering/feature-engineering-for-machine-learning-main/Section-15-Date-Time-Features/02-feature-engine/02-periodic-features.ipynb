{
 "cells": [
  {
   "cell_type": "markdown",
   "metadata": {},
   "source": [
    "# Periodic features\n",
    "\n",
    "Periodic features are those that repeat their values at regular intervals, like the hour, the days of a week, and the months of a year.\n",
    "\n",
    "With cyclical or periodic features, values that are very different in absolute magnitude are actually close. For example, January is close to December, even though their absolute magnitude suggests otherwise.\n",
    "\n",
    "We can use periodic functions like sine and cosine, to transform cyclical features and help machine learning models  pick up their intrinsic nature.\n",
    "\n",
    "#  Pollutants\n",
    "\n",
    "Let's work with the air quality dataset that we created in the notebook **pollutants** which you can find in the folder **02-Datasets** in this repository."
   ]
  },
  {
   "cell_type": "code",
   "execution_count": 1,
   "metadata": {},
   "outputs": [],
   "source": [
    "import numpy as np\n",
    "import pandas as pd\n",
    "import matplotlib.pyplot as plt"
   ]
  },
  {
   "cell_type": "code",
   "execution_count": 2,
   "metadata": {},
   "outputs": [],
   "source": [
    "# to automate many of our engineering processes\n",
    "from feature_engine.creation import CyclicalFeatures\n",
    "from feature_engine.datetime import DatetimeFeatures\n",
    "\n",
    "from sklearn.pipeline import Pipeline"
   ]
  },
  {
   "cell_type": "code",
   "execution_count": 3,
   "metadata": {},
   "outputs": [
    {
     "data": {
      "text/html": [
       "<div>\n",
       "<style scoped>\n",
       "    .dataframe tbody tr th:only-of-type {\n",
       "        vertical-align: middle;\n",
       "    }\n",
       "\n",
       "    .dataframe tbody tr th {\n",
       "        vertical-align: top;\n",
       "    }\n",
       "\n",
       "    .dataframe thead th {\n",
       "        text-align: right;\n",
       "    }\n",
       "</style>\n",
       "<table border=\"1\" class=\"dataframe\">\n",
       "  <thead>\n",
       "    <tr style=\"text-align: right;\">\n",
       "      <th></th>\n",
       "      <th>Date_Time</th>\n",
       "      <th>CO_sensor</th>\n",
       "    </tr>\n",
       "  </thead>\n",
       "  <tbody>\n",
       "    <tr>\n",
       "      <th>0</th>\n",
       "      <td>2004-10-03 18:00:00</td>\n",
       "      <td>1360.0</td>\n",
       "    </tr>\n",
       "    <tr>\n",
       "      <th>1</th>\n",
       "      <td>2004-10-03 19:00:00</td>\n",
       "      <td>1292.0</td>\n",
       "    </tr>\n",
       "    <tr>\n",
       "      <th>2</th>\n",
       "      <td>2004-10-03 20:00:00</td>\n",
       "      <td>1402.0</td>\n",
       "    </tr>\n",
       "    <tr>\n",
       "      <th>3</th>\n",
       "      <td>2004-10-03 21:00:00</td>\n",
       "      <td>1376.0</td>\n",
       "    </tr>\n",
       "    <tr>\n",
       "      <th>4</th>\n",
       "      <td>2004-10-03 22:00:00</td>\n",
       "      <td>1272.0</td>\n",
       "    </tr>\n",
       "  </tbody>\n",
       "</table>\n",
       "</div>"
      ],
      "text/plain": [
       "             Date_Time  CO_sensor\n",
       "0  2004-10-03 18:00:00     1360.0\n",
       "1  2004-10-03 19:00:00     1292.0\n",
       "2  2004-10-03 20:00:00     1402.0\n",
       "3  2004-10-03 21:00:00     1376.0\n",
       "4  2004-10-03 22:00:00     1272.0"
      ]
     },
     "execution_count": 3,
     "metadata": {},
     "output_type": "execute_result"
    }
   ],
   "source": [
    "filename = '../../AirQualityUCI_ready.csv'\n",
    "\n",
    "data = pd.read_csv(filename)\n",
    "\n",
    "data.head()"
   ]
  },
  {
   "cell_type": "code",
   "execution_count": 4,
   "metadata": {},
   "outputs": [],
   "source": [
    "# Cast date variable in datetime format.\n",
    "data['Date_Time'] = pd.to_datetime(data['Date_Time'])"
   ]
  },
  {
   "cell_type": "markdown",
   "metadata": {},
   "source": [
    "## Add temporal features\n",
    "\n",
    "We will extract year, month and hour from the index."
   ]
  },
  {
   "cell_type": "code",
   "execution_count": 5,
   "metadata": {},
   "outputs": [],
   "source": [
    "# Get datetime features from the datetime variable\n",
    "# and apply periodic transformation.\n",
    "\n",
    "pipe = Pipeline([\n",
    "    \n",
    "    # create datetime features.\n",
    "    ('datetime', DatetimeFeatures(\n",
    "        variables=\"Date_Time\",\n",
    "        features_to_extract=[\"month\", \"hour\"],\n",
    "        drop_original=True,\n",
    "    )),\n",
    "\n",
    "    # apply sine and cosine transformation.\n",
    "    ('cyclical', CyclicalFeatures(\n",
    "        variables=[\"Date_Time_month\", \"Date_Time_hour\"],\n",
    "    )),\n",
    "])"
   ]
  },
  {
   "cell_type": "code",
   "execution_count": 6,
   "metadata": {},
   "outputs": [
    {
     "data": {
      "text/html": [
       "<div>\n",
       "<style scoped>\n",
       "    .dataframe tbody tr th:only-of-type {\n",
       "        vertical-align: middle;\n",
       "    }\n",
       "\n",
       "    .dataframe tbody tr th {\n",
       "        vertical-align: top;\n",
       "    }\n",
       "\n",
       "    .dataframe thead th {\n",
       "        text-align: right;\n",
       "    }\n",
       "</style>\n",
       "<table border=\"1\" class=\"dataframe\">\n",
       "  <thead>\n",
       "    <tr style=\"text-align: right;\">\n",
       "      <th></th>\n",
       "      <th>CO_sensor</th>\n",
       "      <th>Date_Time_month</th>\n",
       "      <th>Date_Time_hour</th>\n",
       "      <th>Date_Time_month_sin</th>\n",
       "      <th>Date_Time_month_cos</th>\n",
       "      <th>Date_Time_hour_sin</th>\n",
       "      <th>Date_Time_hour_cos</th>\n",
       "    </tr>\n",
       "  </thead>\n",
       "  <tbody>\n",
       "    <tr>\n",
       "      <th>0</th>\n",
       "      <td>1360.0</td>\n",
       "      <td>10</td>\n",
       "      <td>18</td>\n",
       "      <td>-0.866025</td>\n",
       "      <td>0.5</td>\n",
       "      <td>-0.979084</td>\n",
       "      <td>0.203456</td>\n",
       "    </tr>\n",
       "    <tr>\n",
       "      <th>1</th>\n",
       "      <td>1292.0</td>\n",
       "      <td>10</td>\n",
       "      <td>19</td>\n",
       "      <td>-0.866025</td>\n",
       "      <td>0.5</td>\n",
       "      <td>-0.887885</td>\n",
       "      <td>0.460065</td>\n",
       "    </tr>\n",
       "    <tr>\n",
       "      <th>2</th>\n",
       "      <td>1402.0</td>\n",
       "      <td>10</td>\n",
       "      <td>20</td>\n",
       "      <td>-0.866025</td>\n",
       "      <td>0.5</td>\n",
       "      <td>-0.730836</td>\n",
       "      <td>0.682553</td>\n",
       "    </tr>\n",
       "    <tr>\n",
       "      <th>3</th>\n",
       "      <td>1376.0</td>\n",
       "      <td>10</td>\n",
       "      <td>21</td>\n",
       "      <td>-0.866025</td>\n",
       "      <td>0.5</td>\n",
       "      <td>-0.519584</td>\n",
       "      <td>0.854419</td>\n",
       "    </tr>\n",
       "    <tr>\n",
       "      <th>4</th>\n",
       "      <td>1272.0</td>\n",
       "      <td>10</td>\n",
       "      <td>22</td>\n",
       "      <td>-0.866025</td>\n",
       "      <td>0.5</td>\n",
       "      <td>-0.269797</td>\n",
       "      <td>0.962917</td>\n",
       "    </tr>\n",
       "  </tbody>\n",
       "</table>\n",
       "</div>"
      ],
      "text/plain": [
       "   CO_sensor  Date_Time_month  Date_Time_hour  Date_Time_month_sin  \\\n",
       "0     1360.0               10              18            -0.866025   \n",
       "1     1292.0               10              19            -0.866025   \n",
       "2     1402.0               10              20            -0.866025   \n",
       "3     1376.0               10              21            -0.866025   \n",
       "4     1272.0               10              22            -0.866025   \n",
       "\n",
       "   Date_Time_month_cos  Date_Time_hour_sin  Date_Time_hour_cos  \n",
       "0                  0.5           -0.979084            0.203456  \n",
       "1                  0.5           -0.887885            0.460065  \n",
       "2                  0.5           -0.730836            0.682553  \n",
       "3                  0.5           -0.519584            0.854419  \n",
       "4                  0.5           -0.269797            0.962917  "
      ]
     },
     "execution_count": 6,
     "metadata": {},
     "output_type": "execute_result"
    }
   ],
   "source": [
    "# Extract the features.\n",
    "\n",
    "data = pipe.fit_transform(data)\n",
    "\n",
    "data.head()"
   ]
  },
  {
   "cell_type": "markdown",
   "metadata": {},
   "source": [
    "# Compare model performance\n",
    "\n",
    "Now, let's compare the performance of a model trained with the raw features or the trigonometric transformed features.\n",
    "\n",
    "**NOTE**: I am going to do a quick and dirty job to prove my point. Keep in mind that we should split the data into a train and a test set or use cross-validation to have an accurate measure of the model performance."
   ]
  },
  {
   "cell_type": "code",
   "execution_count": 7,
   "metadata": {},
   "outputs": [],
   "source": [
    "from sklearn.linear_model import Lasso"
   ]
  },
  {
   "cell_type": "code",
   "execution_count": 8,
   "metadata": {},
   "outputs": [],
   "source": [
    "# Lasso regression.\n",
    "\n",
    "reg = Lasso(random_state=10)"
   ]
  },
  {
   "cell_type": "code",
   "execution_count": 9,
   "metadata": {},
   "outputs": [
    {
     "data": {
      "text/plain": [
       "0.10359654878036195"
      ]
     },
     "execution_count": 9,
     "metadata": {},
     "output_type": "execute_result"
    }
   ],
   "source": [
    "# Fit Lasso to the raw inputs.\n",
    "\n",
    "reg.fit(data[[\"Date_Time_month\", \"Date_Time_hour\"]], data[\"CO_sensor\"])\n",
    "\n",
    "# Get the R2\n",
    "reg.score(data[[\"Date_Time_month\", \"Date_Time_hour\"]], data[\"CO_sensor\"])"
   ]
  },
  {
   "cell_type": "code",
   "execution_count": 10,
   "metadata": {},
   "outputs": [
    {
     "data": {
      "text/plain": [
       "['Date_Time_month_sin',\n",
       " 'Date_Time_month_cos',\n",
       " 'Date_Time_hour_sin',\n",
       " 'Date_Time_hour_cos']"
      ]
     },
     "execution_count": 10,
     "metadata": {},
     "output_type": "execute_result"
    }
   ],
   "source": [
    "# Capture the trigonometrically transformed variables in a list.\n",
    "\n",
    "trig_vars = [var for var in data.columns if 'sin' in var or 'cos' in var]\n",
    "\n",
    "trig_vars"
   ]
  },
  {
   "cell_type": "code",
   "execution_count": 11,
   "metadata": {},
   "outputs": [
    {
     "data": {
      "text/plain": [
       "0.13263074168408584"
      ]
     },
     "execution_count": 11,
     "metadata": {},
     "output_type": "execute_result"
    }
   ],
   "source": [
    "# Fit Lasso with transformed inputs.\n",
    "\n",
    "reg.fit(data[trig_vars], data[\"CO_sensor\"])\n",
    "\n",
    "# Get the R2.\n",
    "reg.score(data[trig_vars], data[\"CO_sensor\"])"
   ]
  },
  {
   "cell_type": "markdown",
   "metadata": {},
   "source": [
    "As we see, with the transformed features we improved the performance of the model by roughly 30%.\n",
    "\n",
    "More details on working with temporal features in the [Scikit-learn docs](https://scikit-learn.org/stable/auto_examples/applications/plot_cyclical_feature_engineering.html#trigonometric-features)"
   ]
  },
  {
   "cell_type": "code",
   "execution_count": null,
   "metadata": {},
   "outputs": [],
   "source": []
  }
 ],
 "metadata": {
  "kernelspec": {
   "display_name": "fsml",
   "language": "python",
   "name": "fsml"
  },
  "language_info": {
   "codemirror_mode": {
    "name": "ipython",
    "version": 3
   },
   "file_extension": ".py",
   "mimetype": "text/x-python",
   "name": "python",
   "nbconvert_exporter": "python",
   "pygments_lexer": "ipython3",
   "version": "3.10.5"
  },
  "toc": {
   "base_numbering": 1,
   "nav_menu": {},
   "number_sections": true,
   "sideBar": true,
   "skip_h1_title": false,
   "title_cell": "Table of Contents",
   "title_sidebar": "Contents",
   "toc_cell": false,
   "toc_position": {},
   "toc_section_display": true,
   "toc_window_display": true
  }
 },
 "nbformat": 4,
 "nbformat_minor": 4
}

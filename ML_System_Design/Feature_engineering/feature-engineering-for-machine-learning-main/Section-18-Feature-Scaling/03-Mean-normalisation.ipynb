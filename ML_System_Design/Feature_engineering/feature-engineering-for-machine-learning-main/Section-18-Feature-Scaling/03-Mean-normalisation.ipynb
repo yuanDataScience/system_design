{
 "cells": [
  {
   "cell_type": "markdown",
   "metadata": {},
   "source": [
    "## Feature Scaling\n",
    "\n",
    "We discussed previously that the scale of the features is an important consideration when building machine learning models. Briefly:\n",
    "\n",
    "\n",
    "### Feature magnitude matters because:\n",
    "\n",
    "- The regression coefficients of linear models are directly influenced by the scale of the variable.\n",
    "- Variables with bigger magnitude / larger value range dominate over those with smaller magnitude / value range\n",
    "- Gradient descent converges faster when features are on similar scales\n",
    "- Feature scaling helps decrease the time to find support vectors for SVMs\n",
    "- Euclidean distances are sensitive to feature magnitude.\n",
    "- Some algorithms, like PCA require the features to be centered at 0.\n",
    "\n",
    "\n",
    "### The machine learning models affected by the feature scale are:\n",
    "\n",
    "- Linear and Logistic Regression\n",
    "- Neural Networks\n",
    "- Support Vector Machines\n",
    "- KNN\n",
    "- K-means clustering\n",
    "- Linear Discriminant Analysis (LDA)\n",
    "- Principal Component Analysis (PCA)\n",
    "\n",
    "\n",
    "### Feature Scaling\n",
    "\n",
    "**Feature scaling** refers to the methods or techniques used to normalize the range of independent variables in our data, or in other words, the methods to set the feature value range within a similar scale. Feature scaling is generally the last step in the data preprocessing pipeline, performed **just before training the machine learning algorithms**.\n",
    "\n",
    "There are several Feature Scaling techniques, which we will discuss throughout this section:\n",
    "\n",
    "- Standardisation\n",
    "- Mean normalisation\n",
    "- Scaling to minimum and maximum values - MinMaxScaling\n",
    "- Scaling to maximum value - MaxAbsScaling\n",
    "- Scaling to quantiles and median - RobustScaling\n",
    "- Normalization to vector unit length\n",
    "\n",
    "In this notebook, we will discuss **Mean Normalisation**.\n",
    "\n",
    "=================================================================\n",
    "\n",
    "## Mean Normalisation\n",
    "\n",
    "\n",
    "Mean normalisation involves centering the variable at zero, and re-scaling to the value range. The procedure involves subtracting the mean of each observation and then dividing by difference between the minimum and maximum value:\n",
    "\n",
    "**x_scaled = (x - x_mean) / ( x_max - x_min)**\n",
    "\n",
    "\n",
    "The result of the above transformation is a distribution that is centered at 0, and its minimum and maximum values are within the range of -1 to 1. The shape of a mean normalised distribution will be similar to the original distribution.\n",
    "\n",
    "In a nutshell, mean normalisation:\n",
    "\n",
    "- centers the mean at 0\n",
    "- variance will be different\n",
    "- the minimum and maximum values are squeezed between -1 and 1\n",
    "- preserves outliers\n",
    "\n",
    "Good for algorithms that require features centered at zero.\n",
    "\n",
    "\n",
    "## In this demo\n",
    "\n",
    "There is no Scikit-learn transformer for mean normalisation, but we can implement it using a combination of 2 other transformers that I will discuss in detail in the next notebooks. We will also implement it manually with pandas."
   ]
  },
  {
   "cell_type": "code",
   "execution_count": 1,
   "metadata": {},
   "outputs": [],
   "source": [
    "import pandas as pd\n",
    "import matplotlib.pyplot as plt\n",
    "\n",
    "# dataset for the demo\n",
    "from sklearn.datasets import fetch_california_housing\n",
    "from sklearn.model_selection import train_test_split\n",
    "\n",
    "# the scaler - for mean normalisation\n",
    "from sklearn.preprocessing import StandardScaler, RobustScaler"
   ]
  },
  {
   "cell_type": "code",
   "execution_count": 2,
   "metadata": {},
   "outputs": [],
   "source": [
    "# load the California House price data from Scikit-learn\n",
    "\n",
    "X, y = fetch_california_housing(return_X_y=True, as_frame=True)"
   ]
  },
  {
   "cell_type": "code",
   "execution_count": 3,
   "metadata": {},
   "outputs": [
    {
     "data": {
      "text/html": [
       "<div>\n",
       "<style scoped>\n",
       "    .dataframe tbody tr th:only-of-type {\n",
       "        vertical-align: middle;\n",
       "    }\n",
       "\n",
       "    .dataframe tbody tr th {\n",
       "        vertical-align: top;\n",
       "    }\n",
       "\n",
       "    .dataframe thead th {\n",
       "        text-align: right;\n",
       "    }\n",
       "</style>\n",
       "<table border=\"1\" class=\"dataframe\">\n",
       "  <thead>\n",
       "    <tr style=\"text-align: right;\">\n",
       "      <th></th>\n",
       "      <th>MedInc</th>\n",
       "      <th>HouseAge</th>\n",
       "      <th>AveRooms</th>\n",
       "      <th>AveBedrms</th>\n",
       "      <th>Population</th>\n",
       "      <th>AveOccup</th>\n",
       "      <th>Latitude</th>\n",
       "      <th>Longitude</th>\n",
       "    </tr>\n",
       "  </thead>\n",
       "  <tbody>\n",
       "    <tr>\n",
       "      <th>count</th>\n",
       "      <td>20640.00</td>\n",
       "      <td>20640.00</td>\n",
       "      <td>20640.00</td>\n",
       "      <td>20640.00</td>\n",
       "      <td>20640.00</td>\n",
       "      <td>20640.00</td>\n",
       "      <td>20640.00</td>\n",
       "      <td>20640.00</td>\n",
       "    </tr>\n",
       "    <tr>\n",
       "      <th>mean</th>\n",
       "      <td>3.87</td>\n",
       "      <td>28.64</td>\n",
       "      <td>5.43</td>\n",
       "      <td>1.10</td>\n",
       "      <td>1425.48</td>\n",
       "      <td>3.07</td>\n",
       "      <td>35.63</td>\n",
       "      <td>-119.57</td>\n",
       "    </tr>\n",
       "    <tr>\n",
       "      <th>std</th>\n",
       "      <td>1.90</td>\n",
       "      <td>12.59</td>\n",
       "      <td>2.47</td>\n",
       "      <td>0.47</td>\n",
       "      <td>1132.46</td>\n",
       "      <td>10.39</td>\n",
       "      <td>2.14</td>\n",
       "      <td>2.00</td>\n",
       "    </tr>\n",
       "    <tr>\n",
       "      <th>min</th>\n",
       "      <td>0.50</td>\n",
       "      <td>1.00</td>\n",
       "      <td>0.85</td>\n",
       "      <td>0.33</td>\n",
       "      <td>3.00</td>\n",
       "      <td>0.69</td>\n",
       "      <td>32.54</td>\n",
       "      <td>-124.35</td>\n",
       "    </tr>\n",
       "    <tr>\n",
       "      <th>25%</th>\n",
       "      <td>2.56</td>\n",
       "      <td>18.00</td>\n",
       "      <td>4.44</td>\n",
       "      <td>1.01</td>\n",
       "      <td>787.00</td>\n",
       "      <td>2.43</td>\n",
       "      <td>33.93</td>\n",
       "      <td>-121.80</td>\n",
       "    </tr>\n",
       "    <tr>\n",
       "      <th>50%</th>\n",
       "      <td>3.53</td>\n",
       "      <td>29.00</td>\n",
       "      <td>5.23</td>\n",
       "      <td>1.05</td>\n",
       "      <td>1166.00</td>\n",
       "      <td>2.82</td>\n",
       "      <td>34.26</td>\n",
       "      <td>-118.49</td>\n",
       "    </tr>\n",
       "    <tr>\n",
       "      <th>75%</th>\n",
       "      <td>4.74</td>\n",
       "      <td>37.00</td>\n",
       "      <td>6.05</td>\n",
       "      <td>1.10</td>\n",
       "      <td>1725.00</td>\n",
       "      <td>3.28</td>\n",
       "      <td>37.71</td>\n",
       "      <td>-118.01</td>\n",
       "    </tr>\n",
       "    <tr>\n",
       "      <th>max</th>\n",
       "      <td>15.00</td>\n",
       "      <td>52.00</td>\n",
       "      <td>141.91</td>\n",
       "      <td>34.07</td>\n",
       "      <td>35682.00</td>\n",
       "      <td>1243.33</td>\n",
       "      <td>41.95</td>\n",
       "      <td>-114.31</td>\n",
       "    </tr>\n",
       "  </tbody>\n",
       "</table>\n",
       "</div>"
      ],
      "text/plain": [
       "         MedInc  HouseAge  AveRooms  AveBedrms  Population  AveOccup  \\\n",
       "count  20640.00  20640.00  20640.00   20640.00    20640.00  20640.00   \n",
       "mean       3.87     28.64      5.43       1.10     1425.48      3.07   \n",
       "std        1.90     12.59      2.47       0.47     1132.46     10.39   \n",
       "min        0.50      1.00      0.85       0.33        3.00      0.69   \n",
       "25%        2.56     18.00      4.44       1.01      787.00      2.43   \n",
       "50%        3.53     29.00      5.23       1.05     1166.00      2.82   \n",
       "75%        4.74     37.00      6.05       1.10     1725.00      3.28   \n",
       "max       15.00     52.00    141.91      34.07    35682.00   1243.33   \n",
       "\n",
       "       Latitude  Longitude  \n",
       "count  20640.00   20640.00  \n",
       "mean      35.63    -119.57  \n",
       "std        2.14       2.00  \n",
       "min       32.54    -124.35  \n",
       "25%       33.93    -121.80  \n",
       "50%       34.26    -118.49  \n",
       "75%       37.71    -118.01  \n",
       "max       41.95    -114.31  "
      ]
     },
     "execution_count": 3,
     "metadata": {},
     "output_type": "execute_result"
    }
   ],
   "source": [
    "# let's have a look at the main statistical parameters of the variables\n",
    "# to get an idea of the feature magnitudes\n",
    "\n",
    "X.describe().round(2)"
   ]
  },
  {
   "cell_type": "markdown",
   "metadata": {},
   "source": [
    "The different variables present different value ranges, mean, max, min, standard deviations, etc. In other words, they show different magnitudes or scales. \n",
    "\n",
    "Note that **the mean values are not centered at zero, and the min and max value vary across a big range**."
   ]
  },
  {
   "cell_type": "markdown",
   "metadata": {},
   "source": [
    "When performing mean normalisation on the data set, we need to first identify the mean and minimum and maximum values of the variables. These parameters need to be learned from the train set, stored, and then used to scale test and future data. Thus, we will first divide the data set into train and test, as we have done throughout the course."
   ]
  },
  {
   "cell_type": "code",
   "execution_count": 4,
   "metadata": {},
   "outputs": [
    {
     "data": {
      "text/plain": [
       "((14448, 8), (6192, 8))"
      ]
     },
     "execution_count": 4,
     "metadata": {},
     "output_type": "execute_result"
    }
   ],
   "source": [
    "# let's separate the data into training and testing sets\n",
    "X_train, X_test, y_train, y_test = train_test_split(\n",
    "    X,\n",
    "    y,\n",
    "    test_size=0.3,\n",
    "    random_state=0,\n",
    ")\n",
    "\n",
    "# size\n",
    "X_train.shape, X_test.shape"
   ]
  },
  {
   "cell_type": "markdown",
   "metadata": {},
   "source": [
    "## Pandas"
   ]
  },
  {
   "cell_type": "code",
   "execution_count": 5,
   "metadata": {},
   "outputs": [
    {
     "data": {
      "text/plain": [
       "MedInc           3.866667\n",
       "HouseAge        28.618702\n",
       "AveRooms         5.423404\n",
       "AveBedrms        1.094775\n",
       "Population    1425.157323\n",
       "AveOccup         3.040518\n",
       "Latitude        35.630093\n",
       "Longitude     -119.566647\n",
       "dtype: float64"
      ]
     },
     "execution_count": 5,
     "metadata": {},
     "output_type": "execute_result"
    }
   ],
   "source": [
    "# let's first learn the mean from the train set\n",
    "\n",
    "means = X_train.mean(axis=0)\n",
    "means"
   ]
  },
  {
   "cell_type": "code",
   "execution_count": 6,
   "metadata": {},
   "outputs": [
    {
     "data": {
      "text/plain": [
       "MedInc           14.500200\n",
       "HouseAge         51.000000\n",
       "AveRooms        131.687179\n",
       "AveBedrms        33.733333\n",
       "Population    35679.000000\n",
       "AveOccup        598.964286\n",
       "Latitude          9.410000\n",
       "Longitude        10.040000\n",
       "dtype: float64"
      ]
     },
     "execution_count": 6,
     "metadata": {},
     "output_type": "execute_result"
    }
   ],
   "source": [
    "# let's now learn the min and max values, and the value range \n",
    "# from the train set\n",
    "\n",
    "ranges = X_train.max(axis=0)-X_train.min(axis=0)\n",
    "ranges"
   ]
  },
  {
   "cell_type": "code",
   "execution_count": 7,
   "metadata": {},
   "outputs": [],
   "source": [
    "# now we are ready to perform mean normalisation:\n",
    "\n",
    "X_train_scaled = (X_train - means) / ranges\n",
    "X_test_scaled = (X_test - means) / ranges"
   ]
  },
  {
   "cell_type": "code",
   "execution_count": 8,
   "metadata": {},
   "outputs": [
    {
     "data": {
      "text/html": [
       "<div>\n",
       "<style scoped>\n",
       "    .dataframe tbody tr th:only-of-type {\n",
       "        vertical-align: middle;\n",
       "    }\n",
       "\n",
       "    .dataframe tbody tr th {\n",
       "        vertical-align: top;\n",
       "    }\n",
       "\n",
       "    .dataframe thead th {\n",
       "        text-align: right;\n",
       "    }\n",
       "</style>\n",
       "<table border=\"1\" class=\"dataframe\">\n",
       "  <thead>\n",
       "    <tr style=\"text-align: right;\">\n",
       "      <th></th>\n",
       "      <th>MedInc</th>\n",
       "      <th>HouseAge</th>\n",
       "      <th>AveRooms</th>\n",
       "      <th>AveBedrms</th>\n",
       "      <th>Population</th>\n",
       "      <th>AveOccup</th>\n",
       "      <th>Latitude</th>\n",
       "      <th>Longitude</th>\n",
       "    </tr>\n",
       "  </thead>\n",
       "  <tbody>\n",
       "    <tr>\n",
       "      <th>count</th>\n",
       "      <td>14448.00</td>\n",
       "      <td>14448.00</td>\n",
       "      <td>14448.00</td>\n",
       "      <td>14448.00</td>\n",
       "      <td>14448.00</td>\n",
       "      <td>14448.00</td>\n",
       "      <td>14448.00</td>\n",
       "      <td>14448.00</td>\n",
       "    </tr>\n",
       "    <tr>\n",
       "      <th>mean</th>\n",
       "      <td>0.00</td>\n",
       "      <td>-0.00</td>\n",
       "      <td>-0.00</td>\n",
       "      <td>0.00</td>\n",
       "      <td>-0.00</td>\n",
       "      <td>0.00</td>\n",
       "      <td>0.00</td>\n",
       "      <td>0.00</td>\n",
       "    </tr>\n",
       "    <tr>\n",
       "      <th>std</th>\n",
       "      <td>0.13</td>\n",
       "      <td>0.25</td>\n",
       "      <td>0.02</td>\n",
       "      <td>0.01</td>\n",
       "      <td>0.03</td>\n",
       "      <td>0.01</td>\n",
       "      <td>0.23</td>\n",
       "      <td>0.20</td>\n",
       "    </tr>\n",
       "    <tr>\n",
       "      <th>min</th>\n",
       "      <td>-0.23</td>\n",
       "      <td>-0.54</td>\n",
       "      <td>-0.03</td>\n",
       "      <td>-0.02</td>\n",
       "      <td>-0.04</td>\n",
       "      <td>-0.00</td>\n",
       "      <td>-0.33</td>\n",
       "      <td>-0.48</td>\n",
       "    </tr>\n",
       "    <tr>\n",
       "      <th>25%</th>\n",
       "      <td>-0.09</td>\n",
       "      <td>-0.21</td>\n",
       "      <td>-0.01</td>\n",
       "      <td>-0.00</td>\n",
       "      <td>-0.02</td>\n",
       "      <td>-0.00</td>\n",
       "      <td>-0.18</td>\n",
       "      <td>-0.22</td>\n",
       "    </tr>\n",
       "    <tr>\n",
       "      <th>50%</th>\n",
       "      <td>-0.02</td>\n",
       "      <td>0.01</td>\n",
       "      <td>-0.00</td>\n",
       "      <td>-0.00</td>\n",
       "      <td>-0.01</td>\n",
       "      <td>-0.00</td>\n",
       "      <td>-0.15</td>\n",
       "      <td>0.11</td>\n",
       "    </tr>\n",
       "    <tr>\n",
       "      <th>75%</th>\n",
       "      <td>0.06</td>\n",
       "      <td>0.16</td>\n",
       "      <td>0.00</td>\n",
       "      <td>0.00</td>\n",
       "      <td>0.01</td>\n",
       "      <td>0.00</td>\n",
       "      <td>0.22</td>\n",
       "      <td>0.16</td>\n",
       "    </tr>\n",
       "    <tr>\n",
       "      <th>max</th>\n",
       "      <td>0.77</td>\n",
       "      <td>0.46</td>\n",
       "      <td>0.97</td>\n",
       "      <td>0.98</td>\n",
       "      <td>0.96</td>\n",
       "      <td>1.00</td>\n",
       "      <td>0.67</td>\n",
       "      <td>0.52</td>\n",
       "    </tr>\n",
       "  </tbody>\n",
       "</table>\n",
       "</div>"
      ],
      "text/plain": [
       "         MedInc  HouseAge  AveRooms  AveBedrms  Population  AveOccup  \\\n",
       "count  14448.00  14448.00  14448.00   14448.00    14448.00  14448.00   \n",
       "mean       0.00     -0.00     -0.00       0.00       -0.00      0.00   \n",
       "std        0.13      0.25      0.02       0.01        0.03      0.01   \n",
       "min       -0.23     -0.54     -0.03      -0.02       -0.04     -0.00   \n",
       "25%       -0.09     -0.21     -0.01      -0.00       -0.02     -0.00   \n",
       "50%       -0.02      0.01     -0.00      -0.00       -0.01     -0.00   \n",
       "75%        0.06      0.16      0.00       0.00        0.01      0.00   \n",
       "max        0.77      0.46      0.97       0.98        0.96      1.00   \n",
       "\n",
       "       Latitude  Longitude  \n",
       "count  14448.00   14448.00  \n",
       "mean       0.00       0.00  \n",
       "std        0.23       0.20  \n",
       "min       -0.33      -0.48  \n",
       "25%       -0.18      -0.22  \n",
       "50%       -0.15       0.11  \n",
       "75%        0.22       0.16  \n",
       "max        0.67       0.52  "
      ]
     },
     "execution_count": 8,
     "metadata": {},
     "output_type": "execute_result"
    }
   ],
   "source": [
    "# let's check the stats of the scaled data:\n",
    "\n",
    "X_train_scaled.describe().round(2)"
   ]
  },
  {
   "cell_type": "code",
   "execution_count": 9,
   "metadata": {},
   "outputs": [
    {
     "data": {
      "image/png": "[encoded data removed]",
      "text/plain": [
       "<Figure size 720x720 with 9 Axes>"
      ]
     },
     "metadata": {
      "needs_background": "light"
     },
     "output_type": "display_data"
    }
   ],
   "source": [
    "# Distribution before scaling:\n",
    "\n",
    "X_train.hist(bins=20, figsize=(10,10))\n",
    "plt.show()"
   ]
  },
  {
   "cell_type": "code",
   "execution_count": 10,
   "metadata": {},
   "outputs": [
    {
     "data": {
      "image/png": "[encoded data removed]",
      "text/plain": [
       "<Figure size 720x720 with 9 Axes>"
      ]
     },
     "metadata": {
      "needs_background": "light"
     },
     "output_type": "display_data"
    }
   ],
   "source": [
    "# Distribution after scaling:\n",
    "\n",
    "X_train_scaled.hist(bins=20, figsize=(10,10))\n",
    "plt.show()"
   ]
  },
  {
   "cell_type": "markdown",
   "metadata": {},
   "source": [
    "As expected, the mean of each variable, which were not centered at zero, is now around zero and the min and max values vary approximately between -1 and 1."
   ]
  },
  {
   "cell_type": "markdown",
   "metadata": {
    "collapsed": true
   },
   "source": [
    "## Scikit-learn: work-around\n",
    "\n",
    "We can implement mean normalisation by combining the use of 2 transformers."
   ]
  },
  {
   "cell_type": "code",
   "execution_count": 11,
   "metadata": {},
   "outputs": [],
   "source": [
    "# set up the StandardScaler to remove the mean\n",
    "# without dividing by the standard deviation:\n",
    "\n",
    "scaler_mean = StandardScaler(\n",
    "    with_mean=True, \n",
    "    with_std=False,\n",
    ").set_output(transform=\"pandas\")"
   ]
  },
  {
   "cell_type": "code",
   "execution_count": 12,
   "metadata": {},
   "outputs": [],
   "source": [
    "# set up the robustscaler so that it does NOT remove the median\n",
    "# but divides the sample by max()-min().\n",
    "\n",
    "# To do this, set up the quantile range to 0 and 100\n",
    "scaler_minmax = RobustScaler(\n",
    "    with_centering=False,\n",
    "    with_scaling=True,\n",
    "    quantile_range=(0, 100),\n",
    ").set_output(transform=\"pandas\")"
   ]
  },
  {
   "cell_type": "code",
   "execution_count": 13,
   "metadata": {},
   "outputs": [
    {
     "data": {
      "text/html": [
       "<style>#sk-container-id-1 {color: black;background-color: white;}#sk-container-id-1 pre{padding: 0;}#sk-container-id-1 div.sk-toggleable {background-color: white;}#sk-container-id-1 label.sk-toggleable__label {cursor: pointer;display: block;width: 100%;margin-bottom: 0;padding: 0.3em;box-sizing: border-box;text-align: center;}#sk-container-id-1 label.sk-toggleable__label-arrow:before {content: \"▸\";float: left;margin-right: 0.25em;color: #696969;}#sk-container-id-1 label.sk-toggleable__label-arrow:hover:before {color: black;}#sk-container-id-1 div.sk-estimator:hover label.sk-toggleable__label-arrow:before {color: black;}#sk-container-id-1 div.sk-toggleable__content {max-height: 0;max-width: 0;overflow: hidden;text-align: left;background-color: #f0f8ff;}#sk-container-id-1 div.sk-toggleable__content pre {margin: 0.2em;color: black;border-radius: 0.25em;background-color: #f0f8ff;}#sk-container-id-1 input.sk-toggleable__control:checked~div.sk-toggleable__content {max-height: 200px;max-width: 100%;overflow: auto;}#sk-container-id-1 input.sk-toggleable__control:checked~label.sk-toggleable__label-arrow:before {content: \"▾\";}#sk-container-id-1 div.sk-estimator input.sk-toggleable__control:checked~label.sk-toggleable__label {background-color: #d4ebff;}#sk-container-id-1 div.sk-label input.sk-toggleable__control:checked~label.sk-toggleable__label {background-color: #d4ebff;}#sk-container-id-1 input.sk-hidden--visually {border: 0;clip: rect(1px 1px 1px 1px);clip: rect(1px, 1px, 1px, 1px);height: 1px;margin: -1px;overflow: hidden;padding: 0;position: absolute;width: 1px;}#sk-container-id-1 div.sk-estimator {font-family: monospace;background-color: #f0f8ff;border: 1px dotted black;border-radius: 0.25em;box-sizing: border-box;margin-bottom: 0.5em;}#sk-container-id-1 div.sk-estimator:hover {background-color: #d4ebff;}#sk-container-id-1 div.sk-parallel-item::after {content: \"\";width: 100%;border-bottom: 1px solid gray;flex-grow: 1;}#sk-container-id-1 div.sk-label:hover label.sk-toggleable__label {background-color: #d4ebff;}#sk-container-id-1 div.sk-serial::before {content: \"\";position: absolute;border-left: 1px solid gray;box-sizing: border-box;top: 0;bottom: 0;left: 50%;z-index: 0;}#sk-container-id-1 div.sk-serial {display: flex;flex-direction: column;align-items: center;background-color: white;padding-right: 0.2em;padding-left: 0.2em;position: relative;}#sk-container-id-1 div.sk-item {position: relative;z-index: 1;}#sk-container-id-1 div.sk-parallel {display: flex;align-items: stretch;justify-content: center;background-color: white;position: relative;}#sk-container-id-1 div.sk-item::before, #sk-container-id-1 div.sk-parallel-item::before {content: \"\";position: absolute;border-left: 1px solid gray;box-sizing: border-box;top: 0;bottom: 0;left: 50%;z-index: -1;}#sk-container-id-1 div.sk-parallel-item {display: flex;flex-direction: column;z-index: 1;position: relative;background-color: white;}#sk-container-id-1 div.sk-parallel-item:first-child::after {align-self: flex-end;width: 50%;}#sk-container-id-1 div.sk-parallel-item:last-child::after {align-self: flex-start;width: 50%;}#sk-container-id-1 div.sk-parallel-item:only-child::after {width: 0;}#sk-container-id-1 div.sk-dashed-wrapped {border: 1px dashed gray;margin: 0 0.4em 0.5em 0.4em;box-sizing: border-box;padding-bottom: 0.4em;background-color: white;}#sk-container-id-1 div.sk-label label {font-family: monospace;font-weight: bold;display: inline-block;line-height: 1.2em;}#sk-container-id-1 div.sk-label-container {text-align: center;}#sk-container-id-1 div.sk-container {/* jupyter's `normalize.less` sets `[hidden] { display: none; }` but bootstrap.min.css set `[hidden] { display: none !important; }` so we also need the `!important` here to be able to override the default hidden behavior on the sphinx rendered scikit-learn.org. See: https://github.com/scikit-learn/scikit-learn/issues/21755 */display: inline-block !important;position: relative;}#sk-container-id-1 div.sk-text-repr-fallback {display: none;}</style><div id=\"sk-container-id-1\" class=\"sk-top-container\"><div class=\"sk-text-repr-fallback\"><pre>RobustScaler(quantile_range=(0, 100), with_centering=False)</pre><b>In a Jupyter environment, please rerun this cell to show the HTML representation or trust the notebook. <br />On GitHub, the HTML representation is unable to render, please try loading this page with nbviewer.org.</b></div><div class=\"sk-container\" hidden><div class=\"sk-item\"><div class=\"sk-estimator sk-toggleable\"><input class=\"sk-toggleable__control sk-hidden--visually\" id=\"sk-estimator-id-1\" type=\"checkbox\" checked><label for=\"sk-estimator-id-1\" class=\"sk-toggleable__label sk-toggleable__label-arrow\">RobustScaler</label><div class=\"sk-toggleable__content\"><pre>RobustScaler(quantile_range=(0, 100), with_centering=False)</pre></div></div></div></div></div>"
      ],
      "text/plain": [
       "RobustScaler(quantile_range=(0, 100), with_centering=False)"
      ]
     },
     "execution_count": 13,
     "metadata": {},
     "output_type": "execute_result"
    }
   ],
   "source": [
    "# fit the scalers to the train set, it will learn the parameters\n",
    "scaler_mean.fit(X_train)\n",
    "scaler_minmax.fit(X_train)"
   ]
  },
  {
   "cell_type": "code",
   "execution_count": 14,
   "metadata": {},
   "outputs": [],
   "source": [
    "# transform train and test sets\n",
    "\n",
    "X_train_scaled = scaler_minmax.transform(scaler_mean.transform(X_train))\n",
    "X_test_scaled = scaler_minmax.transform(scaler_mean.transform(X_test))"
   ]
  },
  {
   "cell_type": "code",
   "execution_count": 15,
   "metadata": {},
   "outputs": [
    {
     "data": {
      "text/html": [
       "<div>\n",
       "<style scoped>\n",
       "    .dataframe tbody tr th:only-of-type {\n",
       "        vertical-align: middle;\n",
       "    }\n",
       "\n",
       "    .dataframe tbody tr th {\n",
       "        vertical-align: top;\n",
       "    }\n",
       "\n",
       "    .dataframe thead th {\n",
       "        text-align: right;\n",
       "    }\n",
       "</style>\n",
       "<table border=\"1\" class=\"dataframe\">\n",
       "  <thead>\n",
       "    <tr style=\"text-align: right;\">\n",
       "      <th></th>\n",
       "      <th>MedInc</th>\n",
       "      <th>HouseAge</th>\n",
       "      <th>AveRooms</th>\n",
       "      <th>AveBedrms</th>\n",
       "      <th>Population</th>\n",
       "      <th>AveOccup</th>\n",
       "      <th>Latitude</th>\n",
       "      <th>Longitude</th>\n",
       "    </tr>\n",
       "  </thead>\n",
       "  <tbody>\n",
       "    <tr>\n",
       "      <th>count</th>\n",
       "      <td>14448.00</td>\n",
       "      <td>14448.00</td>\n",
       "      <td>14448.00</td>\n",
       "      <td>14448.00</td>\n",
       "      <td>14448.00</td>\n",
       "      <td>14448.00</td>\n",
       "      <td>14448.00</td>\n",
       "      <td>14448.00</td>\n",
       "    </tr>\n",
       "    <tr>\n",
       "      <th>mean</th>\n",
       "      <td>0.00</td>\n",
       "      <td>-0.00</td>\n",
       "      <td>-0.00</td>\n",
       "      <td>0.00</td>\n",
       "      <td>-0.00</td>\n",
       "      <td>0.00</td>\n",
       "      <td>0.00</td>\n",
       "      <td>0.00</td>\n",
       "    </tr>\n",
       "    <tr>\n",
       "      <th>std</th>\n",
       "      <td>0.13</td>\n",
       "      <td>0.25</td>\n",
       "      <td>0.02</td>\n",
       "      <td>0.01</td>\n",
       "      <td>0.03</td>\n",
       "      <td>0.01</td>\n",
       "      <td>0.23</td>\n",
       "      <td>0.20</td>\n",
       "    </tr>\n",
       "    <tr>\n",
       "      <th>min</th>\n",
       "      <td>-0.23</td>\n",
       "      <td>-0.54</td>\n",
       "      <td>-0.03</td>\n",
       "      <td>-0.02</td>\n",
       "      <td>-0.04</td>\n",
       "      <td>-0.00</td>\n",
       "      <td>-0.33</td>\n",
       "      <td>-0.48</td>\n",
       "    </tr>\n",
       "    <tr>\n",
       "      <th>25%</th>\n",
       "      <td>-0.09</td>\n",
       "      <td>-0.21</td>\n",
       "      <td>-0.01</td>\n",
       "      <td>-0.00</td>\n",
       "      <td>-0.02</td>\n",
       "      <td>-0.00</td>\n",
       "      <td>-0.18</td>\n",
       "      <td>-0.22</td>\n",
       "    </tr>\n",
       "    <tr>\n",
       "      <th>50%</th>\n",
       "      <td>-0.02</td>\n",
       "      <td>0.01</td>\n",
       "      <td>-0.00</td>\n",
       "      <td>-0.00</td>\n",
       "      <td>-0.01</td>\n",
       "      <td>-0.00</td>\n",
       "      <td>-0.15</td>\n",
       "      <td>0.11</td>\n",
       "    </tr>\n",
       "    <tr>\n",
       "      <th>75%</th>\n",
       "      <td>0.06</td>\n",
       "      <td>0.16</td>\n",
       "      <td>0.00</td>\n",
       "      <td>0.00</td>\n",
       "      <td>0.01</td>\n",
       "      <td>0.00</td>\n",
       "      <td>0.22</td>\n",
       "      <td>0.16</td>\n",
       "    </tr>\n",
       "    <tr>\n",
       "      <th>max</th>\n",
       "      <td>0.77</td>\n",
       "      <td>0.46</td>\n",
       "      <td>0.97</td>\n",
       "      <td>0.98</td>\n",
       "      <td>0.96</td>\n",
       "      <td>1.00</td>\n",
       "      <td>0.67</td>\n",
       "      <td>0.52</td>\n",
       "    </tr>\n",
       "  </tbody>\n",
       "</table>\n",
       "</div>"
      ],
      "text/plain": [
       "         MedInc  HouseAge  AveRooms  AveBedrms  Population  AveOccup  \\\n",
       "count  14448.00  14448.00  14448.00   14448.00    14448.00  14448.00   \n",
       "mean       0.00     -0.00     -0.00       0.00       -0.00      0.00   \n",
       "std        0.13      0.25      0.02       0.01        0.03      0.01   \n",
       "min       -0.23     -0.54     -0.03      -0.02       -0.04     -0.00   \n",
       "25%       -0.09     -0.21     -0.01      -0.00       -0.02     -0.00   \n",
       "50%       -0.02      0.01     -0.00      -0.00       -0.01     -0.00   \n",
       "75%        0.06      0.16      0.00       0.00        0.01      0.00   \n",
       "max        0.77      0.46      0.97       0.98        0.96      1.00   \n",
       "\n",
       "       Latitude  Longitude  \n",
       "count  14448.00   14448.00  \n",
       "mean       0.00       0.00  \n",
       "std        0.23       0.20  \n",
       "min       -0.33      -0.48  \n",
       "25%       -0.18      -0.22  \n",
       "50%       -0.15       0.11  \n",
       "75%        0.22       0.16  \n",
       "max        0.67       0.52  "
      ]
     },
     "execution_count": 15,
     "metadata": {},
     "output_type": "execute_result"
    }
   ],
   "source": [
    "# let's check the stats of the scaled data:\n",
    "\n",
    "X_train_scaled.describe().round(2)"
   ]
  },
  {
   "cell_type": "code",
   "execution_count": 16,
   "metadata": {},
   "outputs": [
    {
     "data": {
      "image/png": "[encoded data removed]",
      "text/plain": [
       "<Figure size 720x720 with 9 Axes>"
      ]
     },
     "metadata": {
      "needs_background": "light"
     },
     "output_type": "display_data"
    }
   ],
   "source": [
    "# Distribution before scaling:\n",
    "\n",
    "X_train.hist(bins=20, figsize=(10,10))\n",
    "plt.show()"
   ]
  },
  {
   "cell_type": "code",
   "execution_count": 17,
   "metadata": {},
   "outputs": [
    {
     "data": {
      "image/png": "[encoded data removed]",
      "text/plain": [
       "<Figure size 720x720 with 9 Axes>"
      ]
     },
     "metadata": {
      "needs_background": "light"
     },
     "output_type": "display_data"
    }
   ],
   "source": [
    "# Distribution after scaling:\n",
    "\n",
    "X_train_scaled.hist(bins=20, figsize=(10,10))\n",
    "plt.show()"
   ]
  },
  {
   "cell_type": "markdown",
   "metadata": {},
   "source": [
    "Same result as with pandas."
   ]
  },
  {
   "cell_type": "code",
   "execution_count": null,
   "metadata": {},
   "outputs": [],
   "source": []
  }
 ],
 "metadata": {
  "kernelspec": {
   "display_name": "fsml",
   "language": "python",
   "name": "fsml"
  },
  "language_info": {
   "codemirror_mode": {
    "name": "ipython",
    "version": 3
   },
   "file_extension": ".py",
   "mimetype": "text/x-python",
   "name": "python",
   "nbconvert_exporter": "python",
   "pygments_lexer": "ipython3",
   "version": "3.10.5"
  },
  "toc": {
   "base_numbering": 1,
   "nav_menu": {},
   "number_sections": true,
   "sideBar": true,
   "skip_h1_title": false,
   "title_cell": "Table of Contents",
   "title_sidebar": "Contents",
   "toc_cell": false,
   "toc_position": {},
   "toc_section_display": "block",
   "toc_window_display": true
  }
 },
 "nbformat": 4,
 "nbformat_minor": 2
}

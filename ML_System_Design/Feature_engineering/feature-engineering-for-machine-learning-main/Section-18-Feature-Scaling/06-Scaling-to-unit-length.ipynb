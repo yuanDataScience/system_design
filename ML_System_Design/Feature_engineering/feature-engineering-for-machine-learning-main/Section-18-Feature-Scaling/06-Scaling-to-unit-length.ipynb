{
 "cells": [
  {
   "cell_type": "markdown",
   "metadata": {},
   "source": [
    "## Feature Scaling\n",
    "\n",
    "We discussed previously that the scale of the features is an important consideration when building machine learning models. Briefly:\n",
    "\n",
    "\n",
    "### Feature magnitude matters because:\n",
    "\n",
    "- The regression coefficients of linear models are directly influenced by the scale of the variable.\n",
    "- Variables with bigger magnitude / larger value range dominate over those with smaller magnitude / value range\n",
    "- Gradient descent converges faster when features are on similar scales\n",
    "- Feature scaling helps decrease the time to find support vectors for SVMs\n",
    "- Euclidean distances are sensitive to feature magnitude.\n",
    "- Some algorithms, like PCA require the features to be centered at 0.\n",
    "\n",
    "\n",
    "### The machine learning models affected by the feature scale are:\n",
    "\n",
    "- Linear and Logistic Regression\n",
    "- Neural Networks\n",
    "- Support Vector Machines\n",
    "- KNN\n",
    "- K-means clustering\n",
    "- Linear Discriminant Analysis (LDA)\n",
    "- Principal Component Analysis (PCA)\n",
    "\n",
    "\n",
    "### Feature Scaling\n",
    "\n",
    "**Feature scaling** refers to the methods or techniques used to normalize the range of independent variables in our data, or in other words, the methods to set the feature value range within a similar scale. Feature scaling is generally the last step in the data preprocessing pipeline, performed **just before training the machine learning algorithms**.\n",
    "\n",
    "There are several Feature Scaling techniques, which we will discuss throughout this section:\n",
    "\n",
    "- Standardisation\n",
    "- Mean normalisation\n",
    "- Scaling to minimum and maximum values - MinMaxScaling\n",
    "- Scaling to maximum value - MaxAbsScaling\n",
    "- Scaling to quantiles and median - RobustScaling\n",
    "- Normalization to vector unit length\n",
    "\n",
    "In this notebook, we will discuss **Scaling to vector unit  length**.\n",
    "\n",
    "=================================================================\n",
    "\n",
    "## Scaling to vector unit  length / unit norm\n",
    "\n",
    "In this procedure we scale the components of a feature vector such that the complete vector has a length of 1 or, in other words a norm of 1. **Note** that this normalisation procedure normalises the **feature** vector, and not the **observation** vector. So we divide by the norm of the feature vector, observation per observation, across the different variables, and not by the norm of the **observation** vector, across observations for the same feature.\n",
    "\n",
    "First, let me give you the formulas, and then I illustrate with an example.\n",
    "\n",
    "### Scaling to unit norm, formulas\n",
    "\n",
    "Scaling to unit norm is achieved by dividing each feature vector by either the Manhattan distance (l1 norm) or the Euclidean distance of the vector (l2 norm):\n",
    "\n",
    "X_scaled_l1 = X / l1(X)\n",
    "\n",
    "X_scaled_l2 = X / l2(X)\n",
    "\n",
    "\n",
    "The **Manhattan distance** is given by the sum of the absolute components of the vector:\n",
    "\n",
    "l1(X) = |x1| + |x2| + ... + |xn|\n",
    "\n",
    "\n",
    "Whereas the **Euclidean distance** is given by the square root of the square sum of the component of the vector:\n",
    "\n",
    "l2(X) = sqr( x1^2 + x2^2 + ... + xn^2 )\n",
    "\n",
    "\n",
    "In the above example, x1 is variable 1, x2 variable 2, and xn variable n, and X is the data for 1 observation across variables (a row in other words).\n",
    "\n",
    "**Note** as well that as the euclidean distance squares the values of the feature vector components, outliers have a heavier weight. With outliers, we may prefer to use l1 normalisation.\n",
    "\n",
    "\n",
    "### Scaling to unit norm, examples\n",
    "\n",
    "For example, if our data has 1 observations (1 row) and 3 variables:\n",
    "\n",
    "- number of pets\n",
    "- number of children\n",
    "- age\n",
    "\n",
    "The values for each variable for that single observation are 10, 15 and 20. Our vector X = [10, 15, 20]. Then:\n",
    "\n",
    "l1(X) = 10 + 15 + 20 = 45\n",
    "\n",
    "l2(X) = sqr( 10^2 + 15^2 + 20^2) = sqr( 100 + 225 + 400) = **26.9**\n",
    "\n",
    "The euclidean distance is always smaller than the manhattan distance.\n",
    "\n",
    "\n",
    "The normalised vector values are therefore:\n",
    "\n",
    "X_scaled_l1 = [ 10/45, 15/45, 20/45 ]      =  [0.22, 0.33, 0.44]\n",
    "\n",
    "X_scaled_l2 = [10/26.9, 15/26.9, 20/26.9 ] =  [0.37, 0.55, 0.74]\n",
    "\n",
    "\n",
    "Scikit-learn recommends this scaling procedures for text classification or clustering. For example, they quote the dot product of two l2-normalized TF-IDF vectors is the cosine similarity of the vectors and is the base similarity metric for the Vector Space Model commonly used by the Information Retrieval community."
   ]
  },
  {
   "cell_type": "code",
   "execution_count": 1,
   "metadata": {},
   "outputs": [],
   "source": [
    "import numpy as np\n",
    "import pandas as pd\n",
    "import matplotlib.pyplot as plt\n",
    "\n",
    "# dataset for the demo\n",
    "from sklearn.datasets import fetch_california_housing\n",
    "from sklearn.model_selection import train_test_split\n",
    "\n",
    "# the scaler - for robust scaling\n",
    "from sklearn.preprocessing import Normalizer"
   ]
  },
  {
   "cell_type": "code",
   "execution_count": 2,
   "metadata": {},
   "outputs": [],
   "source": [
    "# load the California House price data from Scikit-learn\n",
    "\n",
    "X, y = fetch_california_housing(return_X_y=True, as_frame=True)"
   ]
  },
  {
   "cell_type": "markdown",
   "metadata": {},
   "source": [
    "When scaling to unit length, as we do it across the variables and observation per observation, the distance does vary for each observation. Therefore, we do not need to learn parameters and store them. The scaling occurs on an observation per observation level. Therefore, in essence, we do not need to divide into train and test.\n",
    "\n",
    "However, you probably did this to implement other feature engineering steps, so let's continue doing so here as well."
   ]
  },
  {
   "cell_type": "code",
   "execution_count": 3,
   "metadata": {},
   "outputs": [
    {
     "data": {
      "text/plain": [
       "((14448, 8), (6192, 8))"
      ]
     },
     "execution_count": 3,
     "metadata": {},
     "output_type": "execute_result"
    }
   ],
   "source": [
    "# let's separate the data into training and testing sets\n",
    "X_train, X_test, y_train, y_test = train_test_split(\n",
    "    X,\n",
    "    y,\n",
    "    test_size=0.3,\n",
    "    random_state=0,\n",
    ")\n",
    "\n",
    "# size\n",
    "X_train.shape, X_test.shape"
   ]
  },
  {
   "cell_type": "markdown",
   "metadata": {},
   "source": [
    "### Scaling to l1"
   ]
  },
  {
   "cell_type": "code",
   "execution_count": 4,
   "metadata": {},
   "outputs": [],
   "source": [
    "# set up the scaler\n",
    "scaler = Normalizer(norm='l1').set_output(transform=\"pandas\")\n",
    "\n",
    "# fit the scaler, this procedure does NOTHING\n",
    "scaler.fit(X_train)\n",
    "\n",
    "# transform train and test sets\n",
    "X_train_scaled = scaler.transform(X_train)\n",
    "X_test_scaled = scaler.transform(X_test)"
   ]
  },
  {
   "cell_type": "code",
   "execution_count": 5,
   "metadata": {
    "scrolled": true
   },
   "outputs": [
    {
     "data": {
      "text/plain": [
       "array([ 411.8, 1049.1, 1573.6, ...,  903.1, 1251. , 1197.2])"
      ]
     },
     "execution_count": 5,
     "metadata": {},
     "output_type": "execute_result"
    }
   ],
   "source": [
    "# let's calculate the norm for each observation (feature vector)\n",
    "# original data\n",
    "\n",
    "np.round(np.linalg.norm(X_train, ord=1, axis=1), 1)"
   ]
  },
  {
   "cell_type": "code",
   "execution_count": 6,
   "metadata": {},
   "outputs": [
    {
     "data": {
      "text/plain": [
       "array([1., 1., 1., ..., 1., 1., 1.])"
      ]
     },
     "execution_count": 6,
     "metadata": {},
     "output_type": "execute_result"
    }
   ],
   "source": [
    "# let's calculate the norm for each observation (feature vector)\n",
    "# scaled data\n",
    "\n",
    "np.round(np.linalg.norm(X_train_scaled, ord=1, axis=1), 1)"
   ]
  },
  {
   "cell_type": "markdown",
   "metadata": {},
   "source": [
    "Now, each feature vector has a l1 norm of 1."
   ]
  },
  {
   "cell_type": "code",
   "execution_count": 7,
   "metadata": {},
   "outputs": [
    {
     "data": {
      "text/html": [
       "<div>\n",
       "<style scoped>\n",
       "    .dataframe tbody tr th:only-of-type {\n",
       "        vertical-align: middle;\n",
       "    }\n",
       "\n",
       "    .dataframe tbody tr th {\n",
       "        vertical-align: top;\n",
       "    }\n",
       "\n",
       "    .dataframe thead th {\n",
       "        text-align: right;\n",
       "    }\n",
       "</style>\n",
       "<table border=\"1\" class=\"dataframe\">\n",
       "  <thead>\n",
       "    <tr style=\"text-align: right;\">\n",
       "      <th></th>\n",
       "      <th>MedInc</th>\n",
       "      <th>HouseAge</th>\n",
       "      <th>AveRooms</th>\n",
       "      <th>AveBedrms</th>\n",
       "      <th>Population</th>\n",
       "      <th>AveOccup</th>\n",
       "      <th>Latitude</th>\n",
       "      <th>Longitude</th>\n",
       "    </tr>\n",
       "  </thead>\n",
       "  <tbody>\n",
       "    <tr>\n",
       "      <th>count</th>\n",
       "      <td>14448.000000</td>\n",
       "      <td>14448.000000</td>\n",
       "      <td>14448.000000</td>\n",
       "      <td>14448.000000</td>\n",
       "      <td>14448.000000</td>\n",
       "      <td>14448.000000</td>\n",
       "      <td>14448.000000</td>\n",
       "      <td>14448.000000</td>\n",
       "    </tr>\n",
       "    <tr>\n",
       "      <th>mean</th>\n",
       "      <td>0.003307</td>\n",
       "      <td>0.025618</td>\n",
       "      <td>0.004845</td>\n",
       "      <td>0.000980</td>\n",
       "      <td>0.829530</td>\n",
       "      <td>0.002471</td>\n",
       "      <td>0.030689</td>\n",
       "      <td>-0.102560</td>\n",
       "    </tr>\n",
       "    <tr>\n",
       "      <th>std</th>\n",
       "      <td>0.003101</td>\n",
       "      <td>0.021863</td>\n",
       "      <td>0.006238</td>\n",
       "      <td>0.001385</td>\n",
       "      <td>0.115177</td>\n",
       "      <td>0.002263</td>\n",
       "      <td>0.020812</td>\n",
       "      <td>0.068250</td>\n",
       "    </tr>\n",
       "    <tr>\n",
       "      <th>min</th>\n",
       "      <td>0.000072</td>\n",
       "      <td>0.000209</td>\n",
       "      <td>0.000147</td>\n",
       "      <td>0.000028</td>\n",
       "      <td>0.016782</td>\n",
       "      <td>0.000163</td>\n",
       "      <td>0.000930</td>\n",
       "      <td>-0.691357</td>\n",
       "    </tr>\n",
       "    <tr>\n",
       "      <th>25%</th>\n",
       "      <td>0.001554</td>\n",
       "      <td>0.011168</td>\n",
       "      <td>0.002548</td>\n",
       "      <td>0.000549</td>\n",
       "      <td>0.795538</td>\n",
       "      <td>0.001473</td>\n",
       "      <td>0.018314</td>\n",
       "      <td>-0.121284</td>\n",
       "    </tr>\n",
       "    <tr>\n",
       "      <th>50%</th>\n",
       "      <td>0.002535</td>\n",
       "      <td>0.020402</td>\n",
       "      <td>0.003785</td>\n",
       "      <td>0.000772</td>\n",
       "      <td>0.854378</td>\n",
       "      <td>0.002075</td>\n",
       "      <td>0.026044</td>\n",
       "      <td>-0.087644</td>\n",
       "    </tr>\n",
       "    <tr>\n",
       "      <th>75%</th>\n",
       "      <td>0.004005</td>\n",
       "      <td>0.033935</td>\n",
       "      <td>0.005554</td>\n",
       "      <td>0.001074</td>\n",
       "      <td>0.899395</td>\n",
       "      <td>0.002862</td>\n",
       "      <td>0.036334</td>\n",
       "      <td>-0.062273</td>\n",
       "    </tr>\n",
       "    <tr>\n",
       "      <th>max</th>\n",
       "      <td>0.065525</td>\n",
       "      <td>0.236108</td>\n",
       "      <td>0.329271</td>\n",
       "      <td>0.084637</td>\n",
       "      <td>0.994950</td>\n",
       "      <td>0.119789</td>\n",
       "      <td>0.206662</td>\n",
       "      <td>-0.003274</td>\n",
       "    </tr>\n",
       "  </tbody>\n",
       "</table>\n",
       "</div>"
      ],
      "text/plain": [
       "             MedInc      HouseAge      AveRooms     AveBedrms    Population  \\\n",
       "count  14448.000000  14448.000000  14448.000000  14448.000000  14448.000000   \n",
       "mean       0.003307      0.025618      0.004845      0.000980      0.829530   \n",
       "std        0.003101      0.021863      0.006238      0.001385      0.115177   \n",
       "min        0.000072      0.000209      0.000147      0.000028      0.016782   \n",
       "25%        0.001554      0.011168      0.002548      0.000549      0.795538   \n",
       "50%        0.002535      0.020402      0.003785      0.000772      0.854378   \n",
       "75%        0.004005      0.033935      0.005554      0.001074      0.899395   \n",
       "max        0.065525      0.236108      0.329271      0.084637      0.994950   \n",
       "\n",
       "           AveOccup      Latitude     Longitude  \n",
       "count  14448.000000  14448.000000  14448.000000  \n",
       "mean       0.002471      0.030689     -0.102560  \n",
       "std        0.002263      0.020812      0.068250  \n",
       "min        0.000163      0.000930     -0.691357  \n",
       "25%        0.001473      0.018314     -0.121284  \n",
       "50%        0.002075      0.026044     -0.087644  \n",
       "75%        0.002862      0.036334     -0.062273  \n",
       "max        0.119789      0.206662     -0.003274  "
      ]
     },
     "execution_count": 7,
     "metadata": {},
     "output_type": "execute_result"
    }
   ],
   "source": [
    "# let's look at the individual values of the variables in the original data\n",
    "\n",
    "X_train_scaled.describe()"
   ]
  },
  {
   "cell_type": "code",
   "execution_count": 8,
   "metadata": {},
   "outputs": [
    {
     "data": {
      "image/png": "[encoded data removed]",
      "text/plain": [
       "<Figure size 720x720 with 9 Axes>"
      ]
     },
     "metadata": {
      "needs_background": "light"
     },
     "output_type": "display_data"
    }
   ],
   "source": [
    "# Distribution before scaling:\n",
    "\n",
    "X_train.hist(bins=20, figsize=(10,10))\n",
    "plt.show()"
   ]
  },
  {
   "cell_type": "code",
   "execution_count": 9,
   "metadata": {},
   "outputs": [
    {
     "data": {
      "image/png": "[encoded data removed]",
      "text/plain": [
       "<Figure size 720x720 with 9 Axes>"
      ]
     },
     "metadata": {
      "needs_background": "light"
     },
     "output_type": "display_data"
    }
   ],
   "source": [
    "# Distribution after scaling:\n",
    "\n",
    "X_train_scaled.hist(bins=20, figsize=(10,10))\n",
    "plt.show()"
   ]
  },
  {
   "cell_type": "markdown",
   "metadata": {},
   "source": [
    "See how this normalisation changes the distribution of the original variable quite dramatically."
   ]
  },
  {
   "cell_type": "markdown",
   "metadata": {},
   "source": [
    "### Scaling to l2"
   ]
  },
  {
   "cell_type": "code",
   "execution_count": 10,
   "metadata": {},
   "outputs": [],
   "source": [
    "# set up the scaler\n",
    "scaler = Normalizer(norm='l2').set_output(transform=\"pandas\")\n",
    "\n",
    "# fit the scaler, this procedure does NOTHING\n",
    "scaler.fit(X_train)\n",
    "\n",
    "# transform train and test sets\n",
    "X_train_scaled = scaler.transform(X_train)\n",
    "X_test_scaled = scaler.transform(X_test)"
   ]
  },
  {
   "cell_type": "code",
   "execution_count": 11,
   "metadata": {
    "scrolled": true
   },
   "outputs": [
    {
     "data": {
      "text/plain": [
       "array([ 236. ,  846.8, 1392.6, ...,  716.1, 1059.7, 1031.1])"
      ]
     },
     "execution_count": 11,
     "metadata": {},
     "output_type": "execute_result"
    }
   ],
   "source": [
    "# let's calculate the norm for each observation (feature vector)\n",
    "# original data\n",
    "\n",
    "np.round( np.linalg.norm(X_train, ord=2, axis=1), 1)"
   ]
  },
  {
   "cell_type": "code",
   "execution_count": 12,
   "metadata": {},
   "outputs": [
    {
     "data": {
      "text/plain": [
       "array([1., 1., 1., ..., 1., 1., 1.])"
      ]
     },
     "execution_count": 12,
     "metadata": {},
     "output_type": "execute_result"
    }
   ],
   "source": [
    "# let's calculate the norm for each observation (feature vector)\n",
    "# scaledl data\n",
    "\n",
    "np.round( np.linalg.norm(X_train_scaled, ord=2, axis=1), 1)"
   ]
  },
  {
   "cell_type": "code",
   "execution_count": 13,
   "metadata": {},
   "outputs": [
    {
     "data": {
      "text/html": [
       "<div>\n",
       "<style scoped>\n",
       "    .dataframe tbody tr th:only-of-type {\n",
       "        vertical-align: middle;\n",
       "    }\n",
       "\n",
       "    .dataframe tbody tr th {\n",
       "        vertical-align: top;\n",
       "    }\n",
       "\n",
       "    .dataframe thead th {\n",
       "        text-align: right;\n",
       "    }\n",
       "</style>\n",
       "<table border=\"1\" class=\"dataframe\">\n",
       "  <thead>\n",
       "    <tr style=\"text-align: right;\">\n",
       "      <th></th>\n",
       "      <th>MedInc</th>\n",
       "      <th>HouseAge</th>\n",
       "      <th>AveRooms</th>\n",
       "      <th>AveBedrms</th>\n",
       "      <th>Population</th>\n",
       "      <th>AveOccup</th>\n",
       "      <th>Latitude</th>\n",
       "      <th>Longitude</th>\n",
       "    </tr>\n",
       "  </thead>\n",
       "  <tbody>\n",
       "    <tr>\n",
       "      <th>count</th>\n",
       "      <td>14448.000000</td>\n",
       "      <td>14448.000000</td>\n",
       "      <td>14448.000000</td>\n",
       "      <td>14448.000000</td>\n",
       "      <td>14448.000000</td>\n",
       "      <td>14448.000000</td>\n",
       "      <td>14448.000000</td>\n",
       "      <td>14448.000000</td>\n",
       "    </tr>\n",
       "    <tr>\n",
       "      <th>mean</th>\n",
       "      <td>0.004258</td>\n",
       "      <td>0.033325</td>\n",
       "      <td>0.006370</td>\n",
       "      <td>0.001292</td>\n",
       "      <td>0.978428</td>\n",
       "      <td>0.003174</td>\n",
       "      <td>0.039616</td>\n",
       "      <td>-0.132217</td>\n",
       "    </tr>\n",
       "    <tr>\n",
       "      <th>std</th>\n",
       "      <td>0.005068</td>\n",
       "      <td>0.036131</td>\n",
       "      <td>0.011609</td>\n",
       "      <td>0.002634</td>\n",
       "      <td>0.074459</td>\n",
       "      <td>0.003599</td>\n",
       "      <td>0.036169</td>\n",
       "      <td>0.118785</td>\n",
       "    </tr>\n",
       "    <tr>\n",
       "      <th>min</th>\n",
       "      <td>0.000072</td>\n",
       "      <td>0.000212</td>\n",
       "      <td>0.000148</td>\n",
       "      <td>0.000028</td>\n",
       "      <td>0.024116</td>\n",
       "      <td>0.000164</td>\n",
       "      <td>0.000935</td>\n",
       "      <td>-0.957531</td>\n",
       "    </tr>\n",
       "    <tr>\n",
       "      <th>25%</th>\n",
       "      <td>0.001745</td>\n",
       "      <td>0.012462</td>\n",
       "      <td>0.002841</td>\n",
       "      <td>0.000610</td>\n",
       "      <td>0.986614</td>\n",
       "      <td>0.001650</td>\n",
       "      <td>0.020339</td>\n",
       "      <td>-0.150302</td>\n",
       "    </tr>\n",
       "    <tr>\n",
       "      <th>50%</th>\n",
       "      <td>0.002983</td>\n",
       "      <td>0.023740</td>\n",
       "      <td>0.004415</td>\n",
       "      <td>0.000900</td>\n",
       "      <td>0.993908</td>\n",
       "      <td>0.002423</td>\n",
       "      <td>0.030343</td>\n",
       "      <td>-0.101977</td>\n",
       "    </tr>\n",
       "    <tr>\n",
       "      <th>75%</th>\n",
       "      <td>0.004940</td>\n",
       "      <td>0.041784</td>\n",
       "      <td>0.006860</td>\n",
       "      <td>0.001330</td>\n",
       "      <td>0.997267</td>\n",
       "      <td>0.003535</td>\n",
       "      <td>0.045020</td>\n",
       "      <td>-0.069048</td>\n",
       "    </tr>\n",
       "    <tr>\n",
       "      <th>max</th>\n",
       "      <td>0.113007</td>\n",
       "      <td>0.392072</td>\n",
       "      <td>0.687806</td>\n",
       "      <td>0.176795</td>\n",
       "      <td>0.999994</td>\n",
       "      <td>0.141353</td>\n",
       "      <td>0.295699</td>\n",
       "      <td>-0.003291</td>\n",
       "    </tr>\n",
       "  </tbody>\n",
       "</table>\n",
       "</div>"
      ],
      "text/plain": [
       "             MedInc      HouseAge      AveRooms     AveBedrms    Population  \\\n",
       "count  14448.000000  14448.000000  14448.000000  14448.000000  14448.000000   \n",
       "mean       0.004258      0.033325      0.006370      0.001292      0.978428   \n",
       "std        0.005068      0.036131      0.011609      0.002634      0.074459   \n",
       "min        0.000072      0.000212      0.000148      0.000028      0.024116   \n",
       "25%        0.001745      0.012462      0.002841      0.000610      0.986614   \n",
       "50%        0.002983      0.023740      0.004415      0.000900      0.993908   \n",
       "75%        0.004940      0.041784      0.006860      0.001330      0.997267   \n",
       "max        0.113007      0.392072      0.687806      0.176795      0.999994   \n",
       "\n",
       "           AveOccup      Latitude     Longitude  \n",
       "count  14448.000000  14448.000000  14448.000000  \n",
       "mean       0.003174      0.039616     -0.132217  \n",
       "std        0.003599      0.036169      0.118785  \n",
       "min        0.000164      0.000935     -0.957531  \n",
       "25%        0.001650      0.020339     -0.150302  \n",
       "50%        0.002423      0.030343     -0.101977  \n",
       "75%        0.003535      0.045020     -0.069048  \n",
       "max        0.141353      0.295699     -0.003291  "
      ]
     },
     "execution_count": 13,
     "metadata": {},
     "output_type": "execute_result"
    }
   ],
   "source": [
    "X_train_scaled.describe()"
   ]
  },
  {
   "cell_type": "code",
   "execution_count": 14,
   "metadata": {},
   "outputs": [
    {
     "data": {
      "image/png": "[encoded data removed]",
      "text/plain": [
       "<Figure size 720x720 with 9 Axes>"
      ]
     },
     "metadata": {
      "needs_background": "light"
     },
     "output_type": "display_data"
    }
   ],
   "source": [
    "# Distribution after scaling:\n",
    "\n",
    "X_train_scaled.hist(bins=20, figsize=(10,10))\n",
    "plt.show()"
   ]
  },
  {
   "cell_type": "code",
   "execution_count": null,
   "metadata": {},
   "outputs": [],
   "source": []
  }
 ],
 "metadata": {
  "kernelspec": {
   "display_name": "fsml",
   "language": "python",
   "name": "fsml"
  },
  "language_info": {
   "codemirror_mode": {
    "name": "ipython",
    "version": 3
   },
   "file_extension": ".py",
   "mimetype": "text/x-python",
   "name": "python",
   "nbconvert_exporter": "python",
   "pygments_lexer": "ipython3",
   "version": "3.10.5"
  },
  "toc": {
   "base_numbering": 1,
   "nav_menu": {},
   "number_sections": true,
   "sideBar": true,
   "skip_h1_title": false,
   "title_cell": "Table of Contents",
   "title_sidebar": "Contents",
   "toc_cell": false,
   "toc_position": {},
   "toc_section_display": "block",
   "toc_window_display": true
  }
 },
 "nbformat": 4,
 "nbformat_minor": 2
}

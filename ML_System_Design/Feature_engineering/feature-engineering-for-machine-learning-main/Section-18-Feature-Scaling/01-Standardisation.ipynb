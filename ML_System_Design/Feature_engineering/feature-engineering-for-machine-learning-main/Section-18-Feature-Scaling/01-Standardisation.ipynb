{
 "cells": [
  {
   "cell_type": "markdown",
   "metadata": {},
   "source": [
    "## Feature Scaling\n",
    "\n",
    "We discussed previously that the scale of the features is an important consideration when building machine learning models. Briefly:\n",
    "\n",
    "\n",
    "### Feature magnitude matters because:\n",
    "\n",
    "- The regression coefficients of linear models are directly influenced by the scale of the variable.\n",
    "- Variables with bigger magnitude / larger value range dominate over those with smaller magnitude / value range\n",
    "- Gradient descent converges faster when features are on similar scales\n",
    "- Feature scaling helps decrease the time to find support vectors for SVMs\n",
    "- Euclidean distances are sensitive to feature magnitude.\n",
    "- Some algorithms, like PCA require the features to be centered at 0.\n",
    "\n",
    "\n",
    "### The machine learning models affected by the feature scale are:\n",
    "\n",
    "- Linear and Logistic Regression\n",
    "- Neural Networks\n",
    "- Support Vector Machines\n",
    "- KNN\n",
    "- K-means clustering\n",
    "- Linear Discriminant Analysis (LDA)\n",
    "- Principal Component Analysis (PCA)\n",
    "\n",
    "\n",
    "### Feature Scaling\n",
    "\n",
    "**Feature scaling** refers to the methods or techniques used to normalize the range of independent variables in our data, or in other words, the methods to set the feature value range within a similar scale. Feature scaling is generally the last step in the data preprocessing pipeline, performed **just before training the machine learning algorithms**.\n",
    "\n",
    "There are several Feature Scaling techniques, which we will discuss throughout this section:\n",
    "\n",
    "- Standardisation\n",
    "- Mean normalisation\n",
    "- Scaling to minimum and maximum values - MinMaxScaling\n",
    "- Scaling to maximum value - MaxAbsScaling\n",
    "- Scaling to quantiles and median - RobustScaling\n",
    "- Normalization to vector unit length\n",
    "\n",
    "In this notebook, we will discuss **Standardisation**.\n",
    "\n",
    "=================================================================\n",
    "\n",
    "## Standardisation\n",
    "\n",
    "\n",
    "Standardisation involves centering the variable at zero, and standardising the variance to 1. The procedure involves subtracting the mean of each observation and then dividing by the standard deviation:\n",
    "\n",
    "**z = (x - x_mean) /  std**\n",
    "\n",
    "The result of the above transformation is **z**, which is called the z-score, and represents how many standard deviations a given observation deviates from the mean. A z-score specifies the location of the observation within a distribution (in numbers of standard deviations respect to the mean of the distribution). The sign of the z-score (+ or - ) indicates whether the observation is above (+) or below ( - ) the mean.\n",
    "\n",
    "The shape of a standardised (or z-scored normalised) distribution will be identical to the original distribution of the variable. If the original distribution is normal, then the standardised distribution will be normal. But, if the original distribution is skewed, then the standardised distribution of the variable will also be skewed. In other words, **standardising a variable does not normalize the distribution of the data** and if this is the desired outcome, we should implement any of the techniques discussed in section 7 of the course.\n",
    "\n",
    "In a nutshell, standardisation:\n",
    "\n",
    "- centers the mean at 0\n",
    "- scales the variance at 1\n",
    "- preserves the shape of the original distribution\n",
    "- the minimum and maximum values of the different variables may vary\n",
    "- preserves outliers\n",
    "\n",
    "Good for algorithms that require features centered at zero."
   ]
  },
  {
   "cell_type": "code",
   "execution_count": 1,
   "metadata": {},
   "outputs": [],
   "source": [
    "import pandas as pd\n",
    "import matplotlib.pyplot as plt\n",
    "\n",
    "# dataset for the demo\n",
    "from sklearn.datasets import fetch_california_housing\n",
    "from sklearn.model_selection import train_test_split\n",
    "\n",
    "# the scaler - for standardisation\n",
    "from sklearn.preprocessing import StandardScaler"
   ]
  },
  {
   "cell_type": "code",
   "execution_count": 2,
   "metadata": {},
   "outputs": [],
   "source": [
    "# load the California House price data from Scikit-learn\n",
    "\n",
    "X, y = fetch_california_housing(return_X_y=True, as_frame=True)"
   ]
  },
  {
   "cell_type": "code",
   "execution_count": 3,
   "metadata": {},
   "outputs": [
    {
     "data": {
      "text/html": [
       "<div>\n",
       "<style scoped>\n",
       "    .dataframe tbody tr th:only-of-type {\n",
       "        vertical-align: middle;\n",
       "    }\n",
       "\n",
       "    .dataframe tbody tr th {\n",
       "        vertical-align: top;\n",
       "    }\n",
       "\n",
       "    .dataframe thead th {\n",
       "        text-align: right;\n",
       "    }\n",
       "</style>\n",
       "<table border=\"1\" class=\"dataframe\">\n",
       "  <thead>\n",
       "    <tr style=\"text-align: right;\">\n",
       "      <th></th>\n",
       "      <th>MedInc</th>\n",
       "      <th>HouseAge</th>\n",
       "      <th>AveRooms</th>\n",
       "      <th>AveBedrms</th>\n",
       "      <th>Population</th>\n",
       "      <th>AveOccup</th>\n",
       "      <th>Latitude</th>\n",
       "      <th>Longitude</th>\n",
       "    </tr>\n",
       "  </thead>\n",
       "  <tbody>\n",
       "    <tr>\n",
       "      <th>count</th>\n",
       "      <td>20640.00</td>\n",
       "      <td>20640.00</td>\n",
       "      <td>20640.00</td>\n",
       "      <td>20640.00</td>\n",
       "      <td>20640.00</td>\n",
       "      <td>20640.00</td>\n",
       "      <td>20640.00</td>\n",
       "      <td>20640.00</td>\n",
       "    </tr>\n",
       "    <tr>\n",
       "      <th>mean</th>\n",
       "      <td>3.87</td>\n",
       "      <td>28.64</td>\n",
       "      <td>5.43</td>\n",
       "      <td>1.10</td>\n",
       "      <td>1425.48</td>\n",
       "      <td>3.07</td>\n",
       "      <td>35.63</td>\n",
       "      <td>-119.57</td>\n",
       "    </tr>\n",
       "    <tr>\n",
       "      <th>std</th>\n",
       "      <td>1.90</td>\n",
       "      <td>12.59</td>\n",
       "      <td>2.47</td>\n",
       "      <td>0.47</td>\n",
       "      <td>1132.46</td>\n",
       "      <td>10.39</td>\n",
       "      <td>2.14</td>\n",
       "      <td>2.00</td>\n",
       "    </tr>\n",
       "    <tr>\n",
       "      <th>min</th>\n",
       "      <td>0.50</td>\n",
       "      <td>1.00</td>\n",
       "      <td>0.85</td>\n",
       "      <td>0.33</td>\n",
       "      <td>3.00</td>\n",
       "      <td>0.69</td>\n",
       "      <td>32.54</td>\n",
       "      <td>-124.35</td>\n",
       "    </tr>\n",
       "    <tr>\n",
       "      <th>25%</th>\n",
       "      <td>2.56</td>\n",
       "      <td>18.00</td>\n",
       "      <td>4.44</td>\n",
       "      <td>1.01</td>\n",
       "      <td>787.00</td>\n",
       "      <td>2.43</td>\n",
       "      <td>33.93</td>\n",
       "      <td>-121.80</td>\n",
       "    </tr>\n",
       "    <tr>\n",
       "      <th>50%</th>\n",
       "      <td>3.53</td>\n",
       "      <td>29.00</td>\n",
       "      <td>5.23</td>\n",
       "      <td>1.05</td>\n",
       "      <td>1166.00</td>\n",
       "      <td>2.82</td>\n",
       "      <td>34.26</td>\n",
       "      <td>-118.49</td>\n",
       "    </tr>\n",
       "    <tr>\n",
       "      <th>75%</th>\n",
       "      <td>4.74</td>\n",
       "      <td>37.00</td>\n",
       "      <td>6.05</td>\n",
       "      <td>1.10</td>\n",
       "      <td>1725.00</td>\n",
       "      <td>3.28</td>\n",
       "      <td>37.71</td>\n",
       "      <td>-118.01</td>\n",
       "    </tr>\n",
       "    <tr>\n",
       "      <th>max</th>\n",
       "      <td>15.00</td>\n",
       "      <td>52.00</td>\n",
       "      <td>141.91</td>\n",
       "      <td>34.07</td>\n",
       "      <td>35682.00</td>\n",
       "      <td>1243.33</td>\n",
       "      <td>41.95</td>\n",
       "      <td>-114.31</td>\n",
       "    </tr>\n",
       "  </tbody>\n",
       "</table>\n",
       "</div>"
      ],
      "text/plain": [
       "         MedInc  HouseAge  AveRooms  AveBedrms  Population  AveOccup  \\\n",
       "count  20640.00  20640.00  20640.00   20640.00    20640.00  20640.00   \n",
       "mean       3.87     28.64      5.43       1.10     1425.48      3.07   \n",
       "std        1.90     12.59      2.47       0.47     1132.46     10.39   \n",
       "min        0.50      1.00      0.85       0.33        3.00      0.69   \n",
       "25%        2.56     18.00      4.44       1.01      787.00      2.43   \n",
       "50%        3.53     29.00      5.23       1.05     1166.00      2.82   \n",
       "75%        4.74     37.00      6.05       1.10     1725.00      3.28   \n",
       "max       15.00     52.00    141.91      34.07    35682.00   1243.33   \n",
       "\n",
       "       Latitude  Longitude  \n",
       "count  20640.00   20640.00  \n",
       "mean      35.63    -119.57  \n",
       "std        2.14       2.00  \n",
       "min       32.54    -124.35  \n",
       "25%       33.93    -121.80  \n",
       "50%       34.26    -118.49  \n",
       "75%       37.71    -118.01  \n",
       "max       41.95    -114.31  "
      ]
     },
     "execution_count": 3,
     "metadata": {},
     "output_type": "execute_result"
    }
   ],
   "source": [
    "# let's have a look at the main statistical parameters of the variables\n",
    "# to get an idea of the feature magnitudes\n",
    "\n",
    "X.describe().round(2)"
   ]
  },
  {
   "cell_type": "markdown",
   "metadata": {},
   "source": [
    "The different variables present different value ranges, mean, max, min, standard deviations, etc. In other words, they show different magnitudes or scales. \n",
    "\n",
    "Note that **the mean values are not centered at zero, and the standard deviations are not scaled to 1**."
   ]
  },
  {
   "cell_type": "markdown",
   "metadata": {},
   "source": [
    "When standardising the data set, we need to first identify the mean and standard deviation of the variables. These parameters need to be learned from the train set, stored, and then used to scale test and future data. Thus, we will first divide the data set into train and test, as we have done throughout the course."
   ]
  },
  {
   "cell_type": "code",
   "execution_count": 4,
   "metadata": {},
   "outputs": [
    {
     "data": {
      "text/plain": [
       "((14448, 8), (6192, 8))"
      ]
     },
     "execution_count": 4,
     "metadata": {},
     "output_type": "execute_result"
    }
   ],
   "source": [
    "# let's separate the data into training and testing sets\n",
    "X_train, X_test, y_train, y_test = train_test_split(\n",
    "    X,\n",
    "    y,\n",
    "    test_size=0.3,\n",
    "    random_state=0,\n",
    ")\n",
    "\n",
    "# size\n",
    "X_train.shape, X_test.shape"
   ]
  },
  {
   "cell_type": "markdown",
   "metadata": {},
   "source": [
    "### Standardisation\n",
    "\n",
    "The StandardScaler from scikit-learn removes the mean and scales the data to unit variance. Plus, it learns and stores the parameters needed for scaling. Thus, it is top choice for this feature scaling technique.\n",
    "\n",
    "On the downside, you can't select which variables to scale directly, it will scale the entire data set."
   ]
  },
  {
   "cell_type": "code",
   "execution_count": 5,
   "metadata": {},
   "outputs": [],
   "source": [
    "# standardisation: with the StandardScaler from sklearn\n",
    "\n",
    "# set up the scaler\n",
    "scaler = StandardScaler().set_output(transform=\"pandas\")\n",
    "\n",
    "# fit the scaler to the train set, it will learn the parameters\n",
    "scaler.fit(X_train)\n",
    "\n",
    "# transform train and test sets\n",
    "X_train_scaled = scaler.transform(X_train)\n",
    "X_test_scaled = scaler.transform(X_test)"
   ]
  },
  {
   "cell_type": "code",
   "execution_count": 6,
   "metadata": {},
   "outputs": [
    {
     "data": {
      "text/plain": [
       "array([ 3.86666741e+00,  2.86187016e+01,  5.42340368e+00,  1.09477484e+00,\n",
       "        1.42515732e+03,  3.04051776e+00,  3.56300934e+01, -1.19566647e+02])"
      ]
     },
     "execution_count": 6,
     "metadata": {},
     "output_type": "execute_result"
    }
   ],
   "source": [
    "# the scaler stores the mean of the features, learned from train set\n",
    "\n",
    "scaler.mean_"
   ]
  },
  {
   "cell_type": "code",
   "execution_count": 7,
   "metadata": {},
   "outputs": [
    {
     "data": {
      "text/plain": [
       "array([1.89109236e+00, 1.25962585e+01, 2.28754018e+00, 4.52736275e-01,\n",
       "       1.14954037e+03, 6.86792905e+00, 2.14004647e+00, 2.00651732e+00])"
      ]
     },
     "execution_count": 7,
     "metadata": {},
     "output_type": "execute_result"
    }
   ],
   "source": [
    "# the scaler stores the standard deviation deviation of the features,\n",
    "# learned from train set\n",
    "\n",
    "scaler.scale_"
   ]
  },
  {
   "cell_type": "code",
   "execution_count": 8,
   "metadata": {},
   "outputs": [
    {
     "data": {
      "text/html": [
       "<div>\n",
       "<style scoped>\n",
       "    .dataframe tbody tr th:only-of-type {\n",
       "        vertical-align: middle;\n",
       "    }\n",
       "\n",
       "    .dataframe tbody tr th {\n",
       "        vertical-align: top;\n",
       "    }\n",
       "\n",
       "    .dataframe thead th {\n",
       "        text-align: right;\n",
       "    }\n",
       "</style>\n",
       "<table border=\"1\" class=\"dataframe\">\n",
       "  <thead>\n",
       "    <tr style=\"text-align: right;\">\n",
       "      <th></th>\n",
       "      <th>MedInc</th>\n",
       "      <th>HouseAge</th>\n",
       "      <th>AveRooms</th>\n",
       "      <th>AveBedrms</th>\n",
       "      <th>Population</th>\n",
       "      <th>AveOccup</th>\n",
       "      <th>Latitude</th>\n",
       "      <th>Longitude</th>\n",
       "    </tr>\n",
       "  </thead>\n",
       "  <tbody>\n",
       "    <tr>\n",
       "      <th>count</th>\n",
       "      <td>14448.00</td>\n",
       "      <td>14448.00</td>\n",
       "      <td>14448.00</td>\n",
       "      <td>14448.00</td>\n",
       "      <td>14448.00</td>\n",
       "      <td>14448.00</td>\n",
       "      <td>14448.00</td>\n",
       "      <td>14448.00</td>\n",
       "    </tr>\n",
       "    <tr>\n",
       "      <th>mean</th>\n",
       "      <td>0.00</td>\n",
       "      <td>-0.00</td>\n",
       "      <td>-0.00</td>\n",
       "      <td>0.00</td>\n",
       "      <td>-0.00</td>\n",
       "      <td>0.00</td>\n",
       "      <td>0.00</td>\n",
       "      <td>0.00</td>\n",
       "    </tr>\n",
       "    <tr>\n",
       "      <th>std</th>\n",
       "      <td>1.00</td>\n",
       "      <td>1.00</td>\n",
       "      <td>1.00</td>\n",
       "      <td>1.00</td>\n",
       "      <td>1.00</td>\n",
       "      <td>1.00</td>\n",
       "      <td>1.00</td>\n",
       "      <td>1.00</td>\n",
       "    </tr>\n",
       "    <tr>\n",
       "      <th>min</th>\n",
       "      <td>-1.78</td>\n",
       "      <td>-2.19</td>\n",
       "      <td>-2.00</td>\n",
       "      <td>-1.68</td>\n",
       "      <td>-1.24</td>\n",
       "      <td>-0.33</td>\n",
       "      <td>-1.44</td>\n",
       "      <td>-2.38</td>\n",
       "    </tr>\n",
       "    <tr>\n",
       "      <th>25%</th>\n",
       "      <td>-0.69</td>\n",
       "      <td>-0.84</td>\n",
       "      <td>-0.42</td>\n",
       "      <td>-0.20</td>\n",
       "      <td>-0.56</td>\n",
       "      <td>-0.09</td>\n",
       "      <td>-0.79</td>\n",
       "      <td>-1.11</td>\n",
       "    </tr>\n",
       "    <tr>\n",
       "      <th>50%</th>\n",
       "      <td>-0.17</td>\n",
       "      <td>0.03</td>\n",
       "      <td>-0.08</td>\n",
       "      <td>-0.10</td>\n",
       "      <td>-0.23</td>\n",
       "      <td>-0.03</td>\n",
       "      <td>-0.64</td>\n",
       "      <td>0.54</td>\n",
       "    </tr>\n",
       "    <tr>\n",
       "      <th>75%</th>\n",
       "      <td>0.46</td>\n",
       "      <td>0.67</td>\n",
       "      <td>0.27</td>\n",
       "      <td>0.01</td>\n",
       "      <td>0.26</td>\n",
       "      <td>0.03</td>\n",
       "      <td>0.97</td>\n",
       "      <td>0.78</td>\n",
       "    </tr>\n",
       "    <tr>\n",
       "      <th>max</th>\n",
       "      <td>5.89</td>\n",
       "      <td>1.86</td>\n",
       "      <td>55.57</td>\n",
       "      <td>72.83</td>\n",
       "      <td>29.80</td>\n",
       "      <td>86.88</td>\n",
       "      <td>2.95</td>\n",
       "      <td>2.62</td>\n",
       "    </tr>\n",
       "  </tbody>\n",
       "</table>\n",
       "</div>"
      ],
      "text/plain": [
       "         MedInc  HouseAge  AveRooms  AveBedrms  Population  AveOccup  \\\n",
       "count  14448.00  14448.00  14448.00   14448.00    14448.00  14448.00   \n",
       "mean       0.00     -0.00     -0.00       0.00       -0.00      0.00   \n",
       "std        1.00      1.00      1.00       1.00        1.00      1.00   \n",
       "min       -1.78     -2.19     -2.00      -1.68       -1.24     -0.33   \n",
       "25%       -0.69     -0.84     -0.42      -0.20       -0.56     -0.09   \n",
       "50%       -0.17      0.03     -0.08      -0.10       -0.23     -0.03   \n",
       "75%        0.46      0.67      0.27       0.01        0.26      0.03   \n",
       "max        5.89      1.86     55.57      72.83       29.80     86.88   \n",
       "\n",
       "       Latitude  Longitude  \n",
       "count  14448.00   14448.00  \n",
       "mean       0.00       0.00  \n",
       "std        1.00       1.00  \n",
       "min       -1.44      -2.38  \n",
       "25%       -0.79      -1.11  \n",
       "50%       -0.64       0.54  \n",
       "75%        0.97       0.78  \n",
       "max        2.95       2.62  "
      ]
     },
     "execution_count": 8,
     "metadata": {},
     "output_type": "execute_result"
    }
   ],
   "source": [
    "# let's check the stats of the scaled data:\n",
    "\n",
    "X_train_scaled.describe().round(2)"
   ]
  },
  {
   "cell_type": "markdown",
   "metadata": {},
   "source": [
    "As expected, the mean of each variable is now centered at zero and the standard deviation is 1. \n",
    "\n",
    "Note that the minimum and maximum values vary according to how spread the variable was to begin with and is highly influenced by the presence of outliers."
   ]
  },
  {
   "cell_type": "code",
   "execution_count": 9,
   "metadata": {},
   "outputs": [
    {
     "data": {
      "image/png": "[encoded data removed]",
      "text/plain": [
       "<Figure size 720x720 with 9 Axes>"
      ]
     },
     "metadata": {
      "needs_background": "light"
     },
     "output_type": "display_data"
    }
   ],
   "source": [
    "# Distribution before scaling:\n",
    "\n",
    "X_train.hist(bins=20, figsize=(10,10))\n",
    "plt.show()"
   ]
  },
  {
   "cell_type": "code",
   "execution_count": 10,
   "metadata": {},
   "outputs": [
    {
     "data": {
      "image/png": "[encoded data removed]",
      "text/plain": [
       "<Figure size 720x720 with 9 Axes>"
      ]
     },
     "metadata": {
      "needs_background": "light"
     },
     "output_type": "display_data"
    }
   ],
   "source": [
    "# Distribution after scaling:\n",
    "\n",
    "X_train_scaled.hist(bins=20, figsize=(10,10))\n",
    "plt.show()"
   ]
  },
  {
   "cell_type": "markdown",
   "metadata": {},
   "source": [
    "Note from the above plots how standardisation centered all the distributions at zero, but it preserved their original distribution."
   ]
  },
  {
   "cell_type": "code",
   "execution_count": null,
   "metadata": {},
   "outputs": [],
   "source": []
  }
 ],
 "metadata": {
  "kernelspec": {
   "display_name": "fsml",
   "language": "python",
   "name": "fsml"
  },
  "language_info": {
   "codemirror_mode": {
    "name": "ipython",
    "version": 3
   },
   "file_extension": ".py",
   "mimetype": "text/x-python",
   "name": "python",
   "nbconvert_exporter": "python",
   "pygments_lexer": "ipython3",
   "version": "3.10.5"
  },
  "toc": {
   "base_numbering": 1,
   "nav_menu": {},
   "number_sections": true,
   "sideBar": true,
   "skip_h1_title": false,
   "title_cell": "Table of Contents",
   "title_sidebar": "Contents",
   "toc_cell": false,
   "toc_position": {},
   "toc_section_display": "block",
   "toc_window_display": true
  }
 },
 "nbformat": 4,
 "nbformat_minor": 2
}

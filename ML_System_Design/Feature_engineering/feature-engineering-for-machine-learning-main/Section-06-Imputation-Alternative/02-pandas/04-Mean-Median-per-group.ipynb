{
 "cells": [
  {
   "cell_type": "markdown",
   "metadata": {},
   "source": [
    "## Mean / Median imputation per group - pandas\n",
    "\n",
    "To download the House Prices dataset, please refer to the lecture **Datasets** in **Section 2** of this course."
   ]
  },
  {
   "cell_type": "code",
   "execution_count": 1,
   "metadata": {},
   "outputs": [],
   "source": [
    "import pandas as pd\n",
    "from sklearn.model_selection import train_test_split"
   ]
  },
  {
   "cell_type": "code",
   "execution_count": 2,
   "metadata": {},
   "outputs": [],
   "source": [
    "# We'll use the following variables,\n",
    "# 3 of which contain NA.\n",
    "\n",
    "cols_to_use = [\n",
    "    \"LotShape\",\n",
    "    \"OverallQual\",\n",
    "    \"TotalBsmtSF\",\n",
    "    \"LotFrontage\",\n",
    "    \"MasVnrArea\",\n",
    "    \"GarageYrBlt\",\n",
    "    \"SalePrice\",\n",
    "]"
   ]
  },
  {
   "cell_type": "code",
   "execution_count": 3,
   "metadata": {},
   "outputs": [
    {
     "data": {
      "text/html": [
       "<div>\n",
       "<style scoped>\n",
       "    .dataframe tbody tr th:only-of-type {\n",
       "        vertical-align: middle;\n",
       "    }\n",
       "\n",
       "    .dataframe tbody tr th {\n",
       "        vertical-align: top;\n",
       "    }\n",
       "\n",
       "    .dataframe thead th {\n",
       "        text-align: right;\n",
       "    }\n",
       "</style>\n",
       "<table border=\"1\" class=\"dataframe\">\n",
       "  <thead>\n",
       "    <tr style=\"text-align: right;\">\n",
       "      <th></th>\n",
       "      <th>LotFrontage</th>\n",
       "      <th>LotShape</th>\n",
       "      <th>OverallQual</th>\n",
       "      <th>MasVnrArea</th>\n",
       "      <th>TotalBsmtSF</th>\n",
       "      <th>GarageYrBlt</th>\n",
       "      <th>SalePrice</th>\n",
       "    </tr>\n",
       "  </thead>\n",
       "  <tbody>\n",
       "    <tr>\n",
       "      <th>0</th>\n",
       "      <td>65.0</td>\n",
       "      <td>Reg</td>\n",
       "      <td>7</td>\n",
       "      <td>196.0</td>\n",
       "      <td>856</td>\n",
       "      <td>2003.0</td>\n",
       "      <td>208500</td>\n",
       "    </tr>\n",
       "    <tr>\n",
       "      <th>1</th>\n",
       "      <td>80.0</td>\n",
       "      <td>Reg</td>\n",
       "      <td>6</td>\n",
       "      <td>0.0</td>\n",
       "      <td>1262</td>\n",
       "      <td>1976.0</td>\n",
       "      <td>181500</td>\n",
       "    </tr>\n",
       "    <tr>\n",
       "      <th>2</th>\n",
       "      <td>68.0</td>\n",
       "      <td>IR1</td>\n",
       "      <td>7</td>\n",
       "      <td>162.0</td>\n",
       "      <td>920</td>\n",
       "      <td>2001.0</td>\n",
       "      <td>223500</td>\n",
       "    </tr>\n",
       "    <tr>\n",
       "      <th>3</th>\n",
       "      <td>60.0</td>\n",
       "      <td>IR1</td>\n",
       "      <td>7</td>\n",
       "      <td>0.0</td>\n",
       "      <td>756</td>\n",
       "      <td>1998.0</td>\n",
       "      <td>140000</td>\n",
       "    </tr>\n",
       "    <tr>\n",
       "      <th>4</th>\n",
       "      <td>84.0</td>\n",
       "      <td>IR1</td>\n",
       "      <td>8</td>\n",
       "      <td>350.0</td>\n",
       "      <td>1145</td>\n",
       "      <td>2000.0</td>\n",
       "      <td>250000</td>\n",
       "    </tr>\n",
       "  </tbody>\n",
       "</table>\n",
       "</div>"
      ],
      "text/plain": [
       "   LotFrontage LotShape  OverallQual  MasVnrArea  TotalBsmtSF  GarageYrBlt  \\\n",
       "0         65.0      Reg            7       196.0          856       2003.0   \n",
       "1         80.0      Reg            6         0.0         1262       1976.0   \n",
       "2         68.0      IR1            7       162.0          920       2001.0   \n",
       "3         60.0      IR1            7         0.0          756       1998.0   \n",
       "4         84.0      IR1            8       350.0         1145       2000.0   \n",
       "\n",
       "   SalePrice  \n",
       "0     208500  \n",
       "1     181500  \n",
       "2     223500  \n",
       "3     140000  \n",
       "4     250000  "
      ]
     },
     "execution_count": 3,
     "metadata": {},
     "output_type": "execute_result"
    }
   ],
   "source": [
    "# Let's load the House Prices dataset.\n",
    "\n",
    "data = pd.read_csv(\"../../houseprice.csv\", usecols=cols_to_use)\n",
    "\n",
    "data.head()"
   ]
  },
  {
   "cell_type": "markdown",
   "metadata": {},
   "source": [
    "**Remember that the mean or the median that we will use to replace the NA are calculated using the train set.**"
   ]
  },
  {
   "cell_type": "code",
   "execution_count": 4,
   "metadata": {
    "scrolled": false
   },
   "outputs": [
    {
     "data": {
      "text/plain": [
       "((1022, 6), (438, 6))"
      ]
     },
     "execution_count": 4,
     "metadata": {},
     "output_type": "execute_result"
    }
   ],
   "source": [
    "# Let's separate into training and testing sets.\n",
    "\n",
    "X_train, X_test, y_train, y_test = train_test_split(\n",
    "    data.drop(\"SalePrice\", axis=1),\n",
    "    data[\"SalePrice\"],\n",
    "    test_size=0.3,\n",
    "    random_state=0,\n",
    ")\n",
    "\n",
    "X_train.shape, X_test.shape"
   ]
  },
  {
   "cell_type": "code",
   "execution_count": 5,
   "metadata": {},
   "outputs": [
    {
     "data": {
      "text/plain": [
       "LotFrontage    0.184932\n",
       "LotShape       0.000000\n",
       "OverallQual    0.000000\n",
       "MasVnrArea     0.004892\n",
       "TotalBsmtSF    0.000000\n",
       "GarageYrBlt    0.052838\n",
       "dtype: float64"
      ]
     },
     "execution_count": 5,
     "metadata": {},
     "output_type": "execute_result"
    }
   ],
   "source": [
    "# Find missing data\n",
    "\n",
    "X_train.isnull().mean()"
   ]
  },
  {
   "cell_type": "code",
   "execution_count": 6,
   "metadata": {},
   "outputs": [
    {
     "data": {
      "text/plain": [
       "['LotFrontage', 'MasVnrArea', 'GarageYrBlt']"
      ]
     },
     "execution_count": 6,
     "metadata": {},
     "output_type": "execute_result"
    }
   ],
   "source": [
    "# Capture the variables to impute in a list.\n",
    "\n",
    "vars_to_impute = [var for var in X_train.columns if X_train[var].isnull().sum() > 0]\n",
    "\n",
    "vars_to_impute"
   ]
  },
  {
   "cell_type": "code",
   "execution_count": 7,
   "metadata": {},
   "outputs": [
    {
     "data": {
      "text/html": [
       "<div>\n",
       "<style scoped>\n",
       "    .dataframe tbody tr th:only-of-type {\n",
       "        vertical-align: middle;\n",
       "    }\n",
       "\n",
       "    .dataframe tbody tr th {\n",
       "        vertical-align: top;\n",
       "    }\n",
       "\n",
       "    .dataframe thead th {\n",
       "        text-align: right;\n",
       "    }\n",
       "</style>\n",
       "<table border=\"1\" class=\"dataframe\">\n",
       "  <thead>\n",
       "    <tr style=\"text-align: right;\">\n",
       "      <th></th>\n",
       "      <th>LotFrontage</th>\n",
       "      <th>MasVnrArea</th>\n",
       "      <th>GarageYrBlt</th>\n",
       "    </tr>\n",
       "    <tr>\n",
       "      <th>LotShape</th>\n",
       "      <th></th>\n",
       "      <th></th>\n",
       "      <th></th>\n",
       "    </tr>\n",
       "  </thead>\n",
       "  <tbody>\n",
       "    <tr>\n",
       "      <th>IR1</th>\n",
       "      <td>74.158371</td>\n",
       "      <td>131.869565</td>\n",
       "      <td>1984.081325</td>\n",
       "    </tr>\n",
       "    <tr>\n",
       "      <th>IR2</th>\n",
       "      <td>80.550000</td>\n",
       "      <td>84.827586</td>\n",
       "      <td>1987.689655</td>\n",
       "    </tr>\n",
       "    <tr>\n",
       "      <th>IR3</th>\n",
       "      <td>119.200000</td>\n",
       "      <td>0.000000</td>\n",
       "      <td>1984.666667</td>\n",
       "    </tr>\n",
       "    <tr>\n",
       "      <th>Reg</th>\n",
       "      <td>67.185690</td>\n",
       "      <td>90.045526</td>\n",
       "      <td>1974.126456</td>\n",
       "    </tr>\n",
       "  </tbody>\n",
       "</table>\n",
       "</div>"
      ],
      "text/plain": [
       "          LotFrontage  MasVnrArea  GarageYrBlt\n",
       "LotShape                                      \n",
       "IR1         74.158371  131.869565  1984.081325\n",
       "IR2         80.550000   84.827586  1987.689655\n",
       "IR3        119.200000    0.000000  1984.666667\n",
       "Reg         67.185690   90.045526  1974.126456"
      ]
     },
     "execution_count": 7,
     "metadata": {},
     "output_type": "execute_result"
    }
   ],
   "source": [
    "# let's find out if the mean value differs\n",
    "\n",
    "X_train.groupby(\"LotShape\")[[\"LotFrontage\", \"MasVnrArea\", \"GarageYrBlt\"]].mean()"
   ]
  },
  {
   "cell_type": "code",
   "execution_count": 8,
   "metadata": {},
   "outputs": [
    {
     "data": {
      "text/plain": [
       "Reg    642\n",
       "IR1    345\n",
       "IR2     29\n",
       "IR3      6\n",
       "Name: LotShape, dtype: int64"
      ]
     },
     "execution_count": 8,
     "metadata": {},
     "output_type": "execute_result"
    }
   ],
   "source": [
    "# Number of observations per category\n",
    "\n",
    "X_train[\"LotShape\"].value_counts()"
   ]
  },
  {
   "cell_type": "code",
   "execution_count": 9,
   "metadata": {},
   "outputs": [
    {
     "data": {
      "text/plain": [
       "{'Reg': {'LotFrontage': 67.18568994889267,\n",
       "  'MasVnrArea': 90.04552590266876,\n",
       "  'GarageYrBlt': 1974.126455906822},\n",
       " 'IR1': {'LotFrontage': 74.15837104072398,\n",
       "  'MasVnrArea': 131.8695652173913,\n",
       "  'GarageYrBlt': 1984.0813253012047},\n",
       " 'IR2': {'LotFrontage': 80.55,\n",
       "  'MasVnrArea': 84.82758620689656,\n",
       "  'GarageYrBlt': 1987.6896551724137},\n",
       " 'IR3': {'LotFrontage': 119.2,\n",
       "  'MasVnrArea': 0.0,\n",
       "  'GarageYrBlt': 1984.6666666666667}}"
      ]
     },
     "execution_count": 9,
     "metadata": {},
     "output_type": "execute_result"
    }
   ],
   "source": [
    "imputation_dict = {}\n",
    "\n",
    "for i in X_train[\"LotShape\"].unique():\n",
    "\n",
    "    imputation_dict[i] = (\n",
    "        X_train[X_train[\"LotShape\"] == i][vars_to_impute].mean().to_dict()\n",
    "    )\n",
    "\n",
    "imputation_dict"
   ]
  },
  {
   "cell_type": "markdown",
   "metadata": {},
   "source": [
    "To perform mean imputation instead of median, we just replace the previous code by: `imputation_dict = X_train[vars_to_impute].mean().to_dict()`\n"
   ]
  },
  {
   "cell_type": "code",
   "execution_count": 10,
   "metadata": {},
   "outputs": [
    {
     "data": {
      "text/html": [
       "<div>\n",
       "<style scoped>\n",
       "    .dataframe tbody tr th:only-of-type {\n",
       "        vertical-align: middle;\n",
       "    }\n",
       "\n",
       "    .dataframe tbody tr th {\n",
       "        vertical-align: top;\n",
       "    }\n",
       "\n",
       "    .dataframe thead th {\n",
       "        text-align: right;\n",
       "    }\n",
       "</style>\n",
       "<table border=\"1\" class=\"dataframe\">\n",
       "  <thead>\n",
       "    <tr style=\"text-align: right;\">\n",
       "      <th></th>\n",
       "      <th>LotFrontage</th>\n",
       "      <th>LotShape</th>\n",
       "      <th>OverallQual</th>\n",
       "      <th>MasVnrArea</th>\n",
       "      <th>TotalBsmtSF</th>\n",
       "      <th>GarageYrBlt</th>\n",
       "    </tr>\n",
       "  </thead>\n",
       "  <tbody>\n",
       "    <tr>\n",
       "      <th>64</th>\n",
       "      <td>NaN</td>\n",
       "      <td>Reg</td>\n",
       "      <td>7</td>\n",
       "      <td>573.0</td>\n",
       "      <td>1057</td>\n",
       "      <td>1998.0</td>\n",
       "    </tr>\n",
       "    <tr>\n",
       "      <th>682</th>\n",
       "      <td>NaN</td>\n",
       "      <td>Reg</td>\n",
       "      <td>6</td>\n",
       "      <td>0.0</td>\n",
       "      <td>1291</td>\n",
       "      <td>1996.0</td>\n",
       "    </tr>\n",
       "    <tr>\n",
       "      <th>960</th>\n",
       "      <td>50.0</td>\n",
       "      <td>IR1</td>\n",
       "      <td>5</td>\n",
       "      <td>0.0</td>\n",
       "      <td>858</td>\n",
       "      <td>NaN</td>\n",
       "    </tr>\n",
       "    <tr>\n",
       "      <th>1384</th>\n",
       "      <td>60.0</td>\n",
       "      <td>Reg</td>\n",
       "      <td>6</td>\n",
       "      <td>0.0</td>\n",
       "      <td>560</td>\n",
       "      <td>1939.0</td>\n",
       "    </tr>\n",
       "    <tr>\n",
       "      <th>1100</th>\n",
       "      <td>60.0</td>\n",
       "      <td>Reg</td>\n",
       "      <td>2</td>\n",
       "      <td>0.0</td>\n",
       "      <td>290</td>\n",
       "      <td>1930.0</td>\n",
       "    </tr>\n",
       "    <tr>\n",
       "      <th>416</th>\n",
       "      <td>74.0</td>\n",
       "      <td>Reg</td>\n",
       "      <td>6</td>\n",
       "      <td>203.0</td>\n",
       "      <td>672</td>\n",
       "      <td>1978.0</td>\n",
       "    </tr>\n",
       "    <tr>\n",
       "      <th>1034</th>\n",
       "      <td>50.0</td>\n",
       "      <td>Reg</td>\n",
       "      <td>5</td>\n",
       "      <td>0.0</td>\n",
       "      <td>920</td>\n",
       "      <td>1938.0</td>\n",
       "    </tr>\n",
       "    <tr>\n",
       "      <th>853</th>\n",
       "      <td>NaN</td>\n",
       "      <td>IR1</td>\n",
       "      <td>6</td>\n",
       "      <td>115.0</td>\n",
       "      <td>1127</td>\n",
       "      <td>1964.0</td>\n",
       "    </tr>\n",
       "    <tr>\n",
       "      <th>472</th>\n",
       "      <td>35.0</td>\n",
       "      <td>Reg</td>\n",
       "      <td>6</td>\n",
       "      <td>80.0</td>\n",
       "      <td>547</td>\n",
       "      <td>2005.0</td>\n",
       "    </tr>\n",
       "    <tr>\n",
       "      <th>1011</th>\n",
       "      <td>75.0</td>\n",
       "      <td>Reg</td>\n",
       "      <td>5</td>\n",
       "      <td>0.0</td>\n",
       "      <td>0</td>\n",
       "      <td>NaN</td>\n",
       "    </tr>\n",
       "  </tbody>\n",
       "</table>\n",
       "</div>"
      ],
      "text/plain": [
       "      LotFrontage LotShape  OverallQual  MasVnrArea  TotalBsmtSF  GarageYrBlt\n",
       "64            NaN      Reg            7       573.0         1057       1998.0\n",
       "682           NaN      Reg            6         0.0         1291       1996.0\n",
       "960          50.0      IR1            5         0.0          858          NaN\n",
       "1384         60.0      Reg            6         0.0          560       1939.0\n",
       "1100         60.0      Reg            2         0.0          290       1930.0\n",
       "416          74.0      Reg            6       203.0          672       1978.0\n",
       "1034         50.0      Reg            5         0.0          920       1938.0\n",
       "853           NaN      IR1            6       115.0         1127       1964.0\n",
       "472          35.0      Reg            6        80.0          547       2005.0\n",
       "1011         75.0      Reg            5         0.0            0          NaN"
      ]
     },
     "execution_count": 10,
     "metadata": {},
     "output_type": "execute_result"
    }
   ],
   "source": [
    "X_train.head(10)"
   ]
  },
  {
   "cell_type": "code",
   "execution_count": 11,
   "metadata": {},
   "outputs": [],
   "source": [
    "# Replace missing data\n",
    "\n",
    "for i in imputation_dict.keys():\n",
    "\n",
    "    X_train[X_train[\"LotShape\"] == i] = X_train[X_train[\"LotShape\"] == i].fillna(\n",
    "        imputation_dict[i]\n",
    "    )\n",
    "    X_test[X_test[\"LotShape\"] == i] = X_test[X_test[\"LotShape\"] == i].fillna(\n",
    "        imputation_dict[i]\n",
    "    )"
   ]
  },
  {
   "cell_type": "code",
   "execution_count": 12,
   "metadata": {},
   "outputs": [
    {
     "data": {
      "text/html": [
       "<div>\n",
       "<style scoped>\n",
       "    .dataframe tbody tr th:only-of-type {\n",
       "        vertical-align: middle;\n",
       "    }\n",
       "\n",
       "    .dataframe tbody tr th {\n",
       "        vertical-align: top;\n",
       "    }\n",
       "\n",
       "    .dataframe thead th {\n",
       "        text-align: right;\n",
       "    }\n",
       "</style>\n",
       "<table border=\"1\" class=\"dataframe\">\n",
       "  <thead>\n",
       "    <tr style=\"text-align: right;\">\n",
       "      <th></th>\n",
       "      <th>LotFrontage</th>\n",
       "      <th>LotShape</th>\n",
       "      <th>OverallQual</th>\n",
       "      <th>MasVnrArea</th>\n",
       "      <th>TotalBsmtSF</th>\n",
       "      <th>GarageYrBlt</th>\n",
       "    </tr>\n",
       "  </thead>\n",
       "  <tbody>\n",
       "    <tr>\n",
       "      <th>64</th>\n",
       "      <td>67.185690</td>\n",
       "      <td>Reg</td>\n",
       "      <td>7</td>\n",
       "      <td>573.0</td>\n",
       "      <td>1057</td>\n",
       "      <td>1998.000000</td>\n",
       "    </tr>\n",
       "    <tr>\n",
       "      <th>682</th>\n",
       "      <td>67.185690</td>\n",
       "      <td>Reg</td>\n",
       "      <td>6</td>\n",
       "      <td>0.0</td>\n",
       "      <td>1291</td>\n",
       "      <td>1996.000000</td>\n",
       "    </tr>\n",
       "    <tr>\n",
       "      <th>960</th>\n",
       "      <td>50.000000</td>\n",
       "      <td>IR1</td>\n",
       "      <td>5</td>\n",
       "      <td>0.0</td>\n",
       "      <td>858</td>\n",
       "      <td>1984.081325</td>\n",
       "    </tr>\n",
       "    <tr>\n",
       "      <th>1384</th>\n",
       "      <td>60.000000</td>\n",
       "      <td>Reg</td>\n",
       "      <td>6</td>\n",
       "      <td>0.0</td>\n",
       "      <td>560</td>\n",
       "      <td>1939.000000</td>\n",
       "    </tr>\n",
       "    <tr>\n",
       "      <th>1100</th>\n",
       "      <td>60.000000</td>\n",
       "      <td>Reg</td>\n",
       "      <td>2</td>\n",
       "      <td>0.0</td>\n",
       "      <td>290</td>\n",
       "      <td>1930.000000</td>\n",
       "    </tr>\n",
       "    <tr>\n",
       "      <th>416</th>\n",
       "      <td>74.000000</td>\n",
       "      <td>Reg</td>\n",
       "      <td>6</td>\n",
       "      <td>203.0</td>\n",
       "      <td>672</td>\n",
       "      <td>1978.000000</td>\n",
       "    </tr>\n",
       "    <tr>\n",
       "      <th>1034</th>\n",
       "      <td>50.000000</td>\n",
       "      <td>Reg</td>\n",
       "      <td>5</td>\n",
       "      <td>0.0</td>\n",
       "      <td>920</td>\n",
       "      <td>1938.000000</td>\n",
       "    </tr>\n",
       "    <tr>\n",
       "      <th>853</th>\n",
       "      <td>74.158371</td>\n",
       "      <td>IR1</td>\n",
       "      <td>6</td>\n",
       "      <td>115.0</td>\n",
       "      <td>1127</td>\n",
       "      <td>1964.000000</td>\n",
       "    </tr>\n",
       "    <tr>\n",
       "      <th>472</th>\n",
       "      <td>35.000000</td>\n",
       "      <td>Reg</td>\n",
       "      <td>6</td>\n",
       "      <td>80.0</td>\n",
       "      <td>547</td>\n",
       "      <td>2005.000000</td>\n",
       "    </tr>\n",
       "    <tr>\n",
       "      <th>1011</th>\n",
       "      <td>75.000000</td>\n",
       "      <td>Reg</td>\n",
       "      <td>5</td>\n",
       "      <td>0.0</td>\n",
       "      <td>0</td>\n",
       "      <td>1974.126456</td>\n",
       "    </tr>\n",
       "  </tbody>\n",
       "</table>\n",
       "</div>"
      ],
      "text/plain": [
       "      LotFrontage LotShape  OverallQual  MasVnrArea  TotalBsmtSF  GarageYrBlt\n",
       "64      67.185690      Reg            7       573.0         1057  1998.000000\n",
       "682     67.185690      Reg            6         0.0         1291  1996.000000\n",
       "960     50.000000      IR1            5         0.0          858  1984.081325\n",
       "1384    60.000000      Reg            6         0.0          560  1939.000000\n",
       "1100    60.000000      Reg            2         0.0          290  1930.000000\n",
       "416     74.000000      Reg            6       203.0          672  1978.000000\n",
       "1034    50.000000      Reg            5         0.0          920  1938.000000\n",
       "853     74.158371      IR1            6       115.0         1127  1964.000000\n",
       "472     35.000000      Reg            6        80.0          547  2005.000000\n",
       "1011    75.000000      Reg            5         0.0            0  1974.126456"
      ]
     },
     "execution_count": 12,
     "metadata": {},
     "output_type": "execute_result"
    }
   ],
   "source": [
    "# Corroborate replacement\n",
    "\n",
    "X_train.head(10)"
   ]
  },
  {
   "cell_type": "code",
   "execution_count": 13,
   "metadata": {},
   "outputs": [
    {
     "data": {
      "text/plain": [
       "LotFrontage    0\n",
       "LotShape       0\n",
       "OverallQual    0\n",
       "MasVnrArea     0\n",
       "TotalBsmtSF    0\n",
       "GarageYrBlt    0\n",
       "dtype: int64"
      ]
     },
     "execution_count": 13,
     "metadata": {},
     "output_type": "execute_result"
    }
   ],
   "source": [
    "# Corroborate replacement\n",
    "\n",
    "X_test.isnull().sum()"
   ]
  },
  {
   "cell_type": "code",
   "execution_count": null,
   "metadata": {},
   "outputs": [],
   "source": []
  }
 ],
 "metadata": {
  "kernelspec": {
   "display_name": "fsml",
   "language": "python",
   "name": "fsml"
  },
  "language_info": {
   "codemirror_mode": {
    "name": "ipython",
    "version": 3
   },
   "file_extension": ".py",
   "mimetype": "text/x-python",
   "name": "python",
   "nbconvert_exporter": "python",
   "pygments_lexer": "ipython3",
   "version": "3.10.5"
  },
  "toc": {
   "base_numbering": 1,
   "nav_menu": {},
   "number_sections": true,
   "sideBar": true,
   "skip_h1_title": false,
   "title_cell": "Table of Contents",
   "title_sidebar": "Contents",
   "toc_cell": false,
   "toc_position": {
    "height": "556px",
    "left": "0px",
    "right": "1156.4px",
    "top": "107px",
    "width": "241.4px"
   },
   "toc_section_display": "block",
   "toc_window_display": true
  }
 },
 "nbformat": 4,
 "nbformat_minor": 2
}

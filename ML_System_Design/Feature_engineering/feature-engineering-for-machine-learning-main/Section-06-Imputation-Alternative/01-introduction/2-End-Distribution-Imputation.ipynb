{
 "cells": [
  {
   "cell_type": "markdown",
   "metadata": {},
   "source": [
    "## End of distribution imputation\n",
    "\n",
    "In the section on **Basic imputation methods**, we replaced missing data with an arbitrary value. However, choosing the value arbitrarily can be laborious and it is usually a manual job. By selecting arbitrary values at the end of the variable distribution, we can automate this procedure. \n",
    "\n",
    "#### How do we select the value at the end?\n",
    "\n",
    "- If the variable is normally distributed, we can use the mean plus or minus 3 times the standard deviation\n",
    "\n",
    "- If the variable is skewed, we can use the IQR proximity rule\n",
    "\n",
    "\n",
    "We learned these techniques in section 3, in the lecture on \"Outliers\".\n",
    "\n",
    "- We can also select the min/max value and multiply it by a factor, like 2 or 3.\n",
    "\n",
    "### Which variables can I impute with an arbitrary value?\n",
    "\n",
    "This method is suitable for numerical variables.\n",
    "\n",
    "### Assumptions\n",
    "\n",
    "- Data is not missing at random\n",
    "\n",
    "If the value is not missing at random, we don't want to replace it with the mean or median and therefore make that observation look like the majority of the observations. Instead, we want to flag that observation, and therefore we assign a value at the tail of the distribution, which is not a common occurrence.\n",
    "\n",
    "### Advantages\n",
    "\n",
    "- Fast way of obtaining complete datasets\n",
    "\n",
    "- Automates arbitrary value imputation\n",
    "\n",
    "- Highlights missing data\n",
    "\n",
    "### Disadvantages\n",
    "\n",
    "- Distortion of the original variable distribution\n",
    "\n",
    "    - Distortion of the original variance\n",
    "\n",
    "- Distortion of the covariance with the remaining variables in the dataset\n",
    "\n",
    "- This technique may mask true outliers in the distribution\n",
    "\n",
    "### Final note\n",
    "\n",
    "I haven't seen this method used in data competitions. However, this method is used in financial companies. When capturing the financial history of customers, the missing data is replaced by a value at the end of the distribution to highlight that the values are missing.\n",
    "\n",
    "See my [talk at PyData London in 2017](https://www.youtube.com/watch?v=KHGGlozsRtA) as an illustration of feature engineering in finance.\n",
    "\n",
    "## In this demo:\n",
    "\n",
    "We will learn how to perform arbitrary value imputation using pandas on the Ames House Price and Titanic datasets.\n",
    "\n",
    "- To download the datasets, please refer to the lecture **Datasets** in **Section 2** of this course.\n",
    "\n",
    "## Titanic data"
   ]
  },
  {
   "cell_type": "code",
   "execution_count": 1,
   "metadata": {},
   "outputs": [],
   "source": [
    "import pandas as pd\n",
    "import matplotlib.pyplot as plt\n",
    "\n",
    "# to split the datasets\n",
    "from sklearn.model_selection import train_test_split"
   ]
  },
  {
   "cell_type": "code",
   "execution_count": 2,
   "metadata": {},
   "outputs": [
    {
     "data": {
      "text/html": [
       "<div>\n",
       "<style scoped>\n",
       "    .dataframe tbody tr th:only-of-type {\n",
       "        vertical-align: middle;\n",
       "    }\n",
       "\n",
       "    .dataframe tbody tr th {\n",
       "        vertical-align: top;\n",
       "    }\n",
       "\n",
       "    .dataframe thead th {\n",
       "        text-align: right;\n",
       "    }\n",
       "</style>\n",
       "<table border=\"1\" class=\"dataframe\">\n",
       "  <thead>\n",
       "    <tr style=\"text-align: right;\">\n",
       "      <th></th>\n",
       "      <th>survived</th>\n",
       "      <th>age</th>\n",
       "      <th>fare</th>\n",
       "    </tr>\n",
       "  </thead>\n",
       "  <tbody>\n",
       "    <tr>\n",
       "      <th>0</th>\n",
       "      <td>1</td>\n",
       "      <td>29.0000</td>\n",
       "      <td>211.3375</td>\n",
       "    </tr>\n",
       "    <tr>\n",
       "      <th>1</th>\n",
       "      <td>1</td>\n",
       "      <td>0.9167</td>\n",
       "      <td>151.5500</td>\n",
       "    </tr>\n",
       "    <tr>\n",
       "      <th>2</th>\n",
       "      <td>0</td>\n",
       "      <td>2.0000</td>\n",
       "      <td>151.5500</td>\n",
       "    </tr>\n",
       "    <tr>\n",
       "      <th>3</th>\n",
       "      <td>0</td>\n",
       "      <td>30.0000</td>\n",
       "      <td>151.5500</td>\n",
       "    </tr>\n",
       "    <tr>\n",
       "      <th>4</th>\n",
       "      <td>0</td>\n",
       "      <td>25.0000</td>\n",
       "      <td>151.5500</td>\n",
       "    </tr>\n",
       "  </tbody>\n",
       "</table>\n",
       "</div>"
      ],
      "text/plain": [
       "   survived      age      fare\n",
       "0         1  29.0000  211.3375\n",
       "1         1   0.9167  151.5500\n",
       "2         0   2.0000  151.5500\n",
       "3         0  30.0000  151.5500\n",
       "4         0  25.0000  151.5500"
      ]
     },
     "execution_count": 2,
     "metadata": {},
     "output_type": "execute_result"
    }
   ],
   "source": [
    "# load the Titanic dataset with a few variables for demonstration\n",
    "\n",
    "data = pd.read_csv(\"../../titanic.csv\", usecols=[\"age\", \"fare\", \"survived\"])\n",
    "data.head()"
   ]
  },
  {
   "cell_type": "code",
   "execution_count": 3,
   "metadata": {},
   "outputs": [
    {
     "data": {
      "text/plain": [
       "survived    0.000000\n",
       "age         0.200917\n",
       "fare        0.000764\n",
       "dtype: float64"
      ]
     },
     "execution_count": 3,
     "metadata": {},
     "output_type": "execute_result"
    }
   ],
   "source": [
    "# let's look at the percentage of NA\n",
    "\n",
    "data.isnull().mean()"
   ]
  },
  {
   "cell_type": "markdown",
   "metadata": {},
   "source": [
    "### Imputation important\n",
    "\n",
    "Imputation has to be done over the training set, and then propagated to the test set. For this imputation technique, this means that when selecting the value with which we will replace the NA, we need to do so only by looking at the distribution of the variables in the training set. Then we use the selected value to replace NA both in the train and test set."
   ]
  },
  {
   "cell_type": "code",
   "execution_count": 4,
   "metadata": {},
   "outputs": [
    {
     "data": {
      "text/plain": [
       "((916, 2), (393, 2))"
      ]
     },
     "execution_count": 4,
     "metadata": {},
     "output_type": "execute_result"
    }
   ],
   "source": [
    "# let's separate into training and testing set\n",
    "\n",
    "X_train, X_test, y_train, y_test = train_test_split(\n",
    "    data[[\"age\", \"fare\"]],  # predictors\n",
    "    data[\"survived\"],  # target\n",
    "    test_size=0.3,  # percentage of obs in test set\n",
    "    random_state=0,\n",
    ")  # seed to ensure reproducibility\n",
    "\n",
    "X_train.shape, X_test.shape"
   ]
  },
  {
   "cell_type": "code",
   "execution_count": 5,
   "metadata": {},
   "outputs": [
    {
     "data": {
      "text/plain": [
       "<AxesSubplot: >"
      ]
     },
     "execution_count": 5,
     "metadata": {},
     "output_type": "execute_result"
    },
    {
     "data": {
      "image/png": "[encoded data removed]",
      "text/plain": [
       "<Figure size 432x288 with 1 Axes>"
      ]
     },
     "metadata": {
      "needs_background": "light"
     },
     "output_type": "display_data"
    }
   ],
   "source": [
    "# let's have a look at the distribution of Ages\n",
    "X_train.age.hist(bins=50)"
   ]
  },
  {
   "cell_type": "code",
   "execution_count": 6,
   "metadata": {},
   "outputs": [
    {
     "data": {
      "text/plain": [
       "72.03416424092518"
      ]
     },
     "execution_count": 6,
     "metadata": {},
     "output_type": "execute_result"
    }
   ],
   "source": [
    "# far end of the distribution:\n",
    "\n",
    "# Because Age looks approximately Gaussian, I use the\n",
    "# mean and std to calculate the replacement value\n",
    "\n",
    "X_train.age.mean() + 3 * X_train.age.std()"
   ]
  },
  {
   "cell_type": "code",
   "execution_count": 7,
   "metadata": {},
   "outputs": [
    {
     "data": {
      "text/html": [
       "<div>\n",
       "<style scoped>\n",
       "    .dataframe tbody tr th:only-of-type {\n",
       "        vertical-align: middle;\n",
       "    }\n",
       "\n",
       "    .dataframe tbody tr th {\n",
       "        vertical-align: top;\n",
       "    }\n",
       "\n",
       "    .dataframe thead th {\n",
       "        text-align: right;\n",
       "    }\n",
       "</style>\n",
       "<table border=\"1\" class=\"dataframe\">\n",
       "  <thead>\n",
       "    <tr style=\"text-align: right;\">\n",
       "      <th></th>\n",
       "      <th>age</th>\n",
       "      <th>fare</th>\n",
       "      <th>Age_imputed</th>\n",
       "    </tr>\n",
       "  </thead>\n",
       "  <tbody>\n",
       "    <tr>\n",
       "      <th>501</th>\n",
       "      <td>13.0</td>\n",
       "      <td>19.5000</td>\n",
       "      <td>13.000000</td>\n",
       "    </tr>\n",
       "    <tr>\n",
       "      <th>588</th>\n",
       "      <td>4.0</td>\n",
       "      <td>23.0000</td>\n",
       "      <td>4.000000</td>\n",
       "    </tr>\n",
       "    <tr>\n",
       "      <th>402</th>\n",
       "      <td>30.0</td>\n",
       "      <td>13.8583</td>\n",
       "      <td>30.000000</td>\n",
       "    </tr>\n",
       "    <tr>\n",
       "      <th>1193</th>\n",
       "      <td>NaN</td>\n",
       "      <td>7.7250</td>\n",
       "      <td>72.034164</td>\n",
       "    </tr>\n",
       "    <tr>\n",
       "      <th>686</th>\n",
       "      <td>22.0</td>\n",
       "      <td>7.7250</td>\n",
       "      <td>22.000000</td>\n",
       "    </tr>\n",
       "    <tr>\n",
       "      <th>971</th>\n",
       "      <td>NaN</td>\n",
       "      <td>7.8792</td>\n",
       "      <td>72.034164</td>\n",
       "    </tr>\n",
       "    <tr>\n",
       "      <th>117</th>\n",
       "      <td>30.0</td>\n",
       "      <td>56.9292</td>\n",
       "      <td>30.000000</td>\n",
       "    </tr>\n",
       "    <tr>\n",
       "      <th>540</th>\n",
       "      <td>2.0</td>\n",
       "      <td>26.0000</td>\n",
       "      <td>2.000000</td>\n",
       "    </tr>\n",
       "    <tr>\n",
       "      <th>294</th>\n",
       "      <td>49.0</td>\n",
       "      <td>110.8833</td>\n",
       "      <td>49.000000</td>\n",
       "    </tr>\n",
       "    <tr>\n",
       "      <th>261</th>\n",
       "      <td>35.0</td>\n",
       "      <td>26.2875</td>\n",
       "      <td>35.000000</td>\n",
       "    </tr>\n",
       "    <tr>\n",
       "      <th>587</th>\n",
       "      <td>2.0</td>\n",
       "      <td>23.0000</td>\n",
       "      <td>2.000000</td>\n",
       "    </tr>\n",
       "    <tr>\n",
       "      <th>489</th>\n",
       "      <td>42.0</td>\n",
       "      <td>26.0000</td>\n",
       "      <td>42.000000</td>\n",
       "    </tr>\n",
       "    <tr>\n",
       "      <th>2</th>\n",
       "      <td>2.0</td>\n",
       "      <td>151.5500</td>\n",
       "      <td>2.000000</td>\n",
       "    </tr>\n",
       "    <tr>\n",
       "      <th>405</th>\n",
       "      <td>18.0</td>\n",
       "      <td>13.0000</td>\n",
       "      <td>18.000000</td>\n",
       "    </tr>\n",
       "    <tr>\n",
       "      <th>1284</th>\n",
       "      <td>NaN</td>\n",
       "      <td>8.0500</td>\n",
       "      <td>72.034164</td>\n",
       "    </tr>\n",
       "  </tbody>\n",
       "</table>\n",
       "</div>"
      ],
      "text/plain": [
       "       age      fare  Age_imputed\n",
       "501   13.0   19.5000    13.000000\n",
       "588    4.0   23.0000     4.000000\n",
       "402   30.0   13.8583    30.000000\n",
       "1193   NaN    7.7250    72.034164\n",
       "686   22.0    7.7250    22.000000\n",
       "971    NaN    7.8792    72.034164\n",
       "117   30.0   56.9292    30.000000\n",
       "540    2.0   26.0000     2.000000\n",
       "294   49.0  110.8833    49.000000\n",
       "261   35.0   26.2875    35.000000\n",
       "587    2.0   23.0000     2.000000\n",
       "489   42.0   26.0000    42.000000\n",
       "2      2.0  151.5500     2.000000\n",
       "405   18.0   13.0000    18.000000\n",
       "1284   NaN    8.0500    72.034164"
      ]
     },
     "execution_count": 7,
     "metadata": {},
     "output_type": "execute_result"
    }
   ],
   "source": [
    "# replace NA with the value calculated above\n",
    "\n",
    "X_train[\"Age_imputed\"] = X_train[\"age\"].fillna(\n",
    "    X_train.age.mean() + 3 * X_train.age.std()\n",
    ")\n",
    "\n",
    "X_train.head(15)"
   ]
  },
  {
   "cell_type": "markdown",
   "metadata": {},
   "source": [
    "Look at the rows with missing data (NaN) in Age, and see how in the new variable they were replaced by 72.034."
   ]
  },
  {
   "cell_type": "code",
   "execution_count": 8,
   "metadata": {},
   "outputs": [
    {
     "name": "stdout",
     "output_type": "stream",
     "text": [
      "Original variable variance:  194.16304666581863\n",
      "Variance after 99 imputation:  427.39198372523526\n"
     ]
    }
   ],
   "source": [
    "# we can see a change in the variance after end of tail imputation\n",
    "# this is expected, because the percentage of missing data is quite\n",
    "# high in Age ~20%\n",
    "\n",
    "print(\"Original variable variance: \", X_train[\"age\"].var())\n",
    "print(\"Variance after 99 imputation: \", X_train[\"Age_imputed\"].var())"
   ]
  },
  {
   "cell_type": "code",
   "execution_count": 9,
   "metadata": {},
   "outputs": [
    {
     "data": {
      "text/plain": [
       "<matplotlib.legend.Legend at 0x26b0c69b7c0>"
      ]
     },
     "execution_count": 9,
     "metadata": {},
     "output_type": "execute_result"
    },
    {
     "data": {
      "image/png": "[encoded data removed]",
      "text/plain": [
       "<Figure size 432x288 with 1 Axes>"
      ]
     },
     "metadata": {
      "needs_background": "light"
     },
     "output_type": "display_data"
    }
   ],
   "source": [
    "# we can see that the distribution has changed\n",
    "# with now more values accumulating towards the tail\n",
    "\n",
    "fig = plt.figure()\n",
    "ax = fig.add_subplot(111)\n",
    "\n",
    "# original variable distribution\n",
    "X_train[\"age\"].plot(kind=\"kde\", ax=ax)\n",
    "\n",
    "# imputed variable\n",
    "X_train[\"Age_imputed\"].plot(kind=\"kde\", ax=ax, color=\"red\")\n",
    "\n",
    "# add legends\n",
    "lines, labels = ax.get_legend_handles_labels()\n",
    "ax.legend(lines, labels, loc=\"best\")"
   ]
  },
  {
   "cell_type": "markdown",
   "metadata": {},
   "source": [
    "End-of-tail imputation, like arbitrary value imputation, distorts the original distribution of the variable Age.The transformed variable shows more values around the selected tail value.\n",
    "\n",
    "**Is this important?**\n",
    "\n",
    "It depends on the machine learning model you want to build. Linear models assume that the variables are normally distributed. End of tail imputation may distort the original normal distribution if the percentage of missing data is high. Therefore, the final imputed variable will no longer be normally distributed, which in turn may affect the linear model performance.\n",
    "\n",
    "On the other hand, this technique works quite well with tree-based algorithms."
   ]
  },
  {
   "cell_type": "code",
   "execution_count": 10,
   "metadata": {},
   "outputs": [
    {
     "data": {
      "text/html": [
       "<div>\n",
       "<style scoped>\n",
       "    .dataframe tbody tr th:only-of-type {\n",
       "        vertical-align: middle;\n",
       "    }\n",
       "\n",
       "    .dataframe tbody tr th {\n",
       "        vertical-align: top;\n",
       "    }\n",
       "\n",
       "    .dataframe thead th {\n",
       "        text-align: right;\n",
       "    }\n",
       "</style>\n",
       "<table border=\"1\" class=\"dataframe\">\n",
       "  <thead>\n",
       "    <tr style=\"text-align: right;\">\n",
       "      <th></th>\n",
       "      <th>fare</th>\n",
       "      <th>age</th>\n",
       "      <th>Age_imputed</th>\n",
       "    </tr>\n",
       "  </thead>\n",
       "  <tbody>\n",
       "    <tr>\n",
       "      <th>fare</th>\n",
       "      <td>2248.326729</td>\n",
       "      <td>136.176223</td>\n",
       "      <td>19.647139</td>\n",
       "    </tr>\n",
       "    <tr>\n",
       "      <th>age</th>\n",
       "      <td>136.176223</td>\n",
       "      <td>194.163047</td>\n",
       "      <td>194.163047</td>\n",
       "    </tr>\n",
       "    <tr>\n",
       "      <th>Age_imputed</th>\n",
       "      <td>19.647139</td>\n",
       "      <td>194.163047</td>\n",
       "      <td>427.391984</td>\n",
       "    </tr>\n",
       "  </tbody>\n",
       "</table>\n",
       "</div>"
      ],
      "text/plain": [
       "                    fare         age  Age_imputed\n",
       "fare         2248.326729  136.176223    19.647139\n",
       "age           136.176223  194.163047   194.163047\n",
       "Age_imputed    19.647139  194.163047   427.391984"
      ]
     },
     "execution_count": 10,
     "metadata": {},
     "output_type": "execute_result"
    }
   ],
   "source": [
    "# we also said end of tail imputation may affect the relationship\n",
    "# with the other variables in the dataset, let's have a look\n",
    "\n",
    "X_train[[\"fare\", \"age\", \"Age_imputed\"]].cov()"
   ]
  },
  {
   "cell_type": "markdown",
   "metadata": {},
   "source": [
    "We see indeed that the covariance between Age and Fare is changed after the arbitrary value imputation."
   ]
  },
  {
   "cell_type": "code",
   "execution_count": 11,
   "metadata": {},
   "outputs": [
    {
     "data": {
      "text/plain": [
       "<AxesSubplot: >"
      ]
     },
     "execution_count": 11,
     "metadata": {},
     "output_type": "execute_result"
    },
    {
     "data": {
      "image/png": "[encoded data removed]",
      "text/plain": [
       "<Figure size 432x288 with 1 Axes>"
      ]
     },
     "metadata": {
      "needs_background": "light"
     },
     "output_type": "display_data"
    }
   ],
   "source": [
    "# Finally, I mentioned that end tail imputation may\n",
    "# affect the perception of outliers\n",
    "\n",
    "# Let's find out using a boxplot\n",
    "X_train[[\"age\", \"Age_imputed\"]].boxplot()"
   ]
  },
  {
   "cell_type": "markdown",
   "metadata": {},
   "source": [
    "Masks the outliers!!"
   ]
  },
  {
   "cell_type": "markdown",
   "metadata": {},
   "source": [
    "## House Prices Dataset\n",
    "\n",
    "Let's repeat the exercise in the House Prices dataset. In this dataset, there are variables with a lot or few missing data. Therefore we can compare the effect of end tail imputation in both scenarios."
   ]
  },
  {
   "cell_type": "code",
   "execution_count": 12,
   "metadata": {},
   "outputs": [],
   "source": [
    "# we are going to use only the following variables,\n",
    "# 3 of which contain NA\n",
    "\n",
    "cols_to_use = [\n",
    "    \"OverallQual\",\n",
    "    \"TotalBsmtSF\",\n",
    "    \"1stFlrSF\",\n",
    "    \"GrLivArea\",\n",
    "    \"WoodDeckSF\",\n",
    "    \"BsmtUnfSF\",\n",
    "    \"LotFrontage\",\n",
    "    \"MasVnrArea\",\n",
    "    \"GarageYrBlt\",\n",
    "    \"SalePrice\",\n",
    "]"
   ]
  },
  {
   "cell_type": "code",
   "execution_count": 13,
   "metadata": {},
   "outputs": [
    {
     "name": "stdout",
     "output_type": "stream",
     "text": [
      "(1460, 10)\n"
     ]
    },
    {
     "data": {
      "text/html": [
       "<div>\n",
       "<style scoped>\n",
       "    .dataframe tbody tr th:only-of-type {\n",
       "        vertical-align: middle;\n",
       "    }\n",
       "\n",
       "    .dataframe tbody tr th {\n",
       "        vertical-align: top;\n",
       "    }\n",
       "\n",
       "    .dataframe thead th {\n",
       "        text-align: right;\n",
       "    }\n",
       "</style>\n",
       "<table border=\"1\" class=\"dataframe\">\n",
       "  <thead>\n",
       "    <tr style=\"text-align: right;\">\n",
       "      <th></th>\n",
       "      <th>LotFrontage</th>\n",
       "      <th>OverallQual</th>\n",
       "      <th>MasVnrArea</th>\n",
       "      <th>BsmtUnfSF</th>\n",
       "      <th>TotalBsmtSF</th>\n",
       "      <th>1stFlrSF</th>\n",
       "      <th>GrLivArea</th>\n",
       "      <th>GarageYrBlt</th>\n",
       "      <th>WoodDeckSF</th>\n",
       "      <th>SalePrice</th>\n",
       "    </tr>\n",
       "  </thead>\n",
       "  <tbody>\n",
       "    <tr>\n",
       "      <th>0</th>\n",
       "      <td>65.0</td>\n",
       "      <td>7</td>\n",
       "      <td>196.0</td>\n",
       "      <td>150</td>\n",
       "      <td>856</td>\n",
       "      <td>856</td>\n",
       "      <td>1710</td>\n",
       "      <td>2003.0</td>\n",
       "      <td>0</td>\n",
       "      <td>208500</td>\n",
       "    </tr>\n",
       "    <tr>\n",
       "      <th>1</th>\n",
       "      <td>80.0</td>\n",
       "      <td>6</td>\n",
       "      <td>0.0</td>\n",
       "      <td>284</td>\n",
       "      <td>1262</td>\n",
       "      <td>1262</td>\n",
       "      <td>1262</td>\n",
       "      <td>1976.0</td>\n",
       "      <td>298</td>\n",
       "      <td>181500</td>\n",
       "    </tr>\n",
       "    <tr>\n",
       "      <th>2</th>\n",
       "      <td>68.0</td>\n",
       "      <td>7</td>\n",
       "      <td>162.0</td>\n",
       "      <td>434</td>\n",
       "      <td>920</td>\n",
       "      <td>920</td>\n",
       "      <td>1786</td>\n",
       "      <td>2001.0</td>\n",
       "      <td>0</td>\n",
       "      <td>223500</td>\n",
       "    </tr>\n",
       "    <tr>\n",
       "      <th>3</th>\n",
       "      <td>60.0</td>\n",
       "      <td>7</td>\n",
       "      <td>0.0</td>\n",
       "      <td>540</td>\n",
       "      <td>756</td>\n",
       "      <td>961</td>\n",
       "      <td>1717</td>\n",
       "      <td>1998.0</td>\n",
       "      <td>0</td>\n",
       "      <td>140000</td>\n",
       "    </tr>\n",
       "    <tr>\n",
       "      <th>4</th>\n",
       "      <td>84.0</td>\n",
       "      <td>8</td>\n",
       "      <td>350.0</td>\n",
       "      <td>490</td>\n",
       "      <td>1145</td>\n",
       "      <td>1145</td>\n",
       "      <td>2198</td>\n",
       "      <td>2000.0</td>\n",
       "      <td>192</td>\n",
       "      <td>250000</td>\n",
       "    </tr>\n",
       "  </tbody>\n",
       "</table>\n",
       "</div>"
      ],
      "text/plain": [
       "   LotFrontage  OverallQual  MasVnrArea  BsmtUnfSF  TotalBsmtSF  1stFlrSF  \\\n",
       "0         65.0            7       196.0        150          856       856   \n",
       "1         80.0            6         0.0        284         1262      1262   \n",
       "2         68.0            7       162.0        434          920       920   \n",
       "3         60.0            7         0.0        540          756       961   \n",
       "4         84.0            8       350.0        490         1145      1145   \n",
       "\n",
       "   GrLivArea  GarageYrBlt  WoodDeckSF  SalePrice  \n",
       "0       1710       2003.0           0     208500  \n",
       "1       1262       1976.0         298     181500  \n",
       "2       1786       2001.0           0     223500  \n",
       "3       1717       1998.0           0     140000  \n",
       "4       2198       2000.0         192     250000  "
      ]
     },
     "execution_count": 13,
     "metadata": {},
     "output_type": "execute_result"
    }
   ],
   "source": [
    "# let's load the House Prices dataset\n",
    "\n",
    "data = pd.read_csv(\"../../houseprice.csv\", usecols=cols_to_use)\n",
    "print(data.shape)\n",
    "data.head()"
   ]
  },
  {
   "cell_type": "code",
   "execution_count": 14,
   "metadata": {},
   "outputs": [
    {
     "data": {
      "text/plain": [
       "['LotFrontage', 'MasVnrArea', 'GarageYrBlt']"
      ]
     },
     "execution_count": 14,
     "metadata": {},
     "output_type": "execute_result"
    }
   ],
   "source": [
    "# in the next list comprehension, I loop over all the columns\n",
    "# of the dataset and select those that contain missing data\n",
    "\n",
    "[var for var in data.columns if data[var].isnull().sum() > 0]"
   ]
  },
  {
   "cell_type": "code",
   "execution_count": 15,
   "metadata": {},
   "outputs": [
    {
     "data": {
      "text/plain": [
       "LotFrontage    0.177397\n",
       "MasVnrArea     0.005479\n",
       "GarageYrBlt    0.055479\n",
       "dtype: float64"
      ]
     },
     "execution_count": 15,
     "metadata": {},
     "output_type": "execute_result"
    }
   ],
   "source": [
    "# find the percentage of missing data within those variables\n",
    "# same code as we learnt in section 3 on variable characteristics\n",
    "\n",
    "data[[\"LotFrontage\", \"MasVnrArea\", \"GarageYrBlt\"]].isnull().mean()"
   ]
  },
  {
   "cell_type": "code",
   "execution_count": 16,
   "metadata": {
    "scrolled": false
   },
   "outputs": [
    {
     "data": {
      "text/plain": [
       "((1022, 10), (438, 10))"
      ]
     },
     "execution_count": 16,
     "metadata": {},
     "output_type": "execute_result"
    }
   ],
   "source": [
    "# let's separate into training and testing set\n",
    "\n",
    "X_train, X_test, y_train, y_test = train_test_split(\n",
    "    data,\n",
    "    data[\"SalePrice\"],\n",
    "    test_size=0.3,\n",
    "    random_state=0,\n",
    ")\n",
    "\n",
    "X_train.shape, X_test.shape"
   ]
  },
  {
   "cell_type": "code",
   "execution_count": 17,
   "metadata": {},
   "outputs": [
    {
     "data": {
      "image/png": "[encoded data removed]",
      "text/plain": [
       "<Figure size 720x720 with 4 Axes>"
      ]
     },
     "metadata": {
      "needs_background": "light"
     },
     "output_type": "display_data"
    }
   ],
   "source": [
    "# let's plot the distributions of the variables\n",
    "# we learnt this code in section 3 on variable characteristics\n",
    "\n",
    "X_train[[\"LotFrontage\", \"MasVnrArea\", \"GarageYrBlt\"]].hist(bins=50, figsize=(10, 10))\n",
    "plt.show()"
   ]
  },
  {
   "cell_type": "code",
   "execution_count": 18,
   "metadata": {},
   "outputs": [
    {
     "data": {
      "text/plain": [
       "146.0"
      ]
     },
     "execution_count": 18,
     "metadata": {},
     "output_type": "execute_result"
    }
   ],
   "source": [
    "# the variables are not normally distributed\n",
    "\n",
    "# let's impute the NA using the IQR proximity rule, which we learnt\n",
    "# in the lecture on outliers in section 3\n",
    "\n",
    "# calulate the IQR\n",
    "IQR = X_train[\"LotFrontage\"].quantile(0.75) - X_train[\"LotFrontage\"].quantile(0.25)\n",
    "\n",
    "# calculate the upper boundary\n",
    "extreme_value = X_train[\"LotFrontage\"].quantile(0.75) + 3 * IQR\n",
    "\n",
    "extreme_value"
   ]
  },
  {
   "cell_type": "code",
   "execution_count": 19,
   "metadata": {},
   "outputs": [],
   "source": [
    "# let's impute the NA with the extreme value\n",
    "\n",
    "X_train[\"LotFrontage_imputed\"] = X_train[\"LotFrontage\"].fillna(extreme_value)\n",
    "X_test[\"LotFrontage_imputed\"] = X_test[\"LotFrontage\"].fillna(extreme_value)"
   ]
  },
  {
   "cell_type": "code",
   "execution_count": 20,
   "metadata": {},
   "outputs": [
    {
     "data": {
      "text/plain": [
       "680.0"
      ]
     },
     "execution_count": 20,
     "metadata": {},
     "output_type": "execute_result"
    }
   ],
   "source": [
    "# let's do the same for MasVnrArea\n",
    "\n",
    "# calculate the IQR\n",
    "IQR = X_train[\"MasVnrArea\"].quantile(0.75) - X_train[\"MasVnrArea\"].quantile(0.25)\n",
    "\n",
    "# calculate the upper boundary\n",
    "extreme_value = X_train[\"MasVnrArea\"].quantile(0.75) + 3 * IQR\n",
    "\n",
    "extreme_value"
   ]
  },
  {
   "cell_type": "code",
   "execution_count": 21,
   "metadata": {},
   "outputs": [],
   "source": [
    "# let's impute the NA with the extreme value\n",
    "\n",
    "X_train[\"MasVnrArea_imputed\"] = X_train[\"MasVnrArea\"].fillna(extreme_value)\n",
    "X_test[\"MasVnrArea_imputed\"] = X_test[\"MasVnrArea\"].fillna(extreme_value)"
   ]
  },
  {
   "cell_type": "code",
   "execution_count": 22,
   "metadata": {},
   "outputs": [
    {
     "data": {
      "text/plain": [
       "<matplotlib.legend.Legend at 0x26b0eb244f0>"
      ]
     },
     "execution_count": 22,
     "metadata": {},
     "output_type": "execute_result"
    },
    {
     "data": {
      "image/png": "[encoded data removed]",
      "text/plain": [
       "<Figure size 432x288 with 1 Axes>"
      ]
     },
     "metadata": {
      "needs_background": "light"
     },
     "output_type": "display_data"
    }
   ],
   "source": [
    "# let's evaluate the effect of end tail imputation on the distribution\n",
    "\n",
    "# we can see that the distribution has changed for LotFrontAge\n",
    "# with now more values accumulating towards the extreme value\n",
    "\n",
    "fig = plt.figure()\n",
    "ax = fig.add_subplot(111)\n",
    "\n",
    "# original variable distribution\n",
    "X_train[\"LotFrontage\"].plot(kind=\"kde\", ax=ax)\n",
    "\n",
    "# imputed variable\n",
    "X_train[\"LotFrontage_imputed\"].plot(kind=\"kde\", ax=ax, color=\"red\")\n",
    "\n",
    "# add legends\n",
    "lines, labels = ax.get_legend_handles_labels()\n",
    "ax.legend(lines, labels, loc=\"best\")"
   ]
  },
  {
   "cell_type": "code",
   "execution_count": 23,
   "metadata": {},
   "outputs": [
    {
     "data": {
      "text/plain": [
       "<matplotlib.legend.Legend at 0x26b0eb9da50>"
      ]
     },
     "execution_count": 23,
     "metadata": {},
     "output_type": "execute_result"
    },
    {
     "data": {
      "image/png": "[encoded data removed]",
      "text/plain": [
       "<Figure size 432x288 with 1 Axes>"
      ]
     },
     "metadata": {
      "needs_background": "light"
     },
     "output_type": "display_data"
    }
   ],
   "source": [
    "# let's evaluate the effect of arbitrary imputation on the distribution\n",
    "\n",
    "# MasVnrArea had only few outliers, so the change in the distribution is\n",
    "# not so dramatic. Less than when using an arbitrary value of 2999 as\n",
    "# we did in the previous notebook\n",
    "\n",
    "fig = plt.figure()\n",
    "ax = fig.add_subplot(111)\n",
    "\n",
    "# original variable distribution\n",
    "X_train[\"MasVnrArea\"].plot(kind=\"kde\", ax=ax)\n",
    "\n",
    "# imputed variable\n",
    "X_train[\"MasVnrArea_imputed\"].plot(kind=\"kde\", ax=ax, color=\"red\")\n",
    "\n",
    "# add legends\n",
    "lines, labels = ax.get_legend_handles_labels()\n",
    "ax.legend(lines, labels, loc=\"best\")"
   ]
  },
  {
   "cell_type": "markdown",
   "metadata": {
    "collapsed": true
   },
   "source": [
    "From the above plots we can see that the distribution of LotFrontAge is changed quite dramatically, but not so much the distribution of MasVnrArea. This is because the % of missing values in the second variable is quite small."
   ]
  },
  {
   "cell_type": "code",
   "execution_count": 24,
   "metadata": {},
   "outputs": [
    {
     "data": {
      "text/plain": [
       "<AxesSubplot: >"
      ]
     },
     "execution_count": 24,
     "metadata": {},
     "output_type": "execute_result"
    },
    {
     "data": {
      "image/png": "[encoded data removed]",
      "text/plain": [
       "<Figure size 432x288 with 1 Axes>"
      ]
     },
     "metadata": {
      "needs_background": "light"
     },
     "output_type": "display_data"
    }
   ],
   "source": [
    "# we see that there are a fewer outliers as well after the imputation\n",
    "\n",
    "X_train[[\"LotFrontage\", \"LotFrontage_imputed\"]].boxplot()"
   ]
  },
  {
   "cell_type": "code",
   "execution_count": 25,
   "metadata": {},
   "outputs": [
    {
     "data": {
      "text/plain": [
       "<AxesSubplot: >"
      ]
     },
     "execution_count": 25,
     "metadata": {},
     "output_type": "execute_result"
    },
    {
     "data": {
      "image/png": "[encoded data removed]",
      "text/plain": [
       "<Figure size 432x288 with 1 Axes>"
      ]
     },
     "metadata": {
      "needs_background": "light"
     },
     "output_type": "display_data"
    }
   ],
   "source": [
    "# however, the outliers are not so affected for MasVnrArea\n",
    "\n",
    "X_train[[\"MasVnrArea\", \"MasVnrArea_imputed\"]].boxplot()"
   ]
  },
  {
   "cell_type": "code",
   "execution_count": 26,
   "metadata": {},
   "outputs": [
    {
     "name": "stdout",
     "output_type": "stream",
     "text": [
      "Original Variance:  532.5872021885677\n",
      "Variance after imputation:  1313.0936747097642\n"
     ]
    }
   ],
   "source": [
    "# similarly we can explore the effect of the imputation technique on\n",
    "# the variance\n",
    "\n",
    "# we can see a change in the variance after imputation for LotFrontAge\n",
    "# this is expected, because the percentage of missing data is quite\n",
    "# high ~20%\n",
    "\n",
    "print(\"Original Variance: \", X_train[\"LotFrontage\"].var())\n",
    "print(\"Variance after imputation: \", X_train[\"LotFrontage_imputed\"].var())"
   ]
  },
  {
   "cell_type": "code",
   "execution_count": 27,
   "metadata": {},
   "outputs": [
    {
     "name": "stdout",
     "output_type": "stream",
     "text": [
      "Original Variance:  32983.53871003956\n",
      "Variance after imputation:  34441.331260745486\n"
     ]
    }
   ],
   "source": [
    "# the same for MasnVnrArea is not so big\n",
    "# Note particularly, that this effect is smaller than the one we observed\n",
    "# when imputing by 2999 in the previous notebook!!!\n",
    "\n",
    "print(\"Original Variance: \", X_train[\"MasVnrArea\"].var())\n",
    "print(\"Variance after imputation: \", X_train[\"MasVnrArea_imputed\"].var())"
   ]
  },
  {
   "cell_type": "code",
   "execution_count": 28,
   "metadata": {},
   "outputs": [
    {
     "data": {
      "text/html": [
       "<div>\n",
       "<style scoped>\n",
       "    .dataframe tbody tr th:only-of-type {\n",
       "        vertical-align: middle;\n",
       "    }\n",
       "\n",
       "    .dataframe tbody tr th {\n",
       "        vertical-align: top;\n",
       "    }\n",
       "\n",
       "    .dataframe thead th {\n",
       "        text-align: right;\n",
       "    }\n",
       "</style>\n",
       "<table border=\"1\" class=\"dataframe\">\n",
       "  <thead>\n",
       "    <tr style=\"text-align: right;\">\n",
       "      <th></th>\n",
       "      <th>LotFrontage</th>\n",
       "      <th>OverallQual</th>\n",
       "      <th>MasVnrArea</th>\n",
       "      <th>BsmtUnfSF</th>\n",
       "      <th>TotalBsmtSF</th>\n",
       "      <th>1stFlrSF</th>\n",
       "      <th>GrLivArea</th>\n",
       "      <th>GarageYrBlt</th>\n",
       "      <th>WoodDeckSF</th>\n",
       "      <th>SalePrice</th>\n",
       "      <th>LotFrontage_imputed</th>\n",
       "      <th>MasVnrArea_imputed</th>\n",
       "    </tr>\n",
       "  </thead>\n",
       "  <tbody>\n",
       "    <tr>\n",
       "      <th>LotFrontage</th>\n",
       "      <td>532.587202</td>\n",
       "      <td>6.587119</td>\n",
       "      <td>6.805603e+02</td>\n",
       "      <td>9.496573e+02</td>\n",
       "      <td>2.908856e+03</td>\n",
       "      <td>3.379794e+03</td>\n",
       "      <td>3.919952e+03</td>\n",
       "      <td>30.611717</td>\n",
       "      <td>1.347414e+02</td>\n",
       "      <td>6.689645e+05</td>\n",
       "      <td>532.587202</td>\n",
       "      <td>6.934872e+02</td>\n",
       "    </tr>\n",
       "    <tr>\n",
       "      <th>OverallQual</th>\n",
       "      <td>6.587119</td>\n",
       "      <td>1.843859</td>\n",
       "      <td>1.014970e+02</td>\n",
       "      <td>1.746147e+02</td>\n",
       "      <td>2.886241e+02</td>\n",
       "      <td>2.242973e+02</td>\n",
       "      <td>4.091242e+02</td>\n",
       "      <td>17.902809</td>\n",
       "      <td>3.168557e+01</td>\n",
       "      <td>8.320132e+04</td>\n",
       "      <td>3.425501</td>\n",
       "      <td>1.035991e+02</td>\n",
       "    </tr>\n",
       "    <tr>\n",
       "      <th>MasVnrArea</th>\n",
       "      <td>680.560330</td>\n",
       "      <td>101.496976</td>\n",
       "      <td>3.298354e+04</td>\n",
       "      <td>7.540788e+03</td>\n",
       "      <td>2.478877e+04</td>\n",
       "      <td>2.086595e+04</td>\n",
       "      <td>3.520785e+04</td>\n",
       "      <td>1203.583792</td>\n",
       "      <td>3.208924e+03</td>\n",
       "      <td>6.836439e+06</td>\n",
       "      <td>639.100679</td>\n",
       "      <td>3.298354e+04</td>\n",
       "    </tr>\n",
       "    <tr>\n",
       "      <th>BsmtUnfSF</th>\n",
       "      <td>949.657293</td>\n",
       "      <td>174.614725</td>\n",
       "      <td>7.540788e+03</td>\n",
       "      <td>1.875241e+05</td>\n",
       "      <td>7.513307e+04</td>\n",
       "      <td>4.987449e+04</td>\n",
       "      <td>5.203392e+04</td>\n",
       "      <td>1823.065167</td>\n",
       "      <td>-1.833201e+03</td>\n",
       "      <td>6.833028e+06</td>\n",
       "      <td>-850.739199</td>\n",
       "      <td>7.680598e+03</td>\n",
       "    </tr>\n",
       "    <tr>\n",
       "      <th>TotalBsmtSF</th>\n",
       "      <td>2908.855504</td>\n",
       "      <td>288.624075</td>\n",
       "      <td>2.478877e+04</td>\n",
       "      <td>7.513307e+04</td>\n",
       "      <td>1.682931e+05</td>\n",
       "      <td>1.212079e+05</td>\n",
       "      <td>8.615192e+04</td>\n",
       "      <td>3173.042442</td>\n",
       "      <td>1.227966e+04</td>\n",
       "      <td>2.003928e+07</td>\n",
       "      <td>2308.792907</td>\n",
       "      <td>2.473980e+04</td>\n",
       "    </tr>\n",
       "    <tr>\n",
       "      <th>1stFlrSF</th>\n",
       "      <td>3379.793504</td>\n",
       "      <td>224.297266</td>\n",
       "      <td>2.086595e+04</td>\n",
       "      <td>4.987449e+04</td>\n",
       "      <td>1.212079e+05</td>\n",
       "      <td>1.398656e+05</td>\n",
       "      <td>1.044401e+05</td>\n",
       "      <td>2009.195552</td>\n",
       "      <td>1.109406e+04</td>\n",
       "      <td>1.783631e+07</td>\n",
       "      <td>3142.724647</td>\n",
       "      <td>2.055453e+04</td>\n",
       "    </tr>\n",
       "    <tr>\n",
       "      <th>GrLivArea</th>\n",
       "      <td>3919.951834</td>\n",
       "      <td>409.124216</td>\n",
       "      <td>3.520785e+04</td>\n",
       "      <td>5.203392e+04</td>\n",
       "      <td>8.615192e+04</td>\n",
       "      <td>1.044401e+05</td>\n",
       "      <td>2.681277e+05</td>\n",
       "      <td>2738.982988</td>\n",
       "      <td>1.558395e+04</td>\n",
       "      <td>2.934477e+07</td>\n",
       "      <td>3723.250100</td>\n",
       "      <td>3.541558e+04</td>\n",
       "    </tr>\n",
       "    <tr>\n",
       "      <th>GarageYrBlt</th>\n",
       "      <td>30.611717</td>\n",
       "      <td>17.902809</td>\n",
       "      <td>1.203584e+03</td>\n",
       "      <td>1.823065e+03</td>\n",
       "      <td>3.173042e+03</td>\n",
       "      <td>2.009196e+03</td>\n",
       "      <td>2.738983e+03</td>\n",
       "      <td>624.305948</td>\n",
       "      <td>6.658911e+02</td>\n",
       "      <td>9.309355e+05</td>\n",
       "      <td>26.484608</td>\n",
       "      <td>1.274750e+03</td>\n",
       "    </tr>\n",
       "    <tr>\n",
       "      <th>WoodDeckSF</th>\n",
       "      <td>134.741376</td>\n",
       "      <td>31.685571</td>\n",
       "      <td>3.208924e+03</td>\n",
       "      <td>-1.833201e+03</td>\n",
       "      <td>1.227966e+04</td>\n",
       "      <td>1.109406e+04</td>\n",
       "      <td>1.558395e+04</td>\n",
       "      <td>665.891118</td>\n",
       "      <td>1.648582e+04</td>\n",
       "      <td>3.029981e+06</td>\n",
       "      <td>542.437312</td>\n",
       "      <td>3.088048e+03</td>\n",
       "    </tr>\n",
       "    <tr>\n",
       "      <th>SalePrice</th>\n",
       "      <td>668964.454191</td>\n",
       "      <td>83201.317781</td>\n",
       "      <td>6.836439e+06</td>\n",
       "      <td>6.833028e+06</td>\n",
       "      <td>2.003928e+07</td>\n",
       "      <td>1.783631e+07</td>\n",
       "      <td>2.934477e+07</td>\n",
       "      <td>930935.489321</td>\n",
       "      <td>3.029981e+06</td>\n",
       "      <td>6.105731e+09</td>\n",
       "      <td>578446.035624</td>\n",
       "      <td>6.872641e+06</td>\n",
       "    </tr>\n",
       "    <tr>\n",
       "      <th>LotFrontage_imputed</th>\n",
       "      <td>532.587202</td>\n",
       "      <td>3.425501</td>\n",
       "      <td>6.391007e+02</td>\n",
       "      <td>-8.507392e+02</td>\n",
       "      <td>2.308793e+03</td>\n",
       "      <td>3.142725e+03</td>\n",
       "      <td>3.723250e+03</td>\n",
       "      <td>26.484608</td>\n",
       "      <td>5.424373e+02</td>\n",
       "      <td>5.784460e+05</td>\n",
       "      <td>1313.093675</td>\n",
       "      <td>6.523871e+02</td>\n",
       "    </tr>\n",
       "    <tr>\n",
       "      <th>MasVnrArea_imputed</th>\n",
       "      <td>693.487235</td>\n",
       "      <td>103.599142</td>\n",
       "      <td>3.298354e+04</td>\n",
       "      <td>7.680598e+03</td>\n",
       "      <td>2.473980e+04</td>\n",
       "      <td>2.055453e+04</td>\n",
       "      <td>3.541558e+04</td>\n",
       "      <td>1274.749707</td>\n",
       "      <td>3.088048e+03</td>\n",
       "      <td>6.872641e+06</td>\n",
       "      <td>652.387102</td>\n",
       "      <td>3.444133e+04</td>\n",
       "    </tr>\n",
       "  </tbody>\n",
       "</table>\n",
       "</div>"
      ],
      "text/plain": [
       "                       LotFrontage   OverallQual    MasVnrArea     BsmtUnfSF  \\\n",
       "LotFrontage             532.587202      6.587119  6.805603e+02  9.496573e+02   \n",
       "OverallQual               6.587119      1.843859  1.014970e+02  1.746147e+02   \n",
       "MasVnrArea              680.560330    101.496976  3.298354e+04  7.540788e+03   \n",
       "BsmtUnfSF               949.657293    174.614725  7.540788e+03  1.875241e+05   \n",
       "TotalBsmtSF            2908.855504    288.624075  2.478877e+04  7.513307e+04   \n",
       "1stFlrSF               3379.793504    224.297266  2.086595e+04  4.987449e+04   \n",
       "GrLivArea              3919.951834    409.124216  3.520785e+04  5.203392e+04   \n",
       "GarageYrBlt              30.611717     17.902809  1.203584e+03  1.823065e+03   \n",
       "WoodDeckSF              134.741376     31.685571  3.208924e+03 -1.833201e+03   \n",
       "SalePrice            668964.454191  83201.317781  6.836439e+06  6.833028e+06   \n",
       "LotFrontage_imputed     532.587202      3.425501  6.391007e+02 -8.507392e+02   \n",
       "MasVnrArea_imputed      693.487235    103.599142  3.298354e+04  7.680598e+03   \n",
       "\n",
       "                      TotalBsmtSF      1stFlrSF     GrLivArea    GarageYrBlt  \\\n",
       "LotFrontage          2.908856e+03  3.379794e+03  3.919952e+03      30.611717   \n",
       "OverallQual          2.886241e+02  2.242973e+02  4.091242e+02      17.902809   \n",
       "MasVnrArea           2.478877e+04  2.086595e+04  3.520785e+04    1203.583792   \n",
       "BsmtUnfSF            7.513307e+04  4.987449e+04  5.203392e+04    1823.065167   \n",
       "TotalBsmtSF          1.682931e+05  1.212079e+05  8.615192e+04    3173.042442   \n",
       "1stFlrSF             1.212079e+05  1.398656e+05  1.044401e+05    2009.195552   \n",
       "GrLivArea            8.615192e+04  1.044401e+05  2.681277e+05    2738.982988   \n",
       "GarageYrBlt          3.173042e+03  2.009196e+03  2.738983e+03     624.305948   \n",
       "WoodDeckSF           1.227966e+04  1.109406e+04  1.558395e+04     665.891118   \n",
       "SalePrice            2.003928e+07  1.783631e+07  2.934477e+07  930935.489321   \n",
       "LotFrontage_imputed  2.308793e+03  3.142725e+03  3.723250e+03      26.484608   \n",
       "MasVnrArea_imputed   2.473980e+04  2.055453e+04  3.541558e+04    1274.749707   \n",
       "\n",
       "                       WoodDeckSF     SalePrice  LotFrontage_imputed  \\\n",
       "LotFrontage          1.347414e+02  6.689645e+05           532.587202   \n",
       "OverallQual          3.168557e+01  8.320132e+04             3.425501   \n",
       "MasVnrArea           3.208924e+03  6.836439e+06           639.100679   \n",
       "BsmtUnfSF           -1.833201e+03  6.833028e+06          -850.739199   \n",
       "TotalBsmtSF          1.227966e+04  2.003928e+07          2308.792907   \n",
       "1stFlrSF             1.109406e+04  1.783631e+07          3142.724647   \n",
       "GrLivArea            1.558395e+04  2.934477e+07          3723.250100   \n",
       "GarageYrBlt          6.658911e+02  9.309355e+05            26.484608   \n",
       "WoodDeckSF           1.648582e+04  3.029981e+06           542.437312   \n",
       "SalePrice            3.029981e+06  6.105731e+09        578446.035624   \n",
       "LotFrontage_imputed  5.424373e+02  5.784460e+05          1313.093675   \n",
       "MasVnrArea_imputed   3.088048e+03  6.872641e+06           652.387102   \n",
       "\n",
       "                     MasVnrArea_imputed  \n",
       "LotFrontage                6.934872e+02  \n",
       "OverallQual                1.035991e+02  \n",
       "MasVnrArea                 3.298354e+04  \n",
       "BsmtUnfSF                  7.680598e+03  \n",
       "TotalBsmtSF                2.473980e+04  \n",
       "1stFlrSF                   2.055453e+04  \n",
       "GrLivArea                  3.541558e+04  \n",
       "GarageYrBlt                1.274750e+03  \n",
       "WoodDeckSF                 3.088048e+03  \n",
       "SalePrice                  6.872641e+06  \n",
       "LotFrontage_imputed        6.523871e+02  \n",
       "MasVnrArea_imputed         3.444133e+04  "
      ]
     },
     "execution_count": 28,
     "metadata": {},
     "output_type": "execute_result"
    }
   ],
   "source": [
    "# finally, let's explore the covariance:\n",
    "# take your time to compare the values in the table below.\n",
    "\n",
    "X_train.cov()"
   ]
  },
  {
   "cell_type": "markdown",
   "metadata": {
    "collapsed": true
   },
   "source": [
    "**That is all for this demonstration. I hope you enjoyed the notebook, and see you in the next one.**"
   ]
  }
 ],
 "metadata": {
  "kernelspec": {
   "display_name": "fsml",
   "language": "python",
   "name": "fsml"
  },
  "language_info": {
   "codemirror_mode": {
    "name": "ipython",
    "version": 3
   },
   "file_extension": ".py",
   "mimetype": "text/x-python",
   "name": "python",
   "nbconvert_exporter": "python",
   "pygments_lexer": "ipython3",
   "version": "3.10.5"
  },
  "toc": {
   "base_numbering": 1,
   "nav_menu": {},
   "number_sections": true,
   "sideBar": true,
   "skip_h1_title": false,
   "title_cell": "Table of Contents",
   "title_sidebar": "Contents",
   "toc_cell": false,
   "toc_position": {
    "height": "calc(100% - 180px)",
    "left": "10px",
    "top": "150px",
    "width": "218.6px"
   },
   "toc_section_display": "block",
   "toc_window_display": true
  }
 },
 "nbformat": 4,
 "nbformat_minor": 2
}

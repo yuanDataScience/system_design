{
 "cells": [
  {
   "cell_type": "markdown",
   "id": "cf9ac692",
   "metadata": {},
   "source": [
    "# Variable characteristics\n",
    "\n",
    "The original data source can be found here:\n",
    "    \n",
    "Data: https://archive-beta.ics.uci.edu/dataset/544/estimation+of+obesity+levels+based+on+eating+habits+and+physical+condition\n",
    "\n",
    "Variable names: https://www.sciencedirect.com/science/article/pii/S2352340919306985?via%3Dihub#sec1\n",
    "\n",
    "I've modified the data for the course and uploaded it to the repo."
   ]
  },
  {
   "cell_type": "code",
   "execution_count": 1,
   "id": "ed0f4c8d",
   "metadata": {},
   "outputs": [],
   "source": [
    "import pandas as pd\n",
    "import matplotlib.pyplot as plt"
   ]
  },
  {
   "cell_type": "code",
   "execution_count": 2,
   "id": "2c2bf78b",
   "metadata": {},
   "outputs": [
    {
     "data": {
      "text/html": [
       "<div>\n",
       "<style scoped>\n",
       "    .dataframe tbody tr th:only-of-type {\n",
       "        vertical-align: middle;\n",
       "    }\n",
       "\n",
       "    .dataframe tbody tr th {\n",
       "        vertical-align: top;\n",
       "    }\n",
       "\n",
       "    .dataframe thead th {\n",
       "        text-align: right;\n",
       "    }\n",
       "</style>\n",
       "<table border=\"1\" class=\"dataframe\">\n",
       "  <thead>\n",
       "    <tr style=\"text-align: right;\">\n",
       "      <th></th>\n",
       "      <th>gender</th>\n",
       "      <th>age</th>\n",
       "      <th>height</th>\n",
       "      <th>weight</th>\n",
       "      <th>family_history_with_overweight</th>\n",
       "      <th>eat_high_cal_food</th>\n",
       "      <th>freq_eat_veggies</th>\n",
       "      <th>daily_main_meals</th>\n",
       "      <th>eat_between_meals</th>\n",
       "      <th>smoke</th>\n",
       "      <th>water_intake</th>\n",
       "      <th>moitor_daily_calories</th>\n",
       "      <th>freq_physical_activity</th>\n",
       "      <th>use_of_tech_devices</th>\n",
       "      <th>alcohol_intake</th>\n",
       "      <th>transportation_mean</th>\n",
       "      <th>obesity_type</th>\n",
       "    </tr>\n",
       "  </thead>\n",
       "  <tbody>\n",
       "    <tr>\n",
       "      <th>0</th>\n",
       "      <td>Female</td>\n",
       "      <td>21.0</td>\n",
       "      <td>1.62</td>\n",
       "      <td>64.0</td>\n",
       "      <td>yes</td>\n",
       "      <td>no</td>\n",
       "      <td>2.0</td>\n",
       "      <td>3.0</td>\n",
       "      <td>Sometimes</td>\n",
       "      <td>no</td>\n",
       "      <td>NaN</td>\n",
       "      <td>no</td>\n",
       "      <td>0.0</td>\n",
       "      <td>1.0</td>\n",
       "      <td>no</td>\n",
       "      <td>Public_Transportation</td>\n",
       "      <td>Normal_Weight</td>\n",
       "    </tr>\n",
       "    <tr>\n",
       "      <th>1</th>\n",
       "      <td>Female</td>\n",
       "      <td>21.0</td>\n",
       "      <td>1.52</td>\n",
       "      <td>56.0</td>\n",
       "      <td>yes</td>\n",
       "      <td>no</td>\n",
       "      <td>3.0</td>\n",
       "      <td>3.0</td>\n",
       "      <td>Sometimes</td>\n",
       "      <td>yes</td>\n",
       "      <td>3.0</td>\n",
       "      <td>yes</td>\n",
       "      <td>3.0</td>\n",
       "      <td>0.0</td>\n",
       "      <td>Sometimes</td>\n",
       "      <td>Public_Transportation</td>\n",
       "      <td>Normal_Weight</td>\n",
       "    </tr>\n",
       "    <tr>\n",
       "      <th>2</th>\n",
       "      <td>Male</td>\n",
       "      <td>23.0</td>\n",
       "      <td>1.80</td>\n",
       "      <td>77.0</td>\n",
       "      <td>yes</td>\n",
       "      <td>no</td>\n",
       "      <td>2.0</td>\n",
       "      <td>3.0</td>\n",
       "      <td>Sometimes</td>\n",
       "      <td>no</td>\n",
       "      <td>NaN</td>\n",
       "      <td>no</td>\n",
       "      <td>2.0</td>\n",
       "      <td>1.0</td>\n",
       "      <td>Frequently</td>\n",
       "      <td>Public_Transportation</td>\n",
       "      <td>Normal_Weight</td>\n",
       "    </tr>\n",
       "    <tr>\n",
       "      <th>3</th>\n",
       "      <td>NaN</td>\n",
       "      <td>27.0</td>\n",
       "      <td>1.80</td>\n",
       "      <td>87.0</td>\n",
       "      <td>no</td>\n",
       "      <td>no</td>\n",
       "      <td>3.0</td>\n",
       "      <td>3.0</td>\n",
       "      <td>Sometimes</td>\n",
       "      <td>no</td>\n",
       "      <td>2.0</td>\n",
       "      <td>no</td>\n",
       "      <td>2.0</td>\n",
       "      <td>0.0</td>\n",
       "      <td>NaN</td>\n",
       "      <td>Walking</td>\n",
       "      <td>Overweight_Level_I</td>\n",
       "    </tr>\n",
       "    <tr>\n",
       "      <th>4</th>\n",
       "      <td>Male</td>\n",
       "      <td>22.0</td>\n",
       "      <td>1.78</td>\n",
       "      <td>89.8</td>\n",
       "      <td>no</td>\n",
       "      <td>no</td>\n",
       "      <td>2.0</td>\n",
       "      <td>1.0</td>\n",
       "      <td>Sometimes</td>\n",
       "      <td>no</td>\n",
       "      <td>2.0</td>\n",
       "      <td>no</td>\n",
       "      <td>0.0</td>\n",
       "      <td>0.0</td>\n",
       "      <td>Sometimes</td>\n",
       "      <td>Public_Transportation</td>\n",
       "      <td>Overweight_Level_II</td>\n",
       "    </tr>\n",
       "  </tbody>\n",
       "</table>\n",
       "</div>"
      ],
      "text/plain": [
       "   gender   age  height  weight family_history_with_overweight   \n",
       "0  Female  21.0    1.62    64.0                            yes  \\\n",
       "1  Female  21.0    1.52    56.0                            yes   \n",
       "2    Male  23.0    1.80    77.0                            yes   \n",
       "3     NaN  27.0    1.80    87.0                             no   \n",
       "4    Male  22.0    1.78    89.8                             no   \n",
       "\n",
       "  eat_high_cal_food  freq_eat_veggies  daily_main_meals eat_between_meals   \n",
       "0                no               2.0               3.0         Sometimes  \\\n",
       "1                no               3.0               3.0         Sometimes   \n",
       "2                no               2.0               3.0         Sometimes   \n",
       "3                no               3.0               3.0         Sometimes   \n",
       "4                no               2.0               1.0         Sometimes   \n",
       "\n",
       "  smoke  water_intake moitor_daily_calories  freq_physical_activity   \n",
       "0    no           NaN                    no                     0.0  \\\n",
       "1   yes           3.0                   yes                     3.0   \n",
       "2    no           NaN                    no                     2.0   \n",
       "3    no           2.0                    no                     2.0   \n",
       "4    no           2.0                    no                     0.0   \n",
       "\n",
       "   use_of_tech_devices alcohol_intake    transportation_mean   \n",
       "0                  1.0             no  Public_Transportation  \\\n",
       "1                  0.0      Sometimes  Public_Transportation   \n",
       "2                  1.0     Frequently  Public_Transportation   \n",
       "3                  0.0            NaN                Walking   \n",
       "4                  0.0      Sometimes  Public_Transportation   \n",
       "\n",
       "          obesity_type  \n",
       "0        Normal_Weight  \n",
       "1        Normal_Weight  \n",
       "2        Normal_Weight  \n",
       "3   Overweight_Level_I  \n",
       "4  Overweight_Level_II  "
      ]
     },
     "execution_count": 2,
     "metadata": {},
     "output_type": "execute_result"
    }
   ],
   "source": [
    "data = pd.read_csv(\"../obesity_nan.csv\")\n",
    "data.head()"
   ]
  },
  {
   "cell_type": "markdown",
   "id": "2633b768",
   "metadata": {},
   "source": [
    "# Which variables contain missing data?"
   ]
  },
  {
   "cell_type": "code",
   "execution_count": null,
   "id": "0785a57f",
   "metadata": {},
   "outputs": [],
   "source": []
  },
  {
   "cell_type": "markdown",
   "id": "dad414d9",
   "metadata": {},
   "source": [
    "# What's the percentage of missing data in gender and water intake?"
   ]
  },
  {
   "cell_type": "code",
   "execution_count": null,
   "id": "49b3f7e6",
   "metadata": {},
   "outputs": [],
   "source": []
  },
  {
   "cell_type": "markdown",
   "id": "a1fc3c07",
   "metadata": {},
   "source": [
    "# What is the cardinality of eat_between_meals?"
   ]
  },
  {
   "cell_type": "code",
   "execution_count": null,
   "id": "aa09cdc0",
   "metadata": {},
   "outputs": [],
   "source": []
  },
  {
   "cell_type": "markdown",
   "id": "964e1f2c",
   "metadata": {},
   "source": [
    "# Are there highly cardinal categorical variables?"
   ]
  },
  {
   "cell_type": "code",
   "execution_count": null,
   "id": "95d746cb",
   "metadata": {},
   "outputs": [],
   "source": []
  },
  {
   "cell_type": "markdown",
   "id": "689d197a",
   "metadata": {},
   "source": [
    "Not really."
   ]
  },
  {
   "cell_type": "markdown",
   "id": "83feb55b",
   "metadata": {},
   "source": [
    "## Are there variables with rare labels? Consider rare if present in less than 5% of the data."
   ]
  },
  {
   "cell_type": "code",
   "execution_count": null,
   "id": "67844665",
   "metadata": {},
   "outputs": [],
   "source": []
  },
  {
   "cell_type": "markdown",
   "id": "35d1a68a",
   "metadata": {},
   "source": [
    "# Are all numerical variables skewed?"
   ]
  },
  {
   "cell_type": "code",
   "execution_count": null,
   "id": "c5b74f2b",
   "metadata": {},
   "outputs": [],
   "source": []
  },
  {
   "cell_type": "markdown",
   "id": "26bd9cd4",
   "metadata": {},
   "source": [
    "# Are there outliers in height? Use the normal distribution."
   ]
  },
  {
   "cell_type": "code",
   "execution_count": null,
   "id": "1f37aaf1",
   "metadata": {},
   "outputs": [],
   "source": []
  },
  {
   "cell_type": "markdown",
   "id": "7485ab28",
   "metadata": {},
   "source": [
    "# Are there outliers in age?"
   ]
  },
  {
   "cell_type": "code",
   "execution_count": null,
   "id": "f9c81eed",
   "metadata": {},
   "outputs": [],
   "source": []
  },
  {
   "cell_type": "markdown",
   "id": "c7d93f5d",
   "metadata": {},
   "source": [
    "# Are the numerical variables in a similar scale?"
   ]
  },
  {
   "cell_type": "markdown",
   "id": "cdd55d2b",
   "metadata": {},
   "source": [
    "Nope."
   ]
  },
  {
   "cell_type": "code",
   "execution_count": null,
   "id": "d1ebd9ab",
   "metadata": {},
   "outputs": [],
   "source": []
  }
 ],
 "metadata": {
  "kernelspec": {
   "display_name": "fsml",
   "language": "python",
   "name": "fsml"
  },
  "language_info": {
   "codemirror_mode": {
    "name": "ipython",
    "version": 3
   },
   "file_extension": ".py",
   "mimetype": "text/x-python",
   "name": "python",
   "nbconvert_exporter": "python",
   "pygments_lexer": "ipython3",
   "version": "3.10.5"
  },
  "toc": {
   "base_numbering": 1,
   "nav_menu": {},
   "number_sections": true,
   "sideBar": true,
   "skip_h1_title": false,
   "title_cell": "Table of Contents",
   "title_sidebar": "Contents",
   "toc_cell": false,
   "toc_position": {},
   "toc_section_display": true,
   "toc_window_display": false
  }
 },
 "nbformat": 4,
 "nbformat_minor": 5
}

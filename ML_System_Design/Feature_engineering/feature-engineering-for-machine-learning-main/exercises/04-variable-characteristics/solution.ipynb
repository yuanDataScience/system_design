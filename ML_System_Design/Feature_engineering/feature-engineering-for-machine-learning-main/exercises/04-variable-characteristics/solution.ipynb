{
 "cells": [
  {
   "cell_type": "markdown",
   "id": "0554ac40",
   "metadata": {},
   "source": [
    "# Variable characteristics\n",
    "\n",
    "The original data source can be found here:\n",
    "    \n",
    "Data: https://archive-beta.ics.uci.edu/dataset/544/estimation+of+obesity+levels+based+on+eating+habits+and+physical+condition\n",
    "\n",
    "Variable names: https://www.sciencedirect.com/science/article/pii/S2352340919306985?via%3Dihub#sec1\n",
    "\n",
    "I've modified the data for the course and uploaded it to the repo."
   ]
  },
  {
   "cell_type": "code",
   "execution_count": 1,
   "id": "ed0f4c8d",
   "metadata": {},
   "outputs": [],
   "source": [
    "import pandas as pd\n",
    "import matplotlib.pyplot as plt"
   ]
  },
  {
   "cell_type": "code",
   "execution_count": 2,
   "id": "2c2bf78b",
   "metadata": {},
   "outputs": [
    {
     "data": {
      "text/html": [
       "<div>\n",
       "<style scoped>\n",
       "    .dataframe tbody tr th:only-of-type {\n",
       "        vertical-align: middle;\n",
       "    }\n",
       "\n",
       "    .dataframe tbody tr th {\n",
       "        vertical-align: top;\n",
       "    }\n",
       "\n",
       "    .dataframe thead th {\n",
       "        text-align: right;\n",
       "    }\n",
       "</style>\n",
       "<table border=\"1\" class=\"dataframe\">\n",
       "  <thead>\n",
       "    <tr style=\"text-align: right;\">\n",
       "      <th></th>\n",
       "      <th>gender</th>\n",
       "      <th>age</th>\n",
       "      <th>height</th>\n",
       "      <th>weight</th>\n",
       "      <th>family_history_with_overweight</th>\n",
       "      <th>eat_high_cal_food</th>\n",
       "      <th>freq_eat_veggies</th>\n",
       "      <th>daily_main_meals</th>\n",
       "      <th>eat_between_meals</th>\n",
       "      <th>smoke</th>\n",
       "      <th>water_intake</th>\n",
       "      <th>moitor_daily_calories</th>\n",
       "      <th>freq_physical_activity</th>\n",
       "      <th>use_of_tech_devices</th>\n",
       "      <th>alcohol_intake</th>\n",
       "      <th>transportation_mean</th>\n",
       "      <th>obesity_type</th>\n",
       "    </tr>\n",
       "  </thead>\n",
       "  <tbody>\n",
       "    <tr>\n",
       "      <th>0</th>\n",
       "      <td>Female</td>\n",
       "      <td>21.0</td>\n",
       "      <td>1.62</td>\n",
       "      <td>64.0</td>\n",
       "      <td>yes</td>\n",
       "      <td>no</td>\n",
       "      <td>2.0</td>\n",
       "      <td>3.0</td>\n",
       "      <td>Sometimes</td>\n",
       "      <td>no</td>\n",
       "      <td>NaN</td>\n",
       "      <td>no</td>\n",
       "      <td>0.0</td>\n",
       "      <td>1.0</td>\n",
       "      <td>no</td>\n",
       "      <td>Public_Transportation</td>\n",
       "      <td>Normal_Weight</td>\n",
       "    </tr>\n",
       "    <tr>\n",
       "      <th>1</th>\n",
       "      <td>Female</td>\n",
       "      <td>21.0</td>\n",
       "      <td>1.52</td>\n",
       "      <td>56.0</td>\n",
       "      <td>yes</td>\n",
       "      <td>no</td>\n",
       "      <td>3.0</td>\n",
       "      <td>3.0</td>\n",
       "      <td>Sometimes</td>\n",
       "      <td>yes</td>\n",
       "      <td>3.0</td>\n",
       "      <td>yes</td>\n",
       "      <td>3.0</td>\n",
       "      <td>0.0</td>\n",
       "      <td>Sometimes</td>\n",
       "      <td>Public_Transportation</td>\n",
       "      <td>Normal_Weight</td>\n",
       "    </tr>\n",
       "    <tr>\n",
       "      <th>2</th>\n",
       "      <td>Male</td>\n",
       "      <td>23.0</td>\n",
       "      <td>1.80</td>\n",
       "      <td>77.0</td>\n",
       "      <td>yes</td>\n",
       "      <td>no</td>\n",
       "      <td>2.0</td>\n",
       "      <td>3.0</td>\n",
       "      <td>Sometimes</td>\n",
       "      <td>no</td>\n",
       "      <td>NaN</td>\n",
       "      <td>no</td>\n",
       "      <td>2.0</td>\n",
       "      <td>1.0</td>\n",
       "      <td>Frequently</td>\n",
       "      <td>Public_Transportation</td>\n",
       "      <td>Normal_Weight</td>\n",
       "    </tr>\n",
       "    <tr>\n",
       "      <th>3</th>\n",
       "      <td>NaN</td>\n",
       "      <td>27.0</td>\n",
       "      <td>1.80</td>\n",
       "      <td>87.0</td>\n",
       "      <td>no</td>\n",
       "      <td>no</td>\n",
       "      <td>3.0</td>\n",
       "      <td>3.0</td>\n",
       "      <td>Sometimes</td>\n",
       "      <td>no</td>\n",
       "      <td>2.0</td>\n",
       "      <td>no</td>\n",
       "      <td>2.0</td>\n",
       "      <td>0.0</td>\n",
       "      <td>NaN</td>\n",
       "      <td>Walking</td>\n",
       "      <td>Overweight_Level_I</td>\n",
       "    </tr>\n",
       "    <tr>\n",
       "      <th>4</th>\n",
       "      <td>Male</td>\n",
       "      <td>22.0</td>\n",
       "      <td>1.78</td>\n",
       "      <td>89.8</td>\n",
       "      <td>no</td>\n",
       "      <td>no</td>\n",
       "      <td>2.0</td>\n",
       "      <td>1.0</td>\n",
       "      <td>Sometimes</td>\n",
       "      <td>no</td>\n",
       "      <td>2.0</td>\n",
       "      <td>no</td>\n",
       "      <td>0.0</td>\n",
       "      <td>0.0</td>\n",
       "      <td>Sometimes</td>\n",
       "      <td>Public_Transportation</td>\n",
       "      <td>Overweight_Level_II</td>\n",
       "    </tr>\n",
       "  </tbody>\n",
       "</table>\n",
       "</div>"
      ],
      "text/plain": [
       "   gender   age  height  weight family_history_with_overweight   \n",
       "0  Female  21.0    1.62    64.0                            yes  \\\n",
       "1  Female  21.0    1.52    56.0                            yes   \n",
       "2    Male  23.0    1.80    77.0                            yes   \n",
       "3     NaN  27.0    1.80    87.0                             no   \n",
       "4    Male  22.0    1.78    89.8                             no   \n",
       "\n",
       "  eat_high_cal_food  freq_eat_veggies  daily_main_meals eat_between_meals   \n",
       "0                no               2.0               3.0         Sometimes  \\\n",
       "1                no               3.0               3.0         Sometimes   \n",
       "2                no               2.0               3.0         Sometimes   \n",
       "3                no               3.0               3.0         Sometimes   \n",
       "4                no               2.0               1.0         Sometimes   \n",
       "\n",
       "  smoke  water_intake moitor_daily_calories  freq_physical_activity   \n",
       "0    no           NaN                    no                     0.0  \\\n",
       "1   yes           3.0                   yes                     3.0   \n",
       "2    no           NaN                    no                     2.0   \n",
       "3    no           2.0                    no                     2.0   \n",
       "4    no           2.0                    no                     0.0   \n",
       "\n",
       "   use_of_tech_devices alcohol_intake    transportation_mean   \n",
       "0                  1.0             no  Public_Transportation  \\\n",
       "1                  0.0      Sometimes  Public_Transportation   \n",
       "2                  1.0     Frequently  Public_Transportation   \n",
       "3                  0.0            NaN                Walking   \n",
       "4                  0.0      Sometimes  Public_Transportation   \n",
       "\n",
       "          obesity_type  \n",
       "0        Normal_Weight  \n",
       "1        Normal_Weight  \n",
       "2        Normal_Weight  \n",
       "3   Overweight_Level_I  \n",
       "4  Overweight_Level_II  "
      ]
     },
     "execution_count": 2,
     "metadata": {},
     "output_type": "execute_result"
    }
   ],
   "source": [
    "data = pd.read_csv(\"../obesity_nan.csv\")\n",
    "data.head()"
   ]
  },
  {
   "cell_type": "markdown",
   "id": "2633b768",
   "metadata": {},
   "source": [
    "# Which variables contain missing data?"
   ]
  },
  {
   "cell_type": "code",
   "execution_count": 3,
   "id": "0785a57f",
   "metadata": {},
   "outputs": [
    {
     "data": {
      "text/plain": [
       "['gender',\n",
       " 'family_history_with_overweight',\n",
       " 'daily_main_meals',\n",
       " 'water_intake',\n",
       " 'alcohol_intake']"
      ]
     },
     "execution_count": 3,
     "metadata": {},
     "output_type": "execute_result"
    }
   ],
   "source": [
    "# Tip: there is more than 1 way to obtain this list\n",
    "# If you did it differently, well done.\n",
    "\n",
    "vars_nan = [c for c in data.columns if data[c].isnull().any()]\n",
    "vars_nan"
   ]
  },
  {
   "cell_type": "markdown",
   "id": "ac8f9232",
   "metadata": {},
   "source": [
    "# What's the percentage of missing data in gender and water intake?"
   ]
  },
  {
   "cell_type": "code",
   "execution_count": 4,
   "id": "21ca4949",
   "metadata": {},
   "outputs": [
    {
     "data": {
      "text/plain": [
       "gender          0.087636\n",
       "water_intake    0.145902\n",
       "dtype: float64"
      ]
     },
     "execution_count": 4,
     "metadata": {},
     "output_type": "execute_result"
    }
   ],
   "source": [
    "data[[\"gender\", \"water_intake\"]].isnull().mean()"
   ]
  },
  {
   "cell_type": "markdown",
   "id": "a1fc3c07",
   "metadata": {},
   "source": [
    "# What is the cardinality of eat_between_meals?"
   ]
  },
  {
   "cell_type": "code",
   "execution_count": 5,
   "id": "aa09cdc0",
   "metadata": {},
   "outputs": [
    {
     "data": {
      "text/plain": [
       "4"
      ]
     },
     "execution_count": 5,
     "metadata": {},
     "output_type": "execute_result"
    }
   ],
   "source": [
    "data[\"eat_between_meals\"].nunique()"
   ]
  },
  {
   "cell_type": "code",
   "execution_count": 6,
   "id": "58e9a216",
   "metadata": {},
   "outputs": [
    {
     "data": {
      "text/plain": [
       "array(['Sometimes', 'Frequently', 'Always', 'no'], dtype=object)"
      ]
     },
     "execution_count": 6,
     "metadata": {},
     "output_type": "execute_result"
    }
   ],
   "source": [
    "data[\"eat_between_meals\"].unique()"
   ]
  },
  {
   "cell_type": "markdown",
   "id": "964e1f2c",
   "metadata": {},
   "source": [
    "# Are there highly cardinal categorical variables?"
   ]
  },
  {
   "cell_type": "code",
   "execution_count": 7,
   "id": "80382d72",
   "metadata": {},
   "outputs": [
    {
     "data": {
      "text/plain": [
       "gender                            2\n",
       "family_history_with_overweight    2\n",
       "eat_high_cal_food                 2\n",
       "eat_between_meals                 4\n",
       "smoke                             2\n",
       "moitor_daily_calories             2\n",
       "alcohol_intake                    3\n",
       "transportation_mean               5\n",
       "obesity_type                      7\n",
       "dtype: int64"
      ]
     },
     "execution_count": 7,
     "metadata": {},
     "output_type": "execute_result"
    }
   ],
   "source": [
    "cat_vars = [c for c in data.columns if data[c].dtypes==\"O\"]\n",
    "\n",
    "data[cat_vars].nunique()"
   ]
  },
  {
   "cell_type": "markdown",
   "id": "f52dab1d",
   "metadata": {},
   "source": [
    "Not really."
   ]
  },
  {
   "cell_type": "markdown",
   "id": "b9eabb16",
   "metadata": {},
   "source": [
    "## Are there variables with rare labels? Consider rare if present in less than 5% of the data."
   ]
  },
  {
   "cell_type": "code",
   "execution_count": 8,
   "id": "64fabbeb",
   "metadata": {},
   "outputs": [
    {
     "name": "stdout",
     "output_type": "stream",
     "text": [
      "gender\n",
      "Male      0.507788\n",
      "Female    0.492212\n",
      "Name: proportion, dtype: float64 \n",
      "\n",
      "family_history_with_overweight\n",
      "yes    0.815455\n",
      "no     0.184545\n",
      "Name: proportion, dtype: float64 \n",
      "\n",
      "eat_high_cal_food\n",
      "yes    0.883941\n",
      "no     0.116059\n",
      "Name: proportion, dtype: float64 \n",
      "\n",
      "eat_between_meals\n",
      "Sometimes     0.836097\n",
      "Frequently    0.114638\n",
      "Always        0.025107\n",
      "no            0.024159\n",
      "Name: proportion, dtype: float64 \n",
      "\n",
      "smoke\n",
      "no     0.979157\n",
      "yes    0.020843\n",
      "Name: proportion, dtype: float64 \n",
      "\n",
      "moitor_daily_calories\n",
      "no     0.954524\n",
      "yes    0.045476\n",
      "Name: proportion, dtype: float64 \n",
      "\n",
      "alcohol_intake\n",
      "Sometimes     0.666440\n",
      "no            0.301566\n",
      "Frequently    0.031995\n",
      "Name: proportion, dtype: float64 \n",
      "\n",
      "transportation_mean\n",
      "Public_Transportation    0.748460\n",
      "Automobile               0.216485\n",
      "Walking                  0.026528\n",
      "Motorbike                0.005211\n",
      "Bike                     0.003316\n",
      "Name: proportion, dtype: float64 \n",
      "\n",
      "obesity_type\n",
      "Obesity_Type_I         0.166272\n",
      "Obesity_Type_III       0.153482\n",
      "Obesity_Type_II        0.140692\n",
      "Overweight_Level_I     0.137376\n",
      "Overweight_Level_II    0.137376\n",
      "Normal_Weight          0.135955\n",
      "Insufficient_Weight    0.128849\n",
      "Name: proportion, dtype: float64 \n",
      "\n"
     ]
    }
   ],
   "source": [
    "for var in cat_vars:\n",
    "    print(data[var].value_counts(normalize=True), \"\\n\")"
   ]
  },
  {
   "cell_type": "markdown",
   "id": "d1e19d7e",
   "metadata": {},
   "source": [
    "The variables \"eat_between_meals\", \"smoke\", \"moitor_daily_calories\", \"alcohol_intake\" and \"transportation_mean\" contain at least 1 rare label."
   ]
  },
  {
   "cell_type": "markdown",
   "id": "35d1a68a",
   "metadata": {},
   "source": [
    "# Are all numerical variables skewed?"
   ]
  },
  {
   "cell_type": "code",
   "execution_count": 9,
   "id": "c5b74f2b",
   "metadata": {},
   "outputs": [
    {
     "data": {
      "image/png": "[encoded data removed]",
      "text/plain": [
       "<Figure size 1440x1440 with 9 Axes>"
      ]
     },
     "metadata": {
      "needs_background": "light"
     },
     "output_type": "display_data"
    }
   ],
   "source": [
    "data.hist(figsize=(20,20))\n",
    "plt.show()"
   ]
  },
  {
   "cell_type": "markdown",
   "id": "2dcc65d3",
   "metadata": {},
   "source": [
    "Nope. The variable \"height\" seems normally distributed. The variable \"age\" is clearly skewed. Apart from \"weight\", all the remaining variables show a fairly uniform distribution apart from a few very frequent occurrences."
   ]
  },
  {
   "cell_type": "markdown",
   "id": "a657b3a0",
   "metadata": {},
   "source": [
    "# Are there outliers in height? Use the normal distribution."
   ]
  },
  {
   "cell_type": "code",
   "execution_count": 10,
   "id": "3c474d27",
   "metadata": {},
   "outputs": [
    {
     "data": {
      "image/png": "[encoded data removed]",
      "text/plain": [
       "<Figure size 432x288 with 1 Axes>"
      ]
     },
     "metadata": {
      "needs_background": "light"
     },
     "output_type": "display_data"
    }
   ],
   "source": [
    "data.boxplot(column=\"height\")\n",
    "plt.show()"
   ]
  },
  {
   "cell_type": "code",
   "execution_count": 11,
   "id": "606824c5",
   "metadata": {},
   "outputs": [
    {
     "data": {
      "text/plain": [
       "0"
      ]
     },
     "execution_count": 11,
     "metadata": {},
     "output_type": "execute_result"
    }
   ],
   "source": [
    "# boundaries\n",
    "\n",
    "low = data[\"height\"].mean() - 3 * data[\"height\"].std()\n",
    "up = data[\"height\"].mean() + 3 * data[\"height\"].std()\n",
    "\n",
    "# outliers at the left of the distribution\n",
    "(data[\"height\"] < low).sum()"
   ]
  },
  {
   "cell_type": "code",
   "execution_count": 12,
   "id": "60f2af15",
   "metadata": {},
   "outputs": [
    {
     "data": {
      "text/plain": [
       "0"
      ]
     },
     "execution_count": 12,
     "metadata": {},
     "output_type": "execute_result"
    }
   ],
   "source": [
    "# outliers at the right of the distribution\n",
    "\n",
    "(data[\"height\"] > up).sum()"
   ]
  },
  {
   "cell_type": "markdown",
   "id": "e25538cd",
   "metadata": {},
   "source": [
    "# Are there outliers in age?"
   ]
  },
  {
   "cell_type": "code",
   "execution_count": 13,
   "id": "ed43e18d",
   "metadata": {},
   "outputs": [
    {
     "data": {
      "image/png": "[encoded data removed]",
      "text/plain": [
       "<Figure size 432x288 with 1 Axes>"
      ]
     },
     "metadata": {
      "needs_background": "light"
     },
     "output_type": "display_data"
    }
   ],
   "source": [
    "data.boxplot(column=\"age\")\n",
    "plt.show()"
   ]
  },
  {
   "cell_type": "code",
   "execution_count": 14,
   "id": "fecee7dc",
   "metadata": {},
   "outputs": [
    {
     "data": {
      "text/plain": [
       "0"
      ]
     },
     "execution_count": 14,
     "metadata": {},
     "output_type": "execute_result"
    }
   ],
   "source": [
    "def find_skewed_boundaries(df, variable, distance):\n",
    "\n",
    "    IQR = df[variable].quantile(0.75) - df[variable].quantile(0.25)\n",
    "\n",
    "    lower_boundary = df[variable].quantile(0.25) - (IQR * distance)\n",
    "    upper_boundary = df[variable].quantile(0.75) + (IQR * distance)\n",
    "\n",
    "    return upper_boundary, lower_boundary\n",
    "\n",
    "op, low = find_skewed_boundaries(data, 'age', 1.5)\n",
    "\n",
    "# outliers at the left of the distribution\n",
    "(data[\"age\"] < low).sum()"
   ]
  },
  {
   "cell_type": "code",
   "execution_count": 15,
   "id": "a2301a3d",
   "metadata": {},
   "outputs": [
    {
     "data": {
      "text/plain": [
       "2111"
      ]
     },
     "execution_count": 15,
     "metadata": {},
     "output_type": "execute_result"
    }
   ],
   "source": [
    "# outliers at the right of the distribution\n",
    "\n",
    "(data[\"age\"] > up).sum()"
   ]
  },
  {
   "cell_type": "markdown",
   "id": "6a501b52",
   "metadata": {},
   "source": [
    "Subscribe is binary, and day is discrete. I'd argue that we can consider the rest of the variables continuous."
   ]
  },
  {
   "cell_type": "markdown",
   "id": "c7d93f5d",
   "metadata": {},
   "source": [
    "# Are the numerical variables in a similar scale?"
   ]
  },
  {
   "cell_type": "code",
   "execution_count": 16,
   "id": "8bdb14d9",
   "metadata": {},
   "outputs": [
    {
     "data": {
      "text/html": [
       "<div>\n",
       "<style scoped>\n",
       "    .dataframe tbody tr th:only-of-type {\n",
       "        vertical-align: middle;\n",
       "    }\n",
       "\n",
       "    .dataframe tbody tr th {\n",
       "        vertical-align: top;\n",
       "    }\n",
       "\n",
       "    .dataframe thead th {\n",
       "        text-align: right;\n",
       "    }\n",
       "</style>\n",
       "<table border=\"1\" class=\"dataframe\">\n",
       "  <thead>\n",
       "    <tr style=\"text-align: right;\">\n",
       "      <th></th>\n",
       "      <th>age</th>\n",
       "      <th>height</th>\n",
       "      <th>weight</th>\n",
       "      <th>freq_eat_veggies</th>\n",
       "      <th>daily_main_meals</th>\n",
       "      <th>water_intake</th>\n",
       "      <th>freq_physical_activity</th>\n",
       "      <th>use_of_tech_devices</th>\n",
       "    </tr>\n",
       "  </thead>\n",
       "  <tbody>\n",
       "    <tr>\n",
       "      <th>count</th>\n",
       "      <td>2111.000000</td>\n",
       "      <td>2111.000000</td>\n",
       "      <td>2111.000000</td>\n",
       "      <td>2111.000000</td>\n",
       "      <td>1988.000000</td>\n",
       "      <td>1803.000000</td>\n",
       "      <td>2111.000000</td>\n",
       "      <td>2111.000000</td>\n",
       "    </tr>\n",
       "    <tr>\n",
       "      <th>mean</th>\n",
       "      <td>24.312600</td>\n",
       "      <td>1.701677</td>\n",
       "      <td>86.586058</td>\n",
       "      <td>2.419043</td>\n",
       "      <td>2.683858</td>\n",
       "      <td>2.017908</td>\n",
       "      <td>1.010298</td>\n",
       "      <td>0.657866</td>\n",
       "    </tr>\n",
       "    <tr>\n",
       "      <th>std</th>\n",
       "      <td>6.345968</td>\n",
       "      <td>0.093305</td>\n",
       "      <td>26.191172</td>\n",
       "      <td>0.533927</td>\n",
       "      <td>0.778213</td>\n",
       "      <td>0.605278</td>\n",
       "      <td>0.850592</td>\n",
       "      <td>0.608927</td>\n",
       "    </tr>\n",
       "    <tr>\n",
       "      <th>min</th>\n",
       "      <td>14.000000</td>\n",
       "      <td>1.450000</td>\n",
       "      <td>39.000000</td>\n",
       "      <td>1.000000</td>\n",
       "      <td>1.000000</td>\n",
       "      <td>1.000000</td>\n",
       "      <td>0.000000</td>\n",
       "      <td>0.000000</td>\n",
       "    </tr>\n",
       "    <tr>\n",
       "      <th>25%</th>\n",
       "      <td>19.947192</td>\n",
       "      <td>1.630000</td>\n",
       "      <td>65.473343</td>\n",
       "      <td>2.000000</td>\n",
       "      <td>2.658289</td>\n",
       "      <td>1.629763</td>\n",
       "      <td>0.124505</td>\n",
       "      <td>0.000000</td>\n",
       "    </tr>\n",
       "    <tr>\n",
       "      <th>50%</th>\n",
       "      <td>22.777890</td>\n",
       "      <td>1.700499</td>\n",
       "      <td>83.000000</td>\n",
       "      <td>2.385502</td>\n",
       "      <td>3.000000</td>\n",
       "      <td>2.000000</td>\n",
       "      <td>1.000000</td>\n",
       "      <td>0.625350</td>\n",
       "    </tr>\n",
       "    <tr>\n",
       "      <th>75%</th>\n",
       "      <td>26.000000</td>\n",
       "      <td>1.768464</td>\n",
       "      <td>107.430682</td>\n",
       "      <td>3.000000</td>\n",
       "      <td>3.000000</td>\n",
       "      <td>2.480416</td>\n",
       "      <td>1.666678</td>\n",
       "      <td>1.000000</td>\n",
       "    </tr>\n",
       "    <tr>\n",
       "      <th>max</th>\n",
       "      <td>61.000000</td>\n",
       "      <td>1.980000</td>\n",
       "      <td>173.000000</td>\n",
       "      <td>3.000000</td>\n",
       "      <td>4.000000</td>\n",
       "      <td>3.000000</td>\n",
       "      <td>3.000000</td>\n",
       "      <td>2.000000</td>\n",
       "    </tr>\n",
       "  </tbody>\n",
       "</table>\n",
       "</div>"
      ],
      "text/plain": [
       "               age       height       weight  freq_eat_veggies   \n",
       "count  2111.000000  2111.000000  2111.000000       2111.000000  \\\n",
       "mean     24.312600     1.701677    86.586058          2.419043   \n",
       "std       6.345968     0.093305    26.191172          0.533927   \n",
       "min      14.000000     1.450000    39.000000          1.000000   \n",
       "25%      19.947192     1.630000    65.473343          2.000000   \n",
       "50%      22.777890     1.700499    83.000000          2.385502   \n",
       "75%      26.000000     1.768464   107.430682          3.000000   \n",
       "max      61.000000     1.980000   173.000000          3.000000   \n",
       "\n",
       "       daily_main_meals  water_intake  freq_physical_activity   \n",
       "count       1988.000000   1803.000000             2111.000000  \\\n",
       "mean           2.683858      2.017908                1.010298   \n",
       "std            0.778213      0.605278                0.850592   \n",
       "min            1.000000      1.000000                0.000000   \n",
       "25%            2.658289      1.629763                0.124505   \n",
       "50%            3.000000      2.000000                1.000000   \n",
       "75%            3.000000      2.480416                1.666678   \n",
       "max            4.000000      3.000000                3.000000   \n",
       "\n",
       "       use_of_tech_devices  \n",
       "count          2111.000000  \n",
       "mean              0.657866  \n",
       "std               0.608927  \n",
       "min               0.000000  \n",
       "25%               0.000000  \n",
       "50%               0.625350  \n",
       "75%               1.000000  \n",
       "max               2.000000  "
      ]
     },
     "execution_count": 16,
     "metadata": {},
     "output_type": "execute_result"
    }
   ],
   "source": [
    "num_vars = [c for c in data.columns if c not in cat_vars]\n",
    "\n",
    "data[num_vars].describe()"
   ]
  },
  {
   "cell_type": "markdown",
   "id": "cdd55d2b",
   "metadata": {},
   "source": [
    "Nope."
   ]
  },
  {
   "cell_type": "code",
   "execution_count": null,
   "id": "d759bc7e",
   "metadata": {},
   "outputs": [],
   "source": []
  }
 ],
 "metadata": {
  "kernelspec": {
   "display_name": "fsml",
   "language": "python",
   "name": "fsml"
  },
  "language_info": {
   "codemirror_mode": {
    "name": "ipython",
    "version": 3
   },
   "file_extension": ".py",
   "mimetype": "text/x-python",
   "name": "python",
   "nbconvert_exporter": "python",
   "pygments_lexer": "ipython3",
   "version": "3.10.5"
  },
  "toc": {
   "base_numbering": 1,
   "nav_menu": {},
   "number_sections": true,
   "sideBar": true,
   "skip_h1_title": false,
   "title_cell": "Table of Contents",
   "title_sidebar": "Contents",
   "toc_cell": false,
   "toc_position": {},
   "toc_section_display": true,
   "toc_window_display": true
  }
 },
 "nbformat": 4,
 "nbformat_minor": 5
}

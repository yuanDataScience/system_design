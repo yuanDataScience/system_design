{
 "cells": [
  {
   "cell_type": "markdown",
   "id": "4cc2969e",
   "metadata": {},
   "source": [
    "# Variable types\n",
    "\n",
    "The original data source can be found here: https://archive-beta.ics.uci.edu/dataset/222/bank+marketing\n",
    "\n",
    "I've modified the data for the course and uploaded it to the repo."
   ]
  },
  {
   "cell_type": "code",
   "execution_count": 1,
   "id": "ed0f4c8d",
   "metadata": {},
   "outputs": [],
   "source": [
    "import pandas as pd\n",
    "import matplotlib.pyplot as plt"
   ]
  },
  {
   "cell_type": "code",
   "execution_count": 2,
   "id": "2c2bf78b",
   "metadata": {},
   "outputs": [
    {
     "data": {
      "text/html": [
       "<div>\n",
       "<style scoped>\n",
       "    .dataframe tbody tr th:only-of-type {\n",
       "        vertical-align: middle;\n",
       "    }\n",
       "\n",
       "    .dataframe tbody tr th {\n",
       "        vertical-align: top;\n",
       "    }\n",
       "\n",
       "    .dataframe thead th {\n",
       "        text-align: right;\n",
       "    }\n",
       "</style>\n",
       "<table border=\"1\" class=\"dataframe\">\n",
       "  <thead>\n",
       "    <tr style=\"text-align: right;\">\n",
       "      <th></th>\n",
       "      <th>age</th>\n",
       "      <th>job</th>\n",
       "      <th>marital</th>\n",
       "      <th>education</th>\n",
       "      <th>default</th>\n",
       "      <th>balance</th>\n",
       "      <th>housing</th>\n",
       "      <th>loan</th>\n",
       "      <th>contact</th>\n",
       "      <th>day</th>\n",
       "      <th>month</th>\n",
       "      <th>duration</th>\n",
       "      <th>campaign</th>\n",
       "      <th>pdays</th>\n",
       "      <th>previous</th>\n",
       "      <th>poutcome</th>\n",
       "      <th>subscribe</th>\n",
       "    </tr>\n",
       "  </thead>\n",
       "  <tbody>\n",
       "    <tr>\n",
       "      <th>0</th>\n",
       "      <td>58</td>\n",
       "      <td>management</td>\n",
       "      <td>married</td>\n",
       "      <td>tertiary</td>\n",
       "      <td>no</td>\n",
       "      <td>2143.0</td>\n",
       "      <td>yes</td>\n",
       "      <td>no</td>\n",
       "      <td>unknown</td>\n",
       "      <td>5.0</td>\n",
       "      <td>may</td>\n",
       "      <td>261.0</td>\n",
       "      <td>1.0</td>\n",
       "      <td>-1.0</td>\n",
       "      <td>0</td>\n",
       "      <td>unknown</td>\n",
       "      <td>0</td>\n",
       "    </tr>\n",
       "    <tr>\n",
       "      <th>1</th>\n",
       "      <td>44</td>\n",
       "      <td>technician</td>\n",
       "      <td>single</td>\n",
       "      <td>secondary</td>\n",
       "      <td>no</td>\n",
       "      <td>29.0</td>\n",
       "      <td>yes</td>\n",
       "      <td>no</td>\n",
       "      <td>unknown</td>\n",
       "      <td>5.0</td>\n",
       "      <td>may</td>\n",
       "      <td>151.0</td>\n",
       "      <td>1.0</td>\n",
       "      <td>-1.0</td>\n",
       "      <td>0</td>\n",
       "      <td>unknown</td>\n",
       "      <td>0</td>\n",
       "    </tr>\n",
       "    <tr>\n",
       "      <th>2</th>\n",
       "      <td>33</td>\n",
       "      <td>entrepreneur</td>\n",
       "      <td>married</td>\n",
       "      <td>secondary</td>\n",
       "      <td>no</td>\n",
       "      <td>2.0</td>\n",
       "      <td>yes</td>\n",
       "      <td>yes</td>\n",
       "      <td>unknown</td>\n",
       "      <td>5.0</td>\n",
       "      <td>may</td>\n",
       "      <td>76.0</td>\n",
       "      <td>NaN</td>\n",
       "      <td>-1.0</td>\n",
       "      <td>0</td>\n",
       "      <td>unknown</td>\n",
       "      <td>0</td>\n",
       "    </tr>\n",
       "    <tr>\n",
       "      <th>3</th>\n",
       "      <td>47</td>\n",
       "      <td>blue-collar</td>\n",
       "      <td>married</td>\n",
       "      <td>unknown</td>\n",
       "      <td>no</td>\n",
       "      <td>1506.0</td>\n",
       "      <td>yes</td>\n",
       "      <td>no</td>\n",
       "      <td>unknown</td>\n",
       "      <td>5.0</td>\n",
       "      <td>may</td>\n",
       "      <td>92.0</td>\n",
       "      <td>1.0</td>\n",
       "      <td>-1.0</td>\n",
       "      <td>0</td>\n",
       "      <td>unknown</td>\n",
       "      <td>0</td>\n",
       "    </tr>\n",
       "    <tr>\n",
       "      <th>4</th>\n",
       "      <td>33</td>\n",
       "      <td>unknown</td>\n",
       "      <td>single</td>\n",
       "      <td>unknown</td>\n",
       "      <td>no</td>\n",
       "      <td>1.0</td>\n",
       "      <td>no</td>\n",
       "      <td>no</td>\n",
       "      <td>unknown</td>\n",
       "      <td>5.0</td>\n",
       "      <td>may</td>\n",
       "      <td>198.0</td>\n",
       "      <td>1.0</td>\n",
       "      <td>-1.0</td>\n",
       "      <td>0</td>\n",
       "      <td>unknown</td>\n",
       "      <td>0</td>\n",
       "    </tr>\n",
       "  </tbody>\n",
       "</table>\n",
       "</div>"
      ],
      "text/plain": [
       "   age           job  marital  education default  balance housing loan   \n",
       "0   58    management  married   tertiary      no   2143.0     yes   no  \\\n",
       "1   44    technician   single  secondary      no     29.0     yes   no   \n",
       "2   33  entrepreneur  married  secondary      no      2.0     yes  yes   \n",
       "3   47   blue-collar  married    unknown      no   1506.0     yes   no   \n",
       "4   33       unknown   single    unknown      no      1.0      no   no   \n",
       "\n",
       "   contact  day month  duration  campaign  pdays  previous poutcome  subscribe  \n",
       "0  unknown  5.0   may     261.0       1.0   -1.0         0  unknown          0  \n",
       "1  unknown  5.0   may     151.0       1.0   -1.0         0  unknown          0  \n",
       "2  unknown  5.0   may      76.0       NaN   -1.0         0  unknown          0  \n",
       "3  unknown  5.0   may      92.0       1.0   -1.0         0  unknown          0  \n",
       "4  unknown  5.0   may     198.0       1.0   -1.0         0  unknown          0  "
      ]
     },
     "execution_count": 2,
     "metadata": {},
     "output_type": "execute_result"
    }
   ],
   "source": [
    "data = pd.read_csv(\"../bank-marketing.csv\")\n",
    "data.head()"
   ]
  },
  {
   "cell_type": "markdown",
   "id": "2633b768",
   "metadata": {},
   "source": [
    "# Are there categorical variables?"
   ]
  },
  {
   "cell_type": "code",
   "execution_count": 3,
   "id": "0785a57f",
   "metadata": {},
   "outputs": [
    {
     "data": {
      "text/plain": [
       "['job',\n",
       " 'marital',\n",
       " 'education',\n",
       " 'default',\n",
       " 'housing',\n",
       " 'loan',\n",
       " 'contact',\n",
       " 'month',\n",
       " 'poutcome']"
      ]
     },
     "execution_count": 3,
     "metadata": {},
     "output_type": "execute_result"
    }
   ],
   "source": [
    "# Tip: there is more than 1 way to obtain this list\n",
    "# If you did it differently, well done.\n",
    "\n",
    "cat_vars = [c for c in data.columns if data[c].dtypes==\"O\"]\n",
    "cat_vars"
   ]
  },
  {
   "cell_type": "code",
   "execution_count": 4,
   "id": "619746ae",
   "metadata": {},
   "outputs": [
    {
     "data": {
      "text/html": [
       "<div>\n",
       "<style scoped>\n",
       "    .dataframe tbody tr th:only-of-type {\n",
       "        vertical-align: middle;\n",
       "    }\n",
       "\n",
       "    .dataframe tbody tr th {\n",
       "        vertical-align: top;\n",
       "    }\n",
       "\n",
       "    .dataframe thead th {\n",
       "        text-align: right;\n",
       "    }\n",
       "</style>\n",
       "<table border=\"1\" class=\"dataframe\">\n",
       "  <thead>\n",
       "    <tr style=\"text-align: right;\">\n",
       "      <th></th>\n",
       "      <th>job</th>\n",
       "      <th>marital</th>\n",
       "      <th>education</th>\n",
       "      <th>default</th>\n",
       "      <th>housing</th>\n",
       "      <th>loan</th>\n",
       "      <th>contact</th>\n",
       "      <th>month</th>\n",
       "      <th>poutcome</th>\n",
       "    </tr>\n",
       "  </thead>\n",
       "  <tbody>\n",
       "    <tr>\n",
       "      <th>0</th>\n",
       "      <td>management</td>\n",
       "      <td>married</td>\n",
       "      <td>tertiary</td>\n",
       "      <td>no</td>\n",
       "      <td>yes</td>\n",
       "      <td>no</td>\n",
       "      <td>unknown</td>\n",
       "      <td>may</td>\n",
       "      <td>unknown</td>\n",
       "    </tr>\n",
       "    <tr>\n",
       "      <th>1</th>\n",
       "      <td>technician</td>\n",
       "      <td>single</td>\n",
       "      <td>secondary</td>\n",
       "      <td>no</td>\n",
       "      <td>yes</td>\n",
       "      <td>no</td>\n",
       "      <td>unknown</td>\n",
       "      <td>may</td>\n",
       "      <td>unknown</td>\n",
       "    </tr>\n",
       "    <tr>\n",
       "      <th>2</th>\n",
       "      <td>entrepreneur</td>\n",
       "      <td>married</td>\n",
       "      <td>secondary</td>\n",
       "      <td>no</td>\n",
       "      <td>yes</td>\n",
       "      <td>yes</td>\n",
       "      <td>unknown</td>\n",
       "      <td>may</td>\n",
       "      <td>unknown</td>\n",
       "    </tr>\n",
       "    <tr>\n",
       "      <th>3</th>\n",
       "      <td>blue-collar</td>\n",
       "      <td>married</td>\n",
       "      <td>unknown</td>\n",
       "      <td>no</td>\n",
       "      <td>yes</td>\n",
       "      <td>no</td>\n",
       "      <td>unknown</td>\n",
       "      <td>may</td>\n",
       "      <td>unknown</td>\n",
       "    </tr>\n",
       "    <tr>\n",
       "      <th>4</th>\n",
       "      <td>unknown</td>\n",
       "      <td>single</td>\n",
       "      <td>unknown</td>\n",
       "      <td>no</td>\n",
       "      <td>no</td>\n",
       "      <td>no</td>\n",
       "      <td>unknown</td>\n",
       "      <td>may</td>\n",
       "      <td>unknown</td>\n",
       "    </tr>\n",
       "    <tr>\n",
       "      <th>...</th>\n",
       "      <td>...</td>\n",
       "      <td>...</td>\n",
       "      <td>...</td>\n",
       "      <td>...</td>\n",
       "      <td>...</td>\n",
       "      <td>...</td>\n",
       "      <td>...</td>\n",
       "      <td>...</td>\n",
       "      <td>...</td>\n",
       "    </tr>\n",
       "    <tr>\n",
       "      <th>45206</th>\n",
       "      <td>technician</td>\n",
       "      <td>married</td>\n",
       "      <td>tertiary</td>\n",
       "      <td>no</td>\n",
       "      <td>no</td>\n",
       "      <td>no</td>\n",
       "      <td>cellular</td>\n",
       "      <td>nov</td>\n",
       "      <td>unknown</td>\n",
       "    </tr>\n",
       "    <tr>\n",
       "      <th>45207</th>\n",
       "      <td>retired</td>\n",
       "      <td>divorced</td>\n",
       "      <td>primary</td>\n",
       "      <td>no</td>\n",
       "      <td>no</td>\n",
       "      <td>no</td>\n",
       "      <td>cellular</td>\n",
       "      <td>nov</td>\n",
       "      <td>unknown</td>\n",
       "    </tr>\n",
       "    <tr>\n",
       "      <th>45208</th>\n",
       "      <td>retired</td>\n",
       "      <td>married</td>\n",
       "      <td>secondary</td>\n",
       "      <td>no</td>\n",
       "      <td>no</td>\n",
       "      <td>no</td>\n",
       "      <td>cellular</td>\n",
       "      <td>nov</td>\n",
       "      <td>success</td>\n",
       "    </tr>\n",
       "    <tr>\n",
       "      <th>45209</th>\n",
       "      <td>blue-collar</td>\n",
       "      <td>married</td>\n",
       "      <td>secondary</td>\n",
       "      <td>no</td>\n",
       "      <td>no</td>\n",
       "      <td>no</td>\n",
       "      <td>NaN</td>\n",
       "      <td>nov</td>\n",
       "      <td>unknown</td>\n",
       "    </tr>\n",
       "    <tr>\n",
       "      <th>45210</th>\n",
       "      <td>entrepreneur</td>\n",
       "      <td>married</td>\n",
       "      <td>secondary</td>\n",
       "      <td>no</td>\n",
       "      <td>no</td>\n",
       "      <td>no</td>\n",
       "      <td>NaN</td>\n",
       "      <td>nov</td>\n",
       "      <td>other</td>\n",
       "    </tr>\n",
       "  </tbody>\n",
       "</table>\n",
       "<p>45211 rows × 9 columns</p>\n",
       "</div>"
      ],
      "text/plain": [
       "                job   marital  education default housing loan   contact month   \n",
       "0        management   married   tertiary      no     yes   no   unknown   may  \\\n",
       "1        technician    single  secondary      no     yes   no   unknown   may   \n",
       "2      entrepreneur   married  secondary      no     yes  yes   unknown   may   \n",
       "3       blue-collar   married    unknown      no     yes   no   unknown   may   \n",
       "4           unknown    single    unknown      no      no   no   unknown   may   \n",
       "...             ...       ...        ...     ...     ...  ...       ...   ...   \n",
       "45206    technician   married   tertiary      no      no   no  cellular   nov   \n",
       "45207       retired  divorced    primary      no      no   no  cellular   nov   \n",
       "45208       retired   married  secondary      no      no   no  cellular   nov   \n",
       "45209   blue-collar   married  secondary      no      no   no       NaN   nov   \n",
       "45210  entrepreneur   married  secondary      no      no   no       NaN   nov   \n",
       "\n",
       "      poutcome  \n",
       "0      unknown  \n",
       "1      unknown  \n",
       "2      unknown  \n",
       "3      unknown  \n",
       "4      unknown  \n",
       "...        ...  \n",
       "45206  unknown  \n",
       "45207  unknown  \n",
       "45208  success  \n",
       "45209  unknown  \n",
       "45210    other  \n",
       "\n",
       "[45211 rows x 9 columns]"
      ]
     },
     "execution_count": 4,
     "metadata": {},
     "output_type": "execute_result"
    }
   ],
   "source": [
    "data[cat_vars]"
   ]
  },
  {
   "cell_type": "markdown",
   "id": "a1fc3c07",
   "metadata": {},
   "source": [
    "# Are they ordinal or nominal?"
   ]
  },
  {
   "cell_type": "code",
   "execution_count": 5,
   "id": "aa09cdc0",
   "metadata": {},
   "outputs": [
    {
     "name": "stdout",
     "output_type": "stream",
     "text": [
      "job ['management' 'technician' 'entrepreneur' 'blue-collar' 'unknown'\n",
      " 'retired' 'admin.' 'services' 'self-employed' 'unemployed' 'housemaid'\n",
      " 'student' nan] \n",
      "\n",
      "marital ['married' 'single' 'divorced'] \n",
      "\n",
      "education ['tertiary' 'secondary' 'unknown' 'primary'] \n",
      "\n",
      "default ['no' 'yes'] \n",
      "\n",
      "housing ['yes' 'no'] \n",
      "\n",
      "loan ['no' 'yes'] \n",
      "\n",
      "contact ['unknown' nan 'cellular' 'telephone'] \n",
      "\n",
      "month ['may' 'jun' 'jul' 'aug' 'oct' 'nov' 'dec' 'jan' 'feb' 'mar' 'apr' 'sep'] \n",
      "\n",
      "poutcome ['unknown' nan 'failure' 'other' 'success'] \n",
      "\n"
     ]
    }
   ],
   "source": [
    "for var in cat_vars:\n",
    "    print(var, data[var].unique(), \"\\n\")"
   ]
  },
  {
   "cell_type": "markdown",
   "id": "964e1f2c",
   "metadata": {},
   "source": [
    "Education and month are ordinal. The rest seem to be nominal."
   ]
  },
  {
   "cell_type": "markdown",
   "id": "35d1a68a",
   "metadata": {},
   "source": [
    "# Are the numerical variables continuous, discrete or binary?"
   ]
  },
  {
   "cell_type": "code",
   "execution_count": 6,
   "id": "c5b74f2b",
   "metadata": {},
   "outputs": [
    {
     "data": {
      "image/png": "[encoded data removed]",
      "text/plain": [
       "<Figure size 1440x1440 with 9 Axes>"
      ]
     },
     "metadata": {
      "needs_background": "light"
     },
     "output_type": "display_data"
    }
   ],
   "source": [
    "data.hist(figsize=(20,20))\n",
    "plt.show()"
   ]
  },
  {
   "cell_type": "code",
   "execution_count": 7,
   "id": "ee34fd50",
   "metadata": {},
   "outputs": [
    {
     "name": "stdout",
     "output_type": "stream",
     "text": [
      "age [58 44 33 47 35 28 42 43 41 29 53 57 51 45 60 56 32 25 40 39 52 46 36 49\n",
      " 59 37 50 54 55 48 24 38 31 30 27 34 23 26 61 22 21 20 66 62 83 75 67 70\n",
      " 65 68 64 69 72 71 19 76 85 63 90 82 73 74 78 80 94 79 77 86 95 81 18 89\n",
      " 84 87 92 93 88] \n",
      "\n",
      "balance [2.1430e+03 2.9000e+01 2.0000e+00 ... 8.2050e+03 1.4204e+04 1.6353e+04] \n",
      "\n",
      "day [ 5. nan  6.  7.  8.  9. 12. 13. 14. 15. 16. 19. 20. 21. 23. 26. 27. 28.\n",
      " 29. 30.  2.  3.  4. 11. 17. 18. 24. 25.  1. 10. 22. 31.] \n",
      "\n",
      "duration [ 261.  151.   76. ... 1298. 1246. 1556.] \n",
      "\n",
      "campaign [ 1. nan  2.  3.  5.  4.  6.  8.  7.  9. 12. 10. 13. 11. 19. 14. 24. 16.\n",
      " 18. 22. 32. 17. 25. 43. 51. 63. 41. 26. 15. 55. 50. 38. 23. 21. 28. 20.\n",
      " 31. 37. 29. 30. 46. 58. 27. 33. 35. 34. 36. 39. 44.] \n",
      "\n",
      "pdays [ -1.  nan 151. 166.  91. 147. 176. 174. 170. 167. 195. 129. 188. 196.\n",
      " 172. 118. 119. 117. 164. 132. 131. 123. 159. 186. 111. 115. 116. 173.\n",
      " 178. 152.  96. 103. 150. 175. 110. 104. 181. 165. 185. 154. 145. 171.\n",
      " 126. 193. 180. 109. 101. 158. 168.  97. 182. 127. 194. 125. 105. 102.\n",
      "  26.  28. 179. 183. 155. 138. 120. 137. 187. 190. 113. 162. 124. 134.\n",
      " 169. 189. 112.   8. 144. 191. 184. 177.   5.  99. 133.  93. 156. 198.\n",
      " 106. 153. 146. 128.  27. 100. 197. 136. 139. 122. 157. 149. 135.  92.\n",
      " 114.  98. 192. 163. 121.  95.  10. 141.  31. 199.  94. 130. 140. 108.\n",
      " 143.  29. 268. 247. 253. 244. 239. 245. 204. 231. 238. 258. 230. 254.\n",
      "  71. 223. 265. 246. 250. 266. 205. 160. 261. 259. 241. 260. 234. 226.\n",
      " 251. 225. 161. 237. 262. 240. 255. 220. 227. 248. 206. 224. 249. 235.\n",
      " 228. 263.   2. 270. 207. 252. 200. 269. 232. 233. 256. 273. 272. 242.\n",
      " 264. 208. 214. 222. 271. 221. 201. 257. 229. 210.  75. 216. 213. 217.\n",
      "  73.  76. 203. 267. 211. 202. 215.  77. 236.  82.  90. 209.   6. 274.\n",
      "   1.   7. 243. 212. 275.  80. 276.   9. 279.  12. 280.  88.  85.  84.\n",
      " 219.  24.  21. 107. 282.  41.  49. 329. 307. 303. 331. 308. 300.  64.\n",
      " 314. 287. 330. 332. 302. 323. 333.  60. 335. 313. 312. 305. 325. 327.\n",
      " 336. 309. 322.  39. 316. 328. 292. 295. 310. 306. 320. 317. 289.  57.\n",
      " 321. 142. 339. 301. 337. 315. 334. 340. 319.  17. 326.  74. 148. 341.\n",
      " 299. 344. 342. 324. 318. 345. 304. 281. 343. 338. 346.  14. 347.  15.\n",
      " 291. 294. 349. 285. 348. 350. 284.  25. 283. 278.  81.   4.  87.  86.\n",
      "  83.  79.  70. 293.  37.  78.  13.  63. 296. 355.  66.  19.  89.  35.\n",
      " 360. 357. 351. 362. 358. 354. 365. 298. 363.  47. 361. 288. 286. 366.\n",
      " 356. 364. 359. 297. 367. 353. 352.  22. 368.  42. 290.  67. 371. 370.\n",
      " 369. 277.  50.  36. 373. 374. 372. 311. 378.  59.  40.  18.  43.  20.\n",
      "  69.  38. 385.  56.  55.  44. 391.  72. 390.  32.  62. 399. 377. 395.\n",
      " 388. 389. 386.  61. 412. 405. 434. 394. 382. 375. 397. 383.  68. 461.\n",
      " 462. 463. 422.  51. 457. 430. 403. 459. 454. 379. 428. 392. 410. 401.\n",
      " 475. 477. 478.  54. 474. 476. 380.  45.  46. 495.  58.  48. 518.  52.\n",
      " 515. 511. 387. 218.  33. 435. 555. 446. 558. 469. 561. 553. 592. 467.\n",
      " 585. 480. 421. 667. 626. 426. 393. 595. 376. 648. 521. 449. 398.  53.\n",
      " 460. 670. 551. 479. 414. 557. 687. 404. 651. 384. 425. 504. 578. 674.\n",
      " 416. 586. 411. 756. 450. 745. 417. 424. 776. 433. 381. 396. 683. 529.\n",
      " 439. 415. 407. 458. 532. 481. 791. 531. 535. 784. 419. 455. 491. 431.\n",
      " 542. 470. 472. 717. 437.   3. 782. 828. 562. 761. 492. 775. 579. 493.\n",
      " 464. 760. 466. 465. 656. 831. 432. 655. 427. 749. 490. 838. 769. 587.\n",
      " 792. 778. 854. 850. 771. 594. 842. 589. 779. 603. 489. 486. 409. 444.\n",
      " 680. 808. 485. 503. 690. 772. 774. 526. 528. 500. 826. 616. 804. 547.\n",
      " 805. 442. 541. 871. 456. 550. 530.] \n",
      "\n",
      "previous [  0   3   1   4   2  11  16   6   5  10  12   7  18   9  21   8  14  15\n",
      "  26  37  13  25  20  27  17  23  38  29  24  51 275  22  19  30  58  28\n",
      "  32  40  55  35  41] \n",
      "\n",
      "subscribe [0 1] \n",
      "\n"
     ]
    }
   ],
   "source": [
    "num_vars = [c for c in data.columns if c not in cat_vars]\n",
    "\n",
    "for var in num_vars:\n",
    "    print(var, data[var].unique(), \"\\n\")\n"
   ]
  },
  {
   "cell_type": "code",
   "execution_count": 8,
   "id": "606824c5",
   "metadata": {},
   "outputs": [
    {
     "data": {
      "text/plain": [
       "array([ 5., nan,  6.,  7.,  8.,  9., 12., 13., 14., 15., 16., 19., 20.,\n",
       "       21., 23., 26., 27., 28., 29., 30.,  2.,  3.,  4., 11., 17., 18.,\n",
       "       24., 25.,  1., 10., 22., 31.])"
      ]
     },
     "execution_count": 8,
     "metadata": {},
     "output_type": "execute_result"
    }
   ],
   "source": [
    "data[\"day\"].unique()"
   ]
  },
  {
   "cell_type": "code",
   "execution_count": 9,
   "id": "60f2af15",
   "metadata": {},
   "outputs": [
    {
     "data": {
      "text/plain": [
       "array([0, 1], dtype=int64)"
      ]
     },
     "execution_count": 9,
     "metadata": {},
     "output_type": "execute_result"
    }
   ],
   "source": [
    "data[\"subscribe\"].unique()"
   ]
  },
  {
   "cell_type": "markdown",
   "id": "6a501b52",
   "metadata": {},
   "source": [
    "Subscribe is binary, and day is discrete. I'd argue that we can consider the rest of the variables continuous."
   ]
  },
  {
   "cell_type": "markdown",
   "id": "c7d93f5d",
   "metadata": {},
   "source": [
    "# Which other types of variables that we saw in the course, are not present in this dataset?"
   ]
  },
  {
   "cell_type": "markdown",
   "id": "cdd55d2b",
   "metadata": {},
   "source": [
    "Datetime variables and mixed variables."
   ]
  },
  {
   "cell_type": "code",
   "execution_count": null,
   "id": "8bdb14d9",
   "metadata": {},
   "outputs": [],
   "source": []
  }
 ],
 "metadata": {
  "kernelspec": {
   "display_name": "fsml",
   "language": "python",
   "name": "fsml"
  },
  "language_info": {
   "codemirror_mode": {
    "name": "ipython",
    "version": 3
   },
   "file_extension": ".py",
   "mimetype": "text/x-python",
   "name": "python",
   "nbconvert_exporter": "python",
   "pygments_lexer": "ipython3",
   "version": "3.10.5"
  },
  "toc": {
   "base_numbering": 1,
   "nav_menu": {},
   "number_sections": true,
   "sideBar": true,
   "skip_h1_title": false,
   "title_cell": "Table of Contents",
   "title_sidebar": "Contents",
   "toc_cell": false,
   "toc_position": {},
   "toc_section_display": true,
   "toc_window_display": false
  }
 },
 "nbformat": 4,
 "nbformat_minor": 5
}

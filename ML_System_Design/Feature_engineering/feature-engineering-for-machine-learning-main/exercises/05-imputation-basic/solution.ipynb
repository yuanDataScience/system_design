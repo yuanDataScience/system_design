{
 "cells": [
  {
   "cell_type": "markdown",
   "id": "c93ab4b8",
   "metadata": {},
   "source": [
    "# Basic imputation\n",
    "\n",
    "The original data source can be found here: https://archive-beta.ics.uci.edu/dataset/222/bank+marketing\n",
    "\n",
    "I've modified the data for the course and uploaded it to the repo."
   ]
  },
  {
   "cell_type": "code",
   "execution_count": 1,
   "id": "ed0f4c8d",
   "metadata": {},
   "outputs": [],
   "source": [
    "import pandas as pd\n",
    "import matplotlib.pyplot as plt\n",
    "\n",
    "from sklearn.model_selection import train_test_split\n",
    "\n",
    "from sklearn.compose import ColumnTransformer\n",
    "from sklearn.impute import SimpleImputer\n",
    "\n",
    "from feature_engine.imputation import (\n",
    "    CategoricalImputer,\n",
    "    MeanMedianImputer,\n",
    ")"
   ]
  },
  {
   "cell_type": "code",
   "execution_count": 2,
   "id": "2c2bf78b",
   "metadata": {},
   "outputs": [
    {
     "data": {
      "text/html": [
       "<div>\n",
       "<style scoped>\n",
       "    .dataframe tbody tr th:only-of-type {\n",
       "        vertical-align: middle;\n",
       "    }\n",
       "\n",
       "    .dataframe tbody tr th {\n",
       "        vertical-align: top;\n",
       "    }\n",
       "\n",
       "    .dataframe thead th {\n",
       "        text-align: right;\n",
       "    }\n",
       "</style>\n",
       "<table border=\"1\" class=\"dataframe\">\n",
       "  <thead>\n",
       "    <tr style=\"text-align: right;\">\n",
       "      <th></th>\n",
       "      <th>age</th>\n",
       "      <th>job</th>\n",
       "      <th>marital</th>\n",
       "      <th>education</th>\n",
       "      <th>default</th>\n",
       "      <th>balance</th>\n",
       "      <th>housing</th>\n",
       "      <th>loan</th>\n",
       "      <th>contact</th>\n",
       "      <th>day</th>\n",
       "      <th>month</th>\n",
       "      <th>duration</th>\n",
       "      <th>campaign</th>\n",
       "      <th>pdays</th>\n",
       "      <th>previous</th>\n",
       "      <th>poutcome</th>\n",
       "      <th>subscribe</th>\n",
       "    </tr>\n",
       "  </thead>\n",
       "  <tbody>\n",
       "    <tr>\n",
       "      <th>0</th>\n",
       "      <td>58</td>\n",
       "      <td>management</td>\n",
       "      <td>married</td>\n",
       "      <td>tertiary</td>\n",
       "      <td>no</td>\n",
       "      <td>2143.0</td>\n",
       "      <td>yes</td>\n",
       "      <td>no</td>\n",
       "      <td>unknown</td>\n",
       "      <td>5.0</td>\n",
       "      <td>may</td>\n",
       "      <td>261.0</td>\n",
       "      <td>1.0</td>\n",
       "      <td>-1.0</td>\n",
       "      <td>0</td>\n",
       "      <td>unknown</td>\n",
       "      <td>0</td>\n",
       "    </tr>\n",
       "    <tr>\n",
       "      <th>1</th>\n",
       "      <td>44</td>\n",
       "      <td>technician</td>\n",
       "      <td>single</td>\n",
       "      <td>secondary</td>\n",
       "      <td>no</td>\n",
       "      <td>29.0</td>\n",
       "      <td>yes</td>\n",
       "      <td>no</td>\n",
       "      <td>unknown</td>\n",
       "      <td>5.0</td>\n",
       "      <td>may</td>\n",
       "      <td>151.0</td>\n",
       "      <td>1.0</td>\n",
       "      <td>-1.0</td>\n",
       "      <td>0</td>\n",
       "      <td>unknown</td>\n",
       "      <td>0</td>\n",
       "    </tr>\n",
       "    <tr>\n",
       "      <th>2</th>\n",
       "      <td>33</td>\n",
       "      <td>entrepreneur</td>\n",
       "      <td>married</td>\n",
       "      <td>secondary</td>\n",
       "      <td>no</td>\n",
       "      <td>2.0</td>\n",
       "      <td>yes</td>\n",
       "      <td>yes</td>\n",
       "      <td>unknown</td>\n",
       "      <td>5.0</td>\n",
       "      <td>may</td>\n",
       "      <td>76.0</td>\n",
       "      <td>NaN</td>\n",
       "      <td>-1.0</td>\n",
       "      <td>0</td>\n",
       "      <td>unknown</td>\n",
       "      <td>0</td>\n",
       "    </tr>\n",
       "    <tr>\n",
       "      <th>3</th>\n",
       "      <td>47</td>\n",
       "      <td>blue-collar</td>\n",
       "      <td>married</td>\n",
       "      <td>unknown</td>\n",
       "      <td>no</td>\n",
       "      <td>1506.0</td>\n",
       "      <td>yes</td>\n",
       "      <td>no</td>\n",
       "      <td>unknown</td>\n",
       "      <td>5.0</td>\n",
       "      <td>may</td>\n",
       "      <td>92.0</td>\n",
       "      <td>1.0</td>\n",
       "      <td>-1.0</td>\n",
       "      <td>0</td>\n",
       "      <td>unknown</td>\n",
       "      <td>0</td>\n",
       "    </tr>\n",
       "    <tr>\n",
       "      <th>4</th>\n",
       "      <td>33</td>\n",
       "      <td>unknown</td>\n",
       "      <td>single</td>\n",
       "      <td>unknown</td>\n",
       "      <td>no</td>\n",
       "      <td>1.0</td>\n",
       "      <td>no</td>\n",
       "      <td>no</td>\n",
       "      <td>unknown</td>\n",
       "      <td>5.0</td>\n",
       "      <td>may</td>\n",
       "      <td>198.0</td>\n",
       "      <td>1.0</td>\n",
       "      <td>-1.0</td>\n",
       "      <td>0</td>\n",
       "      <td>unknown</td>\n",
       "      <td>0</td>\n",
       "    </tr>\n",
       "  </tbody>\n",
       "</table>\n",
       "</div>"
      ],
      "text/plain": [
       "   age           job  marital  education default  balance housing loan   \n",
       "0   58    management  married   tertiary      no   2143.0     yes   no  \\\n",
       "1   44    technician   single  secondary      no     29.0     yes   no   \n",
       "2   33  entrepreneur  married  secondary      no      2.0     yes  yes   \n",
       "3   47   blue-collar  married    unknown      no   1506.0     yes   no   \n",
       "4   33       unknown   single    unknown      no      1.0      no   no   \n",
       "\n",
       "   contact  day month  duration  campaign  pdays  previous poutcome  subscribe  \n",
       "0  unknown  5.0   may     261.0       1.0   -1.0         0  unknown          0  \n",
       "1  unknown  5.0   may     151.0       1.0   -1.0         0  unknown          0  \n",
       "2  unknown  5.0   may      76.0       NaN   -1.0         0  unknown          0  \n",
       "3  unknown  5.0   may      92.0       1.0   -1.0         0  unknown          0  \n",
       "4  unknown  5.0   may     198.0       1.0   -1.0         0  unknown          0  "
      ]
     },
     "execution_count": 2,
     "metadata": {},
     "output_type": "execute_result"
    }
   ],
   "source": [
    "data = pd.read_csv(\"../bank-marketing.csv\")\n",
    "\n",
    "data.head()"
   ]
  },
  {
   "cell_type": "code",
   "execution_count": 18,
   "id": "68bce1e7",
   "metadata": {},
   "outputs": [],
   "source": [
    "X_train, X_test, y_train, y_test = train_test_split(\n",
    "    data.drop(\"subscribe\", axis=1),\n",
    "    data[\"subscribe\"],\n",
    "    test_size=0.33,\n",
    "    random_state=42,\n",
    ")"
   ]
  },
  {
   "cell_type": "markdown",
   "id": "2633b768",
   "metadata": {},
   "source": [
    "# Which categorical variables have na?"
   ]
  },
  {
   "cell_type": "code",
   "execution_count": 4,
   "id": "1c25324b",
   "metadata": {},
   "outputs": [
    {
     "data": {
      "text/plain": [
       "job         0.010219\n",
       "balance     0.083519\n",
       "contact     0.102763\n",
       "day         0.018137\n",
       "duration    0.087943\n",
       "campaign    0.207450\n",
       "pdays       0.162195\n",
       "poutcome    0.037225\n",
       "dtype: float64"
      ]
     },
     "execution_count": 4,
     "metadata": {},
     "output_type": "execute_result"
    }
   ],
   "source": [
    "vars_na = [c for c in X_train.columns if X_train[c].isnull().any()]\n",
    "\n",
    "data[vars_na].isnull().mean()"
   ]
  },
  {
   "cell_type": "code",
   "execution_count": 5,
   "id": "6881c099",
   "metadata": {},
   "outputs": [
    {
     "data": {
      "text/plain": [
       "['job', 'contact', 'poutcome']"
      ]
     },
     "execution_count": 5,
     "metadata": {},
     "output_type": "execute_result"
    }
   ],
   "source": [
    "# categorical variables with nan\n",
    "\n",
    "cat_vars_na = [c for c in vars_na if X_train[c].dtypes==\"O\"]\n",
    "cat_vars_na"
   ]
  },
  {
   "cell_type": "code",
   "execution_count": 6,
   "id": "a3ed489d",
   "metadata": {},
   "outputs": [
    {
     "data": {
      "text/html": [
       "<div>\n",
       "<style scoped>\n",
       "    .dataframe tbody tr th:only-of-type {\n",
       "        vertical-align: middle;\n",
       "    }\n",
       "\n",
       "    .dataframe tbody tr th {\n",
       "        vertical-align: top;\n",
       "    }\n",
       "\n",
       "    .dataframe thead th {\n",
       "        text-align: right;\n",
       "    }\n",
       "</style>\n",
       "<table border=\"1\" class=\"dataframe\">\n",
       "  <thead>\n",
       "    <tr style=\"text-align: right;\">\n",
       "      <th></th>\n",
       "      <th>job</th>\n",
       "      <th>balance</th>\n",
       "      <th>contact</th>\n",
       "      <th>day</th>\n",
       "      <th>duration</th>\n",
       "      <th>campaign</th>\n",
       "      <th>pdays</th>\n",
       "      <th>poutcome</th>\n",
       "    </tr>\n",
       "  </thead>\n",
       "  <tbody>\n",
       "    <tr>\n",
       "      <th>41031</th>\n",
       "      <td>housemaid</td>\n",
       "      <td>NaN</td>\n",
       "      <td>cellular</td>\n",
       "      <td>13.0</td>\n",
       "      <td>126.0</td>\n",
       "      <td>2.0</td>\n",
       "      <td>-1.0</td>\n",
       "      <td>NaN</td>\n",
       "    </tr>\n",
       "    <tr>\n",
       "      <th>41950</th>\n",
       "      <td>NaN</td>\n",
       "      <td>0.0</td>\n",
       "      <td>cellular</td>\n",
       "      <td>22.0</td>\n",
       "      <td>102.0</td>\n",
       "      <td>NaN</td>\n",
       "      <td>NaN</td>\n",
       "      <td>failure</td>\n",
       "    </tr>\n",
       "    <tr>\n",
       "      <th>39883</th>\n",
       "      <td>services</td>\n",
       "      <td>935.0</td>\n",
       "      <td>NaN</td>\n",
       "      <td>2.0</td>\n",
       "      <td>136.0</td>\n",
       "      <td>1.0</td>\n",
       "      <td>96.0</td>\n",
       "      <td>failure</td>\n",
       "    </tr>\n",
       "    <tr>\n",
       "      <th>44938</th>\n",
       "      <td>housemaid</td>\n",
       "      <td>3232.0</td>\n",
       "      <td>NaN</td>\n",
       "      <td>6.0</td>\n",
       "      <td>541.0</td>\n",
       "      <td>1.0</td>\n",
       "      <td>204.0</td>\n",
       "      <td>failure</td>\n",
       "    </tr>\n",
       "    <tr>\n",
       "      <th>42103</th>\n",
       "      <td>technician</td>\n",
       "      <td>508.0</td>\n",
       "      <td>cellular</td>\n",
       "      <td>2.0</td>\n",
       "      <td>154.0</td>\n",
       "      <td>3.0</td>\n",
       "      <td>-1.0</td>\n",
       "      <td>unknown</td>\n",
       "    </tr>\n",
       "  </tbody>\n",
       "</table>\n",
       "</div>"
      ],
      "text/plain": [
       "              job  balance   contact   day  duration  campaign  pdays poutcome\n",
       "41031   housemaid      NaN  cellular  13.0     126.0       2.0   -1.0      NaN\n",
       "41950         NaN      0.0  cellular  22.0     102.0       NaN    NaN  failure\n",
       "39883    services    935.0       NaN   2.0     136.0       1.0   96.0  failure\n",
       "44938   housemaid   3232.0       NaN   6.0     541.0       1.0  204.0  failure\n",
       "42103  technician    508.0  cellular   2.0     154.0       3.0   -1.0  unknown"
      ]
     },
     "execution_count": 6,
     "metadata": {},
     "output_type": "execute_result"
    }
   ],
   "source": [
    "X_train[vars_na].head()"
   ]
  },
  {
   "cell_type": "markdown",
   "id": "4efa3b56",
   "metadata": {},
   "source": [
    "Job, contact and poutcome."
   ]
  },
  {
   "cell_type": "markdown",
   "id": "3130f56a",
   "metadata": {},
   "source": [
    "# Which numerical variables have na?"
   ]
  },
  {
   "cell_type": "code",
   "execution_count": 7,
   "id": "9f2369a0",
   "metadata": {},
   "outputs": [
    {
     "data": {
      "text/plain": [
       "['balance', 'day', 'duration', 'campaign', 'pdays']"
      ]
     },
     "execution_count": 7,
     "metadata": {},
     "output_type": "execute_result"
    }
   ],
   "source": [
    "num_vars_na = [c for c in vars_na if X_train[c].dtypes!=\"O\"]\n",
    "num_vars_na"
   ]
  },
  {
   "cell_type": "markdown",
   "id": "7d1c22ad",
   "metadata": {},
   "source": [
    "balance, day, duration, campaign and pdays."
   ]
  },
  {
   "cell_type": "markdown",
   "id": "a1fc3c07",
   "metadata": {},
   "source": [
    "# Would you use mean or median imputation?"
   ]
  },
  {
   "cell_type": "code",
   "execution_count": 8,
   "id": "aa09cdc0",
   "metadata": {},
   "outputs": [
    {
     "data": {
      "image/png": "[encoded data removed]",
      "text/plain": [
       "<Figure size 720x720 with 6 Axes>"
      ]
     },
     "metadata": {
      "needs_background": "light"
     },
     "output_type": "display_data"
    }
   ],
   "source": [
    "X_train[num_vars_na].hist(figsize=(10,10))\n",
    "plt.show()"
   ]
  },
  {
   "cell_type": "markdown",
   "id": "964e1f2c",
   "metadata": {},
   "source": [
    "For most variables, I'd use the median as they are skewed. The variable \"day\" is uniform, so in principle, we could use either."
   ]
  },
  {
   "cell_type": "markdown",
   "id": "35d1a68a",
   "metadata": {},
   "source": [
    "# Impute with the median using Feature-engine"
   ]
  },
  {
   "cell_type": "code",
   "execution_count": 19,
   "id": "c5b74f2b",
   "metadata": {},
   "outputs": [],
   "source": [
    "imputer = MeanMedianImputer(imputation_method=\"mean\")\n",
    "\n",
    "X_train = imputer.fit_transform(X_train)\n",
    "X_test = imputer.transform(X_test)"
   ]
  },
  {
   "cell_type": "code",
   "execution_count": 20,
   "id": "7699ab42",
   "metadata": {},
   "outputs": [
    {
     "data": {
      "text/plain": [
       "{'age': 40.9446700340035,\n",
       " 'balance': 1352.815571407984,\n",
       " 'day': 15.814869588599086,\n",
       " 'duration': 256.709221140976,\n",
       " 'campaign': 2.766763969974979,\n",
       " 'pdays': 40.437788746298125,\n",
       " 'previous': 0.5761777425637978}"
      ]
     },
     "execution_count": 20,
     "metadata": {},
     "output_type": "execute_result"
    }
   ],
   "source": [
    "imputer.imputer_dict_"
   ]
  },
  {
   "cell_type": "markdown",
   "id": "78fa952f",
   "metadata": {},
   "source": [
    "# Impute with an arbitrary string using Feature-engine"
   ]
  },
  {
   "cell_type": "code",
   "execution_count": 11,
   "id": "ee34fd50",
   "metadata": {},
   "outputs": [
    {
     "name": "stderr",
     "output_type": "stream",
     "text": [
      "C:\\Users\\Sole\\Documents\\Repositories\\envs\\fsml\\lib\\site-packages\\feature_engine\\variable_handling\\_variable_type_checks.py:28: UserWarning: Could not infer format, so each element will be parsed individually, falling back to `dateutil`. To ensure parsing is consistent and as-expected, please specify a format.\n",
      "  return is_datetime(pd.to_datetime(column, errors=\"ignore\", utc=True))\n",
      "C:\\Users\\Sole\\Documents\\Repositories\\envs\\fsml\\lib\\site-packages\\feature_engine\\variable_handling\\_variable_type_checks.py:28: UserWarning: Could not infer format, so each element will be parsed individually, falling back to `dateutil`. To ensure parsing is consistent and as-expected, please specify a format.\n",
      "  return is_datetime(pd.to_datetime(column, errors=\"ignore\", utc=True))\n",
      "C:\\Users\\Sole\\Documents\\Repositories\\envs\\fsml\\lib\\site-packages\\feature_engine\\variable_handling\\_variable_type_checks.py:28: UserWarning: Could not infer format, so each element will be parsed individually, falling back to `dateutil`. To ensure parsing is consistent and as-expected, please specify a format.\n",
      "  return is_datetime(pd.to_datetime(column, errors=\"ignore\", utc=True))\n",
      "C:\\Users\\Sole\\Documents\\Repositories\\envs\\fsml\\lib\\site-packages\\feature_engine\\variable_handling\\_variable_type_checks.py:28: UserWarning: Could not infer format, so each element will be parsed individually, falling back to `dateutil`. To ensure parsing is consistent and as-expected, please specify a format.\n",
      "  return is_datetime(pd.to_datetime(column, errors=\"ignore\", utc=True))\n",
      "C:\\Users\\Sole\\Documents\\Repositories\\envs\\fsml\\lib\\site-packages\\feature_engine\\variable_handling\\_variable_type_checks.py:28: UserWarning: Could not infer format, so each element will be parsed individually, falling back to `dateutil`. To ensure parsing is consistent and as-expected, please specify a format.\n",
      "  return is_datetime(pd.to_datetime(column, errors=\"ignore\", utc=True))\n",
      "C:\\Users\\Sole\\Documents\\Repositories\\envs\\fsml\\lib\\site-packages\\feature_engine\\variable_handling\\_variable_type_checks.py:28: UserWarning: Could not infer format, so each element will be parsed individually, falling back to `dateutil`. To ensure parsing is consistent and as-expected, please specify a format.\n",
      "  return is_datetime(pd.to_datetime(column, errors=\"ignore\", utc=True))\n",
      "C:\\Users\\Sole\\Documents\\Repositories\\envs\\fsml\\lib\\site-packages\\feature_engine\\variable_handling\\_variable_type_checks.py:28: UserWarning: Could not infer format, so each element will be parsed individually, falling back to `dateutil`. To ensure parsing is consistent and as-expected, please specify a format.\n",
      "  return is_datetime(pd.to_datetime(column, errors=\"ignore\", utc=True))\n",
      "C:\\Users\\Sole\\Documents\\Repositories\\envs\\fsml\\lib\\site-packages\\feature_engine\\variable_handling\\_variable_type_checks.py:28: UserWarning: Could not infer format, so each element will be parsed individually, falling back to `dateutil`. To ensure parsing is consistent and as-expected, please specify a format.\n",
      "  return is_datetime(pd.to_datetime(column, errors=\"ignore\", utc=True))\n",
      "C:\\Users\\Sole\\Documents\\Repositories\\envs\\fsml\\lib\\site-packages\\feature_engine\\variable_handling\\_variable_type_checks.py:28: UserWarning: Could not infer format, so each element will be parsed individually, falling back to `dateutil`. To ensure parsing is consistent and as-expected, please specify a format.\n",
      "  return is_datetime(pd.to_datetime(column, errors=\"ignore\", utc=True))\n"
     ]
    }
   ],
   "source": [
    "imputer = CategoricalImputer()\n",
    "\n",
    "X_train = imputer.fit_transform(X_train)\n",
    "X_test = imputer.transform(X_test)"
   ]
  },
  {
   "cell_type": "code",
   "execution_count": 12,
   "id": "75e53f02",
   "metadata": {},
   "outputs": [
    {
     "data": {
      "text/plain": [
       "{'job': 'Missing',\n",
       " 'marital': 'Missing',\n",
       " 'education': 'Missing',\n",
       " 'default': 'Missing',\n",
       " 'housing': 'Missing',\n",
       " 'loan': 'Missing',\n",
       " 'contact': 'Missing',\n",
       " 'month': 'Missing',\n",
       " 'poutcome': 'Missing'}"
      ]
     },
     "execution_count": 12,
     "metadata": {},
     "output_type": "execute_result"
    }
   ],
   "source": [
    "imputer.imputer_dict_"
   ]
  },
  {
   "cell_type": "code",
   "execution_count": 13,
   "id": "606824c5",
   "metadata": {},
   "outputs": [
    {
     "data": {
      "text/plain": [
       "[]"
      ]
     },
     "execution_count": 13,
     "metadata": {},
     "output_type": "execute_result"
    }
   ],
   "source": [
    "# check absence of nan\n",
    "\n",
    "[c for c in X_test.columns if X_test[c].isnull().any()]"
   ]
  },
  {
   "cell_type": "markdown",
   "id": "6a501b52",
   "metadata": {},
   "source": [
    "Subscribe is binary, and day is discrete. I'd argue that we can consider the rest of the variables continuous."
   ]
  },
  {
   "cell_type": "markdown",
   "id": "c7d93f5d",
   "metadata": {},
   "source": [
    "# Impute using sklearn"
   ]
  },
  {
   "cell_type": "code",
   "execution_count": 14,
   "id": "8bdb14d9",
   "metadata": {},
   "outputs": [],
   "source": [
    "X_train, X_test, y_train, y_test = train_test_split(\n",
    "    data.drop(\"subscribe\", axis=1),\n",
    "    data[\"subscribe\"],\n",
    "    test_size=0.33,\n",
    "    random_state=42,\n",
    ")"
   ]
  },
  {
   "cell_type": "code",
   "execution_count": 15,
   "id": "d83bb619",
   "metadata": {},
   "outputs": [],
   "source": [
    "imputer = ColumnTransformer(\n",
    "    [\n",
    "        (\"num_imputer\", SimpleImputer(strategy=\"median\"), num_vars_na),\n",
    "        (\"cat_imputer\", SimpleImputer(strategy=\"constant\", fill_value=\"missing\"), cat_vars_na),\n",
    "    ],\n",
    "    remainder=\"passthrough\",\n",
    ").set_output(transform=\"pandas\")"
   ]
  },
  {
   "cell_type": "code",
   "execution_count": 16,
   "id": "f8c3fcc8",
   "metadata": {},
   "outputs": [
    {
     "data": {
      "text/html": [
       "<div>\n",
       "<style scoped>\n",
       "    .dataframe tbody tr th:only-of-type {\n",
       "        vertical-align: middle;\n",
       "    }\n",
       "\n",
       "    .dataframe tbody tr th {\n",
       "        vertical-align: top;\n",
       "    }\n",
       "\n",
       "    .dataframe thead th {\n",
       "        text-align: right;\n",
       "    }\n",
       "</style>\n",
       "<table border=\"1\" class=\"dataframe\">\n",
       "  <thead>\n",
       "    <tr style=\"text-align: right;\">\n",
       "      <th></th>\n",
       "      <th>num_imputer__balance</th>\n",
       "      <th>num_imputer__day</th>\n",
       "      <th>num_imputer__duration</th>\n",
       "      <th>num_imputer__campaign</th>\n",
       "      <th>num_imputer__pdays</th>\n",
       "      <th>cat_imputer__job</th>\n",
       "      <th>cat_imputer__contact</th>\n",
       "      <th>cat_imputer__poutcome</th>\n",
       "      <th>remainder__age</th>\n",
       "      <th>remainder__marital</th>\n",
       "      <th>remainder__education</th>\n",
       "      <th>remainder__default</th>\n",
       "      <th>remainder__housing</th>\n",
       "      <th>remainder__loan</th>\n",
       "      <th>remainder__month</th>\n",
       "      <th>remainder__previous</th>\n",
       "    </tr>\n",
       "  </thead>\n",
       "  <tbody>\n",
       "    <tr>\n",
       "      <th>41031</th>\n",
       "      <td>448.0</td>\n",
       "      <td>13.0</td>\n",
       "      <td>126.0</td>\n",
       "      <td>2.0</td>\n",
       "      <td>-1.0</td>\n",
       "      <td>housemaid</td>\n",
       "      <td>cellular</td>\n",
       "      <td>missing</td>\n",
       "      <td>29</td>\n",
       "      <td>single</td>\n",
       "      <td>tertiary</td>\n",
       "      <td>no</td>\n",
       "      <td>no</td>\n",
       "      <td>no</td>\n",
       "      <td>aug</td>\n",
       "      <td>0</td>\n",
       "    </tr>\n",
       "    <tr>\n",
       "      <th>41950</th>\n",
       "      <td>0.0</td>\n",
       "      <td>22.0</td>\n",
       "      <td>102.0</td>\n",
       "      <td>2.0</td>\n",
       "      <td>-1.0</td>\n",
       "      <td>missing</td>\n",
       "      <td>cellular</td>\n",
       "      <td>failure</td>\n",
       "      <td>55</td>\n",
       "      <td>married</td>\n",
       "      <td>secondary</td>\n",
       "      <td>no</td>\n",
       "      <td>no</td>\n",
       "      <td>no</td>\n",
       "      <td>oct</td>\n",
       "      <td>1</td>\n",
       "    </tr>\n",
       "    <tr>\n",
       "      <th>39883</th>\n",
       "      <td>935.0</td>\n",
       "      <td>2.0</td>\n",
       "      <td>136.0</td>\n",
       "      <td>1.0</td>\n",
       "      <td>96.0</td>\n",
       "      <td>services</td>\n",
       "      <td>missing</td>\n",
       "      <td>failure</td>\n",
       "      <td>56</td>\n",
       "      <td>divorced</td>\n",
       "      <td>secondary</td>\n",
       "      <td>no</td>\n",
       "      <td>no</td>\n",
       "      <td>no</td>\n",
       "      <td>jun</td>\n",
       "      <td>3</td>\n",
       "    </tr>\n",
       "    <tr>\n",
       "      <th>44938</th>\n",
       "      <td>3232.0</td>\n",
       "      <td>6.0</td>\n",
       "      <td>541.0</td>\n",
       "      <td>1.0</td>\n",
       "      <td>204.0</td>\n",
       "      <td>housemaid</td>\n",
       "      <td>missing</td>\n",
       "      <td>failure</td>\n",
       "      <td>47</td>\n",
       "      <td>single</td>\n",
       "      <td>tertiary</td>\n",
       "      <td>no</td>\n",
       "      <td>no</td>\n",
       "      <td>no</td>\n",
       "      <td>oct</td>\n",
       "      <td>3</td>\n",
       "    </tr>\n",
       "    <tr>\n",
       "      <th>42103</th>\n",
       "      <td>508.0</td>\n",
       "      <td>2.0</td>\n",
       "      <td>154.0</td>\n",
       "      <td>3.0</td>\n",
       "      <td>-1.0</td>\n",
       "      <td>technician</td>\n",
       "      <td>cellular</td>\n",
       "      <td>unknown</td>\n",
       "      <td>39</td>\n",
       "      <td>married</td>\n",
       "      <td>tertiary</td>\n",
       "      <td>no</td>\n",
       "      <td>no</td>\n",
       "      <td>no</td>\n",
       "      <td>nov</td>\n",
       "      <td>0</td>\n",
       "    </tr>\n",
       "  </tbody>\n",
       "</table>\n",
       "</div>"
      ],
      "text/plain": [
       "       num_imputer__balance  num_imputer__day  num_imputer__duration   \n",
       "41031                 448.0              13.0                  126.0  \\\n",
       "41950                   0.0              22.0                  102.0   \n",
       "39883                 935.0               2.0                  136.0   \n",
       "44938                3232.0               6.0                  541.0   \n",
       "42103                 508.0               2.0                  154.0   \n",
       "\n",
       "       num_imputer__campaign  num_imputer__pdays cat_imputer__job   \n",
       "41031                    2.0                -1.0        housemaid  \\\n",
       "41950                    2.0                -1.0          missing   \n",
       "39883                    1.0                96.0         services   \n",
       "44938                    1.0               204.0        housemaid   \n",
       "42103                    3.0                -1.0       technician   \n",
       "\n",
       "      cat_imputer__contact cat_imputer__poutcome  remainder__age   \n",
       "41031             cellular               missing              29  \\\n",
       "41950             cellular               failure              55   \n",
       "39883              missing               failure              56   \n",
       "44938              missing               failure              47   \n",
       "42103             cellular               unknown              39   \n",
       "\n",
       "      remainder__marital remainder__education remainder__default   \n",
       "41031             single             tertiary                 no  \\\n",
       "41950            married            secondary                 no   \n",
       "39883           divorced            secondary                 no   \n",
       "44938             single             tertiary                 no   \n",
       "42103            married             tertiary                 no   \n",
       "\n",
       "      remainder__housing remainder__loan remainder__month  remainder__previous  \n",
       "41031                 no              no              aug                    0  \n",
       "41950                 no              no              oct                    1  \n",
       "39883                 no              no              jun                    3  \n",
       "44938                 no              no              oct                    3  \n",
       "42103                 no              no              nov                    0  "
      ]
     },
     "execution_count": 16,
     "metadata": {},
     "output_type": "execute_result"
    }
   ],
   "source": [
    "X_train = imputer.fit_transform(X_train)\n",
    "X_test = imputer.transform(X_test)\n",
    "\n",
    "X_train.head()"
   ]
  },
  {
   "cell_type": "code",
   "execution_count": 17,
   "id": "aff5ecf9",
   "metadata": {},
   "outputs": [
    {
     "data": {
      "text/plain": [
       "[]"
      ]
     },
     "execution_count": 17,
     "metadata": {},
     "output_type": "execute_result"
    }
   ],
   "source": [
    "# check absence of nan\n",
    "\n",
    "[c for c in X_test.columns if X_test[c].isnull().any()]"
   ]
  },
  {
   "cell_type": "code",
   "execution_count": null,
   "id": "7242c24e",
   "metadata": {},
   "outputs": [],
   "source": []
  }
 ],
 "metadata": {
  "kernelspec": {
   "display_name": "fsml",
   "language": "python",
   "name": "fsml"
  },
  "language_info": {
   "codemirror_mode": {
    "name": "ipython",
    "version": 3
   },
   "file_extension": ".py",
   "mimetype": "text/x-python",
   "name": "python",
   "nbconvert_exporter": "python",
   "pygments_lexer": "ipython3",
   "version": "3.10.5"
  },
  "toc": {
   "base_numbering": 1,
   "nav_menu": {},
   "number_sections": true,
   "sideBar": true,
   "skip_h1_title": false,
   "title_cell": "Table of Contents",
   "title_sidebar": "Contents",
   "toc_cell": false,
   "toc_position": {},
   "toc_section_display": true,
   "toc_window_display": false
  }
 },
 "nbformat": 4,
 "nbformat_minor": 5
}

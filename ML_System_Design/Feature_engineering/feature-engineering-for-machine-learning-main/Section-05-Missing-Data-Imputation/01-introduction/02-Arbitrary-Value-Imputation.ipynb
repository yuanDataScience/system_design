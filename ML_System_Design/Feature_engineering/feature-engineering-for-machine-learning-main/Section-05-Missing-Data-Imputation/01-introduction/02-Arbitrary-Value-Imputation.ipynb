{
 "cells": [
  {
   "cell_type": "markdown",
   "metadata": {},
   "source": [
    "## Arbitrary value imputation\n",
    "\n",
    "Imputation is the act of replacing missing data with statistical estimates of the missing values. The goal of any imputation technique is to produce a **complete dataset** that can be used to train machine learning models.\n",
    "\n",
    "Arbitrary value imputation consists of replacing all occurrences of missing values (NA) with an arbitrary value. The most common values are 0, 999, -999 (or other 9 combinations), or -1 (if the distribution is positive).\n",
    "\n",
    "### Which variables can I impute with an arbitrary value?\n",
    "\n",
    "Both categorical and numerical variables can be imputed with arbitrary values. \n",
    "\n",
    "For categorical variables, this is the equivalent of replacing all instances of NA with an additional label, which is very common practice, so I will treat it separately in a future notebook.\n",
    "\n",
    "### Assumptions\n",
    "\n",
    "- Data is not missing at random.\n",
    "\n",
    "If this is the case, we want to flag the missing values with a different (arbitrary) value, instead of replacing those occurrences with the mean or the median, which represent the majority.\n",
    "\n",
    "### Advantages\n",
    "\n",
    "- Fast way of obtaining complete datasets\n",
    "\n",
    "- Highlights missing observations\n",
    "\n",
    "### Limitations\n",
    "\n",
    "- Distortion of the original variable distribution\n",
    "\n",
    "    - Distortion of the original variance\n",
    "\n",
    "    - Distortion of the covariance with the remaining variables of the dataset\n",
    "\n",
    "- It may mask or create outliers\n",
    "\n",
    "- Need to be careful not to choose an arbitrary value too similar to the mean or median (or any other common value of the variable distribution)\n",
    "\n",
    "### When to use arbitrary value imputation\n",
    "\n",
    "Replacing the NA with arbitrary values should be used when data is not missing at random. In this scenario, we would not like to replace it with the median or the mean, and therefore make the NA look like the majority of our observations. Instead, we want to flag the fact that the observation is missing.\n",
    "\n",
    "This approach is widely used both in organisations and in Kaggle competitions. The challenge is deciding which value to use for the imputation.\n",
    "\n",
    "### Final note\n",
    "\n",
    "When variables are captured by third parties, like credit agencies, they place arbitrary numbers to signal the fact that the value for that observation is missing. So, arbitrary value imputation is also common practice in real-life data collections.\n",
    "\n",
    "## Datasets:\n",
    "\n",
    "- Ames House Price\n",
    "- Titanic\n",
    "\n",
    "To download the datasets, please refer to the lecture **Datasets** in **Section 2** of this course."
   ]
  },
  {
   "cell_type": "code",
   "execution_count": 1,
   "metadata": {},
   "outputs": [],
   "source": [
    "import pandas as pd\n",
    "import numpy as np\n",
    "\n",
    "import matplotlib.pyplot as plt\n",
    "\n",
    "# to split the datasets\n",
    "from sklearn.model_selection import train_test_split"
   ]
  },
  {
   "cell_type": "code",
   "execution_count": 2,
   "metadata": {},
   "outputs": [
    {
     "data": {
      "text/html": [
       "<div>\n",
       "<style scoped>\n",
       "    .dataframe tbody tr th:only-of-type {\n",
       "        vertical-align: middle;\n",
       "    }\n",
       "\n",
       "    .dataframe tbody tr th {\n",
       "        vertical-align: top;\n",
       "    }\n",
       "\n",
       "    .dataframe thead th {\n",
       "        text-align: right;\n",
       "    }\n",
       "</style>\n",
       "<table border=\"1\" class=\"dataframe\">\n",
       "  <thead>\n",
       "    <tr style=\"text-align: right;\">\n",
       "      <th></th>\n",
       "      <th>survived</th>\n",
       "      <th>age</th>\n",
       "      <th>fare</th>\n",
       "    </tr>\n",
       "  </thead>\n",
       "  <tbody>\n",
       "    <tr>\n",
       "      <th>0</th>\n",
       "      <td>1</td>\n",
       "      <td>29.0000</td>\n",
       "      <td>211.3375</td>\n",
       "    </tr>\n",
       "    <tr>\n",
       "      <th>1</th>\n",
       "      <td>1</td>\n",
       "      <td>0.9167</td>\n",
       "      <td>151.5500</td>\n",
       "    </tr>\n",
       "    <tr>\n",
       "      <th>2</th>\n",
       "      <td>0</td>\n",
       "      <td>2.0000</td>\n",
       "      <td>151.5500</td>\n",
       "    </tr>\n",
       "    <tr>\n",
       "      <th>3</th>\n",
       "      <td>0</td>\n",
       "      <td>30.0000</td>\n",
       "      <td>151.5500</td>\n",
       "    </tr>\n",
       "    <tr>\n",
       "      <th>4</th>\n",
       "      <td>0</td>\n",
       "      <td>25.0000</td>\n",
       "      <td>151.5500</td>\n",
       "    </tr>\n",
       "  </tbody>\n",
       "</table>\n",
       "</div>"
      ],
      "text/plain": [
       "   survived      age      fare\n",
       "0         1  29.0000  211.3375\n",
       "1         1   0.9167  151.5500\n",
       "2         0   2.0000  151.5500\n",
       "3         0  30.0000  151.5500\n",
       "4         0  25.0000  151.5500"
      ]
     },
     "execution_count": 2,
     "metadata": {},
     "output_type": "execute_result"
    }
   ],
   "source": [
    "# load the Titanic dataset with a few variables for demonstration\n",
    "\n",
    "data = pd.read_csv(\"../../titanic.csv\", usecols=[\"age\", \"fare\", \"survived\"])\n",
    "data.head()"
   ]
  },
  {
   "cell_type": "code",
   "execution_count": 3,
   "metadata": {},
   "outputs": [
    {
     "data": {
      "text/plain": [
       "survived    0.000000\n",
       "age         0.200917\n",
       "fare        0.000764\n",
       "dtype: float64"
      ]
     },
     "execution_count": 3,
     "metadata": {},
     "output_type": "execute_result"
    }
   ],
   "source": [
    "# Let's look at the percentage of NA\n",
    "\n",
    "data.isnull().mean()"
   ]
  },
  {
   "cell_type": "markdown",
   "metadata": {},
   "source": [
    "The only variable with missing data is Age, with ~20% of missing observations.\n",
    "\n",
    "### Imputation important\n",
    "\n",
    "Imputation should be done over the training set, and then propagated to the test set. For arbitrary value imputation this is not so important, because we chose the value arbitrarily, however it is good to adhere to this practice and select the arbitrary value by looking only at the distribution of the variables in the train set."
   ]
  },
  {
   "cell_type": "code",
   "execution_count": 4,
   "metadata": {},
   "outputs": [
    {
     "data": {
      "text/plain": [
       "((916, 2), (393, 2))"
      ]
     },
     "execution_count": 4,
     "metadata": {},
     "output_type": "execute_result"
    }
   ],
   "source": [
    "# let's separate into training and testing set\n",
    "\n",
    "X_train, X_test, y_train, y_test = train_test_split(\n",
    "    data[[\"age\", \"fare\"]],  # predictors\n",
    "    data[\"survived\"],  # target\n",
    "    test_size=0.3,  # percentage of obs in test set\n",
    "    random_state=0,\n",
    ")  # seed to ensure reproducibility\n",
    "\n",
    "X_train.shape, X_test.shape"
   ]
  },
  {
   "cell_type": "code",
   "execution_count": 5,
   "metadata": {},
   "outputs": [
    {
     "data": {
      "text/plain": [
       "age     0.191048\n",
       "fare    0.000000\n",
       "dtype: float64"
      ]
     },
     "execution_count": 5,
     "metadata": {},
     "output_type": "execute_result"
    }
   ],
   "source": [
    "# Let's explore the missing data in the train set\n",
    "# the percentages should be fairly similar to those\n",
    "# of the whole dataset\n",
    "\n",
    "X_train.isnull().mean()"
   ]
  },
  {
   "cell_type": "code",
   "execution_count": 6,
   "metadata": {},
   "outputs": [
    {
     "data": {
      "image/png": "[encoded data removed]",
      "text/plain": [
       "<Figure size 432x288 with 2 Axes>"
      ]
     },
     "metadata": {
      "needs_background": "light"
     },
     "output_type": "display_data"
    }
   ],
   "source": [
    "# let's explore the distribution of the variables\n",
    "# to decide which arbitrary value to use\n",
    "\n",
    "X_train.hist(bins=50)\n",
    "plt.show()"
   ]
  },
  {
   "cell_type": "code",
   "execution_count": 7,
   "metadata": {},
   "outputs": [
    {
     "data": {
      "text/html": [
       "<div>\n",
       "<style scoped>\n",
       "    .dataframe tbody tr th:only-of-type {\n",
       "        vertical-align: middle;\n",
       "    }\n",
       "\n",
       "    .dataframe tbody tr th {\n",
       "        vertical-align: top;\n",
       "    }\n",
       "\n",
       "    .dataframe thead th {\n",
       "        text-align: right;\n",
       "    }\n",
       "</style>\n",
       "<table border=\"1\" class=\"dataframe\">\n",
       "  <thead>\n",
       "    <tr style=\"text-align: right;\">\n",
       "      <th></th>\n",
       "      <th>age</th>\n",
       "      <th>fare</th>\n",
       "      <th>Age_99</th>\n",
       "      <th>Age_minus1</th>\n",
       "    </tr>\n",
       "  </thead>\n",
       "  <tbody>\n",
       "    <tr>\n",
       "      <th>501</th>\n",
       "      <td>13.0</td>\n",
       "      <td>19.5000</td>\n",
       "      <td>13.0</td>\n",
       "      <td>13.0</td>\n",
       "    </tr>\n",
       "    <tr>\n",
       "      <th>588</th>\n",
       "      <td>4.0</td>\n",
       "      <td>23.0000</td>\n",
       "      <td>4.0</td>\n",
       "      <td>4.0</td>\n",
       "    </tr>\n",
       "    <tr>\n",
       "      <th>402</th>\n",
       "      <td>30.0</td>\n",
       "      <td>13.8583</td>\n",
       "      <td>30.0</td>\n",
       "      <td>30.0</td>\n",
       "    </tr>\n",
       "    <tr>\n",
       "      <th>1193</th>\n",
       "      <td>NaN</td>\n",
       "      <td>7.7250</td>\n",
       "      <td>99.0</td>\n",
       "      <td>-1.0</td>\n",
       "    </tr>\n",
       "    <tr>\n",
       "      <th>686</th>\n",
       "      <td>22.0</td>\n",
       "      <td>7.7250</td>\n",
       "      <td>22.0</td>\n",
       "      <td>22.0</td>\n",
       "    </tr>\n",
       "    <tr>\n",
       "      <th>971</th>\n",
       "      <td>NaN</td>\n",
       "      <td>7.8792</td>\n",
       "      <td>99.0</td>\n",
       "      <td>-1.0</td>\n",
       "    </tr>\n",
       "    <tr>\n",
       "      <th>117</th>\n",
       "      <td>30.0</td>\n",
       "      <td>56.9292</td>\n",
       "      <td>30.0</td>\n",
       "      <td>30.0</td>\n",
       "    </tr>\n",
       "    <tr>\n",
       "      <th>540</th>\n",
       "      <td>2.0</td>\n",
       "      <td>26.0000</td>\n",
       "      <td>2.0</td>\n",
       "      <td>2.0</td>\n",
       "    </tr>\n",
       "    <tr>\n",
       "      <th>294</th>\n",
       "      <td>49.0</td>\n",
       "      <td>110.8833</td>\n",
       "      <td>49.0</td>\n",
       "      <td>49.0</td>\n",
       "    </tr>\n",
       "    <tr>\n",
       "      <th>261</th>\n",
       "      <td>35.0</td>\n",
       "      <td>26.2875</td>\n",
       "      <td>35.0</td>\n",
       "      <td>35.0</td>\n",
       "    </tr>\n",
       "    <tr>\n",
       "      <th>587</th>\n",
       "      <td>2.0</td>\n",
       "      <td>23.0000</td>\n",
       "      <td>2.0</td>\n",
       "      <td>2.0</td>\n",
       "    </tr>\n",
       "    <tr>\n",
       "      <th>489</th>\n",
       "      <td>42.0</td>\n",
       "      <td>26.0000</td>\n",
       "      <td>42.0</td>\n",
       "      <td>42.0</td>\n",
       "    </tr>\n",
       "    <tr>\n",
       "      <th>2</th>\n",
       "      <td>2.0</td>\n",
       "      <td>151.5500</td>\n",
       "      <td>2.0</td>\n",
       "      <td>2.0</td>\n",
       "    </tr>\n",
       "    <tr>\n",
       "      <th>405</th>\n",
       "      <td>18.0</td>\n",
       "      <td>13.0000</td>\n",
       "      <td>18.0</td>\n",
       "      <td>18.0</td>\n",
       "    </tr>\n",
       "    <tr>\n",
       "      <th>1284</th>\n",
       "      <td>NaN</td>\n",
       "      <td>8.0500</td>\n",
       "      <td>99.0</td>\n",
       "      <td>-1.0</td>\n",
       "    </tr>\n",
       "  </tbody>\n",
       "</table>\n",
       "</div>"
      ],
      "text/plain": [
       "       age      fare  Age_99  Age_minus1\n",
       "501   13.0   19.5000    13.0        13.0\n",
       "588    4.0   23.0000     4.0         4.0\n",
       "402   30.0   13.8583    30.0        30.0\n",
       "1193   NaN    7.7250    99.0        -1.0\n",
       "686   22.0    7.7250    22.0        22.0\n",
       "971    NaN    7.8792    99.0        -1.0\n",
       "117   30.0   56.9292    30.0        30.0\n",
       "540    2.0   26.0000     2.0         2.0\n",
       "294   49.0  110.8833    49.0        49.0\n",
       "261   35.0   26.2875    35.0        35.0\n",
       "587    2.0   23.0000     2.0         2.0\n",
       "489   42.0   26.0000    42.0        42.0\n",
       "2      2.0  151.5500     2.0         2.0\n",
       "405   18.0   13.0000    18.0        18.0\n",
       "1284   NaN    8.0500    99.0        -1.0"
      ]
     },
     "execution_count": 7,
     "metadata": {},
     "output_type": "execute_result"
    }
   ],
   "source": [
    "# For this demo I will replace NA by 2 different arbitrary values\n",
    "# one at the far right end of the distribution ==> 99\n",
    "# and alternatively by -1, taking advantage that Age takes only positive values\n",
    "\n",
    "# first replace with 99\n",
    "X_train[\"Age_99\"] = X_train[\"age\"].fillna(99)\n",
    "\n",
    "# now replace with -1\n",
    "X_train[\"Age_minus1\"] = X_train[\"age\"].fillna(-1)\n",
    "\n",
    "X_train.head(15)"
   ]
  },
  {
   "cell_type": "markdown",
   "metadata": {},
   "source": [
    "Look at the rows with missing data (NaN) in Age, and see how in the new variables those were replaced by either 99 or -1."
   ]
  },
  {
   "cell_type": "code",
   "execution_count": 8,
   "metadata": {},
   "outputs": [
    {
     "name": "stdout",
     "output_type": "stream",
     "text": [
      "Original variable variance:  194.16304666581863\n",
      "Variance after 99 imputation:  888.7051993280913\n",
      "Variance after -1 imputation:  307.94005269387753\n"
     ]
    }
   ],
   "source": [
    "# we can see a change in the variance after arbitrary value imputation\n",
    "# this is expected, because the percentage of missing data is quite\n",
    "# high in Age ~20%\n",
    "\n",
    "print(\"Original variable variance: \", X_train[\"age\"].var())\n",
    "print(\"Variance after 99 imputation: \", X_train[\"Age_99\"].var())\n",
    "print(\"Variance after -1 imputation: \", X_train[\"Age_minus1\"].var())"
   ]
  },
  {
   "cell_type": "markdown",
   "metadata": {},
   "source": [
    "In fact, the effect on the variance will also be driven by the magnitude of the arbitrary value selected for the imputation, compare 99 with -1."
   ]
  },
  {
   "cell_type": "code",
   "execution_count": 9,
   "metadata": {},
   "outputs": [
    {
     "data": {
      "text/plain": [
       "<matplotlib.legend.Legend at 0x24ffa41f310>"
      ]
     },
     "execution_count": 9,
     "metadata": {},
     "output_type": "execute_result"
    },
    {
     "data": {
      "image/png": "[encoded data removed]",
      "text/plain": [
       "<Figure size 432x288 with 1 Axes>"
      ]
     },
     "metadata": {
      "needs_background": "light"
     },
     "output_type": "display_data"
    }
   ],
   "source": [
    "# we can see that the distribution has changed\n",
    "# with now more values accumulating towards the arbitrary values\n",
    "\n",
    "fig = plt.figure()\n",
    "ax = fig.add_subplot(111)\n",
    "\n",
    "# original variable distribution\n",
    "X_train[\"age\"].plot(kind=\"kde\", ax=ax)\n",
    "\n",
    "# variable imputed with 99\n",
    "X_train[\"Age_99\"].plot(kind=\"kde\", ax=ax, color=\"red\")\n",
    "\n",
    "# variable imputed with -1\n",
    "X_train[\"Age_minus1\"].plot(kind=\"kde\", ax=ax, color=\"green\")\n",
    "\n",
    "# add legends\n",
    "lines, labels = ax.get_legend_handles_labels()\n",
    "ax.legend(lines, labels, loc=\"best\")"
   ]
  },
  {
   "cell_type": "markdown",
   "metadata": {},
   "source": [
    "As mentioned above, arbitrary value imputation distorts the original distribution of the variable Age. The transformed variable shows more values around arbitrary values.\n",
    "\n",
    "**Is this important?**\n",
    "\n",
    "It depends on the machine learning model you want to build. Distorting the variable distribution may affect its relationship with the target, which might be important for linear models. Therefore, the final imputed variable might negatively affect the linear model's performance.\n",
    "\n",
    "On the other hand, this technique works quite well with tree-based algorithms."
   ]
  },
  {
   "cell_type": "code",
   "execution_count": 10,
   "metadata": {},
   "outputs": [
    {
     "data": {
      "text/html": [
       "<div>\n",
       "<style scoped>\n",
       "    .dataframe tbody tr th:only-of-type {\n",
       "        vertical-align: middle;\n",
       "    }\n",
       "\n",
       "    .dataframe tbody tr th {\n",
       "        vertical-align: top;\n",
       "    }\n",
       "\n",
       "    .dataframe thead th {\n",
       "        text-align: right;\n",
       "    }\n",
       "</style>\n",
       "<table border=\"1\" class=\"dataframe\">\n",
       "  <thead>\n",
       "    <tr style=\"text-align: right;\">\n",
       "      <th></th>\n",
       "      <th>fare</th>\n",
       "      <th>age</th>\n",
       "      <th>Age_99</th>\n",
       "      <th>Age_minus1</th>\n",
       "    </tr>\n",
       "  </thead>\n",
       "  <tbody>\n",
       "    <tr>\n",
       "      <th>fare</th>\n",
       "      <td>2248.326729</td>\n",
       "      <td>136.176223</td>\n",
       "      <td>-38.722001</td>\n",
       "      <td>177.733891</td>\n",
       "    </tr>\n",
       "    <tr>\n",
       "      <th>age</th>\n",
       "      <td>136.176223</td>\n",
       "      <td>194.163047</td>\n",
       "      <td>194.163047</td>\n",
       "      <td>194.163047</td>\n",
       "    </tr>\n",
       "    <tr>\n",
       "      <th>Age_99</th>\n",
       "      <td>-38.722001</td>\n",
       "      <td>194.163047</td>\n",
       "      <td>888.705199</td>\n",
       "      <td>-175.265319</td>\n",
       "    </tr>\n",
       "    <tr>\n",
       "      <th>Age_minus1</th>\n",
       "      <td>177.733891</td>\n",
       "      <td>194.163047</td>\n",
       "      <td>-175.265319</td>\n",
       "      <td>307.940053</td>\n",
       "    </tr>\n",
       "  </tbody>\n",
       "</table>\n",
       "</div>"
      ],
      "text/plain": [
       "                   fare         age      Age_99  Age_minus1\n",
       "fare        2248.326729  136.176223  -38.722001  177.733891\n",
       "age          136.176223  194.163047  194.163047  194.163047\n",
       "Age_99       -38.722001  194.163047  888.705199 -175.265319\n",
       "Age_minus1   177.733891  194.163047 -175.265319  307.940053"
      ]
     },
     "execution_count": 10,
     "metadata": {},
     "output_type": "execute_result"
    }
   ],
   "source": [
    "# we also said that arbitrary value imputation may affect the relationship\n",
    "# with the other variables in the dataset, let's have a look\n",
    "\n",
    "X_train[[\"fare\", \"age\", \"Age_99\", \"Age_minus1\"]].cov()"
   ]
  },
  {
   "cell_type": "markdown",
   "metadata": {},
   "source": [
    "We see indeed that the covariance between Age and Fare is changed after the arbitrary value imputation."
   ]
  },
  {
   "cell_type": "code",
   "execution_count": 11,
   "metadata": {},
   "outputs": [
    {
     "data": {
      "text/plain": [
       "<AxesSubplot: >"
      ]
     },
     "execution_count": 11,
     "metadata": {},
     "output_type": "execute_result"
    },
    {
     "data": {
      "image/png": "[encoded data removed]",
      "text/plain": [
       "<Figure size 432x288 with 1 Axes>"
      ]
     },
     "metadata": {
      "needs_background": "light"
     },
     "output_type": "display_data"
    }
   ],
   "source": [
    "# Finally, I mentioned that arbitrary value imputation may\n",
    "# affect the perception of outliers\n",
    "\n",
    "# Let's find out using a boxplot\n",
    "X_train[[\"age\", \"Age_99\", \"Age_minus1\"]].boxplot()"
   ]
  },
  {
   "cell_type": "markdown",
   "metadata": {},
   "source": [
    "We can see that adding values at the end of the distribution mask entirely values that were outliers in the original distribution."
   ]
  },
  {
   "cell_type": "markdown",
   "metadata": {},
   "source": [
    "## House Prices Dataset\n",
    "\n",
    "Let's repeat the exercise in the House Prices dataset. In this dataset, there are variables with a lot or few missing data. Therefore we can compare the effect of arbitrary value imputation in both scenarios."
   ]
  },
  {
   "cell_type": "code",
   "execution_count": 12,
   "metadata": {},
   "outputs": [],
   "source": [
    "# we are going to use only the following variables,\n",
    "# 3 of which contain NA\n",
    "\n",
    "cols_to_use = [\n",
    "    \"OverallQual\",\n",
    "    \"TotalBsmtSF\",\n",
    "    \"1stFlrSF\",\n",
    "    \"GrLivArea\",\n",
    "    \"WoodDeckSF\",\n",
    "    \"BsmtUnfSF\",\n",
    "    \"LotFrontage\",\n",
    "    \"MasVnrArea\",\n",
    "    \"GarageYrBlt\",\n",
    "    \"SalePrice\",\n",
    "]"
   ]
  },
  {
   "cell_type": "code",
   "execution_count": 13,
   "metadata": {},
   "outputs": [
    {
     "name": "stdout",
     "output_type": "stream",
     "text": [
      "(1460, 10)\n"
     ]
    },
    {
     "data": {
      "text/html": [
       "<div>\n",
       "<style scoped>\n",
       "    .dataframe tbody tr th:only-of-type {\n",
       "        vertical-align: middle;\n",
       "    }\n",
       "\n",
       "    .dataframe tbody tr th {\n",
       "        vertical-align: top;\n",
       "    }\n",
       "\n",
       "    .dataframe thead th {\n",
       "        text-align: right;\n",
       "    }\n",
       "</style>\n",
       "<table border=\"1\" class=\"dataframe\">\n",
       "  <thead>\n",
       "    <tr style=\"text-align: right;\">\n",
       "      <th></th>\n",
       "      <th>LotFrontage</th>\n",
       "      <th>OverallQual</th>\n",
       "      <th>MasVnrArea</th>\n",
       "      <th>BsmtUnfSF</th>\n",
       "      <th>TotalBsmtSF</th>\n",
       "      <th>1stFlrSF</th>\n",
       "      <th>GrLivArea</th>\n",
       "      <th>GarageYrBlt</th>\n",
       "      <th>WoodDeckSF</th>\n",
       "      <th>SalePrice</th>\n",
       "    </tr>\n",
       "  </thead>\n",
       "  <tbody>\n",
       "    <tr>\n",
       "      <th>0</th>\n",
       "      <td>65.0</td>\n",
       "      <td>7</td>\n",
       "      <td>196.0</td>\n",
       "      <td>150</td>\n",
       "      <td>856</td>\n",
       "      <td>856</td>\n",
       "      <td>1710</td>\n",
       "      <td>2003.0</td>\n",
       "      <td>0</td>\n",
       "      <td>208500</td>\n",
       "    </tr>\n",
       "    <tr>\n",
       "      <th>1</th>\n",
       "      <td>80.0</td>\n",
       "      <td>6</td>\n",
       "      <td>0.0</td>\n",
       "      <td>284</td>\n",
       "      <td>1262</td>\n",
       "      <td>1262</td>\n",
       "      <td>1262</td>\n",
       "      <td>1976.0</td>\n",
       "      <td>298</td>\n",
       "      <td>181500</td>\n",
       "    </tr>\n",
       "    <tr>\n",
       "      <th>2</th>\n",
       "      <td>68.0</td>\n",
       "      <td>7</td>\n",
       "      <td>162.0</td>\n",
       "      <td>434</td>\n",
       "      <td>920</td>\n",
       "      <td>920</td>\n",
       "      <td>1786</td>\n",
       "      <td>2001.0</td>\n",
       "      <td>0</td>\n",
       "      <td>223500</td>\n",
       "    </tr>\n",
       "    <tr>\n",
       "      <th>3</th>\n",
       "      <td>60.0</td>\n",
       "      <td>7</td>\n",
       "      <td>0.0</td>\n",
       "      <td>540</td>\n",
       "      <td>756</td>\n",
       "      <td>961</td>\n",
       "      <td>1717</td>\n",
       "      <td>1998.0</td>\n",
       "      <td>0</td>\n",
       "      <td>140000</td>\n",
       "    </tr>\n",
       "    <tr>\n",
       "      <th>4</th>\n",
       "      <td>84.0</td>\n",
       "      <td>8</td>\n",
       "      <td>350.0</td>\n",
       "      <td>490</td>\n",
       "      <td>1145</td>\n",
       "      <td>1145</td>\n",
       "      <td>2198</td>\n",
       "      <td>2000.0</td>\n",
       "      <td>192</td>\n",
       "      <td>250000</td>\n",
       "    </tr>\n",
       "  </tbody>\n",
       "</table>\n",
       "</div>"
      ],
      "text/plain": [
       "   LotFrontage  OverallQual  MasVnrArea  BsmtUnfSF  TotalBsmtSF  1stFlrSF  \\\n",
       "0         65.0            7       196.0        150          856       856   \n",
       "1         80.0            6         0.0        284         1262      1262   \n",
       "2         68.0            7       162.0        434          920       920   \n",
       "3         60.0            7         0.0        540          756       961   \n",
       "4         84.0            8       350.0        490         1145      1145   \n",
       "\n",
       "   GrLivArea  GarageYrBlt  WoodDeckSF  SalePrice  \n",
       "0       1710       2003.0           0     208500  \n",
       "1       1262       1976.0         298     181500  \n",
       "2       1786       2001.0           0     223500  \n",
       "3       1717       1998.0           0     140000  \n",
       "4       2198       2000.0         192     250000  "
      ]
     },
     "execution_count": 13,
     "metadata": {},
     "output_type": "execute_result"
    }
   ],
   "source": [
    "# let's load the House Prices dataset\n",
    "\n",
    "data = pd.read_csv(\"../../houseprice.csv\", usecols=cols_to_use)\n",
    "print(data.shape)\n",
    "data.head()"
   ]
  },
  {
   "cell_type": "code",
   "execution_count": 14,
   "metadata": {},
   "outputs": [
    {
     "data": {
      "text/plain": [
       "['LotFrontage', 'MasVnrArea', 'GarageYrBlt']"
      ]
     },
     "execution_count": 14,
     "metadata": {},
     "output_type": "execute_result"
    }
   ],
   "source": [
    "# print the variables that contain missing data\n",
    "\n",
    "# in the next list comprehension, I loop over all the columns\n",
    "# of the dataset and select those that contain missing data\n",
    "\n",
    "[var for var in data.columns if data[var].isnull().sum() > 0]"
   ]
  },
  {
   "cell_type": "code",
   "execution_count": 15,
   "metadata": {},
   "outputs": [
    {
     "data": {
      "text/plain": [
       "LotFrontage    0.177397\n",
       "MasVnrArea     0.005479\n",
       "GarageYrBlt    0.055479\n",
       "dtype: float64"
      ]
     },
     "execution_count": 15,
     "metadata": {},
     "output_type": "execute_result"
    }
   ],
   "source": [
    "# find the percentage of missing data within those variables\n",
    "# same code as we learnt in section 3 on variable characteristics\n",
    "\n",
    "data[[\"LotFrontage\", \"MasVnrArea\", \"GarageYrBlt\"]].isnull().mean()"
   ]
  },
  {
   "cell_type": "markdown",
   "metadata": {},
   "source": [
    "First, I separate into train and test."
   ]
  },
  {
   "cell_type": "code",
   "execution_count": 16,
   "metadata": {},
   "outputs": [
    {
     "data": {
      "text/plain": [
       "((1022, 9), (438, 9))"
      ]
     },
     "execution_count": 16,
     "metadata": {},
     "output_type": "execute_result"
    }
   ],
   "source": [
    "# let's separate into training and testing set\n",
    "\n",
    "X_train, X_test, y_train, y_test = train_test_split(\n",
    "    data.drop(\"SalePrice\", axis=1),\n",
    "    data[\"SalePrice\"],\n",
    "    test_size=0.3,\n",
    "    random_state=0,\n",
    ")\n",
    "\n",
    "X_train.shape, X_test.shape"
   ]
  },
  {
   "cell_type": "code",
   "execution_count": 17,
   "metadata": {},
   "outputs": [
    {
     "data": {
      "image/png": "[encoded data removed]",
      "text/plain": [
       "<Figure size 720x720 with 9 Axes>"
      ]
     },
     "metadata": {
      "needs_background": "light"
     },
     "output_type": "display_data"
    }
   ],
   "source": [
    "# let's plot the distributions of the variables\n",
    "# we learnt this code in section 3 on variable characteristics\n",
    "\n",
    "X_train.hist(bins=50, figsize=(10, 10))\n",
    "plt.show()"
   ]
  },
  {
   "cell_type": "code",
   "execution_count": 18,
   "metadata": {},
   "outputs": [],
   "source": [
    "# Let's work with the variable LotFrontage first\n",
    "\n",
    "# I create a new variable with the missing values replaced\n",
    "# by 999 using the function we created above\n",
    "\n",
    "# in this case I chose 999 to place the value at the far right end of the\n",
    "# distribution. As we can see from the hist above, LotFrontAge takes values\n",
    "# up to 300\n",
    "\n",
    "X_train[\"LotFrontage_imputed\"] = X_train[\"LotFrontage\"].fillna(999)\n",
    "X_test[\"LotFrontage_imputed\"] = X_test[\"LotFrontage\"].fillna(999)"
   ]
  },
  {
   "cell_type": "code",
   "execution_count": 19,
   "metadata": {},
   "outputs": [],
   "source": [
    "# MasVnrArea takes values up to 1500, therefore, 999 will not\n",
    "# work for this variable, as it is a normal value, I need to chose\n",
    "# a bigger value: 2999\n",
    "\n",
    "X_train.loc[:, \"MasVnrArea_imputed\"] = X_train[\"MasVnrArea\"].fillna(2999)\n",
    "X_test.loc[:, \"MasVnrArea_imputed\"] = X_test[\"MasVnrArea\"].fillna(2999)"
   ]
  },
  {
   "cell_type": "code",
   "execution_count": 20,
   "metadata": {},
   "outputs": [
    {
     "data": {
      "text/plain": [
       "<matplotlib.legend.Legend at 0x24ffce692a0>"
      ]
     },
     "execution_count": 20,
     "metadata": {},
     "output_type": "execute_result"
    },
    {
     "data": {
      "image/png": "[encoded data removed]",
      "text/plain": [
       "<Figure size 432x288 with 1 Axes>"
      ]
     },
     "metadata": {
      "needs_background": "light"
     },
     "output_type": "display_data"
    }
   ],
   "source": [
    "# let's evaluate the effect of arbitrary imputation on the distribution\n",
    "\n",
    "# we can see that the distribution has changed for LotFrontAge\n",
    "# with now more values accumulating towards 999\n",
    "\n",
    "fig = plt.figure()\n",
    "ax = fig.add_subplot(111)\n",
    "\n",
    "# original variable distribution\n",
    "X_train[\"LotFrontage\"].plot(kind=\"kde\", ax=ax)\n",
    "\n",
    "# variable imputed with the 999\n",
    "X_train[\"LotFrontage_imputed\"].plot(kind=\"kde\", ax=ax, color=\"red\")\n",
    "\n",
    "# add legends\n",
    "lines, labels = ax.get_legend_handles_labels()\n",
    "ax.legend(lines, labels, loc=\"best\")"
   ]
  },
  {
   "cell_type": "code",
   "execution_count": 21,
   "metadata": {},
   "outputs": [
    {
     "data": {
      "text/plain": [
       "<matplotlib.legend.Legend at 0x24ffcbcff70>"
      ]
     },
     "execution_count": 21,
     "metadata": {},
     "output_type": "execute_result"
    },
    {
     "data": {
      "image/png": "[encoded data removed]",
      "text/plain": [
       "<Figure size 432x288 with 1 Axes>"
      ]
     },
     "metadata": {
      "needs_background": "light"
     },
     "output_type": "display_data"
    }
   ],
   "source": [
    "# For MasVnrArea, because the percentage of missing data\n",
    "# was low, the change in the distribution is smaller\n",
    "\n",
    "fig = plt.figure()\n",
    "ax = fig.add_subplot(111)\n",
    "\n",
    "# original variable distribution\n",
    "X_train[\"MasVnrArea\"].plot(kind=\"kde\", ax=ax)\n",
    "\n",
    "# variable imputed with 2999\n",
    "X_train[\"MasVnrArea_imputed\"].plot(kind=\"kde\", ax=ax, color=\"red\")\n",
    "\n",
    "# add legends\n",
    "lines, labels = ax.get_legend_handles_labels()\n",
    "ax.legend(lines, labels, loc=\"best\")"
   ]
  },
  {
   "cell_type": "markdown",
   "metadata": {},
   "source": [
    "From the plots, we can see that the distribution of LotFrontAge has changed quite dramatically, but not so much the distribution of MasVnrArea. This is because the percentage of missing values in the second variable is quite small. However, the distribution will be impacted more or less depending on the arbitrary value you choose to replace the NA. \n",
    "\n",
    "Why don't you go ahead and try different numbers and compare the distributions?\n",
    "\n",
    "Finally, you can see from the demo that the process of selecting the arbitrary value is quite manual. We need to go variable per variable, observe the distribution and min/max values, and then select the arbitrary value. It works well for a few variables, but if our datasets contain hundreds or thousands, it becomes a bit inconvenient. An alternative to automation is to place the values at the end of the distribution, as we will see in the next section."
   ]
  },
  {
   "cell_type": "code",
   "execution_count": 22,
   "metadata": {},
   "outputs": [
    {
     "name": "stdout",
     "output_type": "stream",
     "text": [
      "Original Variance:  532.5872021885677\n",
      "Variance after imputation:  130742.07296576205\n"
     ]
    }
   ],
   "source": [
    "# similarly we can explore the effect of the imputation technique on\n",
    "# the variance\n",
    "\n",
    "# we can see a change in the variance after imputation for LotFrontAge\n",
    "# this is expected, because the percentage of missing data is quite\n",
    "# high ~20%\n",
    "\n",
    "# in fact the effect is quite dramatic\n",
    "\n",
    "print(\"Original Variance: \", X_train[\"LotFrontage\"].var())\n",
    "print(\"Variance after imputation: \", X_train[\"LotFrontage_imputed\"].var())"
   ]
  },
  {
   "cell_type": "code",
   "execution_count": 23,
   "metadata": {},
   "outputs": [
    {
     "name": "stdout",
     "output_type": "stream",
     "text": [
      "Original Variance:  32983.53871003956\n",
      "Variance after imputation:  73677.0287993238\n"
     ]
    }
   ],
   "source": [
    "# the same for MasnVnrArea, even though the % of NA is small, the\n",
    "# arbitrary value is much bigger, which in turn affects the variance\n",
    "# quite a bit\n",
    "\n",
    "print(\"Original Variance: \", X_train[\"MasVnrArea\"].var())\n",
    "print(\"Variance after imputation: \", X_train[\"MasVnrArea_imputed\"].var())"
   ]
  },
  {
   "cell_type": "code",
   "execution_count": 24,
   "metadata": {},
   "outputs": [
    {
     "data": {
      "text/html": [
       "<div>\n",
       "<style scoped>\n",
       "    .dataframe tbody tr th:only-of-type {\n",
       "        vertical-align: middle;\n",
       "    }\n",
       "\n",
       "    .dataframe tbody tr th {\n",
       "        vertical-align: top;\n",
       "    }\n",
       "\n",
       "    .dataframe thead th {\n",
       "        text-align: right;\n",
       "    }\n",
       "</style>\n",
       "<table border=\"1\" class=\"dataframe\">\n",
       "  <thead>\n",
       "    <tr style=\"text-align: right;\">\n",
       "      <th></th>\n",
       "      <th>LotFrontage</th>\n",
       "      <th>OverallQual</th>\n",
       "      <th>MasVnrArea</th>\n",
       "      <th>BsmtUnfSF</th>\n",
       "      <th>TotalBsmtSF</th>\n",
       "      <th>1stFlrSF</th>\n",
       "      <th>GrLivArea</th>\n",
       "      <th>GarageYrBlt</th>\n",
       "      <th>WoodDeckSF</th>\n",
       "      <th>LotFrontage_imputed</th>\n",
       "      <th>MasVnrArea_imputed</th>\n",
       "    </tr>\n",
       "  </thead>\n",
       "  <tbody>\n",
       "    <tr>\n",
       "      <th>LotFrontage</th>\n",
       "      <td>532.587202</td>\n",
       "      <td>6.587119</td>\n",
       "      <td>680.560330</td>\n",
       "      <td>949.657293</td>\n",
       "      <td>2908.855504</td>\n",
       "      <td>3379.793504</td>\n",
       "      <td>3919.951834</td>\n",
       "      <td>30.611717</td>\n",
       "      <td>134.741376</td>\n",
       "      <td>532.587202</td>\n",
       "      <td>758.500985</td>\n",
       "    </tr>\n",
       "    <tr>\n",
       "      <th>OverallQual</th>\n",
       "      <td>6.587119</td>\n",
       "      <td>1.843859</td>\n",
       "      <td>101.496976</td>\n",
       "      <td>174.614725</td>\n",
       "      <td>288.624075</td>\n",
       "      <td>224.297266</td>\n",
       "      <td>409.124216</td>\n",
       "      <td>17.902809</td>\n",
       "      <td>31.685571</td>\n",
       "      <td>-18.279174</td>\n",
       "      <td>114.055579</td>\n",
       "    </tr>\n",
       "    <tr>\n",
       "      <th>MasVnrArea</th>\n",
       "      <td>680.560330</td>\n",
       "      <td>101.496976</td>\n",
       "      <td>32983.538710</td>\n",
       "      <td>7540.788093</td>\n",
       "      <td>24788.765410</td>\n",
       "      <td>20865.952051</td>\n",
       "      <td>35207.851440</td>\n",
       "      <td>1203.583792</td>\n",
       "      <td>3208.924282</td>\n",
       "      <td>1582.711167</td>\n",
       "      <td>32983.538710</td>\n",
       "    </tr>\n",
       "    <tr>\n",
       "      <th>BsmtUnfSF</th>\n",
       "      <td>949.657293</td>\n",
       "      <td>174.614725</td>\n",
       "      <td>7540.788093</td>\n",
       "      <td>187524.082211</td>\n",
       "      <td>75133.073210</td>\n",
       "      <td>49874.491456</td>\n",
       "      <td>52033.920768</td>\n",
       "      <td>1823.065167</td>\n",
       "      <td>-1833.200962</td>\n",
       "      <td>-19005.620715</td>\n",
       "      <td>8391.605047</td>\n",
       "    </tr>\n",
       "    <tr>\n",
       "      <th>TotalBsmtSF</th>\n",
       "      <td>2908.855504</td>\n",
       "      <td>288.624075</td>\n",
       "      <td>24788.765410</td>\n",
       "      <td>75133.073210</td>\n",
       "      <td>168293.103282</td>\n",
       "      <td>121207.901604</td>\n",
       "      <td>86151.918290</td>\n",
       "      <td>3173.042442</td>\n",
       "      <td>12279.657062</td>\n",
       "      <td>1620.452017</td>\n",
       "      <td>25031.167060</td>\n",
       "    </tr>\n",
       "    <tr>\n",
       "      <th>1stFlrSF</th>\n",
       "      <td>3379.793504</td>\n",
       "      <td>224.297266</td>\n",
       "      <td>20865.952051</td>\n",
       "      <td>49874.491456</td>\n",
       "      <td>121207.901604</td>\n",
       "      <td>139865.628874</td>\n",
       "      <td>104440.129463</td>\n",
       "      <td>2009.195552</td>\n",
       "      <td>11094.055866</td>\n",
       "      <td>7485.021442</td>\n",
       "      <td>19712.756363</td>\n",
       "    </tr>\n",
       "    <tr>\n",
       "      <th>GrLivArea</th>\n",
       "      <td>3919.951834</td>\n",
       "      <td>409.124216</td>\n",
       "      <td>35207.851440</td>\n",
       "      <td>52033.920768</td>\n",
       "      <td>86151.918290</td>\n",
       "      <td>104440.129463</td>\n",
       "      <td>268127.660673</td>\n",
       "      <td>2738.982988</td>\n",
       "      <td>15583.954782</td>\n",
       "      <td>9634.034363</td>\n",
       "      <td>36944.868360</td>\n",
       "    </tr>\n",
       "    <tr>\n",
       "      <th>GarageYrBlt</th>\n",
       "      <td>30.611717</td>\n",
       "      <td>17.902809</td>\n",
       "      <td>1203.583792</td>\n",
       "      <td>1823.065167</td>\n",
       "      <td>3173.042442</td>\n",
       "      <td>2009.195552</td>\n",
       "      <td>2738.982988</td>\n",
       "      <td>624.305948</td>\n",
       "      <td>665.891118</td>\n",
       "      <td>45.643154</td>\n",
       "      <td>1588.757215</td>\n",
       "    </tr>\n",
       "    <tr>\n",
       "      <th>WoodDeckSF</th>\n",
       "      <td>134.741376</td>\n",
       "      <td>31.685571</td>\n",
       "      <td>3208.924282</td>\n",
       "      <td>-1833.200962</td>\n",
       "      <td>12279.657062</td>\n",
       "      <td>11094.055866</td>\n",
       "      <td>15583.954782</td>\n",
       "      <td>665.891118</td>\n",
       "      <td>16485.820460</td>\n",
       "      <td>5377.154974</td>\n",
       "      <td>2664.992748</td>\n",
       "    </tr>\n",
       "    <tr>\n",
       "      <th>LotFrontage_imputed</th>\n",
       "      <td>532.587202</td>\n",
       "      <td>-18.279174</td>\n",
       "      <td>1582.711167</td>\n",
       "      <td>-19005.620715</td>\n",
       "      <td>1620.452017</td>\n",
       "      <td>7485.021442</td>\n",
       "      <td>9634.034363</td>\n",
       "      <td>45.643154</td>\n",
       "      <td>5377.154974</td>\n",
       "      <td>130742.072966</td>\n",
       "      <td>1839.672367</td>\n",
       "    </tr>\n",
       "    <tr>\n",
       "      <th>MasVnrArea_imputed</th>\n",
       "      <td>758.500985</td>\n",
       "      <td>114.055579</td>\n",
       "      <td>32983.538710</td>\n",
       "      <td>8391.605047</td>\n",
       "      <td>25031.167060</td>\n",
       "      <td>19712.756363</td>\n",
       "      <td>36944.868360</td>\n",
       "      <td>1588.757215</td>\n",
       "      <td>2664.992748</td>\n",
       "      <td>1839.672367</td>\n",
       "      <td>73677.028799</td>\n",
       "    </tr>\n",
       "  </tbody>\n",
       "</table>\n",
       "</div>"
      ],
      "text/plain": [
       "                     LotFrontage  OverallQual    MasVnrArea      BsmtUnfSF  \\\n",
       "LotFrontage           532.587202     6.587119    680.560330     949.657293   \n",
       "OverallQual             6.587119     1.843859    101.496976     174.614725   \n",
       "MasVnrArea            680.560330   101.496976  32983.538710    7540.788093   \n",
       "BsmtUnfSF             949.657293   174.614725   7540.788093  187524.082211   \n",
       "TotalBsmtSF          2908.855504   288.624075  24788.765410   75133.073210   \n",
       "1stFlrSF             3379.793504   224.297266  20865.952051   49874.491456   \n",
       "GrLivArea            3919.951834   409.124216  35207.851440   52033.920768   \n",
       "GarageYrBlt            30.611717    17.902809   1203.583792    1823.065167   \n",
       "WoodDeckSF            134.741376    31.685571   3208.924282   -1833.200962   \n",
       "LotFrontage_imputed   532.587202   -18.279174   1582.711167  -19005.620715   \n",
       "MasVnrArea_imputed    758.500985   114.055579  32983.538710    8391.605047   \n",
       "\n",
       "                       TotalBsmtSF       1stFlrSF      GrLivArea  GarageYrBlt  \\\n",
       "LotFrontage            2908.855504    3379.793504    3919.951834    30.611717   \n",
       "OverallQual             288.624075     224.297266     409.124216    17.902809   \n",
       "MasVnrArea            24788.765410   20865.952051   35207.851440  1203.583792   \n",
       "BsmtUnfSF             75133.073210   49874.491456   52033.920768  1823.065167   \n",
       "TotalBsmtSF          168293.103282  121207.901604   86151.918290  3173.042442   \n",
       "1stFlrSF             121207.901604  139865.628874  104440.129463  2009.195552   \n",
       "GrLivArea             86151.918290  104440.129463  268127.660673  2738.982988   \n",
       "GarageYrBlt            3173.042442    2009.195552    2738.982988   624.305948   \n",
       "WoodDeckSF            12279.657062   11094.055866   15583.954782   665.891118   \n",
       "LotFrontage_imputed    1620.452017    7485.021442    9634.034363    45.643154   \n",
       "MasVnrArea_imputed    25031.167060   19712.756363   36944.868360  1588.757215   \n",
       "\n",
       "                       WoodDeckSF  LotFrontage_imputed  MasVnrArea_imputed  \n",
       "LotFrontage            134.741376           532.587202          758.500985  \n",
       "OverallQual             31.685571           -18.279174          114.055579  \n",
       "MasVnrArea            3208.924282          1582.711167        32983.538710  \n",
       "BsmtUnfSF            -1833.200962        -19005.620715         8391.605047  \n",
       "TotalBsmtSF          12279.657062          1620.452017        25031.167060  \n",
       "1stFlrSF             11094.055866          7485.021442        19712.756363  \n",
       "GrLivArea            15583.954782          9634.034363        36944.868360  \n",
       "GarageYrBlt            665.891118            45.643154         1588.757215  \n",
       "WoodDeckSF           16485.820460          5377.154974         2664.992748  \n",
       "LotFrontage_imputed   5377.154974        130742.072966         1839.672367  \n",
       "MasVnrArea_imputed    2664.992748          1839.672367        73677.028799  "
      ]
     },
     "execution_count": 24,
     "metadata": {},
     "output_type": "execute_result"
    }
   ],
   "source": [
    "# finally, let's explore the covariance:\n",
    "# take your time to compare the values in the table below.\n",
    "\n",
    "X_train.cov()"
   ]
  },
  {
   "cell_type": "markdown",
   "metadata": {
    "collapsed": true
   },
   "source": [
    "**That is all for this demonstration. In later sections I will show you how to do arbitrary value imputation with scikit-learn and feature engine.**"
   ]
  },
  {
   "cell_type": "code",
   "execution_count": null,
   "metadata": {},
   "outputs": [],
   "source": []
  }
 ],
 "metadata": {
  "kernelspec": {
   "display_name": "fsml",
   "language": "python",
   "name": "fsml"
  },
  "language_info": {
   "codemirror_mode": {
    "name": "ipython",
    "version": 3
   },
   "file_extension": ".py",
   "mimetype": "text/x-python",
   "name": "python",
   "nbconvert_exporter": "python",
   "pygments_lexer": "ipython3",
   "version": "3.10.5"
  },
  "toc": {
   "base_numbering": 1,
   "nav_menu": {},
   "number_sections": true,
   "sideBar": true,
   "skip_h1_title": false,
   "title_cell": "Table of Contents",
   "title_sidebar": "Contents",
   "toc_cell": false,
   "toc_position": {},
   "toc_section_display": "block",
   "toc_window_display": true
  }
 },
 "nbformat": 4,
 "nbformat_minor": 2
}

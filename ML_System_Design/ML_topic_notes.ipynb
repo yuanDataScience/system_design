{
 "cells": [
  {
   "cell_type": "markdown",
   "id": "61d83ea4",
   "metadata": {},
   "source": [
    "### imbalanced data"
   ]
  },
  {
   "cell_type": "markdown",
   "id": "ce6b95ea",
   "metadata": {},
   "source": [
    "The summary is based on [The following kaggle page](https://www.kaggle.com/code/tboyle10/methods-for-dealing-with-imbalanced-data)\n",
    "\n",
    "* Summary\n",
    "  + change performance metrics (F1 score)\n",
    "  + change the algorithm (tree based method)\n",
    "  + resampling (oversampling of minority class and undersampling of major class)"
   ]
  },
  {
   "cell_type": "code",
   "execution_count": null,
   "id": "272ccff7",
   "metadata": {},
   "outputs": [],
   "source": []
  }
 ],
 "metadata": {
  "kernelspec": {
   "display_name": "Python 3 (ipykernel)",
   "language": "python",
   "name": "python3"
  },
  "language_info": {
   "codemirror_mode": {
    "name": "ipython",
    "version": 3
   },
   "file_extension": ".py",
   "mimetype": "text/x-python",
   "name": "python",
   "nbconvert_exporter": "python",
   "pygments_lexer": "ipython3",
   "version": "3.10.4"
  }
 },
 "nbformat": 4,
 "nbformat_minor": 5
}

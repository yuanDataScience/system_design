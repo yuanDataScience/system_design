{
 "cells": [
  {
   "cell_type": "markdown",
   "id": "4e4e31d6",
   "metadata": {},
   "source": [
    "### Content Delivery Network (CDN)\n",
    "* CDN has it own servers across the globe\n",
    "* You put static content on CDN's servers and your users will fetch it from the CDN servers cloest to them automatically\n",
    "* Cache static files so content should not change too often\n",
    "* it decreases latency\n",
    "\n",
    "### Types of CDN\n",
    "* Push\n",
    "  + CDN is updated whenever you upload files to your server\n",
    "  + you control the process\n",
    "  + good if you don't have much static content\n",
    "  + very expensive if you have a million images\n",
    "  \n",
    "* Pull\n",
    "  + lazy load. Only when a user requests a content that is not cached, CND servers will go to your server, download the content and cache it\n",
    "  + If you are the first user requesting an image, it will be slow, but fast for the folloiwng users\n",
    "  + very easy to scale up\n",
    "* CDN increases the complexity of the system  "
   ]
  },
  {
   "cell_type": "code",
   "execution_count": null,
   "id": "675461b9",
   "metadata": {},
   "outputs": [],
   "source": []
  }
 ],
 "metadata": {
  "kernelspec": {
   "display_name": "Python 3 (ipykernel)",
   "language": "python",
   "name": "python3"
  },
  "language_info": {
   "codemirror_mode": {
    "name": "ipython",
    "version": 3
   },
   "file_extension": ".py",
   "mimetype": "text/x-python",
   "name": "python",
   "nbconvert_exporter": "python",
   "pygments_lexer": "ipython3",
   "version": "3.10.4"
  }
 },
 "nbformat": 4,
 "nbformat_minor": 5
}

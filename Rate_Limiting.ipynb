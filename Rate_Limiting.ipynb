{
 "cells": [
  {
   "cell_type": "markdown",
   "id": "5ebe75ff",
   "metadata": {},
   "source": [
    "## Rate Limiting\n",
    "\n",
    "### What is Rate Limiting\n",
    "* Rate limiting is a method of limiting the amount of network traffic that can be sent or received for a particular client in a specific time window.\n",
    "  \n",
    "### Why Do We Need Rate Limiting?\n",
    "* Bots (competitiors using web scrape to collect large amount of data from website for business decision making)\n",
    "* DDos Attack\n",
    "* Spam (give low rating to company's products using the same IP or credit card/user credential)\n",
    "\n",
    "### How to Implement\n",
    "* The entity on which we are applying the limit\n",
    "  + ip address\n",
    "  + user name\n",
    "  + data center\n",
    "* A counter that keeps track of actions by the entity\n",
    "  + track the counter of how many time an entity requests the service\n",
    "* A configuration of how many actions of what type are allowed under what conditions\n",
    "  + can set up different policies for diffeerent types of entities\n",
    "* Based on all this we need to decide if the request should be allowed or dropped\n",
    "  + implement the algorithm to drop or accept the requests\n",
    "  \n",
    "###  Algorithms\n",
    "* Leaky Bucket\n",
    "  + maintain an upper bound of how many actions we want to allow in a time frame\n",
    "  + When the bucket is full (uplimit is arrived), we stop allowing the requests. \n",
    "  + The bucket will also leak at a certain rate. \n",
    "    + For example, a bucket leaking at 2 units per second means that even in high traffic conditions, we will allow 2 requests per minute\n",
    "  + problem:\n",
    "    + suppose at time 0, the bucket is empty, and at time 1s, many requests come and 10 of them are accepted. In time 2s, another 10 requests come, but since there are already 10 requests accepted in the 1s interval between 1 and 2s, only 2 of them are accepted as the leaking rate.\n",
    "    + If we count the number of requests happened from the start of 1s to the end of 2s, only 12 requests are accepted, which is not the 10/s plus 2/s leaking rate = 12 request/s, since we only have 12 requests within 2s.\n",
    "    \n",
    "* fixed window\n",
    "  + similar to leaky bucket. An upper limit of how many requests are allowed within a certain framework is defined. \n",
    "  + once a request is received, the algorithm will check how many requests have been accepted within its fixed time window and decide whether or not to accept the request\n",
    "  + problem\n",
    "    + requests received at the edge of the time window will be allowed and exceed the limit defined. \n",
    "    + for example, we define 4 requests/hour. in the duration of 9:00-10:00 AM, we just receives 4 requests at 9:59 and then receives another 4 requests at 10:01. Since all of these requests are within the thresholds of their respective time windows (9-10 AM, 10-11 AM, respectively), all the 8 requests are allowed, which means we accepted 8 requests/2 mins\n",
    "    \n",
    "* sliding window\n",
    "  + different from the fixed window, a sliding time window ending at the time of the request with a fixed window width back (for example, 1 hour ago) is used."
   ]
  },
  {
   "cell_type": "code",
   "execution_count": null,
   "id": "110f2e2b",
   "metadata": {},
   "outputs": [],
   "source": []
  }
 ],
 "metadata": {
  "kernelspec": {
   "display_name": "Python 3 (ipykernel)",
   "language": "python",
   "name": "python3"
  },
  "language_info": {
   "codemirror_mode": {
    "name": "ipython",
    "version": 3
   },
   "file_extension": ".py",
   "mimetype": "text/x-python",
   "name": "python",
   "nbconvert_exporter": "python",
   "pygments_lexer": "ipython3",
   "version": "3.10.4"
  }
 },
 "nbformat": 4,
 "nbformat_minor": 5
}
